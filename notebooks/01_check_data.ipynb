{
 "cells": [
  {
   "cell_type": "code",
   "execution_count": 2,
   "metadata": {},
   "outputs": [],
   "source": [
    "import pandas as pd"
   ]
  },
  {
   "cell_type": "code",
   "execution_count": 3,
   "metadata": {},
   "outputs": [
    {
     "data": {
      "text/html": [
       "<pre style=\"white-space:pre;overflow-x:auto;line-height:normal;font-family:Menlo,'DejaVu Sans Mono',consolas,'Courier New',monospace\"><span style=\"color: #7fbfbf; text-decoration-color: #7fbfbf\">[02/03/25 21:57:34] </span><span style=\"color: #808000; text-decoration-color: #808000\">WARNING </span> <span style=\"color: #800080; text-decoration-color: #800080\">/var/folders/sm/6wwssnjd59v95bx9k441v1900000gn/T/ipykernel_76925/</span><span style=\"color: #ff00ff; text-decoration-color: #ff00ff\">11691</span> <a href=\"file:///Users/jonas_cristens/.local/share/uv/python/cpython-3.10.15-macos-aarch64-none/lib/python3.10/warnings.py\" target=\"_blank\"><span style=\"color: #7f7f7f; text-decoration-color: #7f7f7f\">warnings.py</span></a><span style=\"color: #7f7f7f; text-decoration-color: #7f7f7f\">:</span><a href=\"file:///Users/jonas_cristens/.local/share/uv/python/cpython-3.10.15-macos-aarch64-none/lib/python3.10/warnings.py#109\" target=\"_blank\"><span style=\"color: #7f7f7f; text-decoration-color: #7f7f7f\">109</span></a>\n",
       "<span style=\"color: #7fbfbf; text-decoration-color: #7fbfbf\">                    </span>         <span style=\"color: #ff00ff; text-decoration-color: #ff00ff\">19370.py</span>:<span style=\"color: #008080; text-decoration-color: #008080; font-weight: bold\">1</span>: DtypeWarning: Columns                                      <span style=\"color: #7f7f7f; text-decoration-color: #7f7f7f\">               </span>\n",
       "<span style=\"color: #7fbfbf; text-decoration-color: #7fbfbf\">                    </span>         <span style=\"font-weight: bold\">(</span><span style=\"color: #008080; text-decoration-color: #008080; font-weight: bold\">27</span>,<span style=\"color: #008080; text-decoration-color: #008080; font-weight: bold\">28</span>,<span style=\"color: #008080; text-decoration-color: #008080; font-weight: bold\">29</span>,<span style=\"color: #008080; text-decoration-color: #008080; font-weight: bold\">30</span>,<span style=\"color: #008080; text-decoration-color: #008080; font-weight: bold\">31</span>,<span style=\"color: #008080; text-decoration-color: #008080; font-weight: bold\">32</span>,<span style=\"color: #008080; text-decoration-color: #008080; font-weight: bold\">33</span>,<span style=\"color: #008080; text-decoration-color: #008080; font-weight: bold\">34</span>,<span style=\"color: #008080; text-decoration-color: #008080; font-weight: bold\">35</span>,<span style=\"color: #008080; text-decoration-color: #008080; font-weight: bold\">37</span>,<span style=\"color: #008080; text-decoration-color: #008080; font-weight: bold\">38</span>,<span style=\"color: #008080; text-decoration-color: #008080; font-weight: bold\">39</span>,<span style=\"color: #008080; text-decoration-color: #008080; font-weight: bold\">40</span>,<span style=\"color: #008080; text-decoration-color: #008080; font-weight: bold\">41</span>,<span style=\"color: #008080; text-decoration-color: #008080; font-weight: bold\">42</span>,<span style=\"color: #008080; text-decoration-color: #008080; font-weight: bold\">43</span>,<span style=\"color: #008080; text-decoration-color: #008080; font-weight: bold\">45</span>,<span style=\"color: #008080; text-decoration-color: #008080; font-weight: bold\">46</span>,<span style=\"color: #008080; text-decoration-color: #008080; font-weight: bold\">47</span>,<span style=\"color: #008080; text-decoration-color: #008080; font-weight: bold\">48</span>,<span style=\"color: #008080; text-decoration-color: #008080; font-weight: bold\">50</span>,<span style=\"color: #008080; text-decoration-color: #008080; font-weight: bold\">51</span>,<span style=\"color: #008080; text-decoration-color: #008080; font-weight: bold\">52</span>, <span style=\"color: #7f7f7f; text-decoration-color: #7f7f7f\">               </span>\n",
       "<span style=\"color: #7fbfbf; text-decoration-color: #7fbfbf\">                    </span>         <span style=\"color: #008080; text-decoration-color: #008080; font-weight: bold\">53</span>,<span style=\"color: #008080; text-decoration-color: #008080; font-weight: bold\">55</span>,<span style=\"color: #008080; text-decoration-color: #008080; font-weight: bold\">56</span>,<span style=\"color: #008080; text-decoration-color: #008080; font-weight: bold\">57</span>,<span style=\"color: #008080; text-decoration-color: #008080; font-weight: bold\">63</span>,<span style=\"color: #008080; text-decoration-color: #008080; font-weight: bold\">65</span>,<span style=\"color: #008080; text-decoration-color: #008080; font-weight: bold\">66</span>,<span style=\"color: #008080; text-decoration-color: #008080; font-weight: bold\">123</span>,<span style=\"color: #008080; text-decoration-color: #008080; font-weight: bold\">125</span>,<span style=\"color: #008080; text-decoration-color: #008080; font-weight: bold\">127</span>,<span style=\"color: #008080; text-decoration-color: #008080; font-weight: bold\">132</span><span style=\"font-weight: bold\">)</span> have mixed types. Specify dtype  <span style=\"color: #7f7f7f; text-decoration-color: #7f7f7f\">               </span>\n",
       "<span style=\"color: #7fbfbf; text-decoration-color: #7fbfbf\">                    </span>         option on import or set <span style=\"color: #808000; text-decoration-color: #808000\">low_memory</span>=<span style=\"color: #ff0000; text-decoration-color: #ff0000; font-style: italic\">False</span>.                              <span style=\"color: #7f7f7f; text-decoration-color: #7f7f7f\">               </span>\n",
       "<span style=\"color: #7fbfbf; text-decoration-color: #7fbfbf\">                    </span>           df = <span style=\"color: #800080; text-decoration-color: #800080; font-weight: bold\">pd.read_csv</span><span style=\"font-weight: bold\">(</span><span style=\"color: #008000; text-decoration-color: #008000\">\"../data/01_raw/czech_republic.csv\"</span><span style=\"font-weight: bold\">)</span>                <span style=\"color: #7f7f7f; text-decoration-color: #7f7f7f\">               </span>\n",
       "<span style=\"color: #7fbfbf; text-decoration-color: #7fbfbf\">                    </span>                                                                                <span style=\"color: #7f7f7f; text-decoration-color: #7f7f7f\">               </span>\n",
       "</pre>\n"
      ],
      "text/plain": [
       "\u001b[2;36m[02/03/25 21:57:34]\u001b[0m\u001b[2;36m \u001b[0m\u001b[33mWARNING \u001b[0m \u001b[35m/var/folders/sm/6wwssnjd59v95bx9k441v1900000gn/T/ipykernel_76925/\u001b[0m\u001b[95m11691\u001b[0m \u001b]8;id=185620;file:///Users/jonas_cristens/.local/share/uv/python/cpython-3.10.15-macos-aarch64-none/lib/python3.10/warnings.py\u001b\\\u001b[2mwarnings.py\u001b[0m\u001b]8;;\u001b\\\u001b[2m:\u001b[0m\u001b]8;id=660328;file:///Users/jonas_cristens/.local/share/uv/python/cpython-3.10.15-macos-aarch64-none/lib/python3.10/warnings.py#109\u001b\\\u001b[2m109\u001b[0m\u001b]8;;\u001b\\\n",
       "\u001b[2;36m                    \u001b[0m         \u001b[95m19370.py\u001b[0m:\u001b[1;36m1\u001b[0m: DtypeWarning: Columns                                      \u001b[2m               \u001b[0m\n",
       "\u001b[2;36m                    \u001b[0m         \u001b[1m(\u001b[0m\u001b[1;36m27\u001b[0m,\u001b[1;36m28\u001b[0m,\u001b[1;36m29\u001b[0m,\u001b[1;36m30\u001b[0m,\u001b[1;36m31\u001b[0m,\u001b[1;36m32\u001b[0m,\u001b[1;36m33\u001b[0m,\u001b[1;36m34\u001b[0m,\u001b[1;36m35\u001b[0m,\u001b[1;36m37\u001b[0m,\u001b[1;36m38\u001b[0m,\u001b[1;36m39\u001b[0m,\u001b[1;36m40\u001b[0m,\u001b[1;36m41\u001b[0m,\u001b[1;36m42\u001b[0m,\u001b[1;36m43\u001b[0m,\u001b[1;36m45\u001b[0m,\u001b[1;36m46\u001b[0m,\u001b[1;36m47\u001b[0m,\u001b[1;36m48\u001b[0m,\u001b[1;36m50\u001b[0m,\u001b[1;36m51\u001b[0m,\u001b[1;36m52\u001b[0m, \u001b[2m               \u001b[0m\n",
       "\u001b[2;36m                    \u001b[0m         \u001b[1;36m53\u001b[0m,\u001b[1;36m55\u001b[0m,\u001b[1;36m56\u001b[0m,\u001b[1;36m57\u001b[0m,\u001b[1;36m63\u001b[0m,\u001b[1;36m65\u001b[0m,\u001b[1;36m66\u001b[0m,\u001b[1;36m123\u001b[0m,\u001b[1;36m125\u001b[0m,\u001b[1;36m127\u001b[0m,\u001b[1;36m132\u001b[0m\u001b[1m)\u001b[0m have mixed types. Specify dtype  \u001b[2m               \u001b[0m\n",
       "\u001b[2;36m                    \u001b[0m         option on import or set \u001b[33mlow_memory\u001b[0m=\u001b[3;91mFalse\u001b[0m.                              \u001b[2m               \u001b[0m\n",
       "\u001b[2;36m                    \u001b[0m           df = \u001b[1;35mpd.read_csv\u001b[0m\u001b[1m(\u001b[0m\u001b[32m\"../data/01_raw/czech_republic.csv\"\u001b[0m\u001b[1m)\u001b[0m                \u001b[2m               \u001b[0m\n",
       "\u001b[2;36m                    \u001b[0m                                                                                \u001b[2m               \u001b[0m\n"
      ]
     },
     "metadata": {},
     "output_type": "display_data"
    },
    {
     "data": {
      "text/html": [
       "<pre style=\"white-space:pre;overflow-x:auto;line-height:normal;font-family:Menlo,'DejaVu Sans Mono',consolas,'Courier New',monospace\"></pre>\n"
      ],
      "text/plain": []
     },
     "metadata": {},
     "output_type": "display_data"
    },
    {
     "data": {
      "text/html": [
       "<div>\n",
       "<style scoped>\n",
       "    .dataframe tbody tr th:only-of-type {\n",
       "        vertical-align: middle;\n",
       "    }\n",
       "\n",
       "    .dataframe tbody tr th {\n",
       "        vertical-align: top;\n",
       "    }\n",
       "\n",
       "    .dataframe thead th {\n",
       "        text-align: right;\n",
       "    }\n",
       "</style>\n",
       "<table border=\"1\" class=\"dataframe\">\n",
       "  <thead>\n",
       "    <tr style=\"text-align: right;\">\n",
       "      <th></th>\n",
       "      <th>Unnamed: 0</th>\n",
       "      <th>offer_id</th>\n",
       "      <th>created_date_shp</th>\n",
       "      <th>updated_date_shp</th>\n",
       "      <th>agreement_id_shp</th>\n",
       "      <th>organization_id</th>\n",
       "      <th>sales_id_shp</th>\n",
       "      <th>offer_type_shp</th>\n",
       "      <th>agreement_row_id_shp</th>\n",
       "      <th>gsfa_customer_id</th>\n",
       "      <th>...</th>\n",
       "      <th>competitor_oppo</th>\n",
       "      <th>industry</th>\n",
       "      <th>order_in_oppo</th>\n",
       "      <th>offers_in_oppo</th>\n",
       "      <th>finality</th>\n",
       "      <th>final_outcome</th>\n",
       "      <th>final_discount_shp</th>\n",
       "      <th>revenue_bin</th>\n",
       "      <th>discount_oms</th>\n",
       "      <th>discount_delta</th>\n",
       "    </tr>\n",
       "  </thead>\n",
       "  <tbody>\n",
       "    <tr>\n",
       "      <th>0</th>\n",
       "      <td>0</td>\n",
       "      <td>CZ_O_116569624407</td>\n",
       "      <td>2020-02-17 13:49:28</td>\n",
       "      <td>2024-02-07 16:56:51</td>\n",
       "      <td>CZ_O_116569624407</td>\n",
       "      <td>DHL CZ</td>\n",
       "      <td>ZJAROSOV</td>\n",
       "      <td>Standard GPI Offer</td>\n",
       "      <td>1-295MJL-1123</td>\n",
       "      <td>COMET_1-7IGPWS6</td>\n",
       "      <td>...</td>\n",
       "      <td>NaN</td>\n",
       "      <td>IND:TECH</td>\n",
       "      <td>NaN</td>\n",
       "      <td>NaN</td>\n",
       "      <td>interim</td>\n",
       "      <td>NaN</td>\n",
       "      <td>NaN</td>\n",
       "      <td>low</td>\n",
       "      <td>51.0</td>\n",
       "      <td>14.000000</td>\n",
       "    </tr>\n",
       "    <tr>\n",
       "      <th>1</th>\n",
       "      <td>1</td>\n",
       "      <td>CZ_O_117848390072</td>\n",
       "      <td>2020-06-12 08:50:11</td>\n",
       "      <td>2023-05-11 09:44:00</td>\n",
       "      <td>CZ_O_117848390072</td>\n",
       "      <td>DHL CZ</td>\n",
       "      <td>MSUROVCO</td>\n",
       "      <td>Standard GPI Offer</td>\n",
       "      <td>1-1KDKVJ-957</td>\n",
       "      <td>CZC68194</td>\n",
       "      <td>...</td>\n",
       "      <td>NaN</td>\n",
       "      <td>IND:ENGM</td>\n",
       "      <td>NaN</td>\n",
       "      <td>NaN</td>\n",
       "      <td>interim</td>\n",
       "      <td>NaN</td>\n",
       "      <td>NaN</td>\n",
       "      <td>low</td>\n",
       "      <td>40.0</td>\n",
       "      <td>-40.000000</td>\n",
       "    </tr>\n",
       "    <tr>\n",
       "      <th>2</th>\n",
       "      <td>2</td>\n",
       "      <td>CZ_O_117848390072</td>\n",
       "      <td>2020-06-12 08:50:11</td>\n",
       "      <td>2023-05-11 09:44:00</td>\n",
       "      <td>CZ_O_117848390072</td>\n",
       "      <td>DHL CZ</td>\n",
       "      <td>MSUROVCO</td>\n",
       "      <td>Standard GPI Offer</td>\n",
       "      <td>1-1KDKVJ-957</td>\n",
       "      <td>CZC68194</td>\n",
       "      <td>...</td>\n",
       "      <td>NaN</td>\n",
       "      <td>IND:ENGM</td>\n",
       "      <td>NaN</td>\n",
       "      <td>NaN</td>\n",
       "      <td>interim</td>\n",
       "      <td>NaN</td>\n",
       "      <td>NaN</td>\n",
       "      <td>low</td>\n",
       "      <td>40.0</td>\n",
       "      <td>-40.000000</td>\n",
       "    </tr>\n",
       "    <tr>\n",
       "      <th>3</th>\n",
       "      <td>3</td>\n",
       "      <td>CZ_O_118885941840</td>\n",
       "      <td>2020-09-11 06:51:08</td>\n",
       "      <td>2021-07-09 08:34:50</td>\n",
       "      <td>CZ_O_118885941840</td>\n",
       "      <td>DHL CZ</td>\n",
       "      <td>DSKLENIC</td>\n",
       "      <td>Standard GPI Offer</td>\n",
       "      <td>1-8VWLW8T</td>\n",
       "      <td>COMET_1-JQRYF0</td>\n",
       "      <td>...</td>\n",
       "      <td>NaN</td>\n",
       "      <td>IND:CHEM</td>\n",
       "      <td>NaN</td>\n",
       "      <td>NaN</td>\n",
       "      <td>interim</td>\n",
       "      <td>NaN</td>\n",
       "      <td>NaN</td>\n",
       "      <td>low</td>\n",
       "      <td>50.0</td>\n",
       "      <td>14.998943</td>\n",
       "    </tr>\n",
       "    <tr>\n",
       "      <th>4</th>\n",
       "      <td>4</td>\n",
       "      <td>CZ_O_118885941840</td>\n",
       "      <td>2020-09-11 06:51:08</td>\n",
       "      <td>2021-07-09 08:34:50</td>\n",
       "      <td>CZ_O_118885941840</td>\n",
       "      <td>DHL CZ</td>\n",
       "      <td>DSKLENIC</td>\n",
       "      <td>Standard GPI Offer</td>\n",
       "      <td>1-8VWLW8T</td>\n",
       "      <td>COMET_1-JQRYF0</td>\n",
       "      <td>...</td>\n",
       "      <td>NaN</td>\n",
       "      <td>IND:CHEM</td>\n",
       "      <td>NaN</td>\n",
       "      <td>NaN</td>\n",
       "      <td>interim</td>\n",
       "      <td>NaN</td>\n",
       "      <td>NaN</td>\n",
       "      <td>low</td>\n",
       "      <td>75.0</td>\n",
       "      <td>10.000000</td>\n",
       "    </tr>\n",
       "  </tbody>\n",
       "</table>\n",
       "<p>5 rows × 137 columns</p>\n",
       "</div>"
      ],
      "text/plain": [
       "\n",
       "   Unnamed: \u001b[1;36m0\u001b[0m           offer_id     created_date_shp     updated_date_shp  \\\n",
       "\u001b[1;36m0\u001b[0m           \u001b[1;36m0\u001b[0m  CZ_O_116569624407  \u001b[1;36m2020\u001b[0m-\u001b[1;36m02\u001b[0m-\u001b[1;36m17\u001b[0m \u001b[1;92m13:49:28\u001b[0m  \u001b[1;36m2024\u001b[0m-\u001b[1;36m02\u001b[0m-\u001b[1;36m07\u001b[0m \u001b[1;92m16:56:51\u001b[0m   \n",
       "\u001b[1;36m1\u001b[0m           \u001b[1;36m1\u001b[0m  CZ_O_117848390072  \u001b[1;36m2020\u001b[0m-\u001b[1;36m06\u001b[0m-\u001b[1;36m12\u001b[0m \u001b[1;92m08:50:11\u001b[0m  \u001b[1;36m2023\u001b[0m-\u001b[1;36m05\u001b[0m-\u001b[1;36m11\u001b[0m \u001b[1;92m09:44:00\u001b[0m   \n",
       "\u001b[1;36m2\u001b[0m           \u001b[1;36m2\u001b[0m  CZ_O_117848390072  \u001b[1;36m2020\u001b[0m-\u001b[1;36m06\u001b[0m-\u001b[1;36m12\u001b[0m \u001b[1;92m08:50:11\u001b[0m  \u001b[1;36m2023\u001b[0m-\u001b[1;36m05\u001b[0m-\u001b[1;36m11\u001b[0m \u001b[1;92m09:44:00\u001b[0m   \n",
       "\u001b[1;36m3\u001b[0m           \u001b[1;36m3\u001b[0m  CZ_O_118885941840  \u001b[1;36m2020\u001b[0m-\u001b[1;36m09\u001b[0m-\u001b[1;36m11\u001b[0m \u001b[1;92m06:51:08\u001b[0m  \u001b[1;36m2021\u001b[0m-\u001b[1;36m07\u001b[0m-\u001b[1;36m09\u001b[0m \u001b[1;92m08:34:50\u001b[0m   \n",
       "\u001b[1;36m4\u001b[0m           \u001b[1;36m4\u001b[0m  CZ_O_118885941840  \u001b[1;36m2020\u001b[0m-\u001b[1;36m09\u001b[0m-\u001b[1;36m11\u001b[0m \u001b[1;92m06:51:08\u001b[0m  \u001b[1;36m2021\u001b[0m-\u001b[1;36m07\u001b[0m-\u001b[1;36m09\u001b[0m \u001b[1;92m08:34:50\u001b[0m   \n",
       "\n",
       "    agreement_id_shp organization_id sales_id_shp      offer_type_shp  \\\n",
       "\u001b[1;36m0\u001b[0m  CZ_O_116569624407          DHL CZ     ZJAROSOV  Standard GPI Offer   \n",
       "\u001b[1;36m1\u001b[0m  CZ_O_117848390072          DHL CZ     MSUROVCO  Standard GPI Offer   \n",
       "\u001b[1;36m2\u001b[0m  CZ_O_117848390072          DHL CZ     MSUROVCO  Standard GPI Offer   \n",
       "\u001b[1;36m3\u001b[0m  CZ_O_118885941840          DHL CZ     DSKLENIC  Standard GPI Offer   \n",
       "\u001b[1;36m4\u001b[0m  CZ_O_118885941840          DHL CZ     DSKLENIC  Standard GPI Offer   \n",
       "\n",
       "  agreement_row_id_shp gsfa_customer_id  \u001b[33m...\u001b[0m competitor_oppo  industry  \\\n",
       "\u001b[1;36m0\u001b[0m        \u001b[1;36m1\u001b[0m-295MJL-\u001b[1;36m1123\u001b[0m  COMET_1-7IGPWS6  \u001b[33m...\u001b[0m             NaN  IND:TECH   \n",
       "\u001b[1;36m1\u001b[0m         \u001b[1;36m1\u001b[0m-1KDKVJ-\u001b[1;36m957\u001b[0m         CZC68194  \u001b[33m...\u001b[0m             NaN  IN\u001b[1;92mD:E\u001b[0mNGM   \n",
       "\u001b[1;36m2\u001b[0m         \u001b[1;36m1\u001b[0m-1KDKVJ-\u001b[1;36m957\u001b[0m         CZC68194  \u001b[33m...\u001b[0m             NaN  IN\u001b[1;92mD:E\u001b[0mNGM   \n",
       "\u001b[1;36m3\u001b[0m            \u001b[1;36m1\u001b[0m-8VWLW8T   COMET_1-JQRYF0  \u001b[33m...\u001b[0m             NaN  IN\u001b[1;92mD:C\u001b[0mHEM   \n",
       "\u001b[1;36m4\u001b[0m            \u001b[1;36m1\u001b[0m-8VWLW8T   COMET_1-JQRYF0  \u001b[33m...\u001b[0m             NaN  IN\u001b[1;92mD:C\u001b[0mHEM   \n",
       "\n",
       "   order_in_oppo offers_in_oppo  finality final_outcome  final_discount_shp  \\\n",
       "\u001b[1;36m0\u001b[0m            NaN            NaN   interim           NaN                 NaN   \n",
       "\u001b[1;36m1\u001b[0m            NaN            NaN   interim           NaN                 NaN   \n",
       "\u001b[1;36m2\u001b[0m            NaN            NaN   interim           NaN                 NaN   \n",
       "\u001b[1;36m3\u001b[0m            NaN            NaN   interim           NaN                 NaN   \n",
       "\u001b[1;36m4\u001b[0m            NaN            NaN   interim           NaN                 NaN   \n",
       "\n",
       "  revenue_bin discount_oms discount_delta  \n",
       "\u001b[1;36m0\u001b[0m         low         \u001b[1;36m51.0\u001b[0m      \u001b[1;36m14.000000\u001b[0m  \n",
       "\u001b[1;36m1\u001b[0m         low         \u001b[1;36m40.0\u001b[0m     \u001b[1;36m-40.000000\u001b[0m  \n",
       "\u001b[1;36m2\u001b[0m         low         \u001b[1;36m40.0\u001b[0m     \u001b[1;36m-40.000000\u001b[0m  \n",
       "\u001b[1;36m3\u001b[0m         low         \u001b[1;36m50.0\u001b[0m      \u001b[1;36m14.998943\u001b[0m  \n",
       "\u001b[1;36m4\u001b[0m         low         \u001b[1;36m75.0\u001b[0m      \u001b[1;36m10.000000\u001b[0m  \n",
       "\n",
       "\u001b[1m[\u001b[0m\u001b[1;36m5\u001b[0m rows x \u001b[1;36m137\u001b[0m columns\u001b[1m]\u001b[0m"
      ]
     },
     "execution_count": 3,
     "metadata": {},
     "output_type": "execute_result"
    }
   ],
   "source": [
    "df = pd.read_csv(\"../data/01_raw/czech_republic.csv\")\n",
    "df.head()"
   ]
  },
  {
   "cell_type": "code",
   "execution_count": 33,
   "metadata": {},
   "outputs": [
    {
     "data": {
      "text/html": [
       "<pre style=\"white-space:pre;overflow-x:auto;line-height:normal;font-family:Menlo,'DejaVu Sans Mono',consolas,'Courier New',monospace\"></pre>\n"
      ],
      "text/plain": []
     },
     "metadata": {},
     "output_type": "display_data"
    },
    {
     "data": {
      "image/png": "[encoded data removed]",
      "text/plain": [
       "\u001b[1m<\u001b[0m\u001b[1;95mFigure\u001b[0m\u001b[39m size 64\u001b[0m\u001b[1;36m0x480\u001b[0m\u001b[39m with \u001b[0m\u001b[1;36m1\u001b[0m\u001b[39m Axes\u001b[0m\u001b[1m>\u001b[0m"
      ]
     },
     "metadata": {},
     "output_type": "display_data"
    }
   ],
   "source": [
    "%matplotlib inline\n",
    "import matplotlib.pyplot as plt\n",
    "df_revenue = df.groupby('gsfa_customer_id')['offer_expected_revenue'].mean().sort_values(ascending=False).cumsum().reset_index(drop=True)\n",
    "df_revenue.plot.line(title='Cumulative Revenue by Customer')\n",
    "plt.show()"
   ]
  },
  {
   "cell_type": "code",
   "execution_count": 36,
   "metadata": {},
   "outputs": [
    {
     "data": {
      "text/html": [
       "<pre style=\"white-space:pre;overflow-x:auto;line-height:normal;font-family:Menlo,'DejaVu Sans Mono',consolas,'Courier New',monospace\"></pre>\n"
      ],
      "text/plain": []
     },
     "metadata": {},
     "output_type": "display_data"
    },
    {
     "data": {
      "text/html": [
       "<div>\n",
       "<style scoped>\n",
       "    .dataframe tbody tr th:only-of-type {\n",
       "        vertical-align: middle;\n",
       "    }\n",
       "\n",
       "    .dataframe tbody tr th {\n",
       "        vertical-align: top;\n",
       "    }\n",
       "\n",
       "    .dataframe thead th {\n",
       "        text-align: right;\n",
       "    }\n",
       "</style>\n",
       "<table border=\"1\" class=\"dataframe\">\n",
       "  <thead>\n",
       "    <tr style=\"text-align: right;\">\n",
       "      <th></th>\n",
       "      <th>cum_rev_perc</th>\n",
       "      <th>cum_rev</th>\n",
       "      <th>share_cust</th>\n",
       "    </tr>\n",
       "  </thead>\n",
       "  <tbody>\n",
       "    <tr>\n",
       "      <th>0</th>\n",
       "      <td>0.280496</td>\n",
       "      <td>1.738122e+08</td>\n",
       "      <td>0.000000</td>\n",
       "    </tr>\n",
       "    <tr>\n",
       "      <th>1</th>\n",
       "      <td>0.294625</td>\n",
       "      <td>1.825674e+08</td>\n",
       "      <td>0.000088</td>\n",
       "    </tr>\n",
       "    <tr>\n",
       "      <th>2</th>\n",
       "      <td>0.303944</td>\n",
       "      <td>1.883422e+08</td>\n",
       "      <td>0.000176</td>\n",
       "    </tr>\n",
       "    <tr>\n",
       "      <th>3</th>\n",
       "      <td>0.312720</td>\n",
       "      <td>1.937801e+08</td>\n",
       "      <td>0.000265</td>\n",
       "    </tr>\n",
       "    <tr>\n",
       "      <th>4</th>\n",
       "      <td>0.320902</td>\n",
       "      <td>1.988501e+08</td>\n",
       "      <td>0.000353</td>\n",
       "    </tr>\n",
       "    <tr>\n",
       "      <th>...</th>\n",
       "      <td>...</td>\n",
       "      <td>...</td>\n",
       "      <td>...</td>\n",
       "    </tr>\n",
       "    <tr>\n",
       "      <th>11330</th>\n",
       "      <td>1.000000</td>\n",
       "      <td>6.196602e+08</td>\n",
       "      <td>0.999559</td>\n",
       "    </tr>\n",
       "    <tr>\n",
       "      <th>11331</th>\n",
       "      <td>1.000000</td>\n",
       "      <td>6.196603e+08</td>\n",
       "      <td>0.999647</td>\n",
       "    </tr>\n",
       "    <tr>\n",
       "      <th>11332</th>\n",
       "      <td>1.000000</td>\n",
       "      <td>6.196604e+08</td>\n",
       "      <td>0.999735</td>\n",
       "    </tr>\n",
       "    <tr>\n",
       "      <th>11333</th>\n",
       "      <td>1.000000</td>\n",
       "      <td>6.196604e+08</td>\n",
       "      <td>0.999824</td>\n",
       "    </tr>\n",
       "    <tr>\n",
       "      <th>11334</th>\n",
       "      <td>1.000000</td>\n",
       "      <td>6.196604e+08</td>\n",
       "      <td>0.999912</td>\n",
       "    </tr>\n",
       "  </tbody>\n",
       "</table>\n",
       "<p>11335 rows × 3 columns</p>\n",
       "</div>"
      ],
      "text/plain": [
       "\n",
       "       cum_rev_perc       cum_rev  share_cust\n",
       "\u001b[1;36m0\u001b[0m          \u001b[1;36m0.280496\u001b[0m  \u001b[1;36m1.738122e+08\u001b[0m    \u001b[1;36m0.000000\u001b[0m\n",
       "\u001b[1;36m1\u001b[0m          \u001b[1;36m0.294625\u001b[0m  \u001b[1;36m1.825674e+08\u001b[0m    \u001b[1;36m0.000088\u001b[0m\n",
       "\u001b[1;36m2\u001b[0m          \u001b[1;36m0.303944\u001b[0m  \u001b[1;36m1.883422e+08\u001b[0m    \u001b[1;36m0.000176\u001b[0m\n",
       "\u001b[1;36m3\u001b[0m          \u001b[1;36m0.312720\u001b[0m  \u001b[1;36m1.937801e+08\u001b[0m    \u001b[1;36m0.000265\u001b[0m\n",
       "\u001b[1;36m4\u001b[0m          \u001b[1;36m0.320902\u001b[0m  \u001b[1;36m1.988501e+08\u001b[0m    \u001b[1;36m0.000353\u001b[0m\n",
       "\u001b[33m...\u001b[0m             \u001b[33m...\u001b[0m           \u001b[33m...\u001b[0m         \u001b[33m...\u001b[0m\n",
       "\u001b[1;36m11330\u001b[0m      \u001b[1;36m1.000000\u001b[0m  \u001b[1;36m6.196602e+08\u001b[0m    \u001b[1;36m0.999559\u001b[0m\n",
       "\u001b[1;36m11331\u001b[0m      \u001b[1;36m1.000000\u001b[0m  \u001b[1;36m6.196603e+08\u001b[0m    \u001b[1;36m0.999647\u001b[0m\n",
       "\u001b[1;36m11332\u001b[0m      \u001b[1;36m1.000000\u001b[0m  \u001b[1;36m6.196604e+08\u001b[0m    \u001b[1;36m0.999735\u001b[0m\n",
       "\u001b[1;36m11333\u001b[0m      \u001b[1;36m1.000000\u001b[0m  \u001b[1;36m6.196604e+08\u001b[0m    \u001b[1;36m0.999824\u001b[0m\n",
       "\u001b[1;36m11334\u001b[0m      \u001b[1;36m1.000000\u001b[0m  \u001b[1;36m6.196604e+08\u001b[0m    \u001b[1;36m0.999912\u001b[0m\n",
       "\n",
       "\u001b[1m[\u001b[0m\u001b[1;36m11335\u001b[0m rows x \u001b[1;36m3\u001b[0m columns\u001b[1m]\u001b[0m"
      ]
     },
     "execution_count": 36,
     "metadata": {},
     "output_type": "execute_result"
    }
   ],
   "source": [
    "df_rev = (df_revenue/ df_revenue.iloc[-1]).to_frame()\n",
    "df_rev = df_rev.rename(columns={'offer_expected_revenue': 'cum_rev_perc'})\n",
    "df_rev['cum_rev'] = df_revenue\n",
    "df_rev['share_cust'] = df_rev.index / df_rev.shape[0]\n",
    "df_rev"
   ]
  },
  {
   "cell_type": "code",
   "execution_count": 56,
   "metadata": {},
   "outputs": [
    {
     "data": {
      "text/html": [
       "<pre style=\"white-space:pre;overflow-x:auto;line-height:normal;font-family:Menlo,'DejaVu Sans Mono',consolas,'Courier New',monospace\"></pre>\n"
      ],
      "text/plain": []
     },
     "metadata": {},
     "output_type": "display_data"
    },
    {
     "data": {
      "text/plain": [
       "\u001b[1;35mText\u001b[0m\u001b[1m(\u001b[0m\u001b[1;36m0\u001b[0m, \u001b[1;36m0.5\u001b[0m, \u001b[32m'Share of Revenue in %'\u001b[0m\u001b[1m)\u001b[0m"
      ]
     },
     "execution_count": 56,
     "metadata": {},
     "output_type": "execute_result"
    },
    {
     "data": {
      "text/html": [
       "<pre style=\"white-space:pre;overflow-x:auto;line-height:normal;font-family:Menlo,'DejaVu Sans Mono',consolas,'Courier New',monospace\"></pre>\n"
      ],
      "text/plain": []
     },
     "metadata": {},
     "output_type": "display_data"
    },
    {
     "data": {
      "image/png": "[encoded data removed]",
      "text/plain": [
       "\u001b[1m<\u001b[0m\u001b[1;95mFigure\u001b[0m\u001b[39m size 64\u001b[0m\u001b[1;36m0x480\u001b[0m\u001b[39m with \u001b[0m\u001b[1;36m1\u001b[0m\u001b[39m Axes\u001b[0m\u001b[1m>\u001b[0m"
      ]
     },
     "metadata": {},
     "output_type": "display_data"
    }
   ],
   "source": [
    "ax = df_rev.plot(x='share_cust', y='cum_rev_perc', title=\"Share of Customers vs. Cumulative Revenue\")\n",
    "ax.axvline(0.17, color='red')\n",
    "ax.axhline(0.8, color='red')\n",
    "ax.set_xlabel(\"Share of Customers in %\")\n",
    "ax.set_ylabel(\"Share of Revenue in %\")"
   ]
  },
  {
   "cell_type": "code",
   "execution_count": 37,
   "metadata": {},
   "outputs": [
    {
     "data": {
      "text/html": [
       "<pre style=\"white-space:pre;overflow-x:auto;line-height:normal;font-family:Menlo,'DejaVu Sans Mono',consolas,'Courier New',monospace\"></pre>\n"
      ],
      "text/plain": []
     },
     "metadata": {},
     "output_type": "display_data"
    },
    {
     "data": {
      "text/html": [
       "<div>\n",
       "<style scoped>\n",
       "    .dataframe tbody tr th:only-of-type {\n",
       "        vertical-align: middle;\n",
       "    }\n",
       "\n",
       "    .dataframe tbody tr th {\n",
       "        vertical-align: top;\n",
       "    }\n",
       "\n",
       "    .dataframe thead th {\n",
       "        text-align: right;\n",
       "    }\n",
       "</style>\n",
       "<table border=\"1\" class=\"dataframe\">\n",
       "  <thead>\n",
       "    <tr style=\"text-align: right;\">\n",
       "      <th></th>\n",
       "      <th>cum_rev_perc</th>\n",
       "      <th>cum_rev</th>\n",
       "      <th>share_cust</th>\n",
       "    </tr>\n",
       "  </thead>\n",
       "  <tbody>\n",
       "    <tr>\n",
       "      <th>1899</th>\n",
       "      <td>0.800064</td>\n",
       "      <td>4.957678e+08</td>\n",
       "      <td>0.167534</td>\n",
       "    </tr>\n",
       "  </tbody>\n",
       "</table>\n",
       "</div>"
      ],
      "text/plain": [
       "\n",
       "      cum_rev_perc       cum_rev  share_cust\n",
       "\u001b[1;36m1899\u001b[0m      \u001b[1;36m0.800064\u001b[0m  \u001b[1;36m4.957678e+08\u001b[0m    \u001b[1;36m0.167534\u001b[0m"
      ]
     },
     "execution_count": 37,
     "metadata": {},
     "output_type": "execute_result"
    }
   ],
   "source": [
    "df_rev[df_rev['cum_rev_perc']>0.8].head(1)"
   ]
  }
 ],
 "metadata": {
  "kernelspec": {
   "display_name": ".venv",
   "language": "python",
   "name": "python3"
  },
  "language_info": {
   "codemirror_mode": {
    "name": "ipython",
    "version": 3
   },
   "file_extension": ".py",
   "mimetype": "text/x-python",
   "name": "python",
   "nbconvert_exporter": "python",
   "pygments_lexer": "ipython3",
   "version": "3.10.15"
  }
 },
 "nbformat": 4,
 "nbformat_minor": 2
}
