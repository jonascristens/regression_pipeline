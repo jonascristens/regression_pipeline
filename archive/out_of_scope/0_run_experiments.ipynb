{
 "cells": [
  {
   "cell_type": "markdown",
   "id": "677db25b-9ee8-4c05-b45b-a803e85b1d04",
   "metadata": {},
   "source": [
    "# ROM - Run offline experiments\n",
    "\n",
    "#### Description\n",
    "\n",
    "The purpose of this notebook is to run ROM offline experiments. "
   ]
  },
  {
   "cell_type": "code",
   "execution_count": 18,
   "id": "02afe3ab-8ad7-4cd3-af78-8e3abb2050f6",
   "metadata": {
    "ExecuteTime": {
     "end_time": "2025-01-28T20:59:07.336959Z",
     "start_time": "2025-01-28T20:59:07.302603Z"
    }
   },
   "outputs": [
    {
     "name": "stdout",
     "output_type": "stream",
     "text": [
      "The autoreload extension is already loaded. To reload it, use:\n",
      "  %reload_ext autoreload\n"
     ]
    }
   ],
   "source": [
    "%load_ext autoreload\n",
    "%autoreload 2"
   ]
  },
  {
   "cell_type": "code",
   "execution_count": 19,
   "id": "602ce88d-b617-4aee-8048-53d6699f92dc",
   "metadata": {
    "ExecuteTime": {
     "end_time": "2025-01-28T20:59:07.567890Z",
     "start_time": "2025-01-28T20:59:07.551520Z"
    },
    "tags": []
   },
   "outputs": [],
   "source": [
    "from rom import ROMTrainer, ROMTrainerConfig\n",
    "from utils import *\n",
    "from modelling_pkg.config import *\n",
    "import pandas as pd\n",
    "import warnings\n",
    "\n",
    "warnings.filterwarnings(\n",
    "    \"ignore\", message=\"Skipping features without any observed values\"\n",
    ")\n",
    "\n",
    "pd.set_option(\"display.max_columns\", None)\n",
    "\n",
    "\n",
    "DATADIR = \"../../../\" + DATADIR"
   ]
  },
  {
   "cell_type": "markdown",
   "id": "a12c8bd0-a8e3-4150-8aa7-6a1fe658be4a",
   "metadata": {
    "tags": []
   },
   "source": [
    "dd# Load data"
   ]
  },
  {
   "cell_type": "code",
   "execution_count": 20,
   "id": "8a159ba0-74b6-45e6-9c19-e0cfe2f12749",
   "metadata": {
    "ExecuteTime": {
     "end_time": "2025-01-28T20:59:09.302127Z",
     "start_time": "2025-01-28T20:59:09.287775Z"
    },
    "tags": []
   },
   "outputs": [],
   "source": [
    "countries_dir = f\"{DATADIR}\"\n",
    "# countries_dir = DATADIR_RTP + '/countries'\n",
    "\n",
    "# counts = pd.read_csv(countries_dir+'/0_counts.csv')\n",
    "# counts"
   ]
  },
  {
   "cell_type": "markdown",
   "id": "43860aed-9ef3-4105-a155-116974f29322",
   "metadata": {
    "tags": []
   },
   "source": [
    "<div class=\"alert alert-block alert-warning\"><b>Select countries for training</b></div>"
   ]
  },
  {
   "cell_type": "code",
   "execution_count": 4,
   "id": "103c3cec-dfbb-4e6d-bf94-20161cc1c26b",
   "metadata": {
    "ExecuteTime": {
     "end_time": "2025-01-28T15:12:18.534700Z",
     "start_time": "2025-01-28T15:12:18.518880Z"
    },
    "tags": []
   },
   "outputs": [],
   "source": [
    "# countries = ['DENMARK', 'FINLAND', 'HONG_KONG_SAR,_CHINA', 'NETHERLANDS', 'JAPAN', 'MEXICO']\n",
    "# countries = ['ARGENTINA', 'BRAZIL', 'CHILE', 'COLUMBIA', 'CROATIA', 'CZECHIA']\n",
    "# countries = ['UNITED_STATES_OF_AMERICA']\n",
    "\n",
    "# poc\n",
    "countries = [\n",
    "    \"Colombia\",\n",
    "    \"Czech_Republic\",\n",
    "    \"Italy\",\n",
    "    \"Taiwan\",\n",
    "    \"Thailand\",\n",
    "    \"United_Arab_Emirates\",\n",
    "]\n",
    "\n",
    "# spans = defaultdict(lambda: ('2023-12-01', '2024-04-01', '2024-04-01', '2024-06-01'))\n",
    "# spans = ('2023-12-01', '2024-04-01', '2024-04-01', '2024-06-01')\n",
    "spans = (\"2023-10-01\", \"2024-04-01\", \"2024-04-01\", \"2024-07-01\")\n",
    "# all countries:\n",
    "# countries = [\n",
    "#     'ARGENTINA', 'AUSTRALIA', 'AUSTRIA', 'BELGIUM', 'BRAZIL', 'BULGARIA', 'CHILE', 'COLUMBIA', 'CROATIA', 'CZECHIA', 'DENMARK',\n",
    "#     'ECUADOR', 'EGYPT', 'FINLAND', 'FRANCE', 'GERMANY', 'GREECE', 'HONG_KONG_SAR', 'HUNGARY', 'IRELAND', 'ISRAEL', 'ITALY', 'MALAYSIA',\n",
    "#     'NETHERLANDS', 'NEW_ZEALAND', 'NORWAY', 'PHILIPPINES,_THE', 'POLAND', 'PORTUGAL', 'RUSSIA', 'SAUDI_ARABIA', 'SOUTH_AFRICA',\n",
    "#     'SPAIN', 'SWEDEN', 'SWITZERLAND', 'TAIWAN', 'THAILAND', 'UNITED_ARAB_EMIRATES', 'UNITED_KINGDOM', 'UNITED_STATES_OF_AMERICA', 'VIETNAM',\n",
    "# ]"
   ]
  },
  {
   "cell_type": "code",
   "execution_count": 6,
   "id": "88c62f1b-8145-4e3f-b641-5e4654a93d10",
   "metadata": {
    "ExecuteTime": {
     "end_time": "2025-01-28T15:12:41.794658Z",
     "start_time": "2025-01-28T15:12:31.991101Z"
    },
    "tags": []
   },
   "outputs": [
    {
     "data": {
      "text/plain": "[('Colombia', 10605),\n ('Czech_Republic', 21160),\n ('Italy', 136580),\n ('Taiwan', 25919),\n ('Thailand', 23188),\n ('United_Arab_Emirates', 14197)]"
     },
     "execution_count": 6,
     "metadata": {},
     "output_type": "execute_result"
    }
   ],
   "source": [
    "data_dict = {}\n",
    "for c in countries:\n",
    "    data = pd.read_csv(\n",
    "        f\"{countries_dir}/{c}.csv\",\n",
    "        parse_dates=[\"created_date_off\", \"updated_date_off\"],\n",
    "        # index_col=0,\n",
    "        low_memory=False,\n",
    "    )\n",
    "    data[\"accepted\"] = data.final_outcome.apply(map_final_outcome)\n",
    "\n",
    "    for col in num_cols:\n",
    "        if col not in data.columns:\n",
    "            data[col] = 0\n",
    "\n",
    "    data_dict[c] = data.dropna(subset=\"accepted\")\n",
    "list(map(lambda x: (x[0], len(x[1])), data_dict.items()))"
   ]
  },
  {
   "cell_type": "code",
   "execution_count": 7,
   "id": "e1ec4970",
   "metadata": {
    "ExecuteTime": {
     "end_time": "2025-01-28T15:12:43.962491Z",
     "start_time": "2025-01-28T15:12:43.871300Z"
    }
   },
   "outputs": [
    {
     "name": "stdout",
     "output_type": "stream",
     "text": [
      "Colombia\n",
      "('2023-10-01', '2024-04-01', '2024-04-01', '2024-07-01')\n",
      "Train data shape: (2644, 137)\n",
      "Test data shape: (1301, 137)\n",
      "\n",
      "Czech_Republic\n",
      "('2023-10-01', '2024-04-01', '2024-04-01', '2024-07-01')\n",
      "Train data shape: (5836, 138)\n",
      "Test data shape: (3282, 138)\n",
      "\n",
      "Italy\n",
      "('2023-10-01', '2024-04-01', '2024-04-01', '2024-07-01')\n",
      "Train data shape: (30458, 138)\n",
      "Test data shape: (13630, 138)\n",
      "\n",
      "Taiwan\n",
      "('2023-10-01', '2024-04-01', '2024-04-01', '2024-07-01')\n",
      "Train data shape: (7454, 136)\n",
      "Test data shape: (3400, 136)\n",
      "\n",
      "Thailand\n",
      "('2023-10-01', '2024-04-01', '2024-04-01', '2024-07-01')\n",
      "Train data shape: (7062, 136)\n",
      "Test data shape: (2887, 136)\n",
      "\n",
      "United_Arab_Emirates\n",
      "('2023-10-01', '2024-04-01', '2024-04-01', '2024-07-01')\n",
      "Train data shape: (5170, 137)\n",
      "Test data shape: (1545, 137)\n"
     ]
    }
   ],
   "source": [
    "for c in countries:\n",
    "    print(c)\n",
    "    # split_trn_tst(data_dict[c], c, [bin_cols, cat_cols, num_cols], spans=('2022-12-01', '2023-06-01', '2023-06-01', '2023-09-01'), verbose=True)\n",
    "    split_trn_tst(\n",
    "        data_dict[c], c, [bin_cols, cat_cols, num_cols], spans=spans, verbose=True\n",
    "    )\n",
    "    print()"
   ]
  },
  {
   "cell_type": "markdown",
   "id": "07c4fe48-f4df-41ed-be62-c15a86066e31",
   "metadata": {
    "tags": []
   },
   "source": [
    "# Configuration"
   ]
  },
  {
   "cell_type": "code",
   "execution_count": 8,
   "id": "b01f66a7-8805-4f88-bc54-85af32ba63a0",
   "metadata": {
    "ExecuteTime": {
     "end_time": "2025-01-28T15:12:47.543026Z",
     "start_time": "2025-01-28T15:12:47.505628Z"
    },
    "tags": []
   },
   "outputs": [],
   "source": [
    "N_TRIALS = 3\n",
    "timeout_minutes = 2\n",
    "CM = 1\n",
    "SAVE_IMMEDIATELY_TO = f\"{DATADIR}/rom_results\"\n",
    "# SAVE_IMMEDIATELY_TO = None\n",
    "# EXPERIMENT = f'augm-basic-vs-shift-01'\n",
    "# EXPERIMENT = f'augm-clip_min-01'\n",
    "# EXPERIMENT = f'n_trials,init_param'\n",
    "# todo if experiment exists for the countries, raise warning"
   ]
  },
  {
   "cell_type": "code",
   "execution_count": 9,
   "id": "045d8203-56dd-42ed-ba34-40f62c80eb83",
   "metadata": {
    "ExecuteTime": {
     "end_time": "2025-01-28T15:12:48.131844Z",
     "start_time": "2025-01-28T15:12:48.116429Z"
    },
    "tags": []
   },
   "outputs": [
    {
     "data": {
      "text/plain": "[ROMTrainerConfig(experiment='v07-test', name='08,26', estimator='xgbc', augm_variant='basic', gammas=(4, 6, 8), sample=None, n_trials=3, timeout_minutes=2, augm_basic_params=(8, 26), augm_basic_weight=1, augm_basic_weight_asym=False, augm__rshift_sigma=2, xgbc__initial_params=True, optuna__seed=0, random_state=0, clip_min=1, spans=('2023-10-01', '2024-04-01', '2024-04-01', '2024-07-01')),\n ROMTrainerConfig(experiment='v07-test', name='10,37', estimator='xgbc', augm_variant='basic', gammas=(4, 6, 8), sample=None, n_trials=3, timeout_minutes=2, augm_basic_params=(10, 37), augm_basic_weight=1, augm_basic_weight_asym=False, augm__rshift_sigma=2, xgbc__initial_params=True, optuna__seed=0, random_state=0, clip_min=1, spans=('2023-10-01', '2024-04-01', '2024-04-01', '2024-07-01')),\n ROMTrainerConfig(experiment='v07-test', name='10,43', estimator='xgbc', augm_variant='basic', gammas=(4, 6, 8), sample=None, n_trials=3, timeout_minutes=2, augm_basic_params=(10, 43), augm_basic_weight=1, augm_basic_weight_asym=False, augm__rshift_sigma=2, xgbc__initial_params=True, optuna__seed=0, random_state=0, clip_min=1, spans=('2023-10-01', '2024-04-01', '2024-04-01', '2024-07-01')),\n ROMTrainerConfig(experiment='v07-test', name='11,19', estimator='xgbc', augm_variant='basic', gammas=(4, 6, 8), sample=None, n_trials=3, timeout_minutes=2, augm_basic_params=(11, 19), augm_basic_weight=1, augm_basic_weight_asym=False, augm__rshift_sigma=2, xgbc__initial_params=True, optuna__seed=0, random_state=0, clip_min=1, spans=('2023-10-01', '2024-04-01', '2024-04-01', '2024-07-01')),\n ROMTrainerConfig(experiment='v07-test', name='14,28', estimator='xgbc', augm_variant='basic', gammas=(4, 6, 8), sample=None, n_trials=3, timeout_minutes=2, augm_basic_params=(14, 28), augm_basic_weight=1, augm_basic_weight_asym=False, augm__rshift_sigma=2, xgbc__initial_params=True, optuna__seed=0, random_state=0, clip_min=1, spans=('2023-10-01', '2024-04-01', '2024-04-01', '2024-07-01'))]"
     },
     "execution_count": 9,
     "metadata": {},
     "output_type": "execute_result"
    }
   ],
   "source": [
    "EXPERIMENT = \"v07-test\"\n",
    "rom_configs = [\n",
    "    ROMTrainerConfig(\n",
    "        experiment=EXPERIMENT,\n",
    "        name=f\"{a:02},{b}\",\n",
    "        n_trials=N_TRIALS,\n",
    "        timeout_minutes=timeout_minutes,\n",
    "        augm_variant=\"basic\",\n",
    "        augm_basic_params=(a, b),\n",
    "        clip_min=CM,\n",
    "        spans=spans,\n",
    "    )\n",
    "    for a, b in sorted([(8, 26), (10, 37), (11, 19), (14, 28), (10, 43)])\n",
    "]\n",
    "\n",
    "rom_configs"
   ]
  },
  {
   "cell_type": "markdown",
   "id": "1a17d220-efdf-43f6-89e3-5236c4b08672",
   "metadata": {},
   "source": [
    "# Train"
   ]
  },
  {
   "cell_type": "code",
   "execution_count": 10,
   "id": "8ee64e4204ad97b7",
   "metadata": {
    "ExecuteTime": {
     "end_time": "2025-01-28T15:12:49.966984Z",
     "start_time": "2025-01-28T15:12:49.945715Z"
    },
    "collapsed": false
   },
   "outputs": [
    {
     "data": {
      "text/plain": "ROMTrainerConfig(experiment='v07-test', name='08,26', estimator='xgbc', augm_variant='basic', gammas=(4, 6, 8), sample=None, n_trials=3, timeout_minutes=2, augm_basic_params=(8, 26), augm_basic_weight=1, augm_basic_weight_asym=False, augm__rshift_sigma=2, xgbc__initial_params=True, optuna__seed=0, random_state=0, clip_min=1, spans=('2023-10-01', '2024-04-01', '2024-04-01', '2024-07-01'))"
     },
     "execution_count": 10,
     "metadata": {},
     "output_type": "execute_result"
    }
   ],
   "source": [
    "rom_configs[0]"
   ]
  },
  {
   "cell_type": "code",
   "execution_count": 11,
   "id": "d44826c200a061c4",
   "metadata": {
    "ExecuteTime": {
     "end_time": "2025-01-28T15:12:51.013722Z",
     "start_time": "2025-01-28T15:12:50.986631Z"
    },
    "collapsed": false
   },
   "outputs": [
    {
     "data": {
      "text/plain": "False    10605\nName: log_published_revenue, dtype: int64"
     },
     "metadata": {},
     "output_type": "display_data"
    },
    {
     "data": {
      "text/plain": "False    10605\nName: log_published_revenue_sq, dtype: int64"
     },
     "metadata": {},
     "output_type": "display_data"
    },
    {
     "data": {
      "text/plain": "False    10168\nTrue       437\nName: log_potential_revenue, dtype: int64"
     },
     "metadata": {},
     "output_type": "display_data"
    },
    {
     "data": {
      "text/plain": "False    10605\nName: log_offer_published_revenue, dtype: int64"
     },
     "metadata": {},
     "output_type": "display_data"
    },
    {
     "data": {
      "text/plain": "False    10604\nTrue         1\nName: log_shipments, dtype: int64"
     },
     "metadata": {},
     "output_type": "display_data"
    },
    {
     "data": {
      "text/plain": "False    10604\nTrue         1\nName: log_wps, dtype: int64"
     },
     "metadata": {},
     "output_type": "display_data"
    },
    {
     "data": {
      "text/plain": "False    10604\nTrue         1\nName: log_weight, dtype: int64"
     },
     "metadata": {},
     "output_type": "display_data"
    },
    {
     "data": {
      "text/plain": "False    10605\nName: PROD.MIX:TDEXPORT, dtype: int64"
     },
     "metadata": {},
     "output_type": "display_data"
    },
    {
     "data": {
      "text/plain": "False    10605\nName: PROD.MIX:TDIMPORT, dtype: int64"
     },
     "metadata": {},
     "output_type": "display_data"
    },
    {
     "data": {
      "text/plain": "False    10605\nName: PROD.MIX:TD3RD, dtype: int64"
     },
     "metadata": {},
     "output_type": "display_data"
    },
    {
     "data": {
      "text/plain": "False    10605\nName: PROD.MIX:DDEXPORT, dtype: int64"
     },
     "metadata": {},
     "output_type": "display_data"
    },
    {
     "data": {
      "text/plain": "False    10605\nName: PROD.MIX:DDIMPORT, dtype: int64"
     },
     "metadata": {},
     "output_type": "display_data"
    },
    {
     "data": {
      "text/plain": "False    10605\nName: PROD.MIX:DD3RD, dtype: int64"
     },
     "metadata": {},
     "output_type": "display_data"
    },
    {
     "data": {
      "text/plain": "False    10605\nName: PROD.MIX:TDDOM, dtype: int64"
     },
     "metadata": {},
     "output_type": "display_data"
    },
    {
     "data": {
      "text/plain": "False    10605\nName: PROD.MIX:TD3DOM, dtype: int64"
     },
     "metadata": {},
     "output_type": "display_data"
    },
    {
     "data": {
      "text/plain": "False    10605\nName: PROD.MIX:OTHER, dtype: int64"
     },
     "metadata": {},
     "output_type": "display_data"
    }
   ],
   "source": [
    "for c in num_cols:\n",
    "    display(data_dict[countries[0]][c].isna().value_counts())"
   ]
  },
  {
   "cell_type": "code",
   "execution_count": null,
   "id": "cfed19efc11002ad",
   "metadata": {
    "collapsed": false
   },
   "outputs": [],
   "source": []
  },
  {
   "cell_type": "code",
   "execution_count": 15,
   "id": "9d4e07be89aa5f42",
   "metadata": {
    "ExecuteTime": {
     "end_time": "2025-01-28T15:58:21.003918Z",
     "start_time": "2025-01-28T15:58:20.978768Z"
    },
    "collapsed": false
   },
   "outputs": [],
   "source": [
    "# trainer = ROMTrainer(bin_cols, cat_cols, num_cols)\n",
    "# trainer._cfg = rom_configs[0]\n",
    "# n_features = trainer._temp_prep_pipe.fit(data_dict[countries[0]]).transform(data_dict[countries[0]].sample(1)).shape[1]\n",
    "# test, _ = trainer._train_model(data_dict[countries[0]], data_dict[countries[0]]['accepted'], n_features, rom_configs[0], [bin_cols, cat_cols, num_cols], [1] * len(data_dict[countries[0]]))"
   ]
  },
  {
   "cell_type": "code",
   "execution_count": 14,
   "id": "98d51657-3832-4dc8-b1d6-20d7fe2ae770",
   "metadata": {
    "ExecuteTime": {
     "end_time": "2025-01-28T15:45:11.375016Z",
     "start_time": "2025-01-28T15:14:01.774169Z"
    },
    "scrolled": true,
    "tags": []
   },
   "outputs": [
    {
     "data": {
      "text/markdown": "**v07-test**\n\nCountries: Colombia, Czech_Republic, Italy, Taiwan, Thailand, United_Arab_Emirates",
      "text/plain": "<IPython.core.display.Markdown object>"
     },
     "metadata": {},
     "output_type": "display_data"
    },
    {
     "data": {
      "text/markdown": "\n\n**^^^^^^^^^^^^^^^^^^^^^^^^^^^^^^ Colombia (1/6) - 08,26 (1/5) ^^^^^^^^^^^^^^^^^^^^^^^^^^^^^^**\n\n",
      "text/plain": "<IPython.core.display.Markdown object>"
     },
     "metadata": {},
     "output_type": "display_data"
    },
    {
     "name": "stdout",
     "output_type": "stream",
     "text": [
      "('2023-10-01', '2024-04-01', '2024-04-01', '2024-07-01')\n",
      "Train data shape: (2626, 137)\n",
      "Test data shape: (1287, 137)\n"
     ]
    },
    {
     "name": "stderr",
     "output_type": "stream",
     "text": [
      "[I 2025-01-28 16:14:02,195] A new study created in memory with name: no-name-16632687-1cd4-405b-9fad-251427054026\n"
     ]
    },
    {
     "name": "stdout",
     "output_type": "stream",
     "text": [
      "before/after aug (2626, 137) (7771, 137)\n"
     ]
    },
    {
     "data": {
      "application/vnd.jupyter.widget-view+json": {
       "model_id": "79d4bd6a87da4447b3f196441ad51325",
       "version_major": 2,
       "version_minor": 0
      },
      "text/plain": "  0%|          | 0/3 [00:00<?, ?it/s]"
     },
     "metadata": {},
     "output_type": "display_data"
    },
    {
     "name": "stdout",
     "output_type": "stream",
     "text": [
      "[I 2025-01-28 16:14:08,526] Trial 0 finished with value: 0.2831602894634629 and parameters: {'learning_rate': 0.01087080185549562, 'max_depth': 4, 'n_estimators': 729, 'gamma': 0.01123506477003016}. Best is trial 0 with value: 0.2831602894634629.\n",
      "[I 2025-01-28 16:14:17,633] Trial 1 finished with value: 0.28527647824859614 and parameters: {'learning_rate': 0.02230934569621654, 'max_depth': 6, 'n_estimators': 721, 'gamma': 0.05498659253091755}. Best is trial 0 with value: 0.2831602894634629.\n",
      "[I 2025-01-28 16:14:23,947] Trial 2 finished with value: 0.285464702786972 and parameters: {'learning_rate': 0.03538453590906552, 'max_depth': 5, 'n_estimators': 643, 'gamma': 0.1229607110732571}. Best is trial 0 with value: 0.2831602894634629.\n",
      "Saving results to '../../../Data/training-data-POC-countries/rom_results/Colombia~2024-04~2024-07/v07-test/08,26'\n",
      "Colombia\n"
     ]
    },
    {
     "data": {
      "application/vnd.jupyter.widget-view+json": {
       "model_id": "0d09c4547d9742f6818d3ce1beeaf773",
       "version_major": 2,
       "version_minor": 0
      },
      "text/plain": "  0%|          | 0/1287 [00:00<?, ?it/s]"
     },
     "metadata": {},
     "output_type": "display_data"
    },
    {
     "data": {
      "text/html": "<div>\n<style scoped>\n    .dataframe tbody tr th:only-of-type {\n        vertical-align: middle;\n    }\n\n    .dataframe tbody tr th {\n        vertical-align: top;\n    }\n\n    .dataframe thead th {\n        text-align: right;\n    }\n</style>\n<table border=\"1\" class=\"dataframe\">\n  <thead>\n    <tr style=\"text-align: right;\">\n      <th></th>\n      <th>real_discount</th>\n      <th>pub_rev</th>\n      <th>accepted</th>\n      <th>real_rev</th>\n      <th>rom_discount</th>\n      <th>rom_pa</th>\n      <th>rom_exp_rev</th>\n      <th>rom_discount_4_low</th>\n      <th>rom_discount_4_mid</th>\n      <th>rom_discount_4_high</th>\n      <th>rom_discount_6_low</th>\n      <th>rom_discount_6_mid</th>\n      <th>rom_discount_6_high</th>\n      <th>rom_discount_8_low</th>\n      <th>rom_discount_8_mid</th>\n      <th>rom_discount_8_high</th>\n      <th>rom_diff</th>\n    </tr>\n  </thead>\n  <tbody>\n    <tr>\n      <th>21353</th>\n      <td>47.000078</td>\n      <td>3590.76</td>\n      <td>1</td>\n      <td>1903.10</td>\n      <td>50</td>\n      <td>0.946936</td>\n      <td>0.473468</td>\n      <td>48</td>\n      <td>49.0</td>\n      <td>50</td>\n      <td>48</td>\n      <td>50.0</td>\n      <td>52</td>\n      <td>48</td>\n      <td>50.5</td>\n      <td>53</td>\n      <td>2.999922</td>\n    </tr>\n    <tr>\n      <th>21354</th>\n      <td>46.999892</td>\n      <td>3424.71</td>\n      <td>1</td>\n      <td>1815.10</td>\n      <td>50</td>\n      <td>0.923203</td>\n      <td>0.461602</td>\n      <td>50</td>\n      <td>50.0</td>\n      <td>50</td>\n      <td>48</td>\n      <td>50.0</td>\n      <td>52</td>\n      <td>48</td>\n      <td>50.5</td>\n      <td>53</td>\n      <td>3.000108</td>\n    </tr>\n    <tr>\n      <th>21355</th>\n      <td>55.999976</td>\n      <td>3284.18</td>\n      <td>1</td>\n      <td>1445.04</td>\n      <td>50</td>\n      <td>0.944071</td>\n      <td>0.472035</td>\n      <td>50</td>\n      <td>50.0</td>\n      <td>50</td>\n      <td>48</td>\n      <td>49.0</td>\n      <td>50</td>\n      <td>48</td>\n      <td>50.0</td>\n      <td>52</td>\n      <td>-5.999976</td>\n    </tr>\n    <tr>\n      <th>21358</th>\n      <td>50.000000</td>\n      <td>3247.02</td>\n      <td>1</td>\n      <td>1623.51</td>\n      <td>50</td>\n      <td>0.892475</td>\n      <td>0.446238</td>\n      <td>50</td>\n      <td>50.0</td>\n      <td>50</td>\n      <td>50</td>\n      <td>50.0</td>\n      <td>50</td>\n      <td>50</td>\n      <td>52.5</td>\n      <td>55</td>\n      <td>0.000000</td>\n    </tr>\n    <tr>\n      <th>21359</th>\n      <td>50.000000</td>\n      <td>3035.40</td>\n      <td>1</td>\n      <td>1517.70</td>\n      <td>50</td>\n      <td>0.870849</td>\n      <td>0.435424</td>\n      <td>50</td>\n      <td>50.0</td>\n      <td>50</td>\n      <td>50</td>\n      <td>50.0</td>\n      <td>50</td>\n      <td>50</td>\n      <td>50.0</td>\n      <td>50</td>\n      <td>0.000000</td>\n    </tr>\n    <tr>\n      <th>...</th>\n      <td>...</td>\n      <td>...</td>\n      <td>...</td>\n      <td>...</td>\n      <td>...</td>\n      <td>...</td>\n      <td>...</td>\n      <td>...</td>\n      <td>...</td>\n      <td>...</td>\n      <td>...</td>\n      <td>...</td>\n      <td>...</td>\n      <td>...</td>\n      <td>...</td>\n      <td>...</td>\n      <td>...</td>\n    </tr>\n    <tr>\n      <th>23390</th>\n      <td>39.999703</td>\n      <td>2696.22</td>\n      <td>1</td>\n      <td>1617.74</td>\n      <td>48</td>\n      <td>0.912638</td>\n      <td>0.474572</td>\n      <td>48</td>\n      <td>49.0</td>\n      <td>50</td>\n      <td>48</td>\n      <td>49.0</td>\n      <td>50</td>\n      <td>40</td>\n      <td>46.0</td>\n      <td>52</td>\n      <td>8.000297</td>\n    </tr>\n    <tr>\n      <th>23391</th>\n      <td>71.061244</td>\n      <td>1155.06</td>\n      <td>1</td>\n      <td>334.26</td>\n      <td>58</td>\n      <td>0.860710</td>\n      <td>0.361498</td>\n      <td>58</td>\n      <td>60.0</td>\n      <td>62</td>\n      <td>58</td>\n      <td>60.5</td>\n      <td>63</td>\n      <td>58</td>\n      <td>60.5</td>\n      <td>63</td>\n      <td>-13.061244</td>\n    </tr>\n    <tr>\n      <th>23392</th>\n      <td>29.998697</td>\n      <td>614.16</td>\n      <td>1</td>\n      <td>429.92</td>\n      <td>35</td>\n      <td>0.848406</td>\n      <td>0.551464</td>\n      <td>35</td>\n      <td>38.0</td>\n      <td>41</td>\n      <td>35</td>\n      <td>38.5</td>\n      <td>42</td>\n      <td>35</td>\n      <td>39.0</td>\n      <td>43</td>\n      <td>5.001303</td>\n    </tr>\n    <tr>\n      <th>23393</th>\n      <td>39.999703</td>\n      <td>2696.22</td>\n      <td>1</td>\n      <td>1617.74</td>\n      <td>48</td>\n      <td>0.920559</td>\n      <td>0.478690</td>\n      <td>48</td>\n      <td>49.0</td>\n      <td>50</td>\n      <td>40</td>\n      <td>45.0</td>\n      <td>50</td>\n      <td>40</td>\n      <td>46.0</td>\n      <td>52</td>\n      <td>8.000297</td>\n    </tr>\n    <tr>\n      <th>23394</th>\n      <td>55.000291</td>\n      <td>1031.74</td>\n      <td>1</td>\n      <td>464.28</td>\n      <td>40</td>\n      <td>0.914836</td>\n      <td>0.548902</td>\n      <td>35</td>\n      <td>38.5</td>\n      <td>42</td>\n      <td>35</td>\n      <td>39.0</td>\n      <td>43</td>\n      <td>35</td>\n      <td>40.0</td>\n      <td>45</td>\n      <td>-15.000291</td>\n    </tr>\n  </tbody>\n</table>\n<p>1287 rows × 17 columns</p>\n</div>",
      "text/plain": "       real_discount  pub_rev  accepted  real_rev  rom_discount    rom_pa  \\\n21353      47.000078  3590.76         1   1903.10            50  0.946936   \n21354      46.999892  3424.71         1   1815.10            50  0.923203   \n21355      55.999976  3284.18         1   1445.04            50  0.944071   \n21358      50.000000  3247.02         1   1623.51            50  0.892475   \n21359      50.000000  3035.40         1   1517.70            50  0.870849   \n...              ...      ...       ...       ...           ...       ...   \n23390      39.999703  2696.22         1   1617.74            48  0.912638   \n23391      71.061244  1155.06         1    334.26            58  0.860710   \n23392      29.998697   614.16         1    429.92            35  0.848406   \n23393      39.999703  2696.22         1   1617.74            48  0.920559   \n23394      55.000291  1031.74         1    464.28            40  0.914836   \n\n       rom_exp_rev  rom_discount_4_low  rom_discount_4_mid  \\\n21353     0.473468                  48                49.0   \n21354     0.461602                  50                50.0   \n21355     0.472035                  50                50.0   \n21358     0.446238                  50                50.0   \n21359     0.435424                  50                50.0   \n...            ...                 ...                 ...   \n23390     0.474572                  48                49.0   \n23391     0.361498                  58                60.0   \n23392     0.551464                  35                38.0   \n23393     0.478690                  48                49.0   \n23394     0.548902                  35                38.5   \n\n       rom_discount_4_high  rom_discount_6_low  rom_discount_6_mid  \\\n21353                   50                  48                50.0   \n21354                   50                  48                50.0   \n21355                   50                  48                49.0   \n21358                   50                  50                50.0   \n21359                   50                  50                50.0   \n...                    ...                 ...                 ...   \n23390                   50                  48                49.0   \n23391                   62                  58                60.5   \n23392                   41                  35                38.5   \n23393                   50                  40                45.0   \n23394                   42                  35                39.0   \n\n       rom_discount_6_high  rom_discount_8_low  rom_discount_8_mid  \\\n21353                   52                  48                50.5   \n21354                   52                  48                50.5   \n21355                   50                  48                50.0   \n21358                   50                  50                52.5   \n21359                   50                  50                50.0   \n...                    ...                 ...                 ...   \n23390                   50                  40                46.0   \n23391                   63                  58                60.5   \n23392                   42                  35                39.0   \n23393                   50                  40                46.0   \n23394                   43                  35                40.0   \n\n       rom_discount_8_high   rom_diff  \n21353                   53   2.999922  \n21354                   53   3.000108  \n21355                   52  -5.999976  \n21358                   55   0.000000  \n21359                   50   0.000000  \n...                    ...        ...  \n23390                   52   8.000297  \n23391                   63 -13.061244  \n23392                   43   5.001303  \n23393                   52   8.000297  \n23394                   45 -15.000291  \n\n[1287 rows x 17 columns]"
     },
     "metadata": {},
     "output_type": "display_data"
    },
    {
     "data": {
      "text/markdown": "\n\n**^^^^^^^^^^^^^^^^^^^^^^^^^^^^^^ Colombia (1/6) - 10,37 (2/5) ^^^^^^^^^^^^^^^^^^^^^^^^^^^^^^**\n\n",
      "text/plain": "<IPython.core.display.Markdown object>"
     },
     "metadata": {},
     "output_type": "display_data"
    },
    {
     "name": "stdout",
     "output_type": "stream",
     "text": [
      "('2023-10-01', '2024-04-01', '2024-04-01', '2024-07-01')\n",
      "Train data shape: (2626, 137)\n",
      "Test data shape: (1287, 137)\n"
     ]
    },
    {
     "name": "stderr",
     "output_type": "stream",
     "text": [
      "[I 2025-01-28 16:14:36,067] A new study created in memory with name: no-name-0fcdc1ee-64f2-4967-b645-0e67caf577cd\n"
     ]
    },
    {
     "name": "stdout",
     "output_type": "stream",
     "text": [
      "before/after aug (2626, 137) (7593, 137)\n"
     ]
    },
    {
     "data": {
      "application/vnd.jupyter.widget-view+json": {
       "model_id": "17fa8c1c8c4346889dfcd234707b4de6",
       "version_major": 2,
       "version_minor": 0
      },
      "text/plain": "  0%|          | 0/3 [00:00<?, ?it/s]"
     },
     "metadata": {},
     "output_type": "display_data"
    },
    {
     "name": "stdout",
     "output_type": "stream",
     "text": [
      "[I 2025-01-28 16:14:41,939] Trial 0 finished with value: 0.22474280301137325 and parameters: {'learning_rate': 0.01087080185549562, 'max_depth': 4, 'n_estimators': 729, 'gamma': 0.01123506477003016}. Best is trial 0 with value: 0.22474280301137325.\n",
      "[I 2025-01-28 16:14:50,332] Trial 1 finished with value: 0.2464377029562243 and parameters: {'learning_rate': 0.02230934569621654, 'max_depth': 6, 'n_estimators': 721, 'gamma': 0.05498659253091755}. Best is trial 0 with value: 0.22474280301137325.\n",
      "[I 2025-01-28 16:14:56,817] Trial 2 finished with value: 0.24740657965052928 and parameters: {'learning_rate': 0.03538453590906552, 'max_depth': 5, 'n_estimators': 643, 'gamma': 0.1229607110732571}. Best is trial 0 with value: 0.22474280301137325.\n",
      "Saving results to '../../../Data/training-data-POC-countries/rom_results/Colombia~2024-04~2024-07/v07-test/10,37'\n",
      "Colombia\n"
     ]
    },
    {
     "data": {
      "application/vnd.jupyter.widget-view+json": {
       "model_id": "d7bd0dabfe234e39ae36aefae3eca486",
       "version_major": 2,
       "version_minor": 0
      },
      "text/plain": "  0%|          | 0/1287 [00:00<?, ?it/s]"
     },
     "metadata": {},
     "output_type": "display_data"
    },
    {
     "data": {
      "text/html": "<div>\n<style scoped>\n    .dataframe tbody tr th:only-of-type {\n        vertical-align: middle;\n    }\n\n    .dataframe tbody tr th {\n        vertical-align: top;\n    }\n\n    .dataframe thead th {\n        text-align: right;\n    }\n</style>\n<table border=\"1\" class=\"dataframe\">\n  <thead>\n    <tr style=\"text-align: right;\">\n      <th></th>\n      <th>real_discount</th>\n      <th>pub_rev</th>\n      <th>accepted</th>\n      <th>real_rev</th>\n      <th>rom_discount</th>\n      <th>rom_pa</th>\n      <th>rom_exp_rev</th>\n      <th>rom_discount_4_low</th>\n      <th>rom_discount_4_mid</th>\n      <th>rom_discount_4_high</th>\n      <th>rom_discount_6_low</th>\n      <th>rom_discount_6_mid</th>\n      <th>rom_discount_6_high</th>\n      <th>rom_discount_8_low</th>\n      <th>rom_discount_8_mid</th>\n      <th>rom_discount_8_high</th>\n      <th>rom_diff</th>\n    </tr>\n  </thead>\n  <tbody>\n    <tr>\n      <th>21353</th>\n      <td>47.000078</td>\n      <td>3590.76</td>\n      <td>1</td>\n      <td>1903.10</td>\n      <td>40</td>\n      <td>0.840602</td>\n      <td>0.504361</td>\n      <td>40</td>\n      <td>42.5</td>\n      <td>45</td>\n      <td>40</td>\n      <td>45.0</td>\n      <td>50</td>\n      <td>40</td>\n      <td>45.5</td>\n      <td>51</td>\n      <td>-7.000078</td>\n    </tr>\n    <tr>\n      <th>21354</th>\n      <td>46.999892</td>\n      <td>3424.71</td>\n      <td>1</td>\n      <td>1815.10</td>\n      <td>50</td>\n      <td>0.946914</td>\n      <td>0.473457</td>\n      <td>50</td>\n      <td>50.5</td>\n      <td>51</td>\n      <td>50</td>\n      <td>51.0</td>\n      <td>52</td>\n      <td>50</td>\n      <td>51.5</td>\n      <td>53</td>\n      <td>3.000108</td>\n    </tr>\n    <tr>\n      <th>21355</th>\n      <td>55.999976</td>\n      <td>3284.18</td>\n      <td>1</td>\n      <td>1445.04</td>\n      <td>50</td>\n      <td>0.968715</td>\n      <td>0.484358</td>\n      <td>50</td>\n      <td>50.5</td>\n      <td>51</td>\n      <td>45</td>\n      <td>48.5</td>\n      <td>52</td>\n      <td>45</td>\n      <td>49.0</td>\n      <td>53</td>\n      <td>-5.999976</td>\n    </tr>\n    <tr>\n      <th>21358</th>\n      <td>50.000000</td>\n      <td>3247.02</td>\n      <td>1</td>\n      <td>1623.51</td>\n      <td>50</td>\n      <td>0.933369</td>\n      <td>0.466684</td>\n      <td>50</td>\n      <td>50.5</td>\n      <td>51</td>\n      <td>50</td>\n      <td>51.0</td>\n      <td>52</td>\n      <td>50</td>\n      <td>51.5</td>\n      <td>53</td>\n      <td>0.000000</td>\n    </tr>\n    <tr>\n      <th>21359</th>\n      <td>50.000000</td>\n      <td>3035.40</td>\n      <td>1</td>\n      <td>1517.70</td>\n      <td>50</td>\n      <td>0.829838</td>\n      <td>0.414919</td>\n      <td>50</td>\n      <td>50.0</td>\n      <td>50</td>\n      <td>50</td>\n      <td>50.5</td>\n      <td>51</td>\n      <td>50</td>\n      <td>51.0</td>\n      <td>52</td>\n      <td>0.000000</td>\n    </tr>\n    <tr>\n      <th>...</th>\n      <td>...</td>\n      <td>...</td>\n      <td>...</td>\n      <td>...</td>\n      <td>...</td>\n      <td>...</td>\n      <td>...</td>\n      <td>...</td>\n      <td>...</td>\n      <td>...</td>\n      <td>...</td>\n      <td>...</td>\n      <td>...</td>\n      <td>...</td>\n      <td>...</td>\n      <td>...</td>\n      <td>...</td>\n    </tr>\n    <tr>\n      <th>23390</th>\n      <td>39.999703</td>\n      <td>2696.22</td>\n      <td>1</td>\n      <td>1617.74</td>\n      <td>50</td>\n      <td>0.935940</td>\n      <td>0.467970</td>\n      <td>45</td>\n      <td>48.0</td>\n      <td>51</td>\n      <td>45</td>\n      <td>48.5</td>\n      <td>52</td>\n      <td>40</td>\n      <td>46.5</td>\n      <td>53</td>\n      <td>10.000297</td>\n    </tr>\n    <tr>\n      <th>23391</th>\n      <td>71.061244</td>\n      <td>1155.06</td>\n      <td>1</td>\n      <td>334.26</td>\n      <td>50</td>\n      <td>0.868585</td>\n      <td>0.434292</td>\n      <td>50</td>\n      <td>50.5</td>\n      <td>51</td>\n      <td>50</td>\n      <td>51.0</td>\n      <td>52</td>\n      <td>50</td>\n      <td>51.5</td>\n      <td>53</td>\n      <td>-21.061244</td>\n    </tr>\n    <tr>\n      <th>23392</th>\n      <td>29.998697</td>\n      <td>614.16</td>\n      <td>1</td>\n      <td>429.92</td>\n      <td>40</td>\n      <td>0.951689</td>\n      <td>0.571014</td>\n      <td>40</td>\n      <td>41.0</td>\n      <td>42</td>\n      <td>40</td>\n      <td>41.5</td>\n      <td>43</td>\n      <td>29</td>\n      <td>36.5</td>\n      <td>44</td>\n      <td>10.001303</td>\n    </tr>\n    <tr>\n      <th>23393</th>\n      <td>39.999703</td>\n      <td>2696.22</td>\n      <td>1</td>\n      <td>1617.74</td>\n      <td>50</td>\n      <td>0.949879</td>\n      <td>0.474939</td>\n      <td>40</td>\n      <td>45.5</td>\n      <td>51</td>\n      <td>40</td>\n      <td>46.0</td>\n      <td>52</td>\n      <td>40</td>\n      <td>46.5</td>\n      <td>53</td>\n      <td>10.000297</td>\n    </tr>\n    <tr>\n      <th>23394</th>\n      <td>55.000291</td>\n      <td>1031.74</td>\n      <td>1</td>\n      <td>464.28</td>\n      <td>40</td>\n      <td>0.957924</td>\n      <td>0.574755</td>\n      <td>29</td>\n      <td>35.5</td>\n      <td>42</td>\n      <td>29</td>\n      <td>36.0</td>\n      <td>43</td>\n      <td>29</td>\n      <td>37.0</td>\n      <td>45</td>\n      <td>-15.000291</td>\n    </tr>\n  </tbody>\n</table>\n<p>1287 rows × 17 columns</p>\n</div>",
      "text/plain": "       real_discount  pub_rev  accepted  real_rev  rom_discount    rom_pa  \\\n21353      47.000078  3590.76         1   1903.10            40  0.840602   \n21354      46.999892  3424.71         1   1815.10            50  0.946914   \n21355      55.999976  3284.18         1   1445.04            50  0.968715   \n21358      50.000000  3247.02         1   1623.51            50  0.933369   \n21359      50.000000  3035.40         1   1517.70            50  0.829838   \n...              ...      ...       ...       ...           ...       ...   \n23390      39.999703  2696.22         1   1617.74            50  0.935940   \n23391      71.061244  1155.06         1    334.26            50  0.868585   \n23392      29.998697   614.16         1    429.92            40  0.951689   \n23393      39.999703  2696.22         1   1617.74            50  0.949879   \n23394      55.000291  1031.74         1    464.28            40  0.957924   \n\n       rom_exp_rev  rom_discount_4_low  rom_discount_4_mid  \\\n21353     0.504361                  40                42.5   \n21354     0.473457                  50                50.5   \n21355     0.484358                  50                50.5   \n21358     0.466684                  50                50.5   \n21359     0.414919                  50                50.0   \n...            ...                 ...                 ...   \n23390     0.467970                  45                48.0   \n23391     0.434292                  50                50.5   \n23392     0.571014                  40                41.0   \n23393     0.474939                  40                45.5   \n23394     0.574755                  29                35.5   \n\n       rom_discount_4_high  rom_discount_6_low  rom_discount_6_mid  \\\n21353                   45                  40                45.0   \n21354                   51                  50                51.0   \n21355                   51                  45                48.5   \n21358                   51                  50                51.0   \n21359                   50                  50                50.5   \n...                    ...                 ...                 ...   \n23390                   51                  45                48.5   \n23391                   51                  50                51.0   \n23392                   42                  40                41.5   \n23393                   51                  40                46.0   \n23394                   42                  29                36.0   \n\n       rom_discount_6_high  rom_discount_8_low  rom_discount_8_mid  \\\n21353                   50                  40                45.5   \n21354                   52                  50                51.5   \n21355                   52                  45                49.0   \n21358                   52                  50                51.5   \n21359                   51                  50                51.0   \n...                    ...                 ...                 ...   \n23390                   52                  40                46.5   \n23391                   52                  50                51.5   \n23392                   43                  29                36.5   \n23393                   52                  40                46.5   \n23394                   43                  29                37.0   \n\n       rom_discount_8_high   rom_diff  \n21353                   51  -7.000078  \n21354                   53   3.000108  \n21355                   53  -5.999976  \n21358                   53   0.000000  \n21359                   52   0.000000  \n...                    ...        ...  \n23390                   53  10.000297  \n23391                   53 -21.061244  \n23392                   44  10.001303  \n23393                   53  10.000297  \n23394                   45 -15.000291  \n\n[1287 rows x 17 columns]"
     },
     "metadata": {},
     "output_type": "display_data"
    },
    {
     "data": {
      "text/markdown": "\n\n**^^^^^^^^^^^^^^^^^^^^^^^^^^^^^^ Colombia (1/6) - 10,43 (3/5) ^^^^^^^^^^^^^^^^^^^^^^^^^^^^^^**\n\n",
      "text/plain": "<IPython.core.display.Markdown object>"
     },
     "metadata": {},
     "output_type": "display_data"
    },
    {
     "name": "stdout",
     "output_type": "stream",
     "text": [
      "('2023-10-01', '2024-04-01', '2024-04-01', '2024-07-01')\n",
      "Train data shape: (2626, 137)\n",
      "Test data shape: (1287, 137)\n"
     ]
    },
    {
     "name": "stderr",
     "output_type": "stream",
     "text": [
      "[I 2025-01-28 16:15:08,983] A new study created in memory with name: no-name-c118b187-9cd6-44fb-88c0-d1981e05ba94\n"
     ]
    },
    {
     "name": "stdout",
     "output_type": "stream",
     "text": [
      "before/after aug (2626, 137) (7385, 137)\n"
     ]
    },
    {
     "data": {
      "application/vnd.jupyter.widget-view+json": {
       "model_id": "751937902533462594ea2ffd3f9c2f8b",
       "version_major": 2,
       "version_minor": 0
      },
      "text/plain": "  0%|          | 0/3 [00:00<?, ?it/s]"
     },
     "metadata": {},
     "output_type": "display_data"
    },
    {
     "name": "stdout",
     "output_type": "stream",
     "text": [
      "[I 2025-01-28 16:15:14,904] Trial 0 finished with value: 0.2201470494912873 and parameters: {'learning_rate': 0.01087080185549562, 'max_depth': 4, 'n_estimators': 729, 'gamma': 0.01123506477003016}. Best is trial 0 with value: 0.2201470494912873.\n",
      "[I 2025-01-28 16:15:23,262] Trial 1 finished with value: 0.2438044640871039 and parameters: {'learning_rate': 0.02230934569621654, 'max_depth': 6, 'n_estimators': 721, 'gamma': 0.05498659253091755}. Best is trial 0 with value: 0.2201470494912873.\n",
      "[I 2025-01-28 16:15:29,482] Trial 2 finished with value: 0.25006922952395955 and parameters: {'learning_rate': 0.03538453590906552, 'max_depth': 5, 'n_estimators': 643, 'gamma': 0.1229607110732571}. Best is trial 0 with value: 0.2201470494912873.\n",
      "Saving results to '../../../Data/training-data-POC-countries/rom_results/Colombia~2024-04~2024-07/v07-test/10,43'\n",
      "Colombia\n"
     ]
    },
    {
     "data": {
      "application/vnd.jupyter.widget-view+json": {
       "model_id": "32287ba41fd04018b031d64634f36f82",
       "version_major": 2,
       "version_minor": 0
      },
      "text/plain": "  0%|          | 0/1287 [00:00<?, ?it/s]"
     },
     "metadata": {},
     "output_type": "display_data"
    },
    {
     "data": {
      "text/html": "<div>\n<style scoped>\n    .dataframe tbody tr th:only-of-type {\n        vertical-align: middle;\n    }\n\n    .dataframe tbody tr th {\n        vertical-align: top;\n    }\n\n    .dataframe thead th {\n        text-align: right;\n    }\n</style>\n<table border=\"1\" class=\"dataframe\">\n  <thead>\n    <tr style=\"text-align: right;\">\n      <th></th>\n      <th>real_discount</th>\n      <th>pub_rev</th>\n      <th>accepted</th>\n      <th>real_rev</th>\n      <th>rom_discount</th>\n      <th>rom_pa</th>\n      <th>rom_exp_rev</th>\n      <th>rom_discount_4_low</th>\n      <th>rom_discount_4_mid</th>\n      <th>rom_discount_4_high</th>\n      <th>rom_discount_6_low</th>\n      <th>rom_discount_6_mid</th>\n      <th>rom_discount_6_high</th>\n      <th>rom_discount_8_low</th>\n      <th>rom_discount_8_mid</th>\n      <th>rom_discount_8_high</th>\n      <th>rom_diff</th>\n    </tr>\n  </thead>\n  <tbody>\n    <tr>\n      <th>21353</th>\n      <td>47.000078</td>\n      <td>3590.76</td>\n      <td>1</td>\n      <td>1903.10</td>\n      <td>40</td>\n      <td>0.856419</td>\n      <td>0.513851</td>\n      <td>40</td>\n      <td>42.5</td>\n      <td>45</td>\n      <td>38</td>\n      <td>42.0</td>\n      <td>46</td>\n      <td>38</td>\n      <td>44.0</td>\n      <td>50</td>\n      <td>-7.000078</td>\n    </tr>\n    <tr>\n      <th>21354</th>\n      <td>46.999892</td>\n      <td>3424.71</td>\n      <td>1</td>\n      <td>1815.10</td>\n      <td>50</td>\n      <td>0.949828</td>\n      <td>0.474914</td>\n      <td>45</td>\n      <td>48.0</td>\n      <td>51</td>\n      <td>45</td>\n      <td>48.5</td>\n      <td>52</td>\n      <td>45</td>\n      <td>49.0</td>\n      <td>53</td>\n      <td>3.000108</td>\n    </tr>\n    <tr>\n      <th>21355</th>\n      <td>55.999976</td>\n      <td>3284.18</td>\n      <td>1</td>\n      <td>1445.04</td>\n      <td>45</td>\n      <td>0.904620</td>\n      <td>0.497541</td>\n      <td>45</td>\n      <td>47.5</td>\n      <td>50</td>\n      <td>40</td>\n      <td>46.0</td>\n      <td>52</td>\n      <td>40</td>\n      <td>46.5</td>\n      <td>53</td>\n      <td>-10.999976</td>\n    </tr>\n    <tr>\n      <th>21358</th>\n      <td>50.000000</td>\n      <td>3247.02</td>\n      <td>1</td>\n      <td>1623.51</td>\n      <td>50</td>\n      <td>0.952143</td>\n      <td>0.476072</td>\n      <td>50</td>\n      <td>50.5</td>\n      <td>51</td>\n      <td>50</td>\n      <td>51.0</td>\n      <td>52</td>\n      <td>50</td>\n      <td>51.5</td>\n      <td>53</td>\n      <td>0.000000</td>\n    </tr>\n    <tr>\n      <th>21359</th>\n      <td>50.000000</td>\n      <td>3035.40</td>\n      <td>1</td>\n      <td>1517.70</td>\n      <td>50</td>\n      <td>0.808053</td>\n      <td>0.404027</td>\n      <td>50</td>\n      <td>50.5</td>\n      <td>51</td>\n      <td>50</td>\n      <td>51.0</td>\n      <td>52</td>\n      <td>50</td>\n      <td>51.5</td>\n      <td>53</td>\n      <td>0.000000</td>\n    </tr>\n    <tr>\n      <th>...</th>\n      <td>...</td>\n      <td>...</td>\n      <td>...</td>\n      <td>...</td>\n      <td>...</td>\n      <td>...</td>\n      <td>...</td>\n      <td>...</td>\n      <td>...</td>\n      <td>...</td>\n      <td>...</td>\n      <td>...</td>\n      <td>...</td>\n      <td>...</td>\n      <td>...</td>\n      <td>...</td>\n      <td>...</td>\n    </tr>\n    <tr>\n      <th>23390</th>\n      <td>39.999703</td>\n      <td>2696.22</td>\n      <td>1</td>\n      <td>1617.74</td>\n      <td>50</td>\n      <td>0.930828</td>\n      <td>0.465414</td>\n      <td>50</td>\n      <td>50.5</td>\n      <td>51</td>\n      <td>45</td>\n      <td>48.5</td>\n      <td>52</td>\n      <td>40</td>\n      <td>46.5</td>\n      <td>53</td>\n      <td>10.000297</td>\n    </tr>\n    <tr>\n      <th>23391</th>\n      <td>71.061244</td>\n      <td>1155.06</td>\n      <td>1</td>\n      <td>334.26</td>\n      <td>50</td>\n      <td>0.889793</td>\n      <td>0.444897</td>\n      <td>50</td>\n      <td>51.0</td>\n      <td>52</td>\n      <td>50</td>\n      <td>51.5</td>\n      <td>53</td>\n      <td>50</td>\n      <td>52.0</td>\n      <td>54</td>\n      <td>-21.061244</td>\n    </tr>\n    <tr>\n      <th>23392</th>\n      <td>29.998697</td>\n      <td>614.16</td>\n      <td>1</td>\n      <td>429.92</td>\n      <td>40</td>\n      <td>0.949289</td>\n      <td>0.569574</td>\n      <td>38</td>\n      <td>40.0</td>\n      <td>42</td>\n      <td>35</td>\n      <td>39.0</td>\n      <td>43</td>\n      <td>34</td>\n      <td>39.0</td>\n      <td>44</td>\n      <td>10.001303</td>\n    </tr>\n    <tr>\n      <th>23393</th>\n      <td>39.999703</td>\n      <td>2696.22</td>\n      <td>1</td>\n      <td>1617.74</td>\n      <td>40</td>\n      <td>0.808174</td>\n      <td>0.484904</td>\n      <td>40</td>\n      <td>45.0</td>\n      <td>50</td>\n      <td>40</td>\n      <td>45.5</td>\n      <td>51</td>\n      <td>40</td>\n      <td>46.0</td>\n      <td>52</td>\n      <td>0.000297</td>\n    </tr>\n    <tr>\n      <th>23394</th>\n      <td>55.000291</td>\n      <td>1031.74</td>\n      <td>1</td>\n      <td>464.28</td>\n      <td>40</td>\n      <td>0.963554</td>\n      <td>0.578133</td>\n      <td>34</td>\n      <td>38.0</td>\n      <td>42</td>\n      <td>30</td>\n      <td>36.5</td>\n      <td>43</td>\n      <td>30</td>\n      <td>37.5</td>\n      <td>45</td>\n      <td>-15.000291</td>\n    </tr>\n  </tbody>\n</table>\n<p>1287 rows × 17 columns</p>\n</div>",
      "text/plain": "       real_discount  pub_rev  accepted  real_rev  rom_discount    rom_pa  \\\n21353      47.000078  3590.76         1   1903.10            40  0.856419   \n21354      46.999892  3424.71         1   1815.10            50  0.949828   \n21355      55.999976  3284.18         1   1445.04            45  0.904620   \n21358      50.000000  3247.02         1   1623.51            50  0.952143   \n21359      50.000000  3035.40         1   1517.70            50  0.808053   \n...              ...      ...       ...       ...           ...       ...   \n23390      39.999703  2696.22         1   1617.74            50  0.930828   \n23391      71.061244  1155.06         1    334.26            50  0.889793   \n23392      29.998697   614.16         1    429.92            40  0.949289   \n23393      39.999703  2696.22         1   1617.74            40  0.808174   \n23394      55.000291  1031.74         1    464.28            40  0.963554   \n\n       rom_exp_rev  rom_discount_4_low  rom_discount_4_mid  \\\n21353     0.513851                  40                42.5   \n21354     0.474914                  45                48.0   \n21355     0.497541                  45                47.5   \n21358     0.476072                  50                50.5   \n21359     0.404027                  50                50.5   \n...            ...                 ...                 ...   \n23390     0.465414                  50                50.5   \n23391     0.444897                  50                51.0   \n23392     0.569574                  38                40.0   \n23393     0.484904                  40                45.0   \n23394     0.578133                  34                38.0   \n\n       rom_discount_4_high  rom_discount_6_low  rom_discount_6_mid  \\\n21353                   45                  38                42.0   \n21354                   51                  45                48.5   \n21355                   50                  40                46.0   \n21358                   51                  50                51.0   \n21359                   51                  50                51.0   \n...                    ...                 ...                 ...   \n23390                   51                  45                48.5   \n23391                   52                  50                51.5   \n23392                   42                  35                39.0   \n23393                   50                  40                45.5   \n23394                   42                  30                36.5   \n\n       rom_discount_6_high  rom_discount_8_low  rom_discount_8_mid  \\\n21353                   46                  38                44.0   \n21354                   52                  45                49.0   \n21355                   52                  40                46.5   \n21358                   52                  50                51.5   \n21359                   52                  50                51.5   \n...                    ...                 ...                 ...   \n23390                   52                  40                46.5   \n23391                   53                  50                52.0   \n23392                   43                  34                39.0   \n23393                   51                  40                46.0   \n23394                   43                  30                37.5   \n\n       rom_discount_8_high   rom_diff  \n21353                   50  -7.000078  \n21354                   53   3.000108  \n21355                   53 -10.999976  \n21358                   53   0.000000  \n21359                   53   0.000000  \n...                    ...        ...  \n23390                   53  10.000297  \n23391                   54 -21.061244  \n23392                   44  10.001303  \n23393                   52   0.000297  \n23394                   45 -15.000291  \n\n[1287 rows x 17 columns]"
     },
     "metadata": {},
     "output_type": "display_data"
    },
    {
     "data": {
      "text/markdown": "\n\n**^^^^^^^^^^^^^^^^^^^^^^^^^^^^^^ Colombia (1/6) - 11,19 (4/5) ^^^^^^^^^^^^^^^^^^^^^^^^^^^^^^**\n\n",
      "text/plain": "<IPython.core.display.Markdown object>"
     },
     "metadata": {},
     "output_type": "display_data"
    },
    {
     "name": "stdout",
     "output_type": "stream",
     "text": [
      "('2023-10-01', '2024-04-01', '2024-04-01', '2024-07-01')\n",
      "Train data shape: (2626, 137)\n",
      "Test data shape: (1287, 137)\n"
     ]
    },
    {
     "name": "stderr",
     "output_type": "stream",
     "text": [
      "[I 2025-01-28 16:15:41,569] A new study created in memory with name: no-name-be9ec0ce-684e-4e3c-83bd-07501f64b376\n"
     ]
    },
    {
     "name": "stdout",
     "output_type": "stream",
     "text": [
      "before/after aug (2626, 137) (7799, 137)\n"
     ]
    },
    {
     "data": {
      "application/vnd.jupyter.widget-view+json": {
       "model_id": "c8e929762a6e4b16b16613b9de8f42e3",
       "version_major": 2,
       "version_minor": 0
      },
      "text/plain": "  0%|          | 0/3 [00:00<?, ?it/s]"
     },
     "metadata": {},
     "output_type": "display_data"
    },
    {
     "name": "stdout",
     "output_type": "stream",
     "text": [
      "[I 2025-01-28 16:15:47,318] Trial 0 finished with value: 0.31704141215396126 and parameters: {'learning_rate': 0.01087080185549562, 'max_depth': 4, 'n_estimators': 729, 'gamma': 0.01123506477003016}. Best is trial 0 with value: 0.31704141215396126.\n",
      "[I 2025-01-28 16:15:55,747] Trial 1 finished with value: 0.30852149976706433 and parameters: {'learning_rate': 0.02230934569621654, 'max_depth': 6, 'n_estimators': 721, 'gamma': 0.05498659253091755}. Best is trial 1 with value: 0.30852149976706433.\n",
      "[I 2025-01-28 16:16:02,013] Trial 2 finished with value: 0.3093985064954107 and parameters: {'learning_rate': 0.03538453590906552, 'max_depth': 5, 'n_estimators': 643, 'gamma': 0.1229607110732571}. Best is trial 1 with value: 0.30852149976706433.\n",
      "Saving results to '../../../Data/training-data-POC-countries/rom_results/Colombia~2024-04~2024-07/v07-test/11,19'\n",
      "Colombia\n"
     ]
    },
    {
     "data": {
      "application/vnd.jupyter.widget-view+json": {
       "model_id": "c58a37b3a0f8454a9971702e5c716ed9",
       "version_major": 2,
       "version_minor": 0
      },
      "text/plain": "  0%|          | 0/1287 [00:00<?, ?it/s]"
     },
     "metadata": {},
     "output_type": "display_data"
    },
    {
     "data": {
      "text/html": "<div>\n<style scoped>\n    .dataframe tbody tr th:only-of-type {\n        vertical-align: middle;\n    }\n\n    .dataframe tbody tr th {\n        vertical-align: top;\n    }\n\n    .dataframe thead th {\n        text-align: right;\n    }\n</style>\n<table border=\"1\" class=\"dataframe\">\n  <thead>\n    <tr style=\"text-align: right;\">\n      <th></th>\n      <th>real_discount</th>\n      <th>pub_rev</th>\n      <th>accepted</th>\n      <th>real_rev</th>\n      <th>rom_discount</th>\n      <th>rom_pa</th>\n      <th>rom_exp_rev</th>\n      <th>rom_discount_4_low</th>\n      <th>rom_discount_4_mid</th>\n      <th>rom_discount_4_high</th>\n      <th>rom_discount_6_low</th>\n      <th>rom_discount_6_mid</th>\n      <th>rom_discount_6_high</th>\n      <th>rom_discount_8_low</th>\n      <th>rom_discount_8_mid</th>\n      <th>rom_discount_8_high</th>\n      <th>rom_diff</th>\n    </tr>\n  </thead>\n  <tbody>\n    <tr>\n      <th>21353</th>\n      <td>47.000078</td>\n      <td>3590.76</td>\n      <td>1</td>\n      <td>1903.10</td>\n      <td>50</td>\n      <td>0.958926</td>\n      <td>0.479463</td>\n      <td>50</td>\n      <td>50.0</td>\n      <td>50</td>\n      <td>50</td>\n      <td>50.0</td>\n      <td>50</td>\n      <td>50</td>\n      <td>50.0</td>\n      <td>50</td>\n      <td>2.999922</td>\n    </tr>\n    <tr>\n      <th>21354</th>\n      <td>46.999892</td>\n      <td>3424.71</td>\n      <td>1</td>\n      <td>1815.10</td>\n      <td>50</td>\n      <td>0.918018</td>\n      <td>0.459009</td>\n      <td>50</td>\n      <td>50.0</td>\n      <td>50</td>\n      <td>50</td>\n      <td>52.5</td>\n      <td>55</td>\n      <td>50</td>\n      <td>52.5</td>\n      <td>55</td>\n      <td>3.000108</td>\n    </tr>\n    <tr>\n      <th>21355</th>\n      <td>55.999976</td>\n      <td>3284.18</td>\n      <td>1</td>\n      <td>1445.04</td>\n      <td>50</td>\n      <td>0.937470</td>\n      <td>0.468735</td>\n      <td>50</td>\n      <td>50.0</td>\n      <td>50</td>\n      <td>50</td>\n      <td>50.0</td>\n      <td>50</td>\n      <td>50</td>\n      <td>52.5</td>\n      <td>55</td>\n      <td>-5.999976</td>\n    </tr>\n    <tr>\n      <th>21358</th>\n      <td>50.000000</td>\n      <td>3247.02</td>\n      <td>1</td>\n      <td>1623.51</td>\n      <td>50</td>\n      <td>0.917454</td>\n      <td>0.458727</td>\n      <td>50</td>\n      <td>50.0</td>\n      <td>50</td>\n      <td>50</td>\n      <td>50.0</td>\n      <td>50</td>\n      <td>50</td>\n      <td>52.5</td>\n      <td>55</td>\n      <td>0.000000</td>\n    </tr>\n    <tr>\n      <th>21359</th>\n      <td>50.000000</td>\n      <td>3035.40</td>\n      <td>1</td>\n      <td>1517.70</td>\n      <td>50</td>\n      <td>0.968028</td>\n      <td>0.484014</td>\n      <td>50</td>\n      <td>50.0</td>\n      <td>50</td>\n      <td>50</td>\n      <td>50.0</td>\n      <td>50</td>\n      <td>50</td>\n      <td>50.0</td>\n      <td>50</td>\n      <td>0.000000</td>\n    </tr>\n    <tr>\n      <th>...</th>\n      <td>...</td>\n      <td>...</td>\n      <td>...</td>\n      <td>...</td>\n      <td>...</td>\n      <td>...</td>\n      <td>...</td>\n      <td>...</td>\n      <td>...</td>\n      <td>...</td>\n      <td>...</td>\n      <td>...</td>\n      <td>...</td>\n      <td>...</td>\n      <td>...</td>\n      <td>...</td>\n      <td>...</td>\n    </tr>\n    <tr>\n      <th>23390</th>\n      <td>39.999703</td>\n      <td>2696.22</td>\n      <td>1</td>\n      <td>1617.74</td>\n      <td>50</td>\n      <td>0.918352</td>\n      <td>0.459176</td>\n      <td>50</td>\n      <td>50.0</td>\n      <td>50</td>\n      <td>50</td>\n      <td>50.0</td>\n      <td>50</td>\n      <td>50</td>\n      <td>52.5</td>\n      <td>55</td>\n      <td>10.000297</td>\n    </tr>\n    <tr>\n      <th>23391</th>\n      <td>71.061244</td>\n      <td>1155.06</td>\n      <td>1</td>\n      <td>334.26</td>\n      <td>50</td>\n      <td>0.786064</td>\n      <td>0.393032</td>\n      <td>50</td>\n      <td>50.0</td>\n      <td>50</td>\n      <td>50</td>\n      <td>52.5</td>\n      <td>55</td>\n      <td>50</td>\n      <td>52.5</td>\n      <td>55</td>\n      <td>-21.061244</td>\n    </tr>\n    <tr>\n      <th>23392</th>\n      <td>29.998697</td>\n      <td>614.16</td>\n      <td>1</td>\n      <td>429.92</td>\n      <td>40</td>\n      <td>0.951922</td>\n      <td>0.571153</td>\n      <td>40</td>\n      <td>40.0</td>\n      <td>40</td>\n      <td>40</td>\n      <td>40.5</td>\n      <td>41</td>\n      <td>40</td>\n      <td>42.5</td>\n      <td>45</td>\n      <td>10.001303</td>\n    </tr>\n    <tr>\n      <th>23393</th>\n      <td>39.999703</td>\n      <td>2696.22</td>\n      <td>1</td>\n      <td>1617.74</td>\n      <td>50</td>\n      <td>0.956837</td>\n      <td>0.478419</td>\n      <td>50</td>\n      <td>50.0</td>\n      <td>50</td>\n      <td>50</td>\n      <td>50.5</td>\n      <td>51</td>\n      <td>50</td>\n      <td>50.5</td>\n      <td>51</td>\n      <td>10.000297</td>\n    </tr>\n    <tr>\n      <th>23394</th>\n      <td>55.000291</td>\n      <td>1031.74</td>\n      <td>1</td>\n      <td>464.28</td>\n      <td>30</td>\n      <td>0.840110</td>\n      <td>0.588077</td>\n      <td>30</td>\n      <td>30.0</td>\n      <td>30</td>\n      <td>30</td>\n      <td>35.0</td>\n      <td>40</td>\n      <td>30</td>\n      <td>35.0</td>\n      <td>40</td>\n      <td>-25.000291</td>\n    </tr>\n  </tbody>\n</table>\n<p>1287 rows × 17 columns</p>\n</div>",
      "text/plain": "       real_discount  pub_rev  accepted  real_rev  rom_discount    rom_pa  \\\n21353      47.000078  3590.76         1   1903.10            50  0.958926   \n21354      46.999892  3424.71         1   1815.10            50  0.918018   \n21355      55.999976  3284.18         1   1445.04            50  0.937470   \n21358      50.000000  3247.02         1   1623.51            50  0.917454   \n21359      50.000000  3035.40         1   1517.70            50  0.968028   \n...              ...      ...       ...       ...           ...       ...   \n23390      39.999703  2696.22         1   1617.74            50  0.918352   \n23391      71.061244  1155.06         1    334.26            50  0.786064   \n23392      29.998697   614.16         1    429.92            40  0.951922   \n23393      39.999703  2696.22         1   1617.74            50  0.956837   \n23394      55.000291  1031.74         1    464.28            30  0.840110   \n\n       rom_exp_rev  rom_discount_4_low  rom_discount_4_mid  \\\n21353     0.479463                  50                50.0   \n21354     0.459009                  50                50.0   \n21355     0.468735                  50                50.0   \n21358     0.458727                  50                50.0   \n21359     0.484014                  50                50.0   \n...            ...                 ...                 ...   \n23390     0.459176                  50                50.0   \n23391     0.393032                  50                50.0   \n23392     0.571153                  40                40.0   \n23393     0.478419                  50                50.0   \n23394     0.588077                  30                30.0   \n\n       rom_discount_4_high  rom_discount_6_low  rom_discount_6_mid  \\\n21353                   50                  50                50.0   \n21354                   50                  50                52.5   \n21355                   50                  50                50.0   \n21358                   50                  50                50.0   \n21359                   50                  50                50.0   \n...                    ...                 ...                 ...   \n23390                   50                  50                50.0   \n23391                   50                  50                52.5   \n23392                   40                  40                40.5   \n23393                   50                  50                50.5   \n23394                   30                  30                35.0   \n\n       rom_discount_6_high  rom_discount_8_low  rom_discount_8_mid  \\\n21353                   50                  50                50.0   \n21354                   55                  50                52.5   \n21355                   50                  50                52.5   \n21358                   50                  50                52.5   \n21359                   50                  50                50.0   \n...                    ...                 ...                 ...   \n23390                   50                  50                52.5   \n23391                   55                  50                52.5   \n23392                   41                  40                42.5   \n23393                   51                  50                50.5   \n23394                   40                  30                35.0   \n\n       rom_discount_8_high   rom_diff  \n21353                   50   2.999922  \n21354                   55   3.000108  \n21355                   55  -5.999976  \n21358                   55   0.000000  \n21359                   50   0.000000  \n...                    ...        ...  \n23390                   55  10.000297  \n23391                   55 -21.061244  \n23392                   45  10.001303  \n23393                   51  10.000297  \n23394                   40 -25.000291  \n\n[1287 rows x 17 columns]"
     },
     "metadata": {},
     "output_type": "display_data"
    },
    {
     "data": {
      "text/markdown": "\n\n**^^^^^^^^^^^^^^^^^^^^^^^^^^^^^^ Colombia (1/6) - 14,28 (5/5) ^^^^^^^^^^^^^^^^^^^^^^^^^^^^^^**\n\n",
      "text/plain": "<IPython.core.display.Markdown object>"
     },
     "metadata": {},
     "output_type": "display_data"
    },
    {
     "name": "stdout",
     "output_type": "stream",
     "text": [
      "('2023-10-01', '2024-04-01', '2024-04-01', '2024-07-01')\n",
      "Train data shape: (2626, 137)\n",
      "Test data shape: (1287, 137)\n"
     ]
    },
    {
     "name": "stderr",
     "output_type": "stream",
     "text": [
      "[I 2025-01-28 16:16:14,958] A new study created in memory with name: no-name-6aa69424-ccf0-4715-9c39-ecacdd5c5b8a\n"
     ]
    },
    {
     "name": "stdout",
     "output_type": "stream",
     "text": [
      "before/after aug (2626, 137) (7726, 137)\n"
     ]
    },
    {
     "data": {
      "application/vnd.jupyter.widget-view+json": {
       "model_id": "fba2a3d5094e4a618c392a1fde2e7bb9",
       "version_major": 2,
       "version_minor": 0
      },
      "text/plain": "  0%|          | 0/3 [00:00<?, ?it/s]"
     },
     "metadata": {},
     "output_type": "display_data"
    },
    {
     "name": "stdout",
     "output_type": "stream",
     "text": [
      "[I 2025-01-28 16:16:20,752] Trial 0 finished with value: 0.23916280801896422 and parameters: {'learning_rate': 0.01087080185549562, 'max_depth': 4, 'n_estimators': 729, 'gamma': 0.01123506477003016}. Best is trial 0 with value: 0.23916280801896422.\n",
      "[I 2025-01-28 16:16:29,192] Trial 1 finished with value: 0.2363351941532536 and parameters: {'learning_rate': 0.02230934569621654, 'max_depth': 6, 'n_estimators': 721, 'gamma': 0.05498659253091755}. Best is trial 1 with value: 0.2363351941532536.\n",
      "[I 2025-01-28 16:16:35,457] Trial 2 finished with value: 0.23831427022161084 and parameters: {'learning_rate': 0.03538453590906552, 'max_depth': 5, 'n_estimators': 643, 'gamma': 0.1229607110732571}. Best is trial 1 with value: 0.2363351941532536.\n",
      "Saving results to '../../../Data/training-data-POC-countries/rom_results/Colombia~2024-04~2024-07/v07-test/14,28'\n",
      "Colombia\n"
     ]
    },
    {
     "data": {
      "application/vnd.jupyter.widget-view+json": {
       "model_id": "0bf2dca3af3d4a9b9691dd562c4c1172",
       "version_major": 2,
       "version_minor": 0
      },
      "text/plain": "  0%|          | 0/1287 [00:00<?, ?it/s]"
     },
     "metadata": {},
     "output_type": "display_data"
    },
    {
     "data": {
      "text/html": "<div>\n<style scoped>\n    .dataframe tbody tr th:only-of-type {\n        vertical-align: middle;\n    }\n\n    .dataframe tbody tr th {\n        vertical-align: top;\n    }\n\n    .dataframe thead th {\n        text-align: right;\n    }\n</style>\n<table border=\"1\" class=\"dataframe\">\n  <thead>\n    <tr style=\"text-align: right;\">\n      <th></th>\n      <th>real_discount</th>\n      <th>pub_rev</th>\n      <th>accepted</th>\n      <th>real_rev</th>\n      <th>rom_discount</th>\n      <th>rom_pa</th>\n      <th>rom_exp_rev</th>\n      <th>rom_discount_4_low</th>\n      <th>rom_discount_4_mid</th>\n      <th>rom_discount_4_high</th>\n      <th>rom_discount_6_low</th>\n      <th>rom_discount_6_mid</th>\n      <th>rom_discount_6_high</th>\n      <th>rom_discount_8_low</th>\n      <th>rom_discount_8_mid</th>\n      <th>rom_discount_8_high</th>\n      <th>rom_diff</th>\n    </tr>\n  </thead>\n  <tbody>\n    <tr>\n      <th>21353</th>\n      <td>47.000078</td>\n      <td>3590.76</td>\n      <td>1</td>\n      <td>1903.10</td>\n      <td>49</td>\n      <td>0.969296</td>\n      <td>0.494341</td>\n      <td>48</td>\n      <td>49.0</td>\n      <td>50</td>\n      <td>45</td>\n      <td>47.5</td>\n      <td>50</td>\n      <td>44</td>\n      <td>47.5</td>\n      <td>51</td>\n      <td>1.999922</td>\n    </tr>\n    <tr>\n      <th>21354</th>\n      <td>46.999892</td>\n      <td>3424.71</td>\n      <td>1</td>\n      <td>1815.10</td>\n      <td>50</td>\n      <td>0.968378</td>\n      <td>0.484189</td>\n      <td>49</td>\n      <td>49.5</td>\n      <td>50</td>\n      <td>49</td>\n      <td>49.5</td>\n      <td>50</td>\n      <td>49</td>\n      <td>49.5</td>\n      <td>50</td>\n      <td>3.000108</td>\n    </tr>\n    <tr>\n      <th>21355</th>\n      <td>55.999976</td>\n      <td>3284.18</td>\n      <td>1</td>\n      <td>1445.04</td>\n      <td>49</td>\n      <td>0.973739</td>\n      <td>0.496607</td>\n      <td>49</td>\n      <td>49.5</td>\n      <td>50</td>\n      <td>49</td>\n      <td>49.5</td>\n      <td>50</td>\n      <td>49</td>\n      <td>50.0</td>\n      <td>51</td>\n      <td>-6.999976</td>\n    </tr>\n    <tr>\n      <th>21358</th>\n      <td>50.000000</td>\n      <td>3247.02</td>\n      <td>1</td>\n      <td>1623.51</td>\n      <td>50</td>\n      <td>0.939428</td>\n      <td>0.469714</td>\n      <td>49</td>\n      <td>49.5</td>\n      <td>50</td>\n      <td>49</td>\n      <td>49.5</td>\n      <td>50</td>\n      <td>49</td>\n      <td>49.5</td>\n      <td>50</td>\n      <td>0.000000</td>\n    </tr>\n    <tr>\n      <th>21359</th>\n      <td>50.000000</td>\n      <td>3035.40</td>\n      <td>1</td>\n      <td>1517.70</td>\n      <td>50</td>\n      <td>0.961216</td>\n      <td>0.480608</td>\n      <td>50</td>\n      <td>50.0</td>\n      <td>50</td>\n      <td>49</td>\n      <td>49.5</td>\n      <td>50</td>\n      <td>49</td>\n      <td>50.0</td>\n      <td>51</td>\n      <td>0.000000</td>\n    </tr>\n    <tr>\n      <th>...</th>\n      <td>...</td>\n      <td>...</td>\n      <td>...</td>\n      <td>...</td>\n      <td>...</td>\n      <td>...</td>\n      <td>...</td>\n      <td>...</td>\n      <td>...</td>\n      <td>...</td>\n      <td>...</td>\n      <td>...</td>\n      <td>...</td>\n      <td>...</td>\n      <td>...</td>\n      <td>...</td>\n      <td>...</td>\n    </tr>\n    <tr>\n      <th>23390</th>\n      <td>39.999703</td>\n      <td>2696.22</td>\n      <td>1</td>\n      <td>1617.74</td>\n      <td>50</td>\n      <td>0.952120</td>\n      <td>0.476060</td>\n      <td>49</td>\n      <td>49.5</td>\n      <td>50</td>\n      <td>49</td>\n      <td>49.5</td>\n      <td>50</td>\n      <td>49</td>\n      <td>49.5</td>\n      <td>50</td>\n      <td>10.000297</td>\n    </tr>\n    <tr>\n      <th>23391</th>\n      <td>71.061244</td>\n      <td>1155.06</td>\n      <td>1</td>\n      <td>334.26</td>\n      <td>59</td>\n      <td>0.850373</td>\n      <td>0.348653</td>\n      <td>59</td>\n      <td>61.5</td>\n      <td>64</td>\n      <td>59</td>\n      <td>61.5</td>\n      <td>64</td>\n      <td>59</td>\n      <td>62.0</td>\n      <td>65</td>\n      <td>-12.061244</td>\n    </tr>\n    <tr>\n      <th>23392</th>\n      <td>29.998697</td>\n      <td>614.16</td>\n      <td>1</td>\n      <td>429.92</td>\n      <td>35</td>\n      <td>0.942580</td>\n      <td>0.612677</td>\n      <td>35</td>\n      <td>35.0</td>\n      <td>35</td>\n      <td>35</td>\n      <td>37.5</td>\n      <td>40</td>\n      <td>34</td>\n      <td>37.0</td>\n      <td>40</td>\n      <td>5.001303</td>\n    </tr>\n    <tr>\n      <th>23393</th>\n      <td>39.999703</td>\n      <td>2696.22</td>\n      <td>1</td>\n      <td>1617.74</td>\n      <td>40</td>\n      <td>0.855127</td>\n      <td>0.513076</td>\n      <td>40</td>\n      <td>44.5</td>\n      <td>49</td>\n      <td>40</td>\n      <td>45.0</td>\n      <td>50</td>\n      <td>40</td>\n      <td>45.0</td>\n      <td>50</td>\n      <td>0.000297</td>\n    </tr>\n    <tr>\n      <th>23394</th>\n      <td>55.000291</td>\n      <td>1031.74</td>\n      <td>1</td>\n      <td>464.28</td>\n      <td>35</td>\n      <td>0.860806</td>\n      <td>0.559524</td>\n      <td>35</td>\n      <td>35.0</td>\n      <td>35</td>\n      <td>35</td>\n      <td>35.0</td>\n      <td>35</td>\n      <td>35</td>\n      <td>40.0</td>\n      <td>45</td>\n      <td>-20.000291</td>\n    </tr>\n  </tbody>\n</table>\n<p>1287 rows × 17 columns</p>\n</div>",
      "text/plain": "       real_discount  pub_rev  accepted  real_rev  rom_discount    rom_pa  \\\n21353      47.000078  3590.76         1   1903.10            49  0.969296   \n21354      46.999892  3424.71         1   1815.10            50  0.968378   \n21355      55.999976  3284.18         1   1445.04            49  0.973739   \n21358      50.000000  3247.02         1   1623.51            50  0.939428   \n21359      50.000000  3035.40         1   1517.70            50  0.961216   \n...              ...      ...       ...       ...           ...       ...   \n23390      39.999703  2696.22         1   1617.74            50  0.952120   \n23391      71.061244  1155.06         1    334.26            59  0.850373   \n23392      29.998697   614.16         1    429.92            35  0.942580   \n23393      39.999703  2696.22         1   1617.74            40  0.855127   \n23394      55.000291  1031.74         1    464.28            35  0.860806   \n\n       rom_exp_rev  rom_discount_4_low  rom_discount_4_mid  \\\n21353     0.494341                  48                49.0   \n21354     0.484189                  49                49.5   \n21355     0.496607                  49                49.5   \n21358     0.469714                  49                49.5   \n21359     0.480608                  50                50.0   \n...            ...                 ...                 ...   \n23390     0.476060                  49                49.5   \n23391     0.348653                  59                61.5   \n23392     0.612677                  35                35.0   \n23393     0.513076                  40                44.5   \n23394     0.559524                  35                35.0   \n\n       rom_discount_4_high  rom_discount_6_low  rom_discount_6_mid  \\\n21353                   50                  45                47.5   \n21354                   50                  49                49.5   \n21355                   50                  49                49.5   \n21358                   50                  49                49.5   \n21359                   50                  49                49.5   \n...                    ...                 ...                 ...   \n23390                   50                  49                49.5   \n23391                   64                  59                61.5   \n23392                   35                  35                37.5   \n23393                   49                  40                45.0   \n23394                   35                  35                35.0   \n\n       rom_discount_6_high  rom_discount_8_low  rom_discount_8_mid  \\\n21353                   50                  44                47.5   \n21354                   50                  49                49.5   \n21355                   50                  49                50.0   \n21358                   50                  49                49.5   \n21359                   50                  49                50.0   \n...                    ...                 ...                 ...   \n23390                   50                  49                49.5   \n23391                   64                  59                62.0   \n23392                   40                  34                37.0   \n23393                   50                  40                45.0   \n23394                   35                  35                40.0   \n\n       rom_discount_8_high   rom_diff  \n21353                   51   1.999922  \n21354                   50   3.000108  \n21355                   51  -6.999976  \n21358                   50   0.000000  \n21359                   51   0.000000  \n...                    ...        ...  \n23390                   50  10.000297  \n23391                   65 -12.061244  \n23392                   40   5.001303  \n23393                   50   0.000297  \n23394                   45 -20.000291  \n\n[1287 rows x 17 columns]"
     },
     "metadata": {},
     "output_type": "display_data"
    },
    {
     "data": {
      "text/markdown": "\n\n**^^^^^^^^^^^^^^^^^^^^^^^^^^^^^^ Czech_Republic (2/6) - 08,26 (1/5) ^^^^^^^^^^^^^^^^^^^^^^^^^^^^^^**\n\n",
      "text/plain": "<IPython.core.display.Markdown object>"
     },
     "metadata": {},
     "output_type": "display_data"
    },
    {
     "name": "stdout",
     "output_type": "stream",
     "text": [
      "('2023-10-01', '2024-04-01', '2024-04-01', '2024-07-01')\n",
      "Train data shape: (4510, 138)\n",
      "Test data shape: (2067, 138)\n"
     ]
    },
    {
     "name": "stderr",
     "output_type": "stream",
     "text": [
      "[I 2025-01-28 16:16:48,650] A new study created in memory with name: no-name-e14d1fdf-4888-4208-b7a7-4b7d6ad3681d\n"
     ]
    },
    {
     "name": "stdout",
     "output_type": "stream",
     "text": [
      "before/after aug (4510, 138) (13310, 138)\n"
     ]
    },
    {
     "data": {
      "application/vnd.jupyter.widget-view+json": {
       "model_id": "7337efdc387e46ad803e67868a86f167",
       "version_major": 2,
       "version_minor": 0
      },
      "text/plain": "  0%|          | 0/3 [00:00<?, ?it/s]"
     },
     "metadata": {},
     "output_type": "display_data"
    },
    {
     "name": "stdout",
     "output_type": "stream",
     "text": [
      "[I 2025-01-28 16:16:55,262] Trial 0 finished with value: 0.22801849335425528 and parameters: {'learning_rate': 0.01087080185549562, 'max_depth': 4, 'n_estimators': 729, 'gamma': 0.01123506477003016}. Best is trial 0 with value: 0.22801849335425528.\n",
      "[I 2025-01-28 16:17:04,386] Trial 1 finished with value: 0.21735700139581313 and parameters: {'learning_rate': 0.02230934569621654, 'max_depth': 6, 'n_estimators': 721, 'gamma': 0.05498659253091755}. Best is trial 1 with value: 0.21735700139581313.\n",
      "[I 2025-01-28 16:17:11,405] Trial 2 finished with value: 0.21654563412196476 and parameters: {'learning_rate': 0.03538453590906552, 'max_depth': 5, 'n_estimators': 643, 'gamma': 0.1229607110732571}. Best is trial 2 with value: 0.21654563412196476.\n",
      "Saving results to '../../../Data/training-data-POC-countries/rom_results/Czech_Republic~2024-04~2024-07/v07-test/08,26'\n",
      "Czech_Republic\n"
     ]
    },
    {
     "data": {
      "application/vnd.jupyter.widget-view+json": {
       "model_id": "e042d6022d274ed885a70cc820162179",
       "version_major": 2,
       "version_minor": 0
      },
      "text/plain": "  0%|          | 0/2067 [00:00<?, ?it/s]"
     },
     "metadata": {},
     "output_type": "display_data"
    },
    {
     "data": {
      "text/html": "<div>\n<style scoped>\n    .dataframe tbody tr th:only-of-type {\n        vertical-align: middle;\n    }\n\n    .dataframe tbody tr th {\n        vertical-align: top;\n    }\n\n    .dataframe thead th {\n        text-align: right;\n    }\n</style>\n<table border=\"1\" class=\"dataframe\">\n  <thead>\n    <tr style=\"text-align: right;\">\n      <th></th>\n      <th>real_discount</th>\n      <th>pub_rev</th>\n      <th>accepted</th>\n      <th>real_rev</th>\n      <th>rom_discount</th>\n      <th>rom_pa</th>\n      <th>rom_exp_rev</th>\n      <th>rom_discount_4_low</th>\n      <th>rom_discount_4_mid</th>\n      <th>rom_discount_4_high</th>\n      <th>rom_discount_6_low</th>\n      <th>rom_discount_6_mid</th>\n      <th>rom_discount_6_high</th>\n      <th>rom_discount_8_low</th>\n      <th>rom_discount_8_mid</th>\n      <th>rom_discount_8_high</th>\n      <th>rom_diff</th>\n    </tr>\n  </thead>\n  <tbody>\n    <tr>\n      <th>34306</th>\n      <td>89.310346</td>\n      <td>226731.0</td>\n      <td>1</td>\n      <td>24236.76</td>\n      <td>75</td>\n      <td>0.859315</td>\n      <td>0.214829</td>\n      <td>75</td>\n      <td>76.0</td>\n      <td>77</td>\n      <td>73</td>\n      <td>75.5</td>\n      <td>78</td>\n      <td>68</td>\n      <td>73.0</td>\n      <td>78</td>\n      <td>-14.310346</td>\n    </tr>\n    <tr>\n      <th>34307</th>\n      <td>89.720631</td>\n      <td>4503.0</td>\n      <td>1</td>\n      <td>462.88</td>\n      <td>68</td>\n      <td>0.930406</td>\n      <td>0.297730</td>\n      <td>68</td>\n      <td>68.5</td>\n      <td>69</td>\n      <td>68</td>\n      <td>69.0</td>\n      <td>70</td>\n      <td>65</td>\n      <td>67.5</td>\n      <td>70</td>\n      <td>-21.720631</td>\n    </tr>\n    <tr>\n      <th>34308</th>\n      <td>75.000000</td>\n      <td>53962.0</td>\n      <td>1</td>\n      <td>13490.50</td>\n      <td>68</td>\n      <td>0.931344</td>\n      <td>0.298030</td>\n      <td>68</td>\n      <td>68.5</td>\n      <td>69</td>\n      <td>68</td>\n      <td>68.5</td>\n      <td>69</td>\n      <td>68</td>\n      <td>69.0</td>\n      <td>70</td>\n      <td>-7.000000</td>\n    </tr>\n    <tr>\n      <th>34312</th>\n      <td>55.000000</td>\n      <td>136875.0</td>\n      <td>1</td>\n      <td>61593.75</td>\n      <td>68</td>\n      <td>0.966223</td>\n      <td>0.309191</td>\n      <td>68</td>\n      <td>68.5</td>\n      <td>69</td>\n      <td>68</td>\n      <td>69.0</td>\n      <td>70</td>\n      <td>68</td>\n      <td>69.0</td>\n      <td>70</td>\n      <td>13.000000</td>\n    </tr>\n    <tr>\n      <th>34313</th>\n      <td>55.000000</td>\n      <td>41493.0</td>\n      <td>1</td>\n      <td>18671.85</td>\n      <td>65</td>\n      <td>0.950410</td>\n      <td>0.332643</td>\n      <td>65</td>\n      <td>65.0</td>\n      <td>65</td>\n      <td>50</td>\n      <td>59.0</td>\n      <td>68</td>\n      <td>50</td>\n      <td>59.0</td>\n      <td>68</td>\n      <td>10.000000</td>\n    </tr>\n    <tr>\n      <th>...</th>\n      <td>...</td>\n      <td>...</td>\n      <td>...</td>\n      <td>...</td>\n      <td>...</td>\n      <td>...</td>\n      <td>...</td>\n      <td>...</td>\n      <td>...</td>\n      <td>...</td>\n      <td>...</td>\n      <td>...</td>\n      <td>...</td>\n      <td>...</td>\n      <td>...</td>\n      <td>...</td>\n      <td>...</td>\n    </tr>\n    <tr>\n      <th>38081</th>\n      <td>50.000000</td>\n      <td>8219.0</td>\n      <td>1</td>\n      <td>4109.50</td>\n      <td>58</td>\n      <td>0.847730</td>\n      <td>0.356047</td>\n      <td>50</td>\n      <td>54.0</td>\n      <td>58</td>\n      <td>50</td>\n      <td>54.0</td>\n      <td>58</td>\n      <td>50</td>\n      <td>54.0</td>\n      <td>58</td>\n      <td>8.000000</td>\n    </tr>\n    <tr>\n      <th>38085</th>\n      <td>85.869773</td>\n      <td>45152.0</td>\n      <td>1</td>\n      <td>6380.08</td>\n      <td>68</td>\n      <td>0.850682</td>\n      <td>0.272218</td>\n      <td>68</td>\n      <td>68.5</td>\n      <td>69</td>\n      <td>68</td>\n      <td>69.0</td>\n      <td>70</td>\n      <td>68</td>\n      <td>69.5</td>\n      <td>71</td>\n      <td>-17.869773</td>\n    </tr>\n    <tr>\n      <th>38086</th>\n      <td>85.785747</td>\n      <td>4308.0</td>\n      <td>1</td>\n      <td>612.35</td>\n      <td>50</td>\n      <td>0.608785</td>\n      <td>0.304393</td>\n      <td>50</td>\n      <td>59.5</td>\n      <td>69</td>\n      <td>50</td>\n      <td>59.5</td>\n      <td>69</td>\n      <td>50</td>\n      <td>60.0</td>\n      <td>70</td>\n      <td>-35.785747</td>\n    </tr>\n    <tr>\n      <th>38087</th>\n      <td>79.760277</td>\n      <td>5060.0</td>\n      <td>1</td>\n      <td>1024.13</td>\n      <td>58</td>\n      <td>0.829588</td>\n      <td>0.348427</td>\n      <td>58</td>\n      <td>60.5</td>\n      <td>63</td>\n      <td>58</td>\n      <td>60.5</td>\n      <td>63</td>\n      <td>58</td>\n      <td>61.5</td>\n      <td>65</td>\n      <td>-21.760277</td>\n    </tr>\n    <tr>\n      <th>38088</th>\n      <td>81.999813</td>\n      <td>300038.0</td>\n      <td>1</td>\n      <td>54007.40</td>\n      <td>68</td>\n      <td>0.915227</td>\n      <td>0.292873</td>\n      <td>65</td>\n      <td>67.0</td>\n      <td>69</td>\n      <td>65</td>\n      <td>67.0</td>\n      <td>69</td>\n      <td>65</td>\n      <td>67.5</td>\n      <td>70</td>\n      <td>-13.999813</td>\n    </tr>\n  </tbody>\n</table>\n<p>2067 rows × 17 columns</p>\n</div>",
      "text/plain": "       real_discount   pub_rev  accepted  real_rev  rom_discount    rom_pa  \\\n34306      89.310346  226731.0         1  24236.76            75  0.859315   \n34307      89.720631    4503.0         1    462.88            68  0.930406   \n34308      75.000000   53962.0         1  13490.50            68  0.931344   \n34312      55.000000  136875.0         1  61593.75            68  0.966223   \n34313      55.000000   41493.0         1  18671.85            65  0.950410   \n...              ...       ...       ...       ...           ...       ...   \n38081      50.000000    8219.0         1   4109.50            58  0.847730   \n38085      85.869773   45152.0         1   6380.08            68  0.850682   \n38086      85.785747    4308.0         1    612.35            50  0.608785   \n38087      79.760277    5060.0         1   1024.13            58  0.829588   \n38088      81.999813  300038.0         1  54007.40            68  0.915227   \n\n       rom_exp_rev  rom_discount_4_low  rom_discount_4_mid  \\\n34306     0.214829                  75                76.0   \n34307     0.297730                  68                68.5   \n34308     0.298030                  68                68.5   \n34312     0.309191                  68                68.5   \n34313     0.332643                  65                65.0   \n...            ...                 ...                 ...   \n38081     0.356047                  50                54.0   \n38085     0.272218                  68                68.5   \n38086     0.304393                  50                59.5   \n38087     0.348427                  58                60.5   \n38088     0.292873                  65                67.0   \n\n       rom_discount_4_high  rom_discount_6_low  rom_discount_6_mid  \\\n34306                   77                  73                75.5   \n34307                   69                  68                69.0   \n34308                   69                  68                68.5   \n34312                   69                  68                69.0   \n34313                   65                  50                59.0   \n...                    ...                 ...                 ...   \n38081                   58                  50                54.0   \n38085                   69                  68                69.0   \n38086                   69                  50                59.5   \n38087                   63                  58                60.5   \n38088                   69                  65                67.0   \n\n       rom_discount_6_high  rom_discount_8_low  rom_discount_8_mid  \\\n34306                   78                  68                73.0   \n34307                   70                  65                67.5   \n34308                   69                  68                69.0   \n34312                   70                  68                69.0   \n34313                   68                  50                59.0   \n...                    ...                 ...                 ...   \n38081                   58                  50                54.0   \n38085                   70                  68                69.5   \n38086                   69                  50                60.0   \n38087                   63                  58                61.5   \n38088                   69                  65                67.5   \n\n       rom_discount_8_high   rom_diff  \n34306                   78 -14.310346  \n34307                   70 -21.720631  \n34308                   70  -7.000000  \n34312                   70  13.000000  \n34313                   68  10.000000  \n...                    ...        ...  \n38081                   58   8.000000  \n38085                   71 -17.869773  \n38086                   70 -35.785747  \n38087                   65 -21.760277  \n38088                   70 -13.999813  \n\n[2067 rows x 17 columns]"
     },
     "metadata": {},
     "output_type": "display_data"
    },
    {
     "data": {
      "text/markdown": "\n\n**^^^^^^^^^^^^^^^^^^^^^^^^^^^^^^ Czech_Republic (2/6) - 10,37 (2/5) ^^^^^^^^^^^^^^^^^^^^^^^^^^^^^^**\n\n",
      "text/plain": "<IPython.core.display.Markdown object>"
     },
     "metadata": {},
     "output_type": "display_data"
    },
    {
     "name": "stdout",
     "output_type": "stream",
     "text": [
      "('2023-10-01', '2024-04-01', '2024-04-01', '2024-07-01')\n",
      "Train data shape: (4510, 138)\n",
      "Test data shape: (2067, 138)\n"
     ]
    },
    {
     "name": "stderr",
     "output_type": "stream",
     "text": [
      "[I 2025-01-28 16:19:25,368] A new study created in memory with name: no-name-1393b6fd-c36d-468b-9078-7eee9bb0dd9c\n"
     ]
    },
    {
     "name": "stdout",
     "output_type": "stream",
     "text": [
      "before/after aug (4510, 138) (13049, 138)\n"
     ]
    },
    {
     "data": {
      "application/vnd.jupyter.widget-view+json": {
       "model_id": "64176d285eaf402e9b2574446c44c486",
       "version_major": 2,
       "version_minor": 0
      },
      "text/plain": "  0%|          | 0/3 [00:00<?, ?it/s]"
     },
     "metadata": {},
     "output_type": "display_data"
    },
    {
     "name": "stdout",
     "output_type": "stream",
     "text": [
      "[I 2025-01-28 16:19:31,592] Trial 0 finished with value: 0.17067758534370286 and parameters: {'learning_rate': 0.01087080185549562, 'max_depth': 4, 'n_estimators': 729, 'gamma': 0.01123506477003016}. Best is trial 0 with value: 0.17067758534370286.\n",
      "[I 2025-01-28 16:19:40,470] Trial 1 finished with value: 0.18157704527094293 and parameters: {'learning_rate': 0.02230934569621654, 'max_depth': 6, 'n_estimators': 721, 'gamma': 0.05498659253091755}. Best is trial 0 with value: 0.17067758534370286.\n",
      "[I 2025-01-28 16:19:47,209] Trial 2 finished with value: 0.1815824930121733 and parameters: {'learning_rate': 0.03538453590906552, 'max_depth': 5, 'n_estimators': 643, 'gamma': 0.1229607110732571}. Best is trial 0 with value: 0.17067758534370286.\n",
      "Saving results to '../../../Data/training-data-POC-countries/rom_results/Czech_Republic~2024-04~2024-07/v07-test/10,37'\n",
      "Czech_Republic\n"
     ]
    },
    {
     "data": {
      "application/vnd.jupyter.widget-view+json": {
       "model_id": "579411220d414e0db9766d1bea940926",
       "version_major": 2,
       "version_minor": 0
      },
      "text/plain": "  0%|          | 0/2067 [00:00<?, ?it/s]"
     },
     "metadata": {},
     "output_type": "display_data"
    },
    {
     "data": {
      "text/html": "<div>\n<style scoped>\n    .dataframe tbody tr th:only-of-type {\n        vertical-align: middle;\n    }\n\n    .dataframe tbody tr th {\n        vertical-align: top;\n    }\n\n    .dataframe thead th {\n        text-align: right;\n    }\n</style>\n<table border=\"1\" class=\"dataframe\">\n  <thead>\n    <tr style=\"text-align: right;\">\n      <th></th>\n      <th>real_discount</th>\n      <th>pub_rev</th>\n      <th>accepted</th>\n      <th>real_rev</th>\n      <th>rom_discount</th>\n      <th>rom_pa</th>\n      <th>rom_exp_rev</th>\n      <th>rom_discount_4_low</th>\n      <th>rom_discount_4_mid</th>\n      <th>rom_discount_4_high</th>\n      <th>rom_discount_6_low</th>\n      <th>rom_discount_6_mid</th>\n      <th>rom_discount_6_high</th>\n      <th>rom_discount_8_low</th>\n      <th>rom_discount_8_mid</th>\n      <th>rom_discount_8_high</th>\n      <th>rom_diff</th>\n    </tr>\n  </thead>\n  <tbody>\n    <tr>\n      <th>34306</th>\n      <td>89.310346</td>\n      <td>226731.0</td>\n      <td>1</td>\n      <td>24236.76</td>\n      <td>65</td>\n      <td>0.852317</td>\n      <td>0.298311</td>\n      <td>65</td>\n      <td>65.5</td>\n      <td>66</td>\n      <td>65</td>\n      <td>66.0</td>\n      <td>67</td>\n      <td>65</td>\n      <td>66.0</td>\n      <td>67</td>\n      <td>-24.310346</td>\n    </tr>\n    <tr>\n      <th>34307</th>\n      <td>89.720631</td>\n      <td>4503.0</td>\n      <td>1</td>\n      <td>462.88</td>\n      <td>40</td>\n      <td>0.661566</td>\n      <td>0.396939</td>\n      <td>40</td>\n      <td>40.0</td>\n      <td>40</td>\n      <td>40</td>\n      <td>40.0</td>\n      <td>40</td>\n      <td>40</td>\n      <td>45.0</td>\n      <td>50</td>\n      <td>-49.720631</td>\n    </tr>\n    <tr>\n      <th>34308</th>\n      <td>75.000000</td>\n      <td>53962.0</td>\n      <td>1</td>\n      <td>13490.50</td>\n      <td>59</td>\n      <td>0.888185</td>\n      <td>0.364156</td>\n      <td>59</td>\n      <td>59.5</td>\n      <td>60</td>\n      <td>59</td>\n      <td>60.0</td>\n      <td>61</td>\n      <td>59</td>\n      <td>60.5</td>\n      <td>62</td>\n      <td>-16.000000</td>\n    </tr>\n    <tr>\n      <th>34312</th>\n      <td>55.000000</td>\n      <td>136875.0</td>\n      <td>1</td>\n      <td>61593.75</td>\n      <td>59</td>\n      <td>0.869657</td>\n      <td>0.356560</td>\n      <td>59</td>\n      <td>59.5</td>\n      <td>60</td>\n      <td>59</td>\n      <td>62.0</td>\n      <td>65</td>\n      <td>59</td>\n      <td>62.5</td>\n      <td>66</td>\n      <td>4.000000</td>\n    </tr>\n    <tr>\n      <th>34313</th>\n      <td>55.000000</td>\n      <td>41493.0</td>\n      <td>1</td>\n      <td>18671.85</td>\n      <td>59</td>\n      <td>0.943780</td>\n      <td>0.386950</td>\n      <td>55</td>\n      <td>57.5</td>\n      <td>60</td>\n      <td>55</td>\n      <td>58.0</td>\n      <td>61</td>\n      <td>55</td>\n      <td>58.5</td>\n      <td>62</td>\n      <td>4.000000</td>\n    </tr>\n    <tr>\n      <th>...</th>\n      <td>...</td>\n      <td>...</td>\n      <td>...</td>\n      <td>...</td>\n      <td>...</td>\n      <td>...</td>\n      <td>...</td>\n      <td>...</td>\n      <td>...</td>\n      <td>...</td>\n      <td>...</td>\n      <td>...</td>\n      <td>...</td>\n      <td>...</td>\n      <td>...</td>\n      <td>...</td>\n      <td>...</td>\n    </tr>\n    <tr>\n      <th>38081</th>\n      <td>50.000000</td>\n      <td>8219.0</td>\n      <td>1</td>\n      <td>4109.50</td>\n      <td>59</td>\n      <td>0.899266</td>\n      <td>0.368699</td>\n      <td>55</td>\n      <td>57.5</td>\n      <td>60</td>\n      <td>55</td>\n      <td>58.0</td>\n      <td>61</td>\n      <td>55</td>\n      <td>58.5</td>\n      <td>62</td>\n      <td>9.000000</td>\n    </tr>\n    <tr>\n      <th>38085</th>\n      <td>85.869773</td>\n      <td>45152.0</td>\n      <td>1</td>\n      <td>6380.08</td>\n      <td>65</td>\n      <td>0.787295</td>\n      <td>0.275553</td>\n      <td>65</td>\n      <td>67.0</td>\n      <td>69</td>\n      <td>65</td>\n      <td>67.5</td>\n      <td>70</td>\n      <td>65</td>\n      <td>67.5</td>\n      <td>70</td>\n      <td>-20.869773</td>\n    </tr>\n    <tr>\n      <th>38086</th>\n      <td>85.785747</td>\n      <td>4308.0</td>\n      <td>1</td>\n      <td>612.35</td>\n      <td>50</td>\n      <td>0.603371</td>\n      <td>0.301686</td>\n      <td>50</td>\n      <td>57.5</td>\n      <td>65</td>\n      <td>50</td>\n      <td>59.0</td>\n      <td>68</td>\n      <td>50</td>\n      <td>59.5</td>\n      <td>69</td>\n      <td>-35.785747</td>\n    </tr>\n    <tr>\n      <th>38087</th>\n      <td>79.760277</td>\n      <td>5060.0</td>\n      <td>1</td>\n      <td>1024.13</td>\n      <td>59</td>\n      <td>0.796621</td>\n      <td>0.326615</td>\n      <td>50</td>\n      <td>55.0</td>\n      <td>60</td>\n      <td>50</td>\n      <td>55.5</td>\n      <td>61</td>\n      <td>50</td>\n      <td>57.5</td>\n      <td>65</td>\n      <td>-20.760277</td>\n    </tr>\n    <tr>\n      <th>38088</th>\n      <td>81.999813</td>\n      <td>300038.0</td>\n      <td>1</td>\n      <td>54007.40</td>\n      <td>65</td>\n      <td>0.793718</td>\n      <td>0.277801</td>\n      <td>59</td>\n      <td>64.0</td>\n      <td>69</td>\n      <td>59</td>\n      <td>64.5</td>\n      <td>70</td>\n      <td>59</td>\n      <td>65.0</td>\n      <td>71</td>\n      <td>-16.999813</td>\n    </tr>\n  </tbody>\n</table>\n<p>2067 rows × 17 columns</p>\n</div>",
      "text/plain": "       real_discount   pub_rev  accepted  real_rev  rom_discount    rom_pa  \\\n34306      89.310346  226731.0         1  24236.76            65  0.852317   \n34307      89.720631    4503.0         1    462.88            40  0.661566   \n34308      75.000000   53962.0         1  13490.50            59  0.888185   \n34312      55.000000  136875.0         1  61593.75            59  0.869657   \n34313      55.000000   41493.0         1  18671.85            59  0.943780   \n...              ...       ...       ...       ...           ...       ...   \n38081      50.000000    8219.0         1   4109.50            59  0.899266   \n38085      85.869773   45152.0         1   6380.08            65  0.787295   \n38086      85.785747    4308.0         1    612.35            50  0.603371   \n38087      79.760277    5060.0         1   1024.13            59  0.796621   \n38088      81.999813  300038.0         1  54007.40            65  0.793718   \n\n       rom_exp_rev  rom_discount_4_low  rom_discount_4_mid  \\\n34306     0.298311                  65                65.5   \n34307     0.396939                  40                40.0   \n34308     0.364156                  59                59.5   \n34312     0.356560                  59                59.5   \n34313     0.386950                  55                57.5   \n...            ...                 ...                 ...   \n38081     0.368699                  55                57.5   \n38085     0.275553                  65                67.0   \n38086     0.301686                  50                57.5   \n38087     0.326615                  50                55.0   \n38088     0.277801                  59                64.0   \n\n       rom_discount_4_high  rom_discount_6_low  rom_discount_6_mid  \\\n34306                   66                  65                66.0   \n34307                   40                  40                40.0   \n34308                   60                  59                60.0   \n34312                   60                  59                62.0   \n34313                   60                  55                58.0   \n...                    ...                 ...                 ...   \n38081                   60                  55                58.0   \n38085                   69                  65                67.5   \n38086                   65                  50                59.0   \n38087                   60                  50                55.5   \n38088                   69                  59                64.5   \n\n       rom_discount_6_high  rom_discount_8_low  rom_discount_8_mid  \\\n34306                   67                  65                66.0   \n34307                   40                  40                45.0   \n34308                   61                  59                60.5   \n34312                   65                  59                62.5   \n34313                   61                  55                58.5   \n...                    ...                 ...                 ...   \n38081                   61                  55                58.5   \n38085                   70                  65                67.5   \n38086                   68                  50                59.5   \n38087                   61                  50                57.5   \n38088                   70                  59                65.0   \n\n       rom_discount_8_high   rom_diff  \n34306                   67 -24.310346  \n34307                   50 -49.720631  \n34308                   62 -16.000000  \n34312                   66   4.000000  \n34313                   62   4.000000  \n...                    ...        ...  \n38081                   62   9.000000  \n38085                   70 -20.869773  \n38086                   69 -35.785747  \n38087                   65 -20.760277  \n38088                   71 -16.999813  \n\n[2067 rows x 17 columns]"
     },
     "metadata": {},
     "output_type": "display_data"
    },
    {
     "data": {
      "text/markdown": "\n\n**^^^^^^^^^^^^^^^^^^^^^^^^^^^^^^ Czech_Republic (2/6) - 10,43 (3/5) ^^^^^^^^^^^^^^^^^^^^^^^^^^^^^^**\n\n",
      "text/plain": "<IPython.core.display.Markdown object>"
     },
     "metadata": {},
     "output_type": "display_data"
    },
    {
     "name": "stdout",
     "output_type": "stream",
     "text": [
      "('2023-10-01', '2024-04-01', '2024-04-01', '2024-07-01')\n",
      "Train data shape: (4510, 138)\n",
      "Test data shape: (2067, 138)\n"
     ]
    },
    {
     "name": "stderr",
     "output_type": "stream",
     "text": [
      "[I 2025-01-28 16:20:05,287] A new study created in memory with name: no-name-891e4716-347e-4443-9d98-74e4816fb464\n"
     ]
    },
    {
     "name": "stdout",
     "output_type": "stream",
     "text": [
      "before/after aug (4510, 138) (12946, 138)\n"
     ]
    },
    {
     "data": {
      "application/vnd.jupyter.widget-view+json": {
       "model_id": "6afe204d02d34b099ff5ded74a059e97",
       "version_major": 2,
       "version_minor": 0
      },
      "text/plain": "  0%|          | 0/3 [00:00<?, ?it/s]"
     },
     "metadata": {},
     "output_type": "display_data"
    },
    {
     "name": "stdout",
     "output_type": "stream",
     "text": [
      "[I 2025-01-28 16:20:11,427] Trial 0 finished with value: 0.1597914082315517 and parameters: {'learning_rate': 0.01087080185549562, 'max_depth': 4, 'n_estimators': 729, 'gamma': 0.01123506477003016}. Best is trial 0 with value: 0.1597914082315517.\n",
      "[I 2025-01-28 16:20:19,942] Trial 1 finished with value: 0.17393540555107176 and parameters: {'learning_rate': 0.02230934569621654, 'max_depth': 6, 'n_estimators': 721, 'gamma': 0.05498659253091755}. Best is trial 0 with value: 0.1597914082315517.\n",
      "[I 2025-01-28 16:20:26,399] Trial 2 finished with value: 0.17623992822110485 and parameters: {'learning_rate': 0.03538453590906552, 'max_depth': 5, 'n_estimators': 643, 'gamma': 0.1229607110732571}. Best is trial 0 with value: 0.1597914082315517.\n",
      "Saving results to '../../../Data/training-data-POC-countries/rom_results/Czech_Republic~2024-04~2024-07/v07-test/10,43'\n",
      "Czech_Republic\n"
     ]
    },
    {
     "data": {
      "application/vnd.jupyter.widget-view+json": {
       "model_id": "de3c7aad10fa4664bb0e8304163adbb2",
       "version_major": 2,
       "version_minor": 0
      },
      "text/plain": "  0%|          | 0/2067 [00:00<?, ?it/s]"
     },
     "metadata": {},
     "output_type": "display_data"
    },
    {
     "data": {
      "text/html": "<div>\n<style scoped>\n    .dataframe tbody tr th:only-of-type {\n        vertical-align: middle;\n    }\n\n    .dataframe tbody tr th {\n        vertical-align: top;\n    }\n\n    .dataframe thead th {\n        text-align: right;\n    }\n</style>\n<table border=\"1\" class=\"dataframe\">\n  <thead>\n    <tr style=\"text-align: right;\">\n      <th></th>\n      <th>real_discount</th>\n      <th>pub_rev</th>\n      <th>accepted</th>\n      <th>real_rev</th>\n      <th>rom_discount</th>\n      <th>rom_pa</th>\n      <th>rom_exp_rev</th>\n      <th>rom_discount_4_low</th>\n      <th>rom_discount_4_mid</th>\n      <th>rom_discount_4_high</th>\n      <th>rom_discount_6_low</th>\n      <th>rom_discount_6_mid</th>\n      <th>rom_discount_6_high</th>\n      <th>rom_discount_8_low</th>\n      <th>rom_discount_8_mid</th>\n      <th>rom_discount_8_high</th>\n      <th>rom_diff</th>\n    </tr>\n  </thead>\n  <tbody>\n    <tr>\n      <th>34306</th>\n      <td>89.310346</td>\n      <td>226731.0</td>\n      <td>1</td>\n      <td>24236.76</td>\n      <td>65</td>\n      <td>0.900480</td>\n      <td>0.315168</td>\n      <td>65</td>\n      <td>65.5</td>\n      <td>66</td>\n      <td>65</td>\n      <td>66.0</td>\n      <td>67</td>\n      <td>65</td>\n      <td>66.0</td>\n      <td>67</td>\n      <td>-24.310346</td>\n    </tr>\n    <tr>\n      <th>34307</th>\n      <td>89.720631</td>\n      <td>4503.0</td>\n      <td>1</td>\n      <td>462.88</td>\n      <td>50</td>\n      <td>0.865855</td>\n      <td>0.432927</td>\n      <td>50</td>\n      <td>50.5</td>\n      <td>51</td>\n      <td>50</td>\n      <td>52.5</td>\n      <td>55</td>\n      <td>50</td>\n      <td>53.0</td>\n      <td>56</td>\n      <td>-39.720631</td>\n    </tr>\n    <tr>\n      <th>34308</th>\n      <td>75.000000</td>\n      <td>53962.0</td>\n      <td>1</td>\n      <td>13490.50</td>\n      <td>55</td>\n      <td>0.858544</td>\n      <td>0.386345</td>\n      <td>55</td>\n      <td>57.0</td>\n      <td>59</td>\n      <td>55</td>\n      <td>57.5</td>\n      <td>60</td>\n      <td>55</td>\n      <td>57.5</td>\n      <td>60</td>\n      <td>-20.000000</td>\n    </tr>\n    <tr>\n      <th>34312</th>\n      <td>55.000000</td>\n      <td>136875.0</td>\n      <td>1</td>\n      <td>61593.75</td>\n      <td>55</td>\n      <td>0.828300</td>\n      <td>0.372735</td>\n      <td>55</td>\n      <td>57.0</td>\n      <td>59</td>\n      <td>55</td>\n      <td>57.5</td>\n      <td>60</td>\n      <td>55</td>\n      <td>60.0</td>\n      <td>65</td>\n      <td>0.000000</td>\n    </tr>\n    <tr>\n      <th>34313</th>\n      <td>55.000000</td>\n      <td>41493.0</td>\n      <td>1</td>\n      <td>18671.85</td>\n      <td>50</td>\n      <td>0.922650</td>\n      <td>0.461325</td>\n      <td>50</td>\n      <td>50.5</td>\n      <td>51</td>\n      <td>50</td>\n      <td>51.0</td>\n      <td>52</td>\n      <td>50</td>\n      <td>52.5</td>\n      <td>55</td>\n      <td>-5.000000</td>\n    </tr>\n    <tr>\n      <th>...</th>\n      <td>...</td>\n      <td>...</td>\n      <td>...</td>\n      <td>...</td>\n      <td>...</td>\n      <td>...</td>\n      <td>...</td>\n      <td>...</td>\n      <td>...</td>\n      <td>...</td>\n      <td>...</td>\n      <td>...</td>\n      <td>...</td>\n      <td>...</td>\n      <td>...</td>\n      <td>...</td>\n      <td>...</td>\n    </tr>\n    <tr>\n      <th>38081</th>\n      <td>50.000000</td>\n      <td>8219.0</td>\n      <td>1</td>\n      <td>4109.50</td>\n      <td>55</td>\n      <td>0.894658</td>\n      <td>0.402596</td>\n      <td>50</td>\n      <td>53.5</td>\n      <td>57</td>\n      <td>50</td>\n      <td>54.5</td>\n      <td>59</td>\n      <td>50</td>\n      <td>55.0</td>\n      <td>60</td>\n      <td>5.000000</td>\n    </tr>\n    <tr>\n      <th>38085</th>\n      <td>85.869773</td>\n      <td>45152.0</td>\n      <td>1</td>\n      <td>6380.08</td>\n      <td>59</td>\n      <td>0.695000</td>\n      <td>0.284950</td>\n      <td>59</td>\n      <td>62.0</td>\n      <td>65</td>\n      <td>59</td>\n      <td>64.0</td>\n      <td>69</td>\n      <td>59</td>\n      <td>64.5</td>\n      <td>70</td>\n      <td>-26.869773</td>\n    </tr>\n    <tr>\n      <th>38086</th>\n      <td>85.785747</td>\n      <td>4308.0</td>\n      <td>1</td>\n      <td>612.35</td>\n      <td>59</td>\n      <td>0.816357</td>\n      <td>0.334706</td>\n      <td>59</td>\n      <td>59.5</td>\n      <td>60</td>\n      <td>59</td>\n      <td>60.0</td>\n      <td>61</td>\n      <td>59</td>\n      <td>62.0</td>\n      <td>65</td>\n      <td>-26.785747</td>\n    </tr>\n    <tr>\n      <th>38087</th>\n      <td>79.760277</td>\n      <td>5060.0</td>\n      <td>1</td>\n      <td>1024.13</td>\n      <td>59</td>\n      <td>0.842231</td>\n      <td>0.345315</td>\n      <td>59</td>\n      <td>59.5</td>\n      <td>60</td>\n      <td>59</td>\n      <td>60.0</td>\n      <td>61</td>\n      <td>59</td>\n      <td>60.5</td>\n      <td>62</td>\n      <td>-20.760277</td>\n    </tr>\n    <tr>\n      <th>38088</th>\n      <td>81.999813</td>\n      <td>300038.0</td>\n      <td>1</td>\n      <td>54007.40</td>\n      <td>59</td>\n      <td>0.723955</td>\n      <td>0.296822</td>\n      <td>59</td>\n      <td>59.5</td>\n      <td>60</td>\n      <td>59</td>\n      <td>60.0</td>\n      <td>61</td>\n      <td>59</td>\n      <td>64.0</td>\n      <td>69</td>\n      <td>-22.999813</td>\n    </tr>\n  </tbody>\n</table>\n<p>2067 rows × 17 columns</p>\n</div>",
      "text/plain": "       real_discount   pub_rev  accepted  real_rev  rom_discount    rom_pa  \\\n34306      89.310346  226731.0         1  24236.76            65  0.900480   \n34307      89.720631    4503.0         1    462.88            50  0.865855   \n34308      75.000000   53962.0         1  13490.50            55  0.858544   \n34312      55.000000  136875.0         1  61593.75            55  0.828300   \n34313      55.000000   41493.0         1  18671.85            50  0.922650   \n...              ...       ...       ...       ...           ...       ...   \n38081      50.000000    8219.0         1   4109.50            55  0.894658   \n38085      85.869773   45152.0         1   6380.08            59  0.695000   \n38086      85.785747    4308.0         1    612.35            59  0.816357   \n38087      79.760277    5060.0         1   1024.13            59  0.842231   \n38088      81.999813  300038.0         1  54007.40            59  0.723955   \n\n       rom_exp_rev  rom_discount_4_low  rom_discount_4_mid  \\\n34306     0.315168                  65                65.5   \n34307     0.432927                  50                50.5   \n34308     0.386345                  55                57.0   \n34312     0.372735                  55                57.0   \n34313     0.461325                  50                50.5   \n...            ...                 ...                 ...   \n38081     0.402596                  50                53.5   \n38085     0.284950                  59                62.0   \n38086     0.334706                  59                59.5   \n38087     0.345315                  59                59.5   \n38088     0.296822                  59                59.5   \n\n       rom_discount_4_high  rom_discount_6_low  rom_discount_6_mid  \\\n34306                   66                  65                66.0   \n34307                   51                  50                52.5   \n34308                   59                  55                57.5   \n34312                   59                  55                57.5   \n34313                   51                  50                51.0   \n...                    ...                 ...                 ...   \n38081                   57                  50                54.5   \n38085                   65                  59                64.0   \n38086                   60                  59                60.0   \n38087                   60                  59                60.0   \n38088                   60                  59                60.0   \n\n       rom_discount_6_high  rom_discount_8_low  rom_discount_8_mid  \\\n34306                   67                  65                66.0   \n34307                   55                  50                53.0   \n34308                   60                  55                57.5   \n34312                   60                  55                60.0   \n34313                   52                  50                52.5   \n...                    ...                 ...                 ...   \n38081                   59                  50                55.0   \n38085                   69                  59                64.5   \n38086                   61                  59                62.0   \n38087                   61                  59                60.5   \n38088                   61                  59                64.0   \n\n       rom_discount_8_high   rom_diff  \n34306                   67 -24.310346  \n34307                   56 -39.720631  \n34308                   60 -20.000000  \n34312                   65   0.000000  \n34313                   55  -5.000000  \n...                    ...        ...  \n38081                   60   5.000000  \n38085                   70 -26.869773  \n38086                   65 -26.785747  \n38087                   62 -20.760277  \n38088                   69 -22.999813  \n\n[2067 rows x 17 columns]"
     },
     "metadata": {},
     "output_type": "display_data"
    },
    {
     "data": {
      "text/markdown": "\n\n**^^^^^^^^^^^^^^^^^^^^^^^^^^^^^^ Czech_Republic (2/6) - 11,19 (4/5) ^^^^^^^^^^^^^^^^^^^^^^^^^^^^^^**\n\n",
      "text/plain": "<IPython.core.display.Markdown object>"
     },
     "metadata": {},
     "output_type": "display_data"
    },
    {
     "name": "stdout",
     "output_type": "stream",
     "text": [
      "('2023-10-01', '2024-04-01', '2024-04-01', '2024-07-01')\n",
      "Train data shape: (4510, 138)\n",
      "Test data shape: (2067, 138)\n"
     ]
    },
    {
     "name": "stderr",
     "output_type": "stream",
     "text": [
      "[I 2025-01-28 16:20:44,679] A new study created in memory with name: no-name-3d681d2c-dd8f-488d-9132-a3ba4441df43\n"
     ]
    },
    {
     "name": "stdout",
     "output_type": "stream",
     "text": [
      "before/after aug (4510, 138) (13132, 138)\n"
     ]
    },
    {
     "data": {
      "application/vnd.jupyter.widget-view+json": {
       "model_id": "84f38bdb3ff24083ac430ba165821fd4",
       "version_major": 2,
       "version_minor": 0
      },
      "text/plain": "  0%|          | 0/3 [00:00<?, ?it/s]"
     },
     "metadata": {},
     "output_type": "display_data"
    },
    {
     "name": "stdout",
     "output_type": "stream",
     "text": [
      "[I 2025-01-28 16:20:50,922] Trial 0 finished with value: 0.27801879920918016 and parameters: {'learning_rate': 0.01087080185549562, 'max_depth': 4, 'n_estimators': 729, 'gamma': 0.01123506477003016}. Best is trial 0 with value: 0.27801879920918016.\n",
      "[I 2025-01-28 16:20:59,805] Trial 1 finished with value: 0.25963021081530485 and parameters: {'learning_rate': 0.02230934569621654, 'max_depth': 6, 'n_estimators': 721, 'gamma': 0.05498659253091755}. Best is trial 1 with value: 0.25963021081530485.\n",
      "[I 2025-01-28 16:21:06,390] Trial 2 finished with value: 0.26101006889834466 and parameters: {'learning_rate': 0.03538453590906552, 'max_depth': 5, 'n_estimators': 643, 'gamma': 0.1229607110732571}. Best is trial 1 with value: 0.25963021081530485.\n",
      "Saving results to '../../../Data/training-data-POC-countries/rom_results/Czech_Republic~2024-04~2024-07/v07-test/11,19'\n",
      "Czech_Republic\n"
     ]
    },
    {
     "data": {
      "application/vnd.jupyter.widget-view+json": {
       "model_id": "1317034bae8f45f3b3ca4ad2c7dffaab",
       "version_major": 2,
       "version_minor": 0
      },
      "text/plain": "  0%|          | 0/2067 [00:00<?, ?it/s]"
     },
     "metadata": {},
     "output_type": "display_data"
    },
    {
     "data": {
      "text/html": "<div>\n<style scoped>\n    .dataframe tbody tr th:only-of-type {\n        vertical-align: middle;\n    }\n\n    .dataframe tbody tr th {\n        vertical-align: top;\n    }\n\n    .dataframe thead th {\n        text-align: right;\n    }\n</style>\n<table border=\"1\" class=\"dataframe\">\n  <thead>\n    <tr style=\"text-align: right;\">\n      <th></th>\n      <th>real_discount</th>\n      <th>pub_rev</th>\n      <th>accepted</th>\n      <th>real_rev</th>\n      <th>rom_discount</th>\n      <th>rom_pa</th>\n      <th>rom_exp_rev</th>\n      <th>rom_discount_4_low</th>\n      <th>rom_discount_4_mid</th>\n      <th>rom_discount_4_high</th>\n      <th>rom_discount_6_low</th>\n      <th>rom_discount_6_mid</th>\n      <th>rom_discount_6_high</th>\n      <th>rom_discount_8_low</th>\n      <th>rom_discount_8_mid</th>\n      <th>rom_discount_8_high</th>\n      <th>rom_diff</th>\n    </tr>\n  </thead>\n  <tbody>\n    <tr>\n      <th>34306</th>\n      <td>89.310346</td>\n      <td>226731.0</td>\n      <td>1</td>\n      <td>24236.76</td>\n      <td>80</td>\n      <td>0.951717</td>\n      <td>0.190343</td>\n      <td>80</td>\n      <td>80.5</td>\n      <td>81</td>\n      <td>80</td>\n      <td>80.5</td>\n      <td>81</td>\n      <td>80</td>\n      <td>80.5</td>\n      <td>81</td>\n      <td>-9.310346</td>\n    </tr>\n    <tr>\n      <th>34307</th>\n      <td>89.720631</td>\n      <td>4503.0</td>\n      <td>1</td>\n      <td>462.88</td>\n      <td>65</td>\n      <td>0.771601</td>\n      <td>0.270060</td>\n      <td>65</td>\n      <td>65.0</td>\n      <td>65</td>\n      <td>65</td>\n      <td>65.5</td>\n      <td>66</td>\n      <td>65</td>\n      <td>65.5</td>\n      <td>66</td>\n      <td>-24.720631</td>\n    </tr>\n    <tr>\n      <th>34308</th>\n      <td>75.000000</td>\n      <td>53962.0</td>\n      <td>1</td>\n      <td>13490.50</td>\n      <td>70</td>\n      <td>0.816459</td>\n      <td>0.244938</td>\n      <td>70</td>\n      <td>72.0</td>\n      <td>74</td>\n      <td>60</td>\n      <td>67.5</td>\n      <td>75</td>\n      <td>60</td>\n      <td>68.0</td>\n      <td>76</td>\n      <td>-5.000000</td>\n    </tr>\n    <tr>\n      <th>34312</th>\n      <td>55.000000</td>\n      <td>136875.0</td>\n      <td>1</td>\n      <td>61593.75</td>\n      <td>70</td>\n      <td>0.958869</td>\n      <td>0.287661</td>\n      <td>70</td>\n      <td>70.0</td>\n      <td>70</td>\n      <td>70</td>\n      <td>70.0</td>\n      <td>70</td>\n      <td>70</td>\n      <td>70.5</td>\n      <td>71</td>\n      <td>15.000000</td>\n    </tr>\n    <tr>\n      <th>34313</th>\n      <td>55.000000</td>\n      <td>41493.0</td>\n      <td>1</td>\n      <td>18671.85</td>\n      <td>50</td>\n      <td>0.601080</td>\n      <td>0.300540</td>\n      <td>50</td>\n      <td>50.0</td>\n      <td>50</td>\n      <td>50</td>\n      <td>50.0</td>\n      <td>50</td>\n      <td>50</td>\n      <td>60.0</td>\n      <td>70</td>\n      <td>-5.000000</td>\n    </tr>\n    <tr>\n      <th>...</th>\n      <td>...</td>\n      <td>...</td>\n      <td>...</td>\n      <td>...</td>\n      <td>...</td>\n      <td>...</td>\n      <td>...</td>\n      <td>...</td>\n      <td>...</td>\n      <td>...</td>\n      <td>...</td>\n      <td>...</td>\n      <td>...</td>\n      <td>...</td>\n      <td>...</td>\n      <td>...</td>\n      <td>...</td>\n    </tr>\n    <tr>\n      <th>38081</th>\n      <td>50.000000</td>\n      <td>8219.0</td>\n      <td>1</td>\n      <td>4109.50</td>\n      <td>60</td>\n      <td>0.717605</td>\n      <td>0.287042</td>\n      <td>60</td>\n      <td>62.5</td>\n      <td>65</td>\n      <td>60</td>\n      <td>65.0</td>\n      <td>70</td>\n      <td>60</td>\n      <td>65.0</td>\n      <td>70</td>\n      <td>10.000000</td>\n    </tr>\n    <tr>\n      <th>38085</th>\n      <td>85.869773</td>\n      <td>45152.0</td>\n      <td>1</td>\n      <td>6380.08</td>\n      <td>80</td>\n      <td>0.893229</td>\n      <td>0.178646</td>\n      <td>80</td>\n      <td>80.5</td>\n      <td>81</td>\n      <td>80</td>\n      <td>80.5</td>\n      <td>81</td>\n      <td>79</td>\n      <td>80.5</td>\n      <td>82</td>\n      <td>-5.869773</td>\n    </tr>\n    <tr>\n      <th>38086</th>\n      <td>85.785747</td>\n      <td>4308.0</td>\n      <td>1</td>\n      <td>612.35</td>\n      <td>70</td>\n      <td>0.824240</td>\n      <td>0.247272</td>\n      <td>60</td>\n      <td>67.5</td>\n      <td>75</td>\n      <td>60</td>\n      <td>67.5</td>\n      <td>75</td>\n      <td>60</td>\n      <td>68.0</td>\n      <td>76</td>\n      <td>-15.785747</td>\n    </tr>\n    <tr>\n      <th>38087</th>\n      <td>79.760277</td>\n      <td>5060.0</td>\n      <td>1</td>\n      <td>1024.13</td>\n      <td>60</td>\n      <td>0.730981</td>\n      <td>0.292392</td>\n      <td>60</td>\n      <td>65.0</td>\n      <td>70</td>\n      <td>60</td>\n      <td>65.5</td>\n      <td>71</td>\n      <td>60</td>\n      <td>65.5</td>\n      <td>71</td>\n      <td>-19.760277</td>\n    </tr>\n    <tr>\n      <th>38088</th>\n      <td>81.999813</td>\n      <td>300038.0</td>\n      <td>1</td>\n      <td>54007.40</td>\n      <td>70</td>\n      <td>0.942243</td>\n      <td>0.282673</td>\n      <td>70</td>\n      <td>70.5</td>\n      <td>71</td>\n      <td>70</td>\n      <td>70.5</td>\n      <td>71</td>\n      <td>70</td>\n      <td>71.0</td>\n      <td>72</td>\n      <td>-11.999813</td>\n    </tr>\n  </tbody>\n</table>\n<p>2067 rows × 17 columns</p>\n</div>",
      "text/plain": "       real_discount   pub_rev  accepted  real_rev  rom_discount    rom_pa  \\\n34306      89.310346  226731.0         1  24236.76            80  0.951717   \n34307      89.720631    4503.0         1    462.88            65  0.771601   \n34308      75.000000   53962.0         1  13490.50            70  0.816459   \n34312      55.000000  136875.0         1  61593.75            70  0.958869   \n34313      55.000000   41493.0         1  18671.85            50  0.601080   \n...              ...       ...       ...       ...           ...       ...   \n38081      50.000000    8219.0         1   4109.50            60  0.717605   \n38085      85.869773   45152.0         1   6380.08            80  0.893229   \n38086      85.785747    4308.0         1    612.35            70  0.824240   \n38087      79.760277    5060.0         1   1024.13            60  0.730981   \n38088      81.999813  300038.0         1  54007.40            70  0.942243   \n\n       rom_exp_rev  rom_discount_4_low  rom_discount_4_mid  \\\n34306     0.190343                  80                80.5   \n34307     0.270060                  65                65.0   \n34308     0.244938                  70                72.0   \n34312     0.287661                  70                70.0   \n34313     0.300540                  50                50.0   \n...            ...                 ...                 ...   \n38081     0.287042                  60                62.5   \n38085     0.178646                  80                80.5   \n38086     0.247272                  60                67.5   \n38087     0.292392                  60                65.0   \n38088     0.282673                  70                70.5   \n\n       rom_discount_4_high  rom_discount_6_low  rom_discount_6_mid  \\\n34306                   81                  80                80.5   \n34307                   65                  65                65.5   \n34308                   74                  60                67.5   \n34312                   70                  70                70.0   \n34313                   50                  50                50.0   \n...                    ...                 ...                 ...   \n38081                   65                  60                65.0   \n38085                   81                  80                80.5   \n38086                   75                  60                67.5   \n38087                   70                  60                65.5   \n38088                   71                  70                70.5   \n\n       rom_discount_6_high  rom_discount_8_low  rom_discount_8_mid  \\\n34306                   81                  80                80.5   \n34307                   66                  65                65.5   \n34308                   75                  60                68.0   \n34312                   70                  70                70.5   \n34313                   50                  50                60.0   \n...                    ...                 ...                 ...   \n38081                   70                  60                65.0   \n38085                   81                  79                80.5   \n38086                   75                  60                68.0   \n38087                   71                  60                65.5   \n38088                   71                  70                71.0   \n\n       rom_discount_8_high   rom_diff  \n34306                   81  -9.310346  \n34307                   66 -24.720631  \n34308                   76  -5.000000  \n34312                   71  15.000000  \n34313                   70  -5.000000  \n...                    ...        ...  \n38081                   70  10.000000  \n38085                   82  -5.869773  \n38086                   76 -15.785747  \n38087                   71 -19.760277  \n38088                   72 -11.999813  \n\n[2067 rows x 17 columns]"
     },
     "metadata": {},
     "output_type": "display_data"
    },
    {
     "data": {
      "text/markdown": "\n\n**^^^^^^^^^^^^^^^^^^^^^^^^^^^^^^ Czech_Republic (2/6) - 14,28 (5/5) ^^^^^^^^^^^^^^^^^^^^^^^^^^^^^^**\n\n",
      "text/plain": "<IPython.core.display.Markdown object>"
     },
     "metadata": {},
     "output_type": "display_data"
    },
    {
     "name": "stdout",
     "output_type": "stream",
     "text": [
      "('2023-10-01', '2024-04-01', '2024-04-01', '2024-07-01')\n",
      "Train data shape: (4510, 138)\n",
      "Test data shape: (2067, 138)\n"
     ]
    },
    {
     "name": "stderr",
     "output_type": "stream",
     "text": [
      "[I 2025-01-28 16:21:26,616] A new study created in memory with name: no-name-a4eb58ec-531b-4c5c-b349-0f053c2fd885\n"
     ]
    },
    {
     "name": "stdout",
     "output_type": "stream",
     "text": [
      "before/after aug (4510, 138) (12587, 138)\n"
     ]
    },
    {
     "data": {
      "application/vnd.jupyter.widget-view+json": {
       "model_id": "8dfb12aa0a6e45aab011fc84998e7e12",
       "version_major": 2,
       "version_minor": 0
      },
      "text/plain": "  0%|          | 0/3 [00:00<?, ?it/s]"
     },
     "metadata": {},
     "output_type": "display_data"
    },
    {
     "name": "stdout",
     "output_type": "stream",
     "text": [
      "[I 2025-01-28 16:21:32,931] Trial 0 finished with value: 0.20065422471185493 and parameters: {'learning_rate': 0.01087080185549562, 'max_depth': 4, 'n_estimators': 729, 'gamma': 0.01123506477003016}. Best is trial 0 with value: 0.20065422471185493.\n",
      "[I 2025-01-28 16:21:41,631] Trial 1 finished with value: 0.19383630964169501 and parameters: {'learning_rate': 0.02230934569621654, 'max_depth': 6, 'n_estimators': 721, 'gamma': 0.05498659253091755}. Best is trial 1 with value: 0.19383630964169501.\n",
      "[I 2025-01-28 16:21:48,380] Trial 2 finished with value: 0.1942587234418451 and parameters: {'learning_rate': 0.03538453590906552, 'max_depth': 5, 'n_estimators': 643, 'gamma': 0.1229607110732571}. Best is trial 1 with value: 0.19383630964169501.\n",
      "Saving results to '../../../Data/training-data-POC-countries/rom_results/Czech_Republic~2024-04~2024-07/v07-test/14,28'\n",
      "Czech_Republic\n"
     ]
    },
    {
     "data": {
      "application/vnd.jupyter.widget-view+json": {
       "model_id": "89a3e622f4a24807b4cb3ccb1e25640a",
       "version_major": 2,
       "version_minor": 0
      },
      "text/plain": "  0%|          | 0/2067 [00:00<?, ?it/s]"
     },
     "metadata": {},
     "output_type": "display_data"
    },
    {
     "data": {
      "text/html": "<div>\n<style scoped>\n    .dataframe tbody tr th:only-of-type {\n        vertical-align: middle;\n    }\n\n    .dataframe tbody tr th {\n        vertical-align: top;\n    }\n\n    .dataframe thead th {\n        text-align: right;\n    }\n</style>\n<table border=\"1\" class=\"dataframe\">\n  <thead>\n    <tr style=\"text-align: right;\">\n      <th></th>\n      <th>real_discount</th>\n      <th>pub_rev</th>\n      <th>accepted</th>\n      <th>real_rev</th>\n      <th>rom_discount</th>\n      <th>rom_pa</th>\n      <th>rom_exp_rev</th>\n      <th>rom_discount_4_low</th>\n      <th>rom_discount_4_mid</th>\n      <th>rom_discount_4_high</th>\n      <th>rom_discount_6_low</th>\n      <th>rom_discount_6_mid</th>\n      <th>rom_discount_6_high</th>\n      <th>rom_discount_8_low</th>\n      <th>rom_discount_8_mid</th>\n      <th>rom_discount_8_high</th>\n      <th>rom_diff</th>\n    </tr>\n  </thead>\n  <tbody>\n    <tr>\n      <th>34306</th>\n      <td>89.310346</td>\n      <td>226731.0</td>\n      <td>1</td>\n      <td>24236.76</td>\n      <td>76</td>\n      <td>0.946103</td>\n      <td>0.227065</td>\n      <td>74</td>\n      <td>75.5</td>\n      <td>77</td>\n      <td>74</td>\n      <td>75.5</td>\n      <td>77</td>\n      <td>74</td>\n      <td>75.5</td>\n      <td>77</td>\n      <td>-13.310346</td>\n    </tr>\n    <tr>\n      <th>34307</th>\n      <td>89.720631</td>\n      <td>4503.0</td>\n      <td>1</td>\n      <td>462.88</td>\n      <td>50</td>\n      <td>0.658893</td>\n      <td>0.329446</td>\n      <td>50</td>\n      <td>50.0</td>\n      <td>50</td>\n      <td>50</td>\n      <td>57.5</td>\n      <td>65</td>\n      <td>50</td>\n      <td>59.0</td>\n      <td>68</td>\n      <td>-39.720631</td>\n    </tr>\n    <tr>\n      <th>34308</th>\n      <td>75.000000</td>\n      <td>53962.0</td>\n      <td>1</td>\n      <td>13490.50</td>\n      <td>60</td>\n      <td>0.813611</td>\n      <td>0.325444</td>\n      <td>60</td>\n      <td>60.0</td>\n      <td>60</td>\n      <td>60</td>\n      <td>60.0</td>\n      <td>60</td>\n      <td>60</td>\n      <td>60.0</td>\n      <td>60</td>\n      <td>-15.000000</td>\n    </tr>\n    <tr>\n      <th>34312</th>\n      <td>55.000000</td>\n      <td>136875.0</td>\n      <td>1</td>\n      <td>61593.75</td>\n      <td>68</td>\n      <td>0.975130</td>\n      <td>0.312041</td>\n      <td>68</td>\n      <td>68.5</td>\n      <td>69</td>\n      <td>67</td>\n      <td>68.0</td>\n      <td>69</td>\n      <td>67</td>\n      <td>68.5</td>\n      <td>70</td>\n      <td>13.000000</td>\n    </tr>\n    <tr>\n      <th>34313</th>\n      <td>55.000000</td>\n      <td>41493.0</td>\n      <td>1</td>\n      <td>18671.85</td>\n      <td>65</td>\n      <td>0.964453</td>\n      <td>0.337559</td>\n      <td>64</td>\n      <td>65.0</td>\n      <td>66</td>\n      <td>60</td>\n      <td>63.5</td>\n      <td>67</td>\n      <td>60</td>\n      <td>64.0</td>\n      <td>68</td>\n      <td>10.000000</td>\n    </tr>\n    <tr>\n      <th>...</th>\n      <td>...</td>\n      <td>...</td>\n      <td>...</td>\n      <td>...</td>\n      <td>...</td>\n      <td>...</td>\n      <td>...</td>\n      <td>...</td>\n      <td>...</td>\n      <td>...</td>\n      <td>...</td>\n      <td>...</td>\n      <td>...</td>\n      <td>...</td>\n      <td>...</td>\n      <td>...</td>\n      <td>...</td>\n    </tr>\n    <tr>\n      <th>38081</th>\n      <td>50.000000</td>\n      <td>8219.0</td>\n      <td>1</td>\n      <td>4109.50</td>\n      <td>50</td>\n      <td>0.882461</td>\n      <td>0.441230</td>\n      <td>50</td>\n      <td>50.0</td>\n      <td>50</td>\n      <td>50</td>\n      <td>50.0</td>\n      <td>50</td>\n      <td>50</td>\n      <td>50.0</td>\n      <td>50</td>\n      <td>0.000000</td>\n    </tr>\n    <tr>\n      <th>38085</th>\n      <td>85.869773</td>\n      <td>45152.0</td>\n      <td>1</td>\n      <td>6380.08</td>\n      <td>68</td>\n      <td>0.897925</td>\n      <td>0.287336</td>\n      <td>68</td>\n      <td>68.5</td>\n      <td>69</td>\n      <td>68</td>\n      <td>68.5</td>\n      <td>69</td>\n      <td>68</td>\n      <td>69.0</td>\n      <td>70</td>\n      <td>-17.869773</td>\n    </tr>\n    <tr>\n      <th>38086</th>\n      <td>85.785747</td>\n      <td>4308.0</td>\n      <td>1</td>\n      <td>612.35</td>\n      <td>65</td>\n      <td>0.907427</td>\n      <td>0.317599</td>\n      <td>65</td>\n      <td>66.5</td>\n      <td>68</td>\n      <td>65</td>\n      <td>66.5</td>\n      <td>68</td>\n      <td>64</td>\n      <td>66.5</td>\n      <td>69</td>\n      <td>-20.785747</td>\n    </tr>\n    <tr>\n      <th>38087</th>\n      <td>79.760277</td>\n      <td>5060.0</td>\n      <td>1</td>\n      <td>1024.13</td>\n      <td>60</td>\n      <td>0.862558</td>\n      <td>0.345023</td>\n      <td>60</td>\n      <td>62.0</td>\n      <td>64</td>\n      <td>59</td>\n      <td>62.0</td>\n      <td>65</td>\n      <td>59</td>\n      <td>62.5</td>\n      <td>66</td>\n      <td>-19.760277</td>\n    </tr>\n    <tr>\n      <th>38088</th>\n      <td>81.999813</td>\n      <td>300038.0</td>\n      <td>1</td>\n      <td>54007.40</td>\n      <td>60</td>\n      <td>0.842344</td>\n      <td>0.336938</td>\n      <td>60</td>\n      <td>62.5</td>\n      <td>65</td>\n      <td>60</td>\n      <td>62.5</td>\n      <td>65</td>\n      <td>60</td>\n      <td>64.0</td>\n      <td>68</td>\n      <td>-21.999813</td>\n    </tr>\n  </tbody>\n</table>\n<p>2067 rows × 17 columns</p>\n</div>",
      "text/plain": "       real_discount   pub_rev  accepted  real_rev  rom_discount    rom_pa  \\\n34306      89.310346  226731.0         1  24236.76            76  0.946103   \n34307      89.720631    4503.0         1    462.88            50  0.658893   \n34308      75.000000   53962.0         1  13490.50            60  0.813611   \n34312      55.000000  136875.0         1  61593.75            68  0.975130   \n34313      55.000000   41493.0         1  18671.85            65  0.964453   \n...              ...       ...       ...       ...           ...       ...   \n38081      50.000000    8219.0         1   4109.50            50  0.882461   \n38085      85.869773   45152.0         1   6380.08            68  0.897925   \n38086      85.785747    4308.0         1    612.35            65  0.907427   \n38087      79.760277    5060.0         1   1024.13            60  0.862558   \n38088      81.999813  300038.0         1  54007.40            60  0.842344   \n\n       rom_exp_rev  rom_discount_4_low  rom_discount_4_mid  \\\n34306     0.227065                  74                75.5   \n34307     0.329446                  50                50.0   \n34308     0.325444                  60                60.0   \n34312     0.312041                  68                68.5   \n34313     0.337559                  64                65.0   \n...            ...                 ...                 ...   \n38081     0.441230                  50                50.0   \n38085     0.287336                  68                68.5   \n38086     0.317599                  65                66.5   \n38087     0.345023                  60                62.0   \n38088     0.336938                  60                62.5   \n\n       rom_discount_4_high  rom_discount_6_low  rom_discount_6_mid  \\\n34306                   77                  74                75.5   \n34307                   50                  50                57.5   \n34308                   60                  60                60.0   \n34312                   69                  67                68.0   \n34313                   66                  60                63.5   \n...                    ...                 ...                 ...   \n38081                   50                  50                50.0   \n38085                   69                  68                68.5   \n38086                   68                  65                66.5   \n38087                   64                  59                62.0   \n38088                   65                  60                62.5   \n\n       rom_discount_6_high  rom_discount_8_low  rom_discount_8_mid  \\\n34306                   77                  74                75.5   \n34307                   65                  50                59.0   \n34308                   60                  60                60.0   \n34312                   69                  67                68.5   \n34313                   67                  60                64.0   \n...                    ...                 ...                 ...   \n38081                   50                  50                50.0   \n38085                   69                  68                69.0   \n38086                   68                  64                66.5   \n38087                   65                  59                62.5   \n38088                   65                  60                64.0   \n\n       rom_discount_8_high   rom_diff  \n34306                   77 -13.310346  \n34307                   68 -39.720631  \n34308                   60 -15.000000  \n34312                   70  13.000000  \n34313                   68  10.000000  \n...                    ...        ...  \n38081                   50   0.000000  \n38085                   70 -17.869773  \n38086                   69 -20.785747  \n38087                   66 -19.760277  \n38088                   68 -21.999813  \n\n[2067 rows x 17 columns]"
     },
     "metadata": {},
     "output_type": "display_data"
    },
    {
     "data": {
      "text/markdown": "\n\n**^^^^^^^^^^^^^^^^^^^^^^^^^^^^^^ Italy (3/6) - 08,26 (1/5) ^^^^^^^^^^^^^^^^^^^^^^^^^^^^^^**\n\n",
      "text/plain": "<IPython.core.display.Markdown object>"
     },
     "metadata": {},
     "output_type": "display_data"
    },
    {
     "name": "stdout",
     "output_type": "stream",
     "text": [
      "('2023-10-01', '2024-04-01', '2024-04-01', '2024-07-01')\n",
      "Train data shape: (30355, 138)\n",
      "Test data shape: (13589, 138)\n",
      "before/after aug (30355, 138) (89734, 138)\n"
     ]
    },
    {
     "name": "stderr",
     "output_type": "stream",
     "text": [
      "[I 2025-01-28 16:22:12,629] A new study created in memory with name: no-name-406bc0a3-95b1-4f38-98c9-3137aae8ed13\n"
     ]
    },
    {
     "data": {
      "application/vnd.jupyter.widget-view+json": {
       "model_id": "097222ab8d85435d8e8a0a420e22dba1",
       "version_major": 2,
       "version_minor": 0
      },
      "text/plain": "  0%|          | 0/3 [00:00<?, ?it/s]"
     },
     "metadata": {},
     "output_type": "display_data"
    },
    {
     "name": "stdout",
     "output_type": "stream",
     "text": [
      "[I 2025-01-28 16:22:21,798] Trial 0 finished with value: 0.2190176566508703 and parameters: {'learning_rate': 0.01087080185549562, 'max_depth': 4, 'n_estimators': 729, 'gamma': 0.01123506477003016}. Best is trial 0 with value: 0.2190176566508703.\n",
      "[I 2025-01-28 16:22:34,478] Trial 1 finished with value: 0.20641792223434244 and parameters: {'learning_rate': 0.02230934569621654, 'max_depth': 6, 'n_estimators': 721, 'gamma': 0.05498659253091755}. Best is trial 1 with value: 0.20641792223434244.\n",
      "[I 2025-01-28 16:22:44,163] Trial 2 finished with value: 0.20786362021129284 and parameters: {'learning_rate': 0.03538453590906552, 'max_depth': 5, 'n_estimators': 643, 'gamma': 0.1229607110732571}. Best is trial 1 with value: 0.20641792223434244.\n",
      "Saving results to '../../../Data/training-data-POC-countries/rom_results/Italy~2024-04~2024-07/v07-test/08,26'\n",
      "Italy\n"
     ]
    },
    {
     "data": {
      "application/vnd.jupyter.widget-view+json": {
       "model_id": "7cdde81f21c243e8a98b38918e620313",
       "version_major": 2,
       "version_minor": 0
      },
      "text/plain": "  0%|          | 0/13589 [00:00<?, ?it/s]"
     },
     "metadata": {},
     "output_type": "display_data"
    },
    {
     "data": {
      "text/html": "<div>\n<style scoped>\n    .dataframe tbody tr th:only-of-type {\n        vertical-align: middle;\n    }\n\n    .dataframe tbody tr th {\n        vertical-align: top;\n    }\n\n    .dataframe thead th {\n        text-align: right;\n    }\n</style>\n<table border=\"1\" class=\"dataframe\">\n  <thead>\n    <tr style=\"text-align: right;\">\n      <th></th>\n      <th>real_discount</th>\n      <th>pub_rev</th>\n      <th>accepted</th>\n      <th>real_rev</th>\n      <th>rom_discount</th>\n      <th>rom_pa</th>\n      <th>rom_exp_rev</th>\n      <th>rom_discount_4_low</th>\n      <th>rom_discount_4_mid</th>\n      <th>rom_discount_4_high</th>\n      <th>rom_discount_6_low</th>\n      <th>rom_discount_6_mid</th>\n      <th>rom_discount_6_high</th>\n      <th>rom_discount_8_low</th>\n      <th>rom_discount_8_mid</th>\n      <th>rom_discount_8_high</th>\n      <th>rom_diff</th>\n    </tr>\n  </thead>\n  <tbody>\n    <tr>\n      <th>289395</th>\n      <td>79.868324</td>\n      <td>2556.27</td>\n      <td>0</td>\n      <td>0.00</td>\n      <td>58</td>\n      <td>0.723990</td>\n      <td>0.304076</td>\n      <td>58</td>\n      <td>58.0</td>\n      <td>58</td>\n      <td>58</td>\n      <td>58.0</td>\n      <td>58</td>\n      <td>58</td>\n      <td>58.0</td>\n      <td>58</td>\n      <td>-21.868324</td>\n    </tr>\n    <tr>\n      <th>289396</th>\n      <td>80.004371</td>\n      <td>100672.00</td>\n      <td>0</td>\n      <td>0.00</td>\n      <td>75</td>\n      <td>0.897779</td>\n      <td>0.224445</td>\n      <td>73</td>\n      <td>74.5</td>\n      <td>76</td>\n      <td>73</td>\n      <td>75.0</td>\n      <td>77</td>\n      <td>73</td>\n      <td>75.0</td>\n      <td>77</td>\n      <td>-5.004371</td>\n    </tr>\n    <tr>\n      <th>289397</th>\n      <td>73.995491</td>\n      <td>678.69</td>\n      <td>0</td>\n      <td>0.00</td>\n      <td>58</td>\n      <td>0.791204</td>\n      <td>0.332306</td>\n      <td>58</td>\n      <td>58.0</td>\n      <td>58</td>\n      <td>58</td>\n      <td>58.0</td>\n      <td>58</td>\n      <td>58</td>\n      <td>58.0</td>\n      <td>58</td>\n      <td>-15.995491</td>\n    </tr>\n    <tr>\n      <th>289399</th>\n      <td>50.916890</td>\n      <td>149200.00</td>\n      <td>1</td>\n      <td>73232.00</td>\n      <td>73</td>\n      <td>0.899462</td>\n      <td>0.242855</td>\n      <td>68</td>\n      <td>71.5</td>\n      <td>75</td>\n      <td>67</td>\n      <td>71.5</td>\n      <td>76</td>\n      <td>67</td>\n      <td>71.5</td>\n      <td>76</td>\n      <td>22.083110</td>\n    </tr>\n    <tr>\n      <th>289403</th>\n      <td>62.603858</td>\n      <td>1748.79</td>\n      <td>1</td>\n      <td>653.98</td>\n      <td>58</td>\n      <td>0.827536</td>\n      <td>0.347565</td>\n      <td>58</td>\n      <td>58.0</td>\n      <td>58</td>\n      <td>58</td>\n      <td>59.0</td>\n      <td>60</td>\n      <td>58</td>\n      <td>59.0</td>\n      <td>60</td>\n      <td>-4.603858</td>\n    </tr>\n    <tr>\n      <th>...</th>\n      <td>...</td>\n      <td>...</td>\n      <td>...</td>\n      <td>...</td>\n      <td>...</td>\n      <td>...</td>\n      <td>...</td>\n      <td>...</td>\n      <td>...</td>\n      <td>...</td>\n      <td>...</td>\n      <td>...</td>\n      <td>...</td>\n      <td>...</td>\n      <td>...</td>\n      <td>...</td>\n      <td>...</td>\n    </tr>\n    <tr>\n      <th>320766</th>\n      <td>71.977331</td>\n      <td>1542.18</td>\n      <td>1</td>\n      <td>432.16</td>\n      <td>67</td>\n      <td>0.840520</td>\n      <td>0.277372</td>\n      <td>67</td>\n      <td>68.0</td>\n      <td>69</td>\n      <td>67</td>\n      <td>68.5</td>\n      <td>70</td>\n      <td>67</td>\n      <td>68.5</td>\n      <td>70</td>\n      <td>-4.977331</td>\n    </tr>\n    <tr>\n      <th>320767</th>\n      <td>71.982833</td>\n      <td>582.50</td>\n      <td>1</td>\n      <td>163.20</td>\n      <td>67</td>\n      <td>0.843381</td>\n      <td>0.278316</td>\n      <td>67</td>\n      <td>68.0</td>\n      <td>69</td>\n      <td>67</td>\n      <td>68.5</td>\n      <td>70</td>\n      <td>67</td>\n      <td>70.0</td>\n      <td>73</td>\n      <td>-4.982833</td>\n    </tr>\n    <tr>\n      <th>320768</th>\n      <td>72.035129</td>\n      <td>5716.10</td>\n      <td>1</td>\n      <td>1598.50</td>\n      <td>67</td>\n      <td>0.846289</td>\n      <td>0.279276</td>\n      <td>67</td>\n      <td>68.0</td>\n      <td>69</td>\n      <td>67</td>\n      <td>68.5</td>\n      <td>70</td>\n      <td>67</td>\n      <td>68.5</td>\n      <td>70</td>\n      <td>-5.035129</td>\n    </tr>\n    <tr>\n      <th>320769</th>\n      <td>72.009668</td>\n      <td>6288.60</td>\n      <td>1</td>\n      <td>1760.20</td>\n      <td>67</td>\n      <td>0.801354</td>\n      <td>0.264447</td>\n      <td>67</td>\n      <td>68.0</td>\n      <td>69</td>\n      <td>67</td>\n      <td>70.0</td>\n      <td>73</td>\n      <td>67</td>\n      <td>70.0</td>\n      <td>73</td>\n      <td>-5.009668</td>\n    </tr>\n    <tr>\n      <th>320775</th>\n      <td>69.986825</td>\n      <td>1897.50</td>\n      <td>1</td>\n      <td>569.50</td>\n      <td>68</td>\n      <td>0.846670</td>\n      <td>0.270934</td>\n      <td>67</td>\n      <td>68.0</td>\n      <td>69</td>\n      <td>67</td>\n      <td>68.0</td>\n      <td>69</td>\n      <td>67</td>\n      <td>70.0</td>\n      <td>73</td>\n      <td>-1.986825</td>\n    </tr>\n  </tbody>\n</table>\n<p>13589 rows × 17 columns</p>\n</div>",
      "text/plain": "        real_discount    pub_rev  accepted  real_rev  rom_discount    rom_pa  \\\n289395      79.868324    2556.27         0      0.00            58  0.723990   \n289396      80.004371  100672.00         0      0.00            75  0.897779   \n289397      73.995491     678.69         0      0.00            58  0.791204   \n289399      50.916890  149200.00         1  73232.00            73  0.899462   \n289403      62.603858    1748.79         1    653.98            58  0.827536   \n...               ...        ...       ...       ...           ...       ...   \n320766      71.977331    1542.18         1    432.16            67  0.840520   \n320767      71.982833     582.50         1    163.20            67  0.843381   \n320768      72.035129    5716.10         1   1598.50            67  0.846289   \n320769      72.009668    6288.60         1   1760.20            67  0.801354   \n320775      69.986825    1897.50         1    569.50            68  0.846670   \n\n        rom_exp_rev  rom_discount_4_low  rom_discount_4_mid  \\\n289395     0.304076                  58                58.0   \n289396     0.224445                  73                74.5   \n289397     0.332306                  58                58.0   \n289399     0.242855                  68                71.5   \n289403     0.347565                  58                58.0   \n...             ...                 ...                 ...   \n320766     0.277372                  67                68.0   \n320767     0.278316                  67                68.0   \n320768     0.279276                  67                68.0   \n320769     0.264447                  67                68.0   \n320775     0.270934                  67                68.0   \n\n        rom_discount_4_high  rom_discount_6_low  rom_discount_6_mid  \\\n289395                   58                  58                58.0   \n289396                   76                  73                75.0   \n289397                   58                  58                58.0   \n289399                   75                  67                71.5   \n289403                   58                  58                59.0   \n...                     ...                 ...                 ...   \n320766                   69                  67                68.5   \n320767                   69                  67                68.5   \n320768                   69                  67                68.5   \n320769                   69                  67                70.0   \n320775                   69                  67                68.0   \n\n        rom_discount_6_high  rom_discount_8_low  rom_discount_8_mid  \\\n289395                   58                  58                58.0   \n289396                   77                  73                75.0   \n289397                   58                  58                58.0   \n289399                   76                  67                71.5   \n289403                   60                  58                59.0   \n...                     ...                 ...                 ...   \n320766                   70                  67                68.5   \n320767                   70                  67                70.0   \n320768                   70                  67                68.5   \n320769                   73                  67                70.0   \n320775                   69                  67                70.0   \n\n        rom_discount_8_high   rom_diff  \n289395                   58 -21.868324  \n289396                   77  -5.004371  \n289397                   58 -15.995491  \n289399                   76  22.083110  \n289403                   60  -4.603858  \n...                     ...        ...  \n320766                   70  -4.977331  \n320767                   73  -4.982833  \n320768                   70  -5.035129  \n320769                   73  -5.009668  \n320775                   73  -1.986825  \n\n[13589 rows x 17 columns]"
     },
     "metadata": {},
     "output_type": "display_data"
    },
    {
     "data": {
      "text/markdown": "\n\n**^^^^^^^^^^^^^^^^^^^^^^^^^^^^^^ Italy (3/6) - 10,37 (2/5) ^^^^^^^^^^^^^^^^^^^^^^^^^^^^^^**\n\n",
      "text/plain": "<IPython.core.display.Markdown object>"
     },
     "metadata": {},
     "output_type": "display_data"
    },
    {
     "name": "stdout",
     "output_type": "stream",
     "text": [
      "('2023-10-01', '2024-04-01', '2024-04-01', '2024-07-01')\n",
      "Train data shape: (30355, 138)\n",
      "Test data shape: (13589, 138)\n"
     ]
    },
    {
     "name": "stderr",
     "output_type": "stream",
     "text": [
      "[I 2025-01-28 16:24:46,104] A new study created in memory with name: no-name-5d6fbb74-37f4-43f2-95c6-d960649ef202\n"
     ]
    },
    {
     "name": "stdout",
     "output_type": "stream",
     "text": [
      "before/after aug (30355, 138) (85237, 138)\n"
     ]
    },
    {
     "data": {
      "application/vnd.jupyter.widget-view+json": {
       "model_id": "d903289691084278b0eb8693bda35cad",
       "version_major": 2,
       "version_minor": 0
      },
      "text/plain": "  0%|          | 0/3 [00:00<?, ?it/s]"
     },
     "metadata": {},
     "output_type": "display_data"
    },
    {
     "name": "stdout",
     "output_type": "stream",
     "text": [
      "[I 2025-01-28 16:24:55,335] Trial 0 finished with value: 0.19687511516235462 and parameters: {'learning_rate': 0.01087080185549562, 'max_depth': 4, 'n_estimators': 729, 'gamma': 0.01123506477003016}. Best is trial 0 with value: 0.19687511516235462.\n",
      "[I 2025-01-28 16:25:07,333] Trial 1 finished with value: 0.18691448030805607 and parameters: {'learning_rate': 0.02230934569621654, 'max_depth': 6, 'n_estimators': 721, 'gamma': 0.05498659253091755}. Best is trial 1 with value: 0.18691448030805607.\n",
      "[I 2025-01-28 16:25:16,631] Trial 2 finished with value: 0.18805951770706086 and parameters: {'learning_rate': 0.03538453590906552, 'max_depth': 5, 'n_estimators': 643, 'gamma': 0.1229607110732571}. Best is trial 1 with value: 0.18691448030805607.\n",
      "Saving results to '../../../Data/training-data-POC-countries/rom_results/Italy~2024-04~2024-07/v07-test/10,37'\n",
      "Italy\n"
     ]
    },
    {
     "data": {
      "application/vnd.jupyter.widget-view+json": {
       "model_id": "d423e74bed074358b3ca86668a33dea7",
       "version_major": 2,
       "version_minor": 0
      },
      "text/plain": "  0%|          | 0/13589 [00:00<?, ?it/s]"
     },
     "metadata": {},
     "output_type": "display_data"
    },
    {
     "data": {
      "text/html": "<div>\n<style scoped>\n    .dataframe tbody tr th:only-of-type {\n        vertical-align: middle;\n    }\n\n    .dataframe tbody tr th {\n        vertical-align: top;\n    }\n\n    .dataframe thead th {\n        text-align: right;\n    }\n</style>\n<table border=\"1\" class=\"dataframe\">\n  <thead>\n    <tr style=\"text-align: right;\">\n      <th></th>\n      <th>real_discount</th>\n      <th>pub_rev</th>\n      <th>accepted</th>\n      <th>real_rev</th>\n      <th>rom_discount</th>\n      <th>rom_pa</th>\n      <th>rom_exp_rev</th>\n      <th>rom_discount_4_low</th>\n      <th>rom_discount_4_mid</th>\n      <th>rom_discount_4_high</th>\n      <th>rom_discount_6_low</th>\n      <th>rom_discount_6_mid</th>\n      <th>rom_discount_6_high</th>\n      <th>rom_discount_8_low</th>\n      <th>rom_discount_8_mid</th>\n      <th>rom_discount_8_high</th>\n      <th>rom_diff</th>\n    </tr>\n  </thead>\n  <tbody>\n    <tr>\n      <th>289395</th>\n      <td>79.868324</td>\n      <td>2556.27</td>\n      <td>0</td>\n      <td>0.00</td>\n      <td>47</td>\n      <td>0.671609</td>\n      <td>0.355953</td>\n      <td>47</td>\n      <td>48.0</td>\n      <td>49</td>\n      <td>47</td>\n      <td>48.0</td>\n      <td>49</td>\n      <td>47</td>\n      <td>48.0</td>\n      <td>49</td>\n      <td>-32.868324</td>\n    </tr>\n    <tr>\n      <th>289396</th>\n      <td>80.004371</td>\n      <td>100672.00</td>\n      <td>0</td>\n      <td>0.00</td>\n      <td>75</td>\n      <td>0.915809</td>\n      <td>0.228952</td>\n      <td>75</td>\n      <td>75.0</td>\n      <td>75</td>\n      <td>74</td>\n      <td>75.0</td>\n      <td>76</td>\n      <td>73</td>\n      <td>74.5</td>\n      <td>76</td>\n      <td>-5.004371</td>\n    </tr>\n    <tr>\n      <th>289397</th>\n      <td>73.995491</td>\n      <td>678.69</td>\n      <td>0</td>\n      <td>0.00</td>\n      <td>47</td>\n      <td>0.652953</td>\n      <td>0.346065</td>\n      <td>47</td>\n      <td>48.0</td>\n      <td>49</td>\n      <td>47</td>\n      <td>48.0</td>\n      <td>49</td>\n      <td>47</td>\n      <td>48.0</td>\n      <td>49</td>\n      <td>-26.995491</td>\n    </tr>\n    <tr>\n      <th>289399</th>\n      <td>50.916890</td>\n      <td>149200.00</td>\n      <td>1</td>\n      <td>73232.00</td>\n      <td>68</td>\n      <td>0.811446</td>\n      <td>0.259663</td>\n      <td>65</td>\n      <td>69.0</td>\n      <td>73</td>\n      <td>65</td>\n      <td>70.0</td>\n      <td>75</td>\n      <td>65</td>\n      <td>70.0</td>\n      <td>75</td>\n      <td>17.083110</td>\n    </tr>\n    <tr>\n      <th>289403</th>\n      <td>62.603858</td>\n      <td>1748.79</td>\n      <td>1</td>\n      <td>653.98</td>\n      <td>45</td>\n      <td>0.745415</td>\n      <td>0.409978</td>\n      <td>45</td>\n      <td>45.5</td>\n      <td>46</td>\n      <td>45</td>\n      <td>46.0</td>\n      <td>47</td>\n      <td>45</td>\n      <td>46.5</td>\n      <td>48</td>\n      <td>-17.603858</td>\n    </tr>\n    <tr>\n      <th>...</th>\n      <td>...</td>\n      <td>...</td>\n      <td>...</td>\n      <td>...</td>\n      <td>...</td>\n      <td>...</td>\n      <td>...</td>\n      <td>...</td>\n      <td>...</td>\n      <td>...</td>\n      <td>...</td>\n      <td>...</td>\n      <td>...</td>\n      <td>...</td>\n      <td>...</td>\n      <td>...</td>\n      <td>...</td>\n    </tr>\n    <tr>\n      <th>320766</th>\n      <td>71.977331</td>\n      <td>1542.18</td>\n      <td>1</td>\n      <td>432.16</td>\n      <td>67</td>\n      <td>0.787828</td>\n      <td>0.259983</td>\n      <td>65</td>\n      <td>67.0</td>\n      <td>69</td>\n      <td>65</td>\n      <td>67.5</td>\n      <td>70</td>\n      <td>65</td>\n      <td>67.5</td>\n      <td>70</td>\n      <td>-4.977331</td>\n    </tr>\n    <tr>\n      <th>320767</th>\n      <td>71.982833</td>\n      <td>582.50</td>\n      <td>1</td>\n      <td>163.20</td>\n      <td>67</td>\n      <td>0.795004</td>\n      <td>0.262351</td>\n      <td>65</td>\n      <td>67.0</td>\n      <td>69</td>\n      <td>65</td>\n      <td>67.5</td>\n      <td>70</td>\n      <td>65</td>\n      <td>69.0</td>\n      <td>73</td>\n      <td>-4.982833</td>\n    </tr>\n    <tr>\n      <th>320768</th>\n      <td>72.035129</td>\n      <td>5716.10</td>\n      <td>1</td>\n      <td>1598.50</td>\n      <td>67</td>\n      <td>0.790995</td>\n      <td>0.261028</td>\n      <td>65</td>\n      <td>67.0</td>\n      <td>69</td>\n      <td>65</td>\n      <td>67.5</td>\n      <td>70</td>\n      <td>65</td>\n      <td>67.5</td>\n      <td>70</td>\n      <td>-5.035129</td>\n    </tr>\n    <tr>\n      <th>320769</th>\n      <td>72.009668</td>\n      <td>6288.60</td>\n      <td>1</td>\n      <td>1760.20</td>\n      <td>67</td>\n      <td>0.770816</td>\n      <td>0.254369</td>\n      <td>67</td>\n      <td>68.0</td>\n      <td>69</td>\n      <td>65</td>\n      <td>67.5</td>\n      <td>70</td>\n      <td>65</td>\n      <td>67.5</td>\n      <td>70</td>\n      <td>-5.009668</td>\n    </tr>\n    <tr>\n      <th>320775</th>\n      <td>69.986825</td>\n      <td>1897.50</td>\n      <td>1</td>\n      <td>569.50</td>\n      <td>65</td>\n      <td>0.784582</td>\n      <td>0.274604</td>\n      <td>65</td>\n      <td>66.5</td>\n      <td>68</td>\n      <td>65</td>\n      <td>67.5</td>\n      <td>70</td>\n      <td>65</td>\n      <td>67.5</td>\n      <td>70</td>\n      <td>-4.986825</td>\n    </tr>\n  </tbody>\n</table>\n<p>13589 rows × 17 columns</p>\n</div>",
      "text/plain": "        real_discount    pub_rev  accepted  real_rev  rom_discount    rom_pa  \\\n289395      79.868324    2556.27         0      0.00            47  0.671609   \n289396      80.004371  100672.00         0      0.00            75  0.915809   \n289397      73.995491     678.69         0      0.00            47  0.652953   \n289399      50.916890  149200.00         1  73232.00            68  0.811446   \n289403      62.603858    1748.79         1    653.98            45  0.745415   \n...               ...        ...       ...       ...           ...       ...   \n320766      71.977331    1542.18         1    432.16            67  0.787828   \n320767      71.982833     582.50         1    163.20            67  0.795004   \n320768      72.035129    5716.10         1   1598.50            67  0.790995   \n320769      72.009668    6288.60         1   1760.20            67  0.770816   \n320775      69.986825    1897.50         1    569.50            65  0.784582   \n\n        rom_exp_rev  rom_discount_4_low  rom_discount_4_mid  \\\n289395     0.355953                  47                48.0   \n289396     0.228952                  75                75.0   \n289397     0.346065                  47                48.0   \n289399     0.259663                  65                69.0   \n289403     0.409978                  45                45.5   \n...             ...                 ...                 ...   \n320766     0.259983                  65                67.0   \n320767     0.262351                  65                67.0   \n320768     0.261028                  65                67.0   \n320769     0.254369                  67                68.0   \n320775     0.274604                  65                66.5   \n\n        rom_discount_4_high  rom_discount_6_low  rom_discount_6_mid  \\\n289395                   49                  47                48.0   \n289396                   75                  74                75.0   \n289397                   49                  47                48.0   \n289399                   73                  65                70.0   \n289403                   46                  45                46.0   \n...                     ...                 ...                 ...   \n320766                   69                  65                67.5   \n320767                   69                  65                67.5   \n320768                   69                  65                67.5   \n320769                   69                  65                67.5   \n320775                   68                  65                67.5   \n\n        rom_discount_6_high  rom_discount_8_low  rom_discount_8_mid  \\\n289395                   49                  47                48.0   \n289396                   76                  73                74.5   \n289397                   49                  47                48.0   \n289399                   75                  65                70.0   \n289403                   47                  45                46.5   \n...                     ...                 ...                 ...   \n320766                   70                  65                67.5   \n320767                   70                  65                69.0   \n320768                   70                  65                67.5   \n320769                   70                  65                67.5   \n320775                   70                  65                67.5   \n\n        rom_discount_8_high   rom_diff  \n289395                   49 -32.868324  \n289396                   76  -5.004371  \n289397                   49 -26.995491  \n289399                   75  17.083110  \n289403                   48 -17.603858  \n...                     ...        ...  \n320766                   70  -4.977331  \n320767                   73  -4.982833  \n320768                   70  -5.035129  \n320769                   70  -5.009668  \n320775                   70  -4.986825  \n\n[13589 rows x 17 columns]"
     },
     "metadata": {},
     "output_type": "display_data"
    },
    {
     "data": {
      "text/markdown": "\n\n**^^^^^^^^^^^^^^^^^^^^^^^^^^^^^^ Italy (3/6) - 10,43 (3/5) ^^^^^^^^^^^^^^^^^^^^^^^^^^^^^^**\n\n",
      "text/plain": "<IPython.core.display.Markdown object>"
     },
     "metadata": {},
     "output_type": "display_data"
    },
    {
     "name": "stdout",
     "output_type": "stream",
     "text": [
      "('2023-10-01', '2024-04-01', '2024-04-01', '2024-07-01')\n",
      "Train data shape: (30355, 138)\n",
      "Test data shape: (13589, 138)\n"
     ]
    },
    {
     "name": "stderr",
     "output_type": "stream",
     "text": [
      "[I 2025-01-28 16:27:17,474] A new study created in memory with name: no-name-414d3586-bf28-4c17-b64a-d2616e581101\n"
     ]
    },
    {
     "name": "stdout",
     "output_type": "stream",
     "text": [
      "before/after aug (30355, 138) (84654, 138)\n"
     ]
    },
    {
     "data": {
      "application/vnd.jupyter.widget-view+json": {
       "model_id": "daa445b9ddbf47a1ae10c71473d71045",
       "version_major": 2,
       "version_minor": 0
      },
      "text/plain": "  0%|          | 0/3 [00:00<?, ?it/s]"
     },
     "metadata": {},
     "output_type": "display_data"
    },
    {
     "name": "stdout",
     "output_type": "stream",
     "text": [
      "[I 2025-01-28 16:27:26,428] Trial 0 finished with value: 0.19064976848934162 and parameters: {'learning_rate': 0.01087080185549562, 'max_depth': 4, 'n_estimators': 729, 'gamma': 0.01123506477003016}. Best is trial 0 with value: 0.19064976848934162.\n",
      "[I 2025-01-28 16:27:38,382] Trial 1 finished with value: 0.18205994967773936 and parameters: {'learning_rate': 0.02230934569621654, 'max_depth': 6, 'n_estimators': 721, 'gamma': 0.05498659253091755}. Best is trial 1 with value: 0.18205994967773936.\n",
      "[I 2025-01-28 16:27:47,227] Trial 2 finished with value: 0.18351942545553043 and parameters: {'learning_rate': 0.03538453590906552, 'max_depth': 5, 'n_estimators': 643, 'gamma': 0.1229607110732571}. Best is trial 1 with value: 0.18205994967773936.\n",
      "Saving results to '../../../Data/training-data-POC-countries/rom_results/Italy~2024-04~2024-07/v07-test/10,43'\n",
      "Italy\n"
     ]
    },
    {
     "data": {
      "application/vnd.jupyter.widget-view+json": {
       "model_id": "5a227a1b2e314b6ebb085d3633ea1c6b",
       "version_major": 2,
       "version_minor": 0
      },
      "text/plain": "  0%|          | 0/13589 [00:00<?, ?it/s]"
     },
     "metadata": {},
     "output_type": "display_data"
    },
    {
     "data": {
      "text/html": "<div>\n<style scoped>\n    .dataframe tbody tr th:only-of-type {\n        vertical-align: middle;\n    }\n\n    .dataframe tbody tr th {\n        vertical-align: top;\n    }\n\n    .dataframe thead th {\n        text-align: right;\n    }\n</style>\n<table border=\"1\" class=\"dataframe\">\n  <thead>\n    <tr style=\"text-align: right;\">\n      <th></th>\n      <th>real_discount</th>\n      <th>pub_rev</th>\n      <th>accepted</th>\n      <th>real_rev</th>\n      <th>rom_discount</th>\n      <th>rom_pa</th>\n      <th>rom_exp_rev</th>\n      <th>rom_discount_4_low</th>\n      <th>rom_discount_4_mid</th>\n      <th>rom_discount_4_high</th>\n      <th>rom_discount_6_low</th>\n      <th>rom_discount_6_mid</th>\n      <th>rom_discount_6_high</th>\n      <th>rom_discount_8_low</th>\n      <th>rom_discount_8_mid</th>\n      <th>rom_discount_8_high</th>\n      <th>rom_diff</th>\n    </tr>\n  </thead>\n  <tbody>\n    <tr>\n      <th>289395</th>\n      <td>79.868324</td>\n      <td>2556.27</td>\n      <td>0</td>\n      <td>0.00</td>\n      <td>46</td>\n      <td>0.568372</td>\n      <td>0.306921</td>\n      <td>46</td>\n      <td>47.0</td>\n      <td>48</td>\n      <td>46</td>\n      <td>47.5</td>\n      <td>49</td>\n      <td>46</td>\n      <td>47.5</td>\n      <td>49</td>\n      <td>-33.868324</td>\n    </tr>\n    <tr>\n      <th>289396</th>\n      <td>80.004371</td>\n      <td>100672.00</td>\n      <td>0</td>\n      <td>0.00</td>\n      <td>75</td>\n      <td>0.850655</td>\n      <td>0.212664</td>\n      <td>75</td>\n      <td>77.0</td>\n      <td>79</td>\n      <td>75</td>\n      <td>77.0</td>\n      <td>79</td>\n      <td>73</td>\n      <td>76.5</td>\n      <td>80</td>\n      <td>-5.004371</td>\n    </tr>\n    <tr>\n      <th>289397</th>\n      <td>73.995491</td>\n      <td>678.69</td>\n      <td>0</td>\n      <td>0.00</td>\n      <td>46</td>\n      <td>0.607230</td>\n      <td>0.327904</td>\n      <td>46</td>\n      <td>47.0</td>\n      <td>48</td>\n      <td>46</td>\n      <td>47.5</td>\n      <td>49</td>\n      <td>46</td>\n      <td>47.5</td>\n      <td>49</td>\n      <td>-27.995491</td>\n    </tr>\n    <tr>\n      <th>289399</th>\n      <td>50.916890</td>\n      <td>149200.00</td>\n      <td>1</td>\n      <td>73232.00</td>\n      <td>68</td>\n      <td>0.806073</td>\n      <td>0.257943</td>\n      <td>65</td>\n      <td>67.5</td>\n      <td>70</td>\n      <td>65</td>\n      <td>70.0</td>\n      <td>75</td>\n      <td>65</td>\n      <td>70.0</td>\n      <td>75</td>\n      <td>17.083110</td>\n    </tr>\n    <tr>\n      <th>289403</th>\n      <td>62.603858</td>\n      <td>1748.79</td>\n      <td>1</td>\n      <td>653.98</td>\n      <td>41</td>\n      <td>0.759540</td>\n      <td>0.448129</td>\n      <td>40</td>\n      <td>43.5</td>\n      <td>47</td>\n      <td>40</td>\n      <td>44.0</td>\n      <td>48</td>\n      <td>40</td>\n      <td>44.5</td>\n      <td>49</td>\n      <td>-21.603858</td>\n    </tr>\n    <tr>\n      <th>...</th>\n      <td>...</td>\n      <td>...</td>\n      <td>...</td>\n      <td>...</td>\n      <td>...</td>\n      <td>...</td>\n      <td>...</td>\n      <td>...</td>\n      <td>...</td>\n      <td>...</td>\n      <td>...</td>\n      <td>...</td>\n      <td>...</td>\n      <td>...</td>\n      <td>...</td>\n      <td>...</td>\n      <td>...</td>\n    </tr>\n    <tr>\n      <th>320766</th>\n      <td>71.977331</td>\n      <td>1542.18</td>\n      <td>1</td>\n      <td>432.16</td>\n      <td>68</td>\n      <td>0.833927</td>\n      <td>0.266857</td>\n      <td>67</td>\n      <td>68.0</td>\n      <td>69</td>\n      <td>65</td>\n      <td>67.5</td>\n      <td>70</td>\n      <td>65</td>\n      <td>67.5</td>\n      <td>70</td>\n      <td>-3.977331</td>\n    </tr>\n    <tr>\n      <th>320767</th>\n      <td>71.982833</td>\n      <td>582.50</td>\n      <td>1</td>\n      <td>163.20</td>\n      <td>68</td>\n      <td>0.847464</td>\n      <td>0.271189</td>\n      <td>67</td>\n      <td>68.0</td>\n      <td>69</td>\n      <td>65</td>\n      <td>67.5</td>\n      <td>70</td>\n      <td>65</td>\n      <td>67.5</td>\n      <td>70</td>\n      <td>-3.982833</td>\n    </tr>\n    <tr>\n      <th>320768</th>\n      <td>72.035129</td>\n      <td>5716.10</td>\n      <td>1</td>\n      <td>1598.50</td>\n      <td>69</td>\n      <td>0.850930</td>\n      <td>0.263788</td>\n      <td>67</td>\n      <td>68.0</td>\n      <td>69</td>\n      <td>67</td>\n      <td>68.5</td>\n      <td>70</td>\n      <td>67</td>\n      <td>69.0</td>\n      <td>71</td>\n      <td>-3.035129</td>\n    </tr>\n    <tr>\n      <th>320769</th>\n      <td>72.009668</td>\n      <td>6288.60</td>\n      <td>1</td>\n      <td>1760.20</td>\n      <td>69</td>\n      <td>0.838112</td>\n      <td>0.259815</td>\n      <td>67</td>\n      <td>68.0</td>\n      <td>69</td>\n      <td>67</td>\n      <td>68.5</td>\n      <td>70</td>\n      <td>67</td>\n      <td>69.0</td>\n      <td>71</td>\n      <td>-3.009668</td>\n    </tr>\n    <tr>\n      <th>320775</th>\n      <td>69.986825</td>\n      <td>1897.50</td>\n      <td>1</td>\n      <td>569.50</td>\n      <td>41</td>\n      <td>0.499889</td>\n      <td>0.294935</td>\n      <td>41</td>\n      <td>42.0</td>\n      <td>43</td>\n      <td>40</td>\n      <td>52.5</td>\n      <td>65</td>\n      <td>40</td>\n      <td>53.5</td>\n      <td>67</td>\n      <td>-28.986825</td>\n    </tr>\n  </tbody>\n</table>\n<p>13589 rows × 17 columns</p>\n</div>",
      "text/plain": "        real_discount    pub_rev  accepted  real_rev  rom_discount    rom_pa  \\\n289395      79.868324    2556.27         0      0.00            46  0.568372   \n289396      80.004371  100672.00         0      0.00            75  0.850655   \n289397      73.995491     678.69         0      0.00            46  0.607230   \n289399      50.916890  149200.00         1  73232.00            68  0.806073   \n289403      62.603858    1748.79         1    653.98            41  0.759540   \n...               ...        ...       ...       ...           ...       ...   \n320766      71.977331    1542.18         1    432.16            68  0.833927   \n320767      71.982833     582.50         1    163.20            68  0.847464   \n320768      72.035129    5716.10         1   1598.50            69  0.850930   \n320769      72.009668    6288.60         1   1760.20            69  0.838112   \n320775      69.986825    1897.50         1    569.50            41  0.499889   \n\n        rom_exp_rev  rom_discount_4_low  rom_discount_4_mid  \\\n289395     0.306921                  46                47.0   \n289396     0.212664                  75                77.0   \n289397     0.327904                  46                47.0   \n289399     0.257943                  65                67.5   \n289403     0.448129                  40                43.5   \n...             ...                 ...                 ...   \n320766     0.266857                  67                68.0   \n320767     0.271189                  67                68.0   \n320768     0.263788                  67                68.0   \n320769     0.259815                  67                68.0   \n320775     0.294935                  41                42.0   \n\n        rom_discount_4_high  rom_discount_6_low  rom_discount_6_mid  \\\n289395                   48                  46                47.5   \n289396                   79                  75                77.0   \n289397                   48                  46                47.5   \n289399                   70                  65                70.0   \n289403                   47                  40                44.0   \n...                     ...                 ...                 ...   \n320766                   69                  65                67.5   \n320767                   69                  65                67.5   \n320768                   69                  67                68.5   \n320769                   69                  67                68.5   \n320775                   43                  40                52.5   \n\n        rom_discount_6_high  rom_discount_8_low  rom_discount_8_mid  \\\n289395                   49                  46                47.5   \n289396                   79                  73                76.5   \n289397                   49                  46                47.5   \n289399                   75                  65                70.0   \n289403                   48                  40                44.5   \n...                     ...                 ...                 ...   \n320766                   70                  65                67.5   \n320767                   70                  65                67.5   \n320768                   70                  67                69.0   \n320769                   70                  67                69.0   \n320775                   65                  40                53.5   \n\n        rom_discount_8_high   rom_diff  \n289395                   49 -33.868324  \n289396                   80  -5.004371  \n289397                   49 -27.995491  \n289399                   75  17.083110  \n289403                   49 -21.603858  \n...                     ...        ...  \n320766                   70  -3.977331  \n320767                   70  -3.982833  \n320768                   71  -3.035129  \n320769                   71  -3.009668  \n320775                   67 -28.986825  \n\n[13589 rows x 17 columns]"
     },
     "metadata": {},
     "output_type": "display_data"
    },
    {
     "data": {
      "text/markdown": "\n\n**^^^^^^^^^^^^^^^^^^^^^^^^^^^^^^ Italy (3/6) - 11,19 (4/5) ^^^^^^^^^^^^^^^^^^^^^^^^^^^^^^**\n\n",
      "text/plain": "<IPython.core.display.Markdown object>"
     },
     "metadata": {},
     "output_type": "display_data"
    },
    {
     "name": "stdout",
     "output_type": "stream",
     "text": [
      "('2023-10-01', '2024-04-01', '2024-04-01', '2024-07-01')\n",
      "Train data shape: (30355, 138)\n",
      "Test data shape: (13589, 138)\n",
      "before/after aug (30355, 138) (90940, 138)\n"
     ]
    },
    {
     "name": "stderr",
     "output_type": "stream",
     "text": [
      "[I 2025-01-28 16:29:45,780] A new study created in memory with name: no-name-4fbcac78-cc0c-447f-b98d-2dd622e13e2c\n"
     ]
    },
    {
     "data": {
      "application/vnd.jupyter.widget-view+json": {
       "model_id": "fdc211cb74444b6381658ea215d04961",
       "version_major": 2,
       "version_minor": 0
      },
      "text/plain": "  0%|          | 0/3 [00:00<?, ?it/s]"
     },
     "metadata": {},
     "output_type": "display_data"
    },
    {
     "name": "stdout",
     "output_type": "stream",
     "text": [
      "[I 2025-01-28 16:29:54,847] Trial 0 finished with value: 0.22105470157127036 and parameters: {'learning_rate': 0.01087080185549562, 'max_depth': 4, 'n_estimators': 729, 'gamma': 0.01123506477003016}. Best is trial 0 with value: 0.22105470157127036.\n",
      "[I 2025-01-28 16:30:06,421] Trial 1 finished with value: 0.20664339345067492 and parameters: {'learning_rate': 0.02230934569621654, 'max_depth': 6, 'n_estimators': 721, 'gamma': 0.05498659253091755}. Best is trial 1 with value: 0.20664339345067492.\n",
      "[I 2025-01-28 16:30:15,737] Trial 2 finished with value: 0.20836867795176067 and parameters: {'learning_rate': 0.03538453590906552, 'max_depth': 5, 'n_estimators': 643, 'gamma': 0.1229607110732571}. Best is trial 1 with value: 0.20664339345067492.\n",
      "Saving results to '../../../Data/training-data-POC-countries/rom_results/Italy~2024-04~2024-07/v07-test/11,19'\n",
      "Italy\n"
     ]
    },
    {
     "data": {
      "application/vnd.jupyter.widget-view+json": {
       "model_id": "8a8591fa2ae247b59d0808795139bbcd",
       "version_major": 2,
       "version_minor": 0
      },
      "text/plain": "  0%|          | 0/13589 [00:00<?, ?it/s]"
     },
     "metadata": {},
     "output_type": "display_data"
    },
    {
     "data": {
      "text/html": "<div>\n<style scoped>\n    .dataframe tbody tr th:only-of-type {\n        vertical-align: middle;\n    }\n\n    .dataframe tbody tr th {\n        vertical-align: top;\n    }\n\n    .dataframe thead th {\n        text-align: right;\n    }\n</style>\n<table border=\"1\" class=\"dataframe\">\n  <thead>\n    <tr style=\"text-align: right;\">\n      <th></th>\n      <th>real_discount</th>\n      <th>pub_rev</th>\n      <th>accepted</th>\n      <th>real_rev</th>\n      <th>rom_discount</th>\n      <th>rom_pa</th>\n      <th>rom_exp_rev</th>\n      <th>rom_discount_4_low</th>\n      <th>rom_discount_4_mid</th>\n      <th>rom_discount_4_high</th>\n      <th>rom_discount_6_low</th>\n      <th>rom_discount_6_mid</th>\n      <th>rom_discount_6_high</th>\n      <th>rom_discount_8_low</th>\n      <th>rom_discount_8_mid</th>\n      <th>rom_discount_8_high</th>\n      <th>rom_diff</th>\n    </tr>\n  </thead>\n  <tbody>\n    <tr>\n      <th>289395</th>\n      <td>79.868324</td>\n      <td>2556.27</td>\n      <td>0</td>\n      <td>0.00</td>\n      <td>65</td>\n      <td>0.877338</td>\n      <td>0.307068</td>\n      <td>64</td>\n      <td>66.0</td>\n      <td>68</td>\n      <td>64</td>\n      <td>66.0</td>\n      <td>68</td>\n      <td>64</td>\n      <td>66.5</td>\n      <td>69</td>\n      <td>-14.868324</td>\n    </tr>\n    <tr>\n      <th>289396</th>\n      <td>80.004371</td>\n      <td>100672.00</td>\n      <td>0</td>\n      <td>0.00</td>\n      <td>32</td>\n      <td>0.435917</td>\n      <td>0.296423</td>\n      <td>32</td>\n      <td>33.0</td>\n      <td>34</td>\n      <td>32</td>\n      <td>33.0</td>\n      <td>34</td>\n      <td>32</td>\n      <td>33.5</td>\n      <td>35</td>\n      <td>-48.004371</td>\n    </tr>\n    <tr>\n      <th>289397</th>\n      <td>73.995491</td>\n      <td>678.69</td>\n      <td>0</td>\n      <td>0.00</td>\n      <td>60</td>\n      <td>0.800059</td>\n      <td>0.320023</td>\n      <td>60</td>\n      <td>62.5</td>\n      <td>65</td>\n      <td>60</td>\n      <td>63.0</td>\n      <td>66</td>\n      <td>60</td>\n      <td>63.5</td>\n      <td>67</td>\n      <td>-13.995491</td>\n    </tr>\n    <tr>\n      <th>289399</th>\n      <td>50.916890</td>\n      <td>149200.00</td>\n      <td>1</td>\n      <td>73232.00</td>\n      <td>32</td>\n      <td>0.363867</td>\n      <td>0.247430</td>\n      <td>32</td>\n      <td>53.5</td>\n      <td>75</td>\n      <td>32</td>\n      <td>54.0</td>\n      <td>76</td>\n      <td>32</td>\n      <td>54.0</td>\n      <td>76</td>\n      <td>-18.916890</td>\n    </tr>\n    <tr>\n      <th>289403</th>\n      <td>62.603858</td>\n      <td>1748.79</td>\n      <td>1</td>\n      <td>653.98</td>\n      <td>64</td>\n      <td>0.886175</td>\n      <td>0.319023</td>\n      <td>60</td>\n      <td>63.0</td>\n      <td>66</td>\n      <td>60</td>\n      <td>63.5</td>\n      <td>67</td>\n      <td>60</td>\n      <td>64.0</td>\n      <td>68</td>\n      <td>1.396142</td>\n    </tr>\n    <tr>\n      <th>...</th>\n      <td>...</td>\n      <td>...</td>\n      <td>...</td>\n      <td>...</td>\n      <td>...</td>\n      <td>...</td>\n      <td>...</td>\n      <td>...</td>\n      <td>...</td>\n      <td>...</td>\n      <td>...</td>\n      <td>...</td>\n      <td>...</td>\n      <td>...</td>\n      <td>...</td>\n      <td>...</td>\n      <td>...</td>\n    </tr>\n    <tr>\n      <th>320766</th>\n      <td>71.977331</td>\n      <td>1542.18</td>\n      <td>1</td>\n      <td>432.16</td>\n      <td>67</td>\n      <td>0.778907</td>\n      <td>0.257039</td>\n      <td>67</td>\n      <td>68.0</td>\n      <td>69</td>\n      <td>67</td>\n      <td>68.0</td>\n      <td>69</td>\n      <td>66</td>\n      <td>68.0</td>\n      <td>70</td>\n      <td>-4.977331</td>\n    </tr>\n    <tr>\n      <th>320767</th>\n      <td>71.982833</td>\n      <td>582.50</td>\n      <td>1</td>\n      <td>163.20</td>\n      <td>67</td>\n      <td>0.792671</td>\n      <td>0.261582</td>\n      <td>67</td>\n      <td>68.0</td>\n      <td>69</td>\n      <td>67</td>\n      <td>68.0</td>\n      <td>69</td>\n      <td>66</td>\n      <td>68.0</td>\n      <td>70</td>\n      <td>-4.982833</td>\n    </tr>\n    <tr>\n      <th>320768</th>\n      <td>72.035129</td>\n      <td>5716.10</td>\n      <td>1</td>\n      <td>1598.50</td>\n      <td>68</td>\n      <td>0.792405</td>\n      <td>0.253570</td>\n      <td>67</td>\n      <td>68.0</td>\n      <td>69</td>\n      <td>67</td>\n      <td>68.5</td>\n      <td>70</td>\n      <td>67</td>\n      <td>69.0</td>\n      <td>71</td>\n      <td>-4.035129</td>\n    </tr>\n    <tr>\n      <th>320769</th>\n      <td>72.009668</td>\n      <td>6288.60</td>\n      <td>1</td>\n      <td>1760.20</td>\n      <td>68</td>\n      <td>0.769212</td>\n      <td>0.246148</td>\n      <td>67</td>\n      <td>68.0</td>\n      <td>69</td>\n      <td>67</td>\n      <td>68.5</td>\n      <td>70</td>\n      <td>67</td>\n      <td>70.0</td>\n      <td>73</td>\n      <td>-4.009668</td>\n    </tr>\n    <tr>\n      <th>320775</th>\n      <td>69.986825</td>\n      <td>1897.50</td>\n      <td>1</td>\n      <td>569.50</td>\n      <td>65</td>\n      <td>0.840133</td>\n      <td>0.294047</td>\n      <td>65</td>\n      <td>66.5</td>\n      <td>68</td>\n      <td>64</td>\n      <td>66.0</td>\n      <td>68</td>\n      <td>64</td>\n      <td>66.5</td>\n      <td>69</td>\n      <td>-4.986825</td>\n    </tr>\n  </tbody>\n</table>\n<p>13589 rows × 17 columns</p>\n</div>",
      "text/plain": "        real_discount    pub_rev  accepted  real_rev  rom_discount    rom_pa  \\\n289395      79.868324    2556.27         0      0.00            65  0.877338   \n289396      80.004371  100672.00         0      0.00            32  0.435917   \n289397      73.995491     678.69         0      0.00            60  0.800059   \n289399      50.916890  149200.00         1  73232.00            32  0.363867   \n289403      62.603858    1748.79         1    653.98            64  0.886175   \n...               ...        ...       ...       ...           ...       ...   \n320766      71.977331    1542.18         1    432.16            67  0.778907   \n320767      71.982833     582.50         1    163.20            67  0.792671   \n320768      72.035129    5716.10         1   1598.50            68  0.792405   \n320769      72.009668    6288.60         1   1760.20            68  0.769212   \n320775      69.986825    1897.50         1    569.50            65  0.840133   \n\n        rom_exp_rev  rom_discount_4_low  rom_discount_4_mid  \\\n289395     0.307068                  64                66.0   \n289396     0.296423                  32                33.0   \n289397     0.320023                  60                62.5   \n289399     0.247430                  32                53.5   \n289403     0.319023                  60                63.0   \n...             ...                 ...                 ...   \n320766     0.257039                  67                68.0   \n320767     0.261582                  67                68.0   \n320768     0.253570                  67                68.0   \n320769     0.246148                  67                68.0   \n320775     0.294047                  65                66.5   \n\n        rom_discount_4_high  rom_discount_6_low  rom_discount_6_mid  \\\n289395                   68                  64                66.0   \n289396                   34                  32                33.0   \n289397                   65                  60                63.0   \n289399                   75                  32                54.0   \n289403                   66                  60                63.5   \n...                     ...                 ...                 ...   \n320766                   69                  67                68.0   \n320767                   69                  67                68.0   \n320768                   69                  67                68.5   \n320769                   69                  67                68.5   \n320775                   68                  64                66.0   \n\n        rom_discount_6_high  rom_discount_8_low  rom_discount_8_mid  \\\n289395                   68                  64                66.5   \n289396                   34                  32                33.5   \n289397                   66                  60                63.5   \n289399                   76                  32                54.0   \n289403                   67                  60                64.0   \n...                     ...                 ...                 ...   \n320766                   69                  66                68.0   \n320767                   69                  66                68.0   \n320768                   70                  67                69.0   \n320769                   70                  67                70.0   \n320775                   68                  64                66.5   \n\n        rom_discount_8_high   rom_diff  \n289395                   69 -14.868324  \n289396                   35 -48.004371  \n289397                   67 -13.995491  \n289399                   76 -18.916890  \n289403                   68   1.396142  \n...                     ...        ...  \n320766                   70  -4.977331  \n320767                   70  -4.982833  \n320768                   71  -4.035129  \n320769                   73  -4.009668  \n320775                   69  -4.986825  \n\n[13589 rows x 17 columns]"
     },
     "metadata": {},
     "output_type": "display_data"
    },
    {
     "data": {
      "text/markdown": "\n\n**^^^^^^^^^^^^^^^^^^^^^^^^^^^^^^ Italy (3/6) - 14,28 (5/5) ^^^^^^^^^^^^^^^^^^^^^^^^^^^^^^**\n\n",
      "text/plain": "<IPython.core.display.Markdown object>"
     },
     "metadata": {},
     "output_type": "display_data"
    },
    {
     "name": "stdout",
     "output_type": "stream",
     "text": [
      "('2023-10-01', '2024-04-01', '2024-04-01', '2024-07-01')\n",
      "Train data shape: (30355, 138)\n",
      "Test data shape: (13589, 138)\n",
      "before/after aug (30355, 138) (88514, 138)\n"
     ]
    },
    {
     "name": "stderr",
     "output_type": "stream",
     "text": [
      "[I 2025-01-28 16:32:18,604] A new study created in memory with name: no-name-88fe7f60-3546-42a9-81a5-9d7537880964\n"
     ]
    },
    {
     "data": {
      "application/vnd.jupyter.widget-view+json": {
       "model_id": "c9b6f82cf1b142f4972caf3e4497310b",
       "version_major": 2,
       "version_minor": 0
      },
      "text/plain": "  0%|          | 0/3 [00:00<?, ?it/s]"
     },
     "metadata": {},
     "output_type": "display_data"
    },
    {
     "name": "stdout",
     "output_type": "stream",
     "text": [
      "[I 2025-01-28 16:32:28,475] Trial 0 finished with value: 0.18557105858692613 and parameters: {'learning_rate': 0.01087080185549562, 'max_depth': 4, 'n_estimators': 729, 'gamma': 0.01123506477003016}. Best is trial 0 with value: 0.18557105858692613.\n",
      "[I 2025-01-28 16:32:40,346] Trial 1 finished with value: 0.1769594387062201 and parameters: {'learning_rate': 0.02230934569621654, 'max_depth': 6, 'n_estimators': 721, 'gamma': 0.05498659253091755}. Best is trial 1 with value: 0.1769594387062201.\n",
      "[I 2025-01-28 16:32:49,569] Trial 2 finished with value: 0.17776372172078383 and parameters: {'learning_rate': 0.03538453590906552, 'max_depth': 5, 'n_estimators': 643, 'gamma': 0.1229607110732571}. Best is trial 1 with value: 0.1769594387062201.\n",
      "Saving results to '../../../Data/training-data-POC-countries/rom_results/Italy~2024-04~2024-07/v07-test/14,28'\n",
      "Italy\n"
     ]
    },
    {
     "data": {
      "application/vnd.jupyter.widget-view+json": {
       "model_id": "6894774c4d9a4b29aebc214f4b01baed",
       "version_major": 2,
       "version_minor": 0
      },
      "text/plain": "  0%|          | 0/13589 [00:00<?, ?it/s]"
     },
     "metadata": {},
     "output_type": "display_data"
    },
    {
     "data": {
      "text/html": "<div>\n<style scoped>\n    .dataframe tbody tr th:only-of-type {\n        vertical-align: middle;\n    }\n\n    .dataframe tbody tr th {\n        vertical-align: top;\n    }\n\n    .dataframe thead th {\n        text-align: right;\n    }\n</style>\n<table border=\"1\" class=\"dataframe\">\n  <thead>\n    <tr style=\"text-align: right;\">\n      <th></th>\n      <th>real_discount</th>\n      <th>pub_rev</th>\n      <th>accepted</th>\n      <th>real_rev</th>\n      <th>rom_discount</th>\n      <th>rom_pa</th>\n      <th>rom_exp_rev</th>\n      <th>rom_discount_4_low</th>\n      <th>rom_discount_4_mid</th>\n      <th>rom_discount_4_high</th>\n      <th>rom_discount_6_low</th>\n      <th>rom_discount_6_mid</th>\n      <th>rom_discount_6_high</th>\n      <th>rom_discount_8_low</th>\n      <th>rom_discount_8_mid</th>\n      <th>rom_discount_8_high</th>\n      <th>rom_diff</th>\n    </tr>\n  </thead>\n  <tbody>\n    <tr>\n      <th>289395</th>\n      <td>79.868324</td>\n      <td>2556.27</td>\n      <td>0</td>\n      <td>0.00</td>\n      <td>60</td>\n      <td>0.846895</td>\n      <td>0.338758</td>\n      <td>60</td>\n      <td>62.0</td>\n      <td>64</td>\n      <td>60</td>\n      <td>62.5</td>\n      <td>65</td>\n      <td>60</td>\n      <td>63.0</td>\n      <td>66</td>\n      <td>-19.868324</td>\n    </tr>\n    <tr>\n      <th>289396</th>\n      <td>80.004371</td>\n      <td>100672.00</td>\n      <td>0</td>\n      <td>0.00</td>\n      <td>74</td>\n      <td>0.893284</td>\n      <td>0.232254</td>\n      <td>68</td>\n      <td>71.5</td>\n      <td>75</td>\n      <td>67</td>\n      <td>71.0</td>\n      <td>75</td>\n      <td>65</td>\n      <td>70.5</td>\n      <td>76</td>\n      <td>-6.004371</td>\n    </tr>\n    <tr>\n      <th>289397</th>\n      <td>73.995491</td>\n      <td>678.69</td>\n      <td>0</td>\n      <td>0.00</td>\n      <td>60</td>\n      <td>0.852321</td>\n      <td>0.340928</td>\n      <td>60</td>\n      <td>62.0</td>\n      <td>64</td>\n      <td>60</td>\n      <td>62.5</td>\n      <td>65</td>\n      <td>60</td>\n      <td>63.0</td>\n      <td>66</td>\n      <td>-13.995491</td>\n    </tr>\n    <tr>\n      <th>289399</th>\n      <td>50.916890</td>\n      <td>149200.00</td>\n      <td>1</td>\n      <td>73232.00</td>\n      <td>68</td>\n      <td>0.766463</td>\n      <td>0.245268</td>\n      <td>64</td>\n      <td>69.0</td>\n      <td>74</td>\n      <td>64</td>\n      <td>69.5</td>\n      <td>75</td>\n      <td>64</td>\n      <td>69.5</td>\n      <td>75</td>\n      <td>17.083110</td>\n    </tr>\n    <tr>\n      <th>289403</th>\n      <td>62.603858</td>\n      <td>1748.79</td>\n      <td>1</td>\n      <td>653.98</td>\n      <td>60</td>\n      <td>0.881313</td>\n      <td>0.352525</td>\n      <td>60</td>\n      <td>60.5</td>\n      <td>61</td>\n      <td>60</td>\n      <td>62.0</td>\n      <td>64</td>\n      <td>60</td>\n      <td>62.5</td>\n      <td>65</td>\n      <td>-2.603858</td>\n    </tr>\n    <tr>\n      <th>...</th>\n      <td>...</td>\n      <td>...</td>\n      <td>...</td>\n      <td>...</td>\n      <td>...</td>\n      <td>...</td>\n      <td>...</td>\n      <td>...</td>\n      <td>...</td>\n      <td>...</td>\n      <td>...</td>\n      <td>...</td>\n      <td>...</td>\n      <td>...</td>\n      <td>...</td>\n      <td>...</td>\n      <td>...</td>\n    </tr>\n    <tr>\n      <th>320766</th>\n      <td>71.977331</td>\n      <td>1542.18</td>\n      <td>1</td>\n      <td>432.16</td>\n      <td>65</td>\n      <td>0.812254</td>\n      <td>0.284289</td>\n      <td>65</td>\n      <td>65.5</td>\n      <td>66</td>\n      <td>65</td>\n      <td>66.0</td>\n      <td>67</td>\n      <td>65</td>\n      <td>66.0</td>\n      <td>67</td>\n      <td>-6.977331</td>\n    </tr>\n    <tr>\n      <th>320767</th>\n      <td>71.982833</td>\n      <td>582.50</td>\n      <td>1</td>\n      <td>163.20</td>\n      <td>65</td>\n      <td>0.813372</td>\n      <td>0.284680</td>\n      <td>65</td>\n      <td>65.5</td>\n      <td>66</td>\n      <td>65</td>\n      <td>66.0</td>\n      <td>67</td>\n      <td>65</td>\n      <td>66.0</td>\n      <td>67</td>\n      <td>-6.982833</td>\n    </tr>\n    <tr>\n      <th>320768</th>\n      <td>72.035129</td>\n      <td>5716.10</td>\n      <td>1</td>\n      <td>1598.50</td>\n      <td>65</td>\n      <td>0.823746</td>\n      <td>0.288311</td>\n      <td>65</td>\n      <td>65.5</td>\n      <td>66</td>\n      <td>65</td>\n      <td>66.0</td>\n      <td>67</td>\n      <td>65</td>\n      <td>66.0</td>\n      <td>67</td>\n      <td>-7.035129</td>\n    </tr>\n    <tr>\n      <th>320769</th>\n      <td>72.009668</td>\n      <td>6288.60</td>\n      <td>1</td>\n      <td>1760.20</td>\n      <td>65</td>\n      <td>0.778511</td>\n      <td>0.272479</td>\n      <td>65</td>\n      <td>65.5</td>\n      <td>66</td>\n      <td>65</td>\n      <td>66.0</td>\n      <td>67</td>\n      <td>65</td>\n      <td>66.5</td>\n      <td>68</td>\n      <td>-7.009668</td>\n    </tr>\n    <tr>\n      <th>320775</th>\n      <td>69.986825</td>\n      <td>1897.50</td>\n      <td>1</td>\n      <td>569.50</td>\n      <td>64</td>\n      <td>0.800042</td>\n      <td>0.288015</td>\n      <td>64</td>\n      <td>65.5</td>\n      <td>67</td>\n      <td>63</td>\n      <td>65.0</td>\n      <td>67</td>\n      <td>63</td>\n      <td>65.5</td>\n      <td>68</td>\n      <td>-5.986825</td>\n    </tr>\n  </tbody>\n</table>\n<p>13589 rows × 17 columns</p>\n</div>",
      "text/plain": "        real_discount    pub_rev  accepted  real_rev  rom_discount    rom_pa  \\\n289395      79.868324    2556.27         0      0.00            60  0.846895   \n289396      80.004371  100672.00         0      0.00            74  0.893284   \n289397      73.995491     678.69         0      0.00            60  0.852321   \n289399      50.916890  149200.00         1  73232.00            68  0.766463   \n289403      62.603858    1748.79         1    653.98            60  0.881313   \n...               ...        ...       ...       ...           ...       ...   \n320766      71.977331    1542.18         1    432.16            65  0.812254   \n320767      71.982833     582.50         1    163.20            65  0.813372   \n320768      72.035129    5716.10         1   1598.50            65  0.823746   \n320769      72.009668    6288.60         1   1760.20            65  0.778511   \n320775      69.986825    1897.50         1    569.50            64  0.800042   \n\n        rom_exp_rev  rom_discount_4_low  rom_discount_4_mid  \\\n289395     0.338758                  60                62.0   \n289396     0.232254                  68                71.5   \n289397     0.340928                  60                62.0   \n289399     0.245268                  64                69.0   \n289403     0.352525                  60                60.5   \n...             ...                 ...                 ...   \n320766     0.284289                  65                65.5   \n320767     0.284680                  65                65.5   \n320768     0.288311                  65                65.5   \n320769     0.272479                  65                65.5   \n320775     0.288015                  64                65.5   \n\n        rom_discount_4_high  rom_discount_6_low  rom_discount_6_mid  \\\n289395                   64                  60                62.5   \n289396                   75                  67                71.0   \n289397                   64                  60                62.5   \n289399                   74                  64                69.5   \n289403                   61                  60                62.0   \n...                     ...                 ...                 ...   \n320766                   66                  65                66.0   \n320767                   66                  65                66.0   \n320768                   66                  65                66.0   \n320769                   66                  65                66.0   \n320775                   67                  63                65.0   \n\n        rom_discount_6_high  rom_discount_8_low  rom_discount_8_mid  \\\n289395                   65                  60                63.0   \n289396                   75                  65                70.5   \n289397                   65                  60                63.0   \n289399                   75                  64                69.5   \n289403                   64                  60                62.5   \n...                     ...                 ...                 ...   \n320766                   67                  65                66.0   \n320767                   67                  65                66.0   \n320768                   67                  65                66.0   \n320769                   67                  65                66.5   \n320775                   67                  63                65.5   \n\n        rom_discount_8_high   rom_diff  \n289395                   66 -19.868324  \n289396                   76  -6.004371  \n289397                   66 -13.995491  \n289399                   75  17.083110  \n289403                   65  -2.603858  \n...                     ...        ...  \n320766                   67  -6.977331  \n320767                   67  -6.982833  \n320768                   67  -7.035129  \n320769                   68  -7.009668  \n320775                   68  -5.986825  \n\n[13589 rows x 17 columns]"
     },
     "metadata": {},
     "output_type": "display_data"
    },
    {
     "data": {
      "text/markdown": "\n\n**^^^^^^^^^^^^^^^^^^^^^^^^^^^^^^ Taiwan (4/6) - 08,26 (1/5) ^^^^^^^^^^^^^^^^^^^^^^^^^^^^^^**\n\n",
      "text/plain": "<IPython.core.display.Markdown object>"
     },
     "metadata": {},
     "output_type": "display_data"
    },
    {
     "name": "stdout",
     "output_type": "stream",
     "text": [
      "('2023-10-01', '2024-04-01', '2024-04-01', '2024-07-01')\n",
      "Train data shape: (7207, 136)\n",
      "Test data shape: (3319, 136)\n"
     ]
    },
    {
     "name": "stderr",
     "output_type": "stream",
     "text": [
      "[I 2025-01-28 16:34:47,631] A new study created in memory with name: no-name-67a808ff-ca41-4308-93cf-92a57f9ad4e2\n"
     ]
    },
    {
     "name": "stdout",
     "output_type": "stream",
     "text": [
      "before/after aug (7207, 136) (21471, 136)\n"
     ]
    },
    {
     "data": {
      "application/vnd.jupyter.widget-view+json": {
       "model_id": "ed1523f39b1749f69e5f11baa3337738",
       "version_major": 2,
       "version_minor": 0
      },
      "text/plain": "  0%|          | 0/3 [00:00<?, ?it/s]"
     },
     "metadata": {},
     "output_type": "display_data"
    },
    {
     "name": "stdout",
     "output_type": "stream",
     "text": [
      "[I 2025-01-28 16:34:54,113] Trial 0 finished with value: 0.22809256768767483 and parameters: {'learning_rate': 0.01087080185549562, 'max_depth': 4, 'n_estimators': 729, 'gamma': 0.01123506477003016}. Best is trial 0 with value: 0.22809256768767483.\n",
      "[I 2025-01-28 16:35:03,181] Trial 1 finished with value: 0.2122433979928763 and parameters: {'learning_rate': 0.02230934569621654, 'max_depth': 6, 'n_estimators': 721, 'gamma': 0.05498659253091755}. Best is trial 1 with value: 0.2122433979928763.\n",
      "[I 2025-01-28 16:35:09,972] Trial 2 finished with value: 0.21364887227360985 and parameters: {'learning_rate': 0.03538453590906552, 'max_depth': 5, 'n_estimators': 643, 'gamma': 0.1229607110732571}. Best is trial 1 with value: 0.2122433979928763.\n",
      "Saving results to '../../../Data/training-data-POC-countries/rom_results/Taiwan~2024-04~2024-07/v07-test/08,26'\n",
      "Taiwan\n"
     ]
    },
    {
     "data": {
      "application/vnd.jupyter.widget-view+json": {
       "model_id": "e7124ccb350a4859b7ac8abd51790612",
       "version_major": 2,
       "version_minor": 0
      },
      "text/plain": "  0%|          | 0/3319 [00:00<?, ?it/s]"
     },
     "metadata": {},
     "output_type": "display_data"
    },
    {
     "data": {
      "text/html": "<div>\n<style scoped>\n    .dataframe tbody tr th:only-of-type {\n        vertical-align: middle;\n    }\n\n    .dataframe tbody tr th {\n        vertical-align: top;\n    }\n\n    .dataframe thead th {\n        text-align: right;\n    }\n</style>\n<table border=\"1\" class=\"dataframe\">\n  <thead>\n    <tr style=\"text-align: right;\">\n      <th></th>\n      <th>real_discount</th>\n      <th>pub_rev</th>\n      <th>accepted</th>\n      <th>real_rev</th>\n      <th>rom_discount</th>\n      <th>rom_pa</th>\n      <th>rom_exp_rev</th>\n      <th>rom_discount_4_low</th>\n      <th>rom_discount_4_mid</th>\n      <th>rom_discount_4_high</th>\n      <th>rom_discount_6_low</th>\n      <th>rom_discount_6_mid</th>\n      <th>rom_discount_6_high</th>\n      <th>rom_discount_8_low</th>\n      <th>rom_discount_8_mid</th>\n      <th>rom_discount_8_high</th>\n      <th>rom_diff</th>\n    </tr>\n  </thead>\n  <tbody>\n    <tr>\n      <th>38473</th>\n      <td>72.491271</td>\n      <td>65870.0</td>\n      <td>1</td>\n      <td>18120.0</td>\n      <td>50</td>\n      <td>0.750254</td>\n      <td>0.375127</td>\n      <td>50</td>\n      <td>50.0</td>\n      <td>50</td>\n      <td>50</td>\n      <td>50.0</td>\n      <td>50</td>\n      <td>50</td>\n      <td>50.0</td>\n      <td>50</td>\n      <td>-22.491271</td>\n    </tr>\n    <tr>\n      <th>38474</th>\n      <td>70.059484</td>\n      <td>75650.0</td>\n      <td>1</td>\n      <td>22650.0</td>\n      <td>50</td>\n      <td>0.913354</td>\n      <td>0.456677</td>\n      <td>50</td>\n      <td>50.0</td>\n      <td>50</td>\n      <td>50</td>\n      <td>50.0</td>\n      <td>50</td>\n      <td>50</td>\n      <td>50.0</td>\n      <td>50</td>\n      <td>-20.059484</td>\n    </tr>\n    <tr>\n      <th>38475</th>\n      <td>71.102662</td>\n      <td>118350.0</td>\n      <td>1</td>\n      <td>34200.0</td>\n      <td>50</td>\n      <td>0.787807</td>\n      <td>0.393904</td>\n      <td>50</td>\n      <td>50.0</td>\n      <td>50</td>\n      <td>50</td>\n      <td>50.0</td>\n      <td>50</td>\n      <td>50</td>\n      <td>50.0</td>\n      <td>50</td>\n      <td>-21.102662</td>\n    </tr>\n    <tr>\n      <th>38476</th>\n      <td>77.334576</td>\n      <td>16095.0</td>\n      <td>1</td>\n      <td>3648.0</td>\n      <td>54</td>\n      <td>0.843233</td>\n      <td>0.387887</td>\n      <td>54</td>\n      <td>56.0</td>\n      <td>58</td>\n      <td>54</td>\n      <td>56.0</td>\n      <td>58</td>\n      <td>53</td>\n      <td>56.5</td>\n      <td>60</td>\n      <td>-23.334576</td>\n    </tr>\n    <tr>\n      <th>38477</th>\n      <td>64.048706</td>\n      <td>6570.0</td>\n      <td>0</td>\n      <td>0.0</td>\n      <td>53</td>\n      <td>0.971112</td>\n      <td>0.456423</td>\n      <td>53</td>\n      <td>53.5</td>\n      <td>54</td>\n      <td>53</td>\n      <td>53.5</td>\n      <td>54</td>\n      <td>53</td>\n      <td>54.0</td>\n      <td>55</td>\n      <td>-11.048706</td>\n    </tr>\n    <tr>\n      <th>...</th>\n      <td>...</td>\n      <td>...</td>\n      <td>...</td>\n      <td>...</td>\n      <td>...</td>\n      <td>...</td>\n      <td>...</td>\n      <td>...</td>\n      <td>...</td>\n      <td>...</td>\n      <td>...</td>\n      <td>...</td>\n      <td>...</td>\n      <td>...</td>\n      <td>...</td>\n      <td>...</td>\n      <td>...</td>\n    </tr>\n    <tr>\n      <th>41868</th>\n      <td>45.999382</td>\n      <td>3237.0</td>\n      <td>0</td>\n      <td>0.0</td>\n      <td>54</td>\n      <td>0.968885</td>\n      <td>0.445687</td>\n      <td>53</td>\n      <td>53.5</td>\n      <td>54</td>\n      <td>53</td>\n      <td>54.0</td>\n      <td>55</td>\n      <td>53</td>\n      <td>54.5</td>\n      <td>56</td>\n      <td>8.000618</td>\n    </tr>\n    <tr>\n      <th>41869</th>\n      <td>45.999382</td>\n      <td>3237.0</td>\n      <td>0</td>\n      <td>0.0</td>\n      <td>53</td>\n      <td>0.958092</td>\n      <td>0.450303</td>\n      <td>53</td>\n      <td>53.5</td>\n      <td>54</td>\n      <td>53</td>\n      <td>53.5</td>\n      <td>54</td>\n      <td>53</td>\n      <td>54.0</td>\n      <td>55</td>\n      <td>7.000618</td>\n    </tr>\n    <tr>\n      <th>41870</th>\n      <td>34.007321</td>\n      <td>11474.0</td>\n      <td>1</td>\n      <td>7572.0</td>\n      <td>42</td>\n      <td>0.904712</td>\n      <td>0.524733</td>\n      <td>37</td>\n      <td>41.0</td>\n      <td>45</td>\n      <td>30</td>\n      <td>38.0</td>\n      <td>46</td>\n      <td>30</td>\n      <td>40.0</td>\n      <td>50</td>\n      <td>7.992679</td>\n    </tr>\n    <tr>\n      <th>41871</th>\n      <td>68.052216</td>\n      <td>29110.0</td>\n      <td>1</td>\n      <td>9300.0</td>\n      <td>50</td>\n      <td>0.946780</td>\n      <td>0.473390</td>\n      <td>50</td>\n      <td>50.0</td>\n      <td>50</td>\n      <td>50</td>\n      <td>50.0</td>\n      <td>50</td>\n      <td>50</td>\n      <td>50.0</td>\n      <td>50</td>\n      <td>-18.052216</td>\n    </tr>\n    <tr>\n      <th>41872</th>\n      <td>67.928731</td>\n      <td>112250.0</td>\n      <td>1</td>\n      <td>36000.0</td>\n      <td>50</td>\n      <td>0.956419</td>\n      <td>0.478210</td>\n      <td>50</td>\n      <td>50.0</td>\n      <td>50</td>\n      <td>50</td>\n      <td>50.0</td>\n      <td>50</td>\n      <td>50</td>\n      <td>50.0</td>\n      <td>50</td>\n      <td>-17.928731</td>\n    </tr>\n  </tbody>\n</table>\n<p>3319 rows × 17 columns</p>\n</div>",
      "text/plain": "       real_discount   pub_rev  accepted  real_rev  rom_discount    rom_pa  \\\n38473      72.491271   65870.0         1   18120.0            50  0.750254   \n38474      70.059484   75650.0         1   22650.0            50  0.913354   \n38475      71.102662  118350.0         1   34200.0            50  0.787807   \n38476      77.334576   16095.0         1    3648.0            54  0.843233   \n38477      64.048706    6570.0         0       0.0            53  0.971112   \n...              ...       ...       ...       ...           ...       ...   \n41868      45.999382    3237.0         0       0.0            54  0.968885   \n41869      45.999382    3237.0         0       0.0            53  0.958092   \n41870      34.007321   11474.0         1    7572.0            42  0.904712   \n41871      68.052216   29110.0         1    9300.0            50  0.946780   \n41872      67.928731  112250.0         1   36000.0            50  0.956419   \n\n       rom_exp_rev  rom_discount_4_low  rom_discount_4_mid  \\\n38473     0.375127                  50                50.0   \n38474     0.456677                  50                50.0   \n38475     0.393904                  50                50.0   \n38476     0.387887                  54                56.0   \n38477     0.456423                  53                53.5   \n...            ...                 ...                 ...   \n41868     0.445687                  53                53.5   \n41869     0.450303                  53                53.5   \n41870     0.524733                  37                41.0   \n41871     0.473390                  50                50.0   \n41872     0.478210                  50                50.0   \n\n       rom_discount_4_high  rom_discount_6_low  rom_discount_6_mid  \\\n38473                   50                  50                50.0   \n38474                   50                  50                50.0   \n38475                   50                  50                50.0   \n38476                   58                  54                56.0   \n38477                   54                  53                53.5   \n...                    ...                 ...                 ...   \n41868                   54                  53                54.0   \n41869                   54                  53                53.5   \n41870                   45                  30                38.0   \n41871                   50                  50                50.0   \n41872                   50                  50                50.0   \n\n       rom_discount_6_high  rom_discount_8_low  rom_discount_8_mid  \\\n38473                   50                  50                50.0   \n38474                   50                  50                50.0   \n38475                   50                  50                50.0   \n38476                   58                  53                56.5   \n38477                   54                  53                54.0   \n...                    ...                 ...                 ...   \n41868                   55                  53                54.5   \n41869                   54                  53                54.0   \n41870                   46                  30                40.0   \n41871                   50                  50                50.0   \n41872                   50                  50                50.0   \n\n       rom_discount_8_high   rom_diff  \n38473                   50 -22.491271  \n38474                   50 -20.059484  \n38475                   50 -21.102662  \n38476                   60 -23.334576  \n38477                   55 -11.048706  \n...                    ...        ...  \n41868                   56   8.000618  \n41869                   55   7.000618  \n41870                   50   7.992679  \n41871                   50 -18.052216  \n41872                   50 -17.928731  \n\n[3319 rows x 17 columns]"
     },
     "metadata": {},
     "output_type": "display_data"
    },
    {
     "data": {
      "text/markdown": "\n\n**^^^^^^^^^^^^^^^^^^^^^^^^^^^^^^ Taiwan (4/6) - 10,37 (2/5) ^^^^^^^^^^^^^^^^^^^^^^^^^^^^^^**\n\n",
      "text/plain": "<IPython.core.display.Markdown object>"
     },
     "metadata": {},
     "output_type": "display_data"
    },
    {
     "name": "stdout",
     "output_type": "stream",
     "text": [
      "('2023-10-01', '2024-04-01', '2024-04-01', '2024-07-01')\n",
      "Train data shape: (7207, 136)\n",
      "Test data shape: (3319, 136)\n"
     ]
    },
    {
     "name": "stderr",
     "output_type": "stream",
     "text": [
      "[I 2025-01-28 16:35:42,196] A new study created in memory with name: no-name-b505bb3c-f954-48e0-a642-26c70fd93420\n"
     ]
    },
    {
     "name": "stdout",
     "output_type": "stream",
     "text": [
      "before/after aug (7207, 136) (20691, 136)\n"
     ]
    },
    {
     "data": {
      "application/vnd.jupyter.widget-view+json": {
       "model_id": "163c0e2d13cf4e9c88d500dd995b6692",
       "version_major": 2,
       "version_minor": 0
      },
      "text/plain": "  0%|          | 0/3 [00:00<?, ?it/s]"
     },
     "metadata": {},
     "output_type": "display_data"
    },
    {
     "name": "stdout",
     "output_type": "stream",
     "text": [
      "[I 2025-01-28 16:35:48,555] Trial 0 finished with value: 0.1637095135683608 and parameters: {'learning_rate': 0.01087080185549562, 'max_depth': 4, 'n_estimators': 729, 'gamma': 0.01123506477003016}. Best is trial 0 with value: 0.1637095135683608.\n",
      "[I 2025-01-28 16:35:57,573] Trial 1 finished with value: 0.1562020411159173 and parameters: {'learning_rate': 0.02230934569621654, 'max_depth': 6, 'n_estimators': 721, 'gamma': 0.05498659253091755}. Best is trial 1 with value: 0.1562020411159173.\n",
      "[I 2025-01-28 16:36:04,177] Trial 2 finished with value: 0.15698188834697757 and parameters: {'learning_rate': 0.03538453590906552, 'max_depth': 5, 'n_estimators': 643, 'gamma': 0.1229607110732571}. Best is trial 1 with value: 0.1562020411159173.\n",
      "Saving results to '../../../Data/training-data-POC-countries/rom_results/Taiwan~2024-04~2024-07/v07-test/10,37'\n",
      "Taiwan\n"
     ]
    },
    {
     "data": {
      "application/vnd.jupyter.widget-view+json": {
       "model_id": "6db909c89e3d415ab3968964ab0c1d73",
       "version_major": 2,
       "version_minor": 0
      },
      "text/plain": "  0%|          | 0/3319 [00:00<?, ?it/s]"
     },
     "metadata": {},
     "output_type": "display_data"
    },
    {
     "data": {
      "text/html": "<div>\n<style scoped>\n    .dataframe tbody tr th:only-of-type {\n        vertical-align: middle;\n    }\n\n    .dataframe tbody tr th {\n        vertical-align: top;\n    }\n\n    .dataframe thead th {\n        text-align: right;\n    }\n</style>\n<table border=\"1\" class=\"dataframe\">\n  <thead>\n    <tr style=\"text-align: right;\">\n      <th></th>\n      <th>real_discount</th>\n      <th>pub_rev</th>\n      <th>accepted</th>\n      <th>real_rev</th>\n      <th>rom_discount</th>\n      <th>rom_pa</th>\n      <th>rom_exp_rev</th>\n      <th>rom_discount_4_low</th>\n      <th>rom_discount_4_mid</th>\n      <th>rom_discount_4_high</th>\n      <th>rom_discount_6_low</th>\n      <th>rom_discount_6_mid</th>\n      <th>rom_discount_6_high</th>\n      <th>rom_discount_8_low</th>\n      <th>rom_discount_8_mid</th>\n      <th>rom_discount_8_high</th>\n      <th>rom_diff</th>\n    </tr>\n  </thead>\n  <tbody>\n    <tr>\n      <th>38473</th>\n      <td>72.491271</td>\n      <td>65870.0</td>\n      <td>1</td>\n      <td>18120.0</td>\n      <td>70</td>\n      <td>0.975528</td>\n      <td>0.292658</td>\n      <td>70</td>\n      <td>70.5</td>\n      <td>71</td>\n      <td>70</td>\n      <td>70.5</td>\n      <td>71</td>\n      <td>70</td>\n      <td>71.0</td>\n      <td>72</td>\n      <td>-2.491271</td>\n    </tr>\n    <tr>\n      <th>38474</th>\n      <td>70.059484</td>\n      <td>75650.0</td>\n      <td>1</td>\n      <td>22650.0</td>\n      <td>50</td>\n      <td>0.933020</td>\n      <td>0.466510</td>\n      <td>50</td>\n      <td>50.5</td>\n      <td>51</td>\n      <td>50</td>\n      <td>51.0</td>\n      <td>52</td>\n      <td>50</td>\n      <td>51.5</td>\n      <td>53</td>\n      <td>-20.059484</td>\n    </tr>\n    <tr>\n      <th>38475</th>\n      <td>71.102662</td>\n      <td>118350.0</td>\n      <td>1</td>\n      <td>34200.0</td>\n      <td>60</td>\n      <td>0.774024</td>\n      <td>0.309610</td>\n      <td>56</td>\n      <td>59.0</td>\n      <td>62</td>\n      <td>50</td>\n      <td>57.5</td>\n      <td>65</td>\n      <td>50</td>\n      <td>58.0</td>\n      <td>66</td>\n      <td>-11.102662</td>\n    </tr>\n    <tr>\n      <th>38476</th>\n      <td>77.334576</td>\n      <td>16095.0</td>\n      <td>1</td>\n      <td>3648.0</td>\n      <td>50</td>\n      <td>0.890653</td>\n      <td>0.445327</td>\n      <td>50</td>\n      <td>50.5</td>\n      <td>51</td>\n      <td>50</td>\n      <td>51.0</td>\n      <td>52</td>\n      <td>50</td>\n      <td>51.5</td>\n      <td>53</td>\n      <td>-27.334576</td>\n    </tr>\n    <tr>\n      <th>38477</th>\n      <td>64.048706</td>\n      <td>6570.0</td>\n      <td>0</td>\n      <td>0.0</td>\n      <td>56</td>\n      <td>0.975035</td>\n      <td>0.429015</td>\n      <td>50</td>\n      <td>53.5</td>\n      <td>57</td>\n      <td>47</td>\n      <td>52.5</td>\n      <td>58</td>\n      <td>44</td>\n      <td>51.0</td>\n      <td>58</td>\n      <td>-8.048706</td>\n    </tr>\n    <tr>\n      <th>...</th>\n      <td>...</td>\n      <td>...</td>\n      <td>...</td>\n      <td>...</td>\n      <td>...</td>\n      <td>...</td>\n      <td>...</td>\n      <td>...</td>\n      <td>...</td>\n      <td>...</td>\n      <td>...</td>\n      <td>...</td>\n      <td>...</td>\n      <td>...</td>\n      <td>...</td>\n      <td>...</td>\n      <td>...</td>\n    </tr>\n    <tr>\n      <th>41868</th>\n      <td>45.999382</td>\n      <td>3237.0</td>\n      <td>0</td>\n      <td>0.0</td>\n      <td>50</td>\n      <td>0.954753</td>\n      <td>0.477377</td>\n      <td>50</td>\n      <td>50.5</td>\n      <td>51</td>\n      <td>50</td>\n      <td>51.0</td>\n      <td>52</td>\n      <td>50</td>\n      <td>51.5</td>\n      <td>53</td>\n      <td>4.000618</td>\n    </tr>\n    <tr>\n      <th>41869</th>\n      <td>45.999382</td>\n      <td>3237.0</td>\n      <td>0</td>\n      <td>0.0</td>\n      <td>50</td>\n      <td>0.901873</td>\n      <td>0.450937</td>\n      <td>50</td>\n      <td>53.0</td>\n      <td>56</td>\n      <td>50</td>\n      <td>53.0</td>\n      <td>56</td>\n      <td>50</td>\n      <td>53.5</td>\n      <td>57</td>\n      <td>4.000618</td>\n    </tr>\n    <tr>\n      <th>41870</th>\n      <td>34.007321</td>\n      <td>11474.0</td>\n      <td>1</td>\n      <td>7572.0</td>\n      <td>34</td>\n      <td>0.958320</td>\n      <td>0.632491</td>\n      <td>34</td>\n      <td>34.0</td>\n      <td>34</td>\n      <td>34</td>\n      <td>34.0</td>\n      <td>34</td>\n      <td>34</td>\n      <td>34.0</td>\n      <td>34</td>\n      <td>-0.007321</td>\n    </tr>\n    <tr>\n      <th>41871</th>\n      <td>68.052216</td>\n      <td>29110.0</td>\n      <td>1</td>\n      <td>9300.0</td>\n      <td>44</td>\n      <td>0.859451</td>\n      <td>0.481292</td>\n      <td>44</td>\n      <td>47.0</td>\n      <td>50</td>\n      <td>44</td>\n      <td>47.5</td>\n      <td>51</td>\n      <td>42</td>\n      <td>47.0</td>\n      <td>52</td>\n      <td>-24.052216</td>\n    </tr>\n    <tr>\n      <th>41872</th>\n      <td>67.928731</td>\n      <td>112250.0</td>\n      <td>1</td>\n      <td>36000.0</td>\n      <td>56</td>\n      <td>0.928624</td>\n      <td>0.408595</td>\n      <td>56</td>\n      <td>56.5</td>\n      <td>57</td>\n      <td>56</td>\n      <td>57.0</td>\n      <td>58</td>\n      <td>50</td>\n      <td>55.0</td>\n      <td>60</td>\n      <td>-11.928731</td>\n    </tr>\n  </tbody>\n</table>\n<p>3319 rows × 17 columns</p>\n</div>",
      "text/plain": "       real_discount   pub_rev  accepted  real_rev  rom_discount    rom_pa  \\\n38473      72.491271   65870.0         1   18120.0            70  0.975528   \n38474      70.059484   75650.0         1   22650.0            50  0.933020   \n38475      71.102662  118350.0         1   34200.0            60  0.774024   \n38476      77.334576   16095.0         1    3648.0            50  0.890653   \n38477      64.048706    6570.0         0       0.0            56  0.975035   \n...              ...       ...       ...       ...           ...       ...   \n41868      45.999382    3237.0         0       0.0            50  0.954753   \n41869      45.999382    3237.0         0       0.0            50  0.901873   \n41870      34.007321   11474.0         1    7572.0            34  0.958320   \n41871      68.052216   29110.0         1    9300.0            44  0.859451   \n41872      67.928731  112250.0         1   36000.0            56  0.928624   \n\n       rom_exp_rev  rom_discount_4_low  rom_discount_4_mid  \\\n38473     0.292658                  70                70.5   \n38474     0.466510                  50                50.5   \n38475     0.309610                  56                59.0   \n38476     0.445327                  50                50.5   \n38477     0.429015                  50                53.5   \n...            ...                 ...                 ...   \n41868     0.477377                  50                50.5   \n41869     0.450937                  50                53.0   \n41870     0.632491                  34                34.0   \n41871     0.481292                  44                47.0   \n41872     0.408595                  56                56.5   \n\n       rom_discount_4_high  rom_discount_6_low  rom_discount_6_mid  \\\n38473                   71                  70                70.5   \n38474                   51                  50                51.0   \n38475                   62                  50                57.5   \n38476                   51                  50                51.0   \n38477                   57                  47                52.5   \n...                    ...                 ...                 ...   \n41868                   51                  50                51.0   \n41869                   56                  50                53.0   \n41870                   34                  34                34.0   \n41871                   50                  44                47.5   \n41872                   57                  56                57.0   \n\n       rom_discount_6_high  rom_discount_8_low  rom_discount_8_mid  \\\n38473                   71                  70                71.0   \n38474                   52                  50                51.5   \n38475                   65                  50                58.0   \n38476                   52                  50                51.5   \n38477                   58                  44                51.0   \n...                    ...                 ...                 ...   \n41868                   52                  50                51.5   \n41869                   56                  50                53.5   \n41870                   34                  34                34.0   \n41871                   51                  42                47.0   \n41872                   58                  50                55.0   \n\n       rom_discount_8_high   rom_diff  \n38473                   72  -2.491271  \n38474                   53 -20.059484  \n38475                   66 -11.102662  \n38476                   53 -27.334576  \n38477                   58  -8.048706  \n...                    ...        ...  \n41868                   53   4.000618  \n41869                   57   4.000618  \n41870                   34  -0.007321  \n41871                   52 -24.052216  \n41872                   60 -11.928731  \n\n[3319 rows x 17 columns]"
     },
     "metadata": {},
     "output_type": "display_data"
    },
    {
     "data": {
      "text/markdown": "\n\n**^^^^^^^^^^^^^^^^^^^^^^^^^^^^^^ Taiwan (4/6) - 10,43 (3/5) ^^^^^^^^^^^^^^^^^^^^^^^^^^^^^^**\n\n",
      "text/plain": "<IPython.core.display.Markdown object>"
     },
     "metadata": {},
     "output_type": "display_data"
    },
    {
     "name": "stdout",
     "output_type": "stream",
     "text": [
      "('2023-10-01', '2024-04-01', '2024-04-01', '2024-07-01')\n",
      "Train data shape: (7207, 136)\n",
      "Test data shape: (3319, 136)\n"
     ]
    },
    {
     "name": "stderr",
     "output_type": "stream",
     "text": [
      "[I 2025-01-28 16:36:36,456] A new study created in memory with name: no-name-67979b90-4925-43eb-b80b-6f784c5b7f1e\n"
     ]
    },
    {
     "name": "stdout",
     "output_type": "stream",
     "text": [
      "before/after aug (7207, 136) (20462, 136)\n"
     ]
    },
    {
     "data": {
      "application/vnd.jupyter.widget-view+json": {
       "model_id": "5d149012cce54e95874b00f22f7ef023",
       "version_major": 2,
       "version_minor": 0
      },
      "text/plain": "  0%|          | 0/3 [00:00<?, ?it/s]"
     },
     "metadata": {},
     "output_type": "display_data"
    },
    {
     "name": "stdout",
     "output_type": "stream",
     "text": [
      "[I 2025-01-28 16:36:43,055] Trial 0 finished with value: 0.14547859351678974 and parameters: {'learning_rate': 0.01087080185549562, 'max_depth': 4, 'n_estimators': 729, 'gamma': 0.01123506477003016}. Best is trial 0 with value: 0.14547859351678974.\n",
      "[I 2025-01-28 16:36:52,199] Trial 1 finished with value: 0.14571491418335528 and parameters: {'learning_rate': 0.02230934569621654, 'max_depth': 6, 'n_estimators': 721, 'gamma': 0.05498659253091755}. Best is trial 0 with value: 0.14547859351678974.\n",
      "[I 2025-01-28 16:36:59,111] Trial 2 finished with value: 0.14490332309346315 and parameters: {'learning_rate': 0.03538453590906552, 'max_depth': 5, 'n_estimators': 643, 'gamma': 0.1229607110732571}. Best is trial 2 with value: 0.14490332309346315.\n",
      "Saving results to '../../../Data/training-data-POC-countries/rom_results/Taiwan~2024-04~2024-07/v07-test/10,43'\n",
      "Taiwan\n"
     ]
    },
    {
     "data": {
      "application/vnd.jupyter.widget-view+json": {
       "model_id": "c8827b17db3c4816a3b1b4b012ad5200",
       "version_major": 2,
       "version_minor": 0
      },
      "text/plain": "  0%|          | 0/3319 [00:00<?, ?it/s]"
     },
     "metadata": {},
     "output_type": "display_data"
    },
    {
     "data": {
      "text/html": "<div>\n<style scoped>\n    .dataframe tbody tr th:only-of-type {\n        vertical-align: middle;\n    }\n\n    .dataframe tbody tr th {\n        vertical-align: top;\n    }\n\n    .dataframe thead th {\n        text-align: right;\n    }\n</style>\n<table border=\"1\" class=\"dataframe\">\n  <thead>\n    <tr style=\"text-align: right;\">\n      <th></th>\n      <th>real_discount</th>\n      <th>pub_rev</th>\n      <th>accepted</th>\n      <th>real_rev</th>\n      <th>rom_discount</th>\n      <th>rom_pa</th>\n      <th>rom_exp_rev</th>\n      <th>rom_discount_4_low</th>\n      <th>rom_discount_4_mid</th>\n      <th>rom_discount_4_high</th>\n      <th>rom_discount_6_low</th>\n      <th>rom_discount_6_mid</th>\n      <th>rom_discount_6_high</th>\n      <th>rom_discount_8_low</th>\n      <th>rom_discount_8_mid</th>\n      <th>rom_discount_8_high</th>\n      <th>rom_diff</th>\n    </tr>\n  </thead>\n  <tbody>\n    <tr>\n      <th>38473</th>\n      <td>72.491271</td>\n      <td>65870.0</td>\n      <td>1</td>\n      <td>18120.0</td>\n      <td>65</td>\n      <td>0.891253</td>\n      <td>0.311939</td>\n      <td>56</td>\n      <td>60.5</td>\n      <td>65</td>\n      <td>56</td>\n      <td>61.0</td>\n      <td>66</td>\n      <td>56</td>\n      <td>63.0</td>\n      <td>70</td>\n      <td>-7.491271</td>\n    </tr>\n    <tr>\n      <th>38474</th>\n      <td>70.059484</td>\n      <td>75650.0</td>\n      <td>1</td>\n      <td>22650.0</td>\n      <td>47</td>\n      <td>0.915469</td>\n      <td>0.485198</td>\n      <td>47</td>\n      <td>48.0</td>\n      <td>49</td>\n      <td>47</td>\n      <td>48.5</td>\n      <td>50</td>\n      <td>47</td>\n      <td>49.0</td>\n      <td>51</td>\n      <td>-23.059484</td>\n    </tr>\n    <tr>\n      <th>38475</th>\n      <td>71.102662</td>\n      <td>118350.0</td>\n      <td>1</td>\n      <td>34200.0</td>\n      <td>56</td>\n      <td>0.817085</td>\n      <td>0.359517</td>\n      <td>56</td>\n      <td>58.0</td>\n      <td>60</td>\n      <td>56</td>\n      <td>58.0</td>\n      <td>60</td>\n      <td>56</td>\n      <td>58.0</td>\n      <td>60</td>\n      <td>-15.102662</td>\n    </tr>\n    <tr>\n      <th>38476</th>\n      <td>77.334576</td>\n      <td>16095.0</td>\n      <td>1</td>\n      <td>3648.0</td>\n      <td>56</td>\n      <td>0.830106</td>\n      <td>0.365247</td>\n      <td>56</td>\n      <td>58.0</td>\n      <td>60</td>\n      <td>56</td>\n      <td>59.0</td>\n      <td>62</td>\n      <td>56</td>\n      <td>59.5</td>\n      <td>63</td>\n      <td>-21.334576</td>\n    </tr>\n    <tr>\n      <th>38477</th>\n      <td>64.048706</td>\n      <td>6570.0</td>\n      <td>0</td>\n      <td>0.0</td>\n      <td>47</td>\n      <td>0.806755</td>\n      <td>0.427580</td>\n      <td>47</td>\n      <td>51.5</td>\n      <td>56</td>\n      <td>47</td>\n      <td>52.0</td>\n      <td>57</td>\n      <td>47</td>\n      <td>52.5</td>\n      <td>58</td>\n      <td>-17.048706</td>\n    </tr>\n    <tr>\n      <th>...</th>\n      <td>...</td>\n      <td>...</td>\n      <td>...</td>\n      <td>...</td>\n      <td>...</td>\n      <td>...</td>\n      <td>...</td>\n      <td>...</td>\n      <td>...</td>\n      <td>...</td>\n      <td>...</td>\n      <td>...</td>\n      <td>...</td>\n      <td>...</td>\n      <td>...</td>\n      <td>...</td>\n      <td>...</td>\n    </tr>\n    <tr>\n      <th>41868</th>\n      <td>45.999382</td>\n      <td>3237.0</td>\n      <td>0</td>\n      <td>0.0</td>\n      <td>47</td>\n      <td>0.829129</td>\n      <td>0.439438</td>\n      <td>47</td>\n      <td>51.5</td>\n      <td>56</td>\n      <td>47</td>\n      <td>51.5</td>\n      <td>56</td>\n      <td>47</td>\n      <td>52.0</td>\n      <td>57</td>\n      <td>1.000618</td>\n    </tr>\n    <tr>\n      <th>41869</th>\n      <td>45.999382</td>\n      <td>3237.0</td>\n      <td>0</td>\n      <td>0.0</td>\n      <td>56</td>\n      <td>0.971640</td>\n      <td>0.427522</td>\n      <td>56</td>\n      <td>56.5</td>\n      <td>57</td>\n      <td>56</td>\n      <td>57.0</td>\n      <td>58</td>\n      <td>47</td>\n      <td>52.5</td>\n      <td>58</td>\n      <td>10.000618</td>\n    </tr>\n    <tr>\n      <th>41870</th>\n      <td>34.007321</td>\n      <td>11474.0</td>\n      <td>1</td>\n      <td>7572.0</td>\n      <td>33</td>\n      <td>0.982761</td>\n      <td>0.658450</td>\n      <td>30</td>\n      <td>32.0</td>\n      <td>34</td>\n      <td>30</td>\n      <td>32.5</td>\n      <td>35</td>\n      <td>30</td>\n      <td>32.5</td>\n      <td>35</td>\n      <td>-1.007321</td>\n    </tr>\n    <tr>\n      <th>41871</th>\n      <td>68.052216</td>\n      <td>29110.0</td>\n      <td>1</td>\n      <td>9300.0</td>\n      <td>44</td>\n      <td>0.920949</td>\n      <td>0.515731</td>\n      <td>44</td>\n      <td>44.0</td>\n      <td>44</td>\n      <td>33</td>\n      <td>39.5</td>\n      <td>46</td>\n      <td>33</td>\n      <td>39.5</td>\n      <td>46</td>\n      <td>-24.052216</td>\n    </tr>\n    <tr>\n      <th>41872</th>\n      <td>67.928731</td>\n      <td>112250.0</td>\n      <td>1</td>\n      <td>36000.0</td>\n      <td>56</td>\n      <td>0.951770</td>\n      <td>0.418779</td>\n      <td>56</td>\n      <td>56.0</td>\n      <td>56</td>\n      <td>56</td>\n      <td>56.0</td>\n      <td>56</td>\n      <td>47</td>\n      <td>52.0</td>\n      <td>57</td>\n      <td>-11.928731</td>\n    </tr>\n  </tbody>\n</table>\n<p>3319 rows × 17 columns</p>\n</div>",
      "text/plain": "       real_discount   pub_rev  accepted  real_rev  rom_discount    rom_pa  \\\n38473      72.491271   65870.0         1   18120.0            65  0.891253   \n38474      70.059484   75650.0         1   22650.0            47  0.915469   \n38475      71.102662  118350.0         1   34200.0            56  0.817085   \n38476      77.334576   16095.0         1    3648.0            56  0.830106   \n38477      64.048706    6570.0         0       0.0            47  0.806755   \n...              ...       ...       ...       ...           ...       ...   \n41868      45.999382    3237.0         0       0.0            47  0.829129   \n41869      45.999382    3237.0         0       0.0            56  0.971640   \n41870      34.007321   11474.0         1    7572.0            33  0.982761   \n41871      68.052216   29110.0         1    9300.0            44  0.920949   \n41872      67.928731  112250.0         1   36000.0            56  0.951770   \n\n       rom_exp_rev  rom_discount_4_low  rom_discount_4_mid  \\\n38473     0.311939                  56                60.5   \n38474     0.485198                  47                48.0   \n38475     0.359517                  56                58.0   \n38476     0.365247                  56                58.0   \n38477     0.427580                  47                51.5   \n...            ...                 ...                 ...   \n41868     0.439438                  47                51.5   \n41869     0.427522                  56                56.5   \n41870     0.658450                  30                32.0   \n41871     0.515731                  44                44.0   \n41872     0.418779                  56                56.0   \n\n       rom_discount_4_high  rom_discount_6_low  rom_discount_6_mid  \\\n38473                   65                  56                61.0   \n38474                   49                  47                48.5   \n38475                   60                  56                58.0   \n38476                   60                  56                59.0   \n38477                   56                  47                52.0   \n...                    ...                 ...                 ...   \n41868                   56                  47                51.5   \n41869                   57                  56                57.0   \n41870                   34                  30                32.5   \n41871                   44                  33                39.5   \n41872                   56                  56                56.0   \n\n       rom_discount_6_high  rom_discount_8_low  rom_discount_8_mid  \\\n38473                   66                  56                63.0   \n38474                   50                  47                49.0   \n38475                   60                  56                58.0   \n38476                   62                  56                59.5   \n38477                   57                  47                52.5   \n...                    ...                 ...                 ...   \n41868                   56                  47                52.0   \n41869                   58                  47                52.5   \n41870                   35                  30                32.5   \n41871                   46                  33                39.5   \n41872                   56                  47                52.0   \n\n       rom_discount_8_high   rom_diff  \n38473                   70  -7.491271  \n38474                   51 -23.059484  \n38475                   60 -15.102662  \n38476                   63 -21.334576  \n38477                   58 -17.048706  \n...                    ...        ...  \n41868                   57   1.000618  \n41869                   58  10.000618  \n41870                   35  -1.007321  \n41871                   46 -24.052216  \n41872                   57 -11.928731  \n\n[3319 rows x 17 columns]"
     },
     "metadata": {},
     "output_type": "display_data"
    },
    {
     "data": {
      "text/markdown": "\n\n**^^^^^^^^^^^^^^^^^^^^^^^^^^^^^^ Taiwan (4/6) - 11,19 (4/5) ^^^^^^^^^^^^^^^^^^^^^^^^^^^^^^**\n\n",
      "text/plain": "<IPython.core.display.Markdown object>"
     },
     "metadata": {},
     "output_type": "display_data"
    },
    {
     "name": "stdout",
     "output_type": "stream",
     "text": [
      "('2023-10-01', '2024-04-01', '2024-04-01', '2024-07-01')\n",
      "Train data shape: (7207, 136)\n",
      "Test data shape: (3319, 136)\n"
     ]
    },
    {
     "name": "stderr",
     "output_type": "stream",
     "text": [
      "[I 2025-01-28 16:37:29,966] A new study created in memory with name: no-name-eb5e2bc1-dda0-40db-bf18-1176ceb8e07b\n"
     ]
    },
    {
     "name": "stdout",
     "output_type": "stream",
     "text": [
      "before/after aug (7207, 136) (21549, 136)\n"
     ]
    },
    {
     "data": {
      "application/vnd.jupyter.widget-view+json": {
       "model_id": "a2dadb2c1de0428bbe8df6f22626a642",
       "version_major": 2,
       "version_minor": 0
      },
      "text/plain": "  0%|          | 0/3 [00:00<?, ?it/s]"
     },
     "metadata": {},
     "output_type": "display_data"
    },
    {
     "name": "stdout",
     "output_type": "stream",
     "text": [
      "[I 2025-01-28 16:37:36,488] Trial 0 finished with value: 0.26644402525229716 and parameters: {'learning_rate': 0.01087080185549562, 'max_depth': 4, 'n_estimators': 729, 'gamma': 0.01123506477003016}. Best is trial 0 with value: 0.26644402525229716.\n",
      "[I 2025-01-28 16:37:45,767] Trial 1 finished with value: 0.23672168363935991 and parameters: {'learning_rate': 0.02230934569621654, 'max_depth': 6, 'n_estimators': 721, 'gamma': 0.05498659253091755}. Best is trial 1 with value: 0.23672168363935991.\n",
      "[I 2025-01-28 16:37:53,002] Trial 2 finished with value: 0.24013056950461947 and parameters: {'learning_rate': 0.03538453590906552, 'max_depth': 5, 'n_estimators': 643, 'gamma': 0.1229607110732571}. Best is trial 1 with value: 0.23672168363935991.\n",
      "Saving results to '../../../Data/training-data-POC-countries/rom_results/Taiwan~2024-04~2024-07/v07-test/11,19'\n",
      "Taiwan\n"
     ]
    },
    {
     "data": {
      "application/vnd.jupyter.widget-view+json": {
       "model_id": "0a187ea38b4948b4a49aab9cc91718a4",
       "version_major": 2,
       "version_minor": 0
      },
      "text/plain": "  0%|          | 0/3319 [00:00<?, ?it/s]"
     },
     "metadata": {},
     "output_type": "display_data"
    },
    {
     "data": {
      "text/html": "<div>\n<style scoped>\n    .dataframe tbody tr th:only-of-type {\n        vertical-align: middle;\n    }\n\n    .dataframe tbody tr th {\n        vertical-align: top;\n    }\n\n    .dataframe thead th {\n        text-align: right;\n    }\n</style>\n<table border=\"1\" class=\"dataframe\">\n  <thead>\n    <tr style=\"text-align: right;\">\n      <th></th>\n      <th>real_discount</th>\n      <th>pub_rev</th>\n      <th>accepted</th>\n      <th>real_rev</th>\n      <th>rom_discount</th>\n      <th>rom_pa</th>\n      <th>rom_exp_rev</th>\n      <th>rom_discount_4_low</th>\n      <th>rom_discount_4_mid</th>\n      <th>rom_discount_4_high</th>\n      <th>rom_discount_6_low</th>\n      <th>rom_discount_6_mid</th>\n      <th>rom_discount_6_high</th>\n      <th>rom_discount_8_low</th>\n      <th>rom_discount_8_mid</th>\n      <th>rom_discount_8_high</th>\n      <th>rom_diff</th>\n    </tr>\n  </thead>\n  <tbody>\n    <tr>\n      <th>38473</th>\n      <td>72.491271</td>\n      <td>65870.0</td>\n      <td>1</td>\n      <td>18120.0</td>\n      <td>61</td>\n      <td>0.883211</td>\n      <td>0.344452</td>\n      <td>60</td>\n      <td>60.5</td>\n      <td>61</td>\n      <td>60</td>\n      <td>60.5</td>\n      <td>61</td>\n      <td>60</td>\n      <td>60.5</td>\n      <td>61</td>\n      <td>-11.491271</td>\n    </tr>\n    <tr>\n      <th>38474</th>\n      <td>70.059484</td>\n      <td>75650.0</td>\n      <td>1</td>\n      <td>22650.0</td>\n      <td>50</td>\n      <td>0.892834</td>\n      <td>0.446417</td>\n      <td>50</td>\n      <td>50.0</td>\n      <td>50</td>\n      <td>50</td>\n      <td>50.0</td>\n      <td>50</td>\n      <td>50</td>\n      <td>50.0</td>\n      <td>50</td>\n      <td>-20.059484</td>\n    </tr>\n    <tr>\n      <th>38475</th>\n      <td>71.102662</td>\n      <td>118350.0</td>\n      <td>1</td>\n      <td>34200.0</td>\n      <td>50</td>\n      <td>0.819888</td>\n      <td>0.409944</td>\n      <td>50</td>\n      <td>50.0</td>\n      <td>50</td>\n      <td>50</td>\n      <td>50.0</td>\n      <td>50</td>\n      <td>50</td>\n      <td>50.0</td>\n      <td>50</td>\n      <td>-21.102662</td>\n    </tr>\n    <tr>\n      <th>38476</th>\n      <td>77.334576</td>\n      <td>16095.0</td>\n      <td>1</td>\n      <td>3648.0</td>\n      <td>57</td>\n      <td>0.865807</td>\n      <td>0.372297</td>\n      <td>57</td>\n      <td>57.0</td>\n      <td>57</td>\n      <td>57</td>\n      <td>59.0</td>\n      <td>61</td>\n      <td>57</td>\n      <td>59.0</td>\n      <td>61</td>\n      <td>-20.334576</td>\n    </tr>\n    <tr>\n      <th>38477</th>\n      <td>64.048706</td>\n      <td>6570.0</td>\n      <td>0</td>\n      <td>0.0</td>\n      <td>57</td>\n      <td>0.985664</td>\n      <td>0.423836</td>\n      <td>57</td>\n      <td>57.0</td>\n      <td>57</td>\n      <td>57</td>\n      <td>57.0</td>\n      <td>57</td>\n      <td>57</td>\n      <td>57.0</td>\n      <td>57</td>\n      <td>-7.048706</td>\n    </tr>\n    <tr>\n      <th>...</th>\n      <td>...</td>\n      <td>...</td>\n      <td>...</td>\n      <td>...</td>\n      <td>...</td>\n      <td>...</td>\n      <td>...</td>\n      <td>...</td>\n      <td>...</td>\n      <td>...</td>\n      <td>...</td>\n      <td>...</td>\n      <td>...</td>\n      <td>...</td>\n      <td>...</td>\n      <td>...</td>\n      <td>...</td>\n    </tr>\n    <tr>\n      <th>41868</th>\n      <td>45.999382</td>\n      <td>3237.0</td>\n      <td>0</td>\n      <td>0.0</td>\n      <td>57</td>\n      <td>0.986563</td>\n      <td>0.424222</td>\n      <td>57</td>\n      <td>57.0</td>\n      <td>57</td>\n      <td>57</td>\n      <td>57.0</td>\n      <td>57</td>\n      <td>46</td>\n      <td>51.5</td>\n      <td>57</td>\n      <td>11.000618</td>\n    </tr>\n    <tr>\n      <th>41869</th>\n      <td>45.999382</td>\n      <td>3237.0</td>\n      <td>0</td>\n      <td>0.0</td>\n      <td>57</td>\n      <td>0.989546</td>\n      <td>0.425505</td>\n      <td>57</td>\n      <td>57.0</td>\n      <td>57</td>\n      <td>57</td>\n      <td>57.0</td>\n      <td>57</td>\n      <td>57</td>\n      <td>57.0</td>\n      <td>57</td>\n      <td>11.000618</td>\n    </tr>\n    <tr>\n      <th>41870</th>\n      <td>34.007321</td>\n      <td>11474.0</td>\n      <td>1</td>\n      <td>7572.0</td>\n      <td>34</td>\n      <td>0.860863</td>\n      <td>0.568170</td>\n      <td>34</td>\n      <td>34.0</td>\n      <td>34</td>\n      <td>34</td>\n      <td>34.0</td>\n      <td>34</td>\n      <td>34</td>\n      <td>34.0</td>\n      <td>34</td>\n      <td>-0.007321</td>\n    </tr>\n    <tr>\n      <th>41871</th>\n      <td>68.052216</td>\n      <td>29110.0</td>\n      <td>1</td>\n      <td>9300.0</td>\n      <td>50</td>\n      <td>0.889424</td>\n      <td>0.444712</td>\n      <td>50</td>\n      <td>50.0</td>\n      <td>50</td>\n      <td>50</td>\n      <td>50.0</td>\n      <td>50</td>\n      <td>50</td>\n      <td>53.5</td>\n      <td>57</td>\n      <td>-18.052216</td>\n    </tr>\n    <tr>\n      <th>41872</th>\n      <td>67.928731</td>\n      <td>112250.0</td>\n      <td>1</td>\n      <td>36000.0</td>\n      <td>50</td>\n      <td>0.863509</td>\n      <td>0.431754</td>\n      <td>50</td>\n      <td>50.0</td>\n      <td>50</td>\n      <td>50</td>\n      <td>50.0</td>\n      <td>50</td>\n      <td>50</td>\n      <td>50.0</td>\n      <td>50</td>\n      <td>-17.928731</td>\n    </tr>\n  </tbody>\n</table>\n<p>3319 rows × 17 columns</p>\n</div>",
      "text/plain": "       real_discount   pub_rev  accepted  real_rev  rom_discount    rom_pa  \\\n38473      72.491271   65870.0         1   18120.0            61  0.883211   \n38474      70.059484   75650.0         1   22650.0            50  0.892834   \n38475      71.102662  118350.0         1   34200.0            50  0.819888   \n38476      77.334576   16095.0         1    3648.0            57  0.865807   \n38477      64.048706    6570.0         0       0.0            57  0.985664   \n...              ...       ...       ...       ...           ...       ...   \n41868      45.999382    3237.0         0       0.0            57  0.986563   \n41869      45.999382    3237.0         0       0.0            57  0.989546   \n41870      34.007321   11474.0         1    7572.0            34  0.860863   \n41871      68.052216   29110.0         1    9300.0            50  0.889424   \n41872      67.928731  112250.0         1   36000.0            50  0.863509   \n\n       rom_exp_rev  rom_discount_4_low  rom_discount_4_mid  \\\n38473     0.344452                  60                60.5   \n38474     0.446417                  50                50.0   \n38475     0.409944                  50                50.0   \n38476     0.372297                  57                57.0   \n38477     0.423836                  57                57.0   \n...            ...                 ...                 ...   \n41868     0.424222                  57                57.0   \n41869     0.425505                  57                57.0   \n41870     0.568170                  34                34.0   \n41871     0.444712                  50                50.0   \n41872     0.431754                  50                50.0   \n\n       rom_discount_4_high  rom_discount_6_low  rom_discount_6_mid  \\\n38473                   61                  60                60.5   \n38474                   50                  50                50.0   \n38475                   50                  50                50.0   \n38476                   57                  57                59.0   \n38477                   57                  57                57.0   \n...                    ...                 ...                 ...   \n41868                   57                  57                57.0   \n41869                   57                  57                57.0   \n41870                   34                  34                34.0   \n41871                   50                  50                50.0   \n41872                   50                  50                50.0   \n\n       rom_discount_6_high  rom_discount_8_low  rom_discount_8_mid  \\\n38473                   61                  60                60.5   \n38474                   50                  50                50.0   \n38475                   50                  50                50.0   \n38476                   61                  57                59.0   \n38477                   57                  57                57.0   \n...                    ...                 ...                 ...   \n41868                   57                  46                51.5   \n41869                   57                  57                57.0   \n41870                   34                  34                34.0   \n41871                   50                  50                53.5   \n41872                   50                  50                50.0   \n\n       rom_discount_8_high   rom_diff  \n38473                   61 -11.491271  \n38474                   50 -20.059484  \n38475                   50 -21.102662  \n38476                   61 -20.334576  \n38477                   57  -7.048706  \n...                    ...        ...  \n41868                   57  11.000618  \n41869                   57  11.000618  \n41870                   34  -0.007321  \n41871                   57 -18.052216  \n41872                   50 -17.928731  \n\n[3319 rows x 17 columns]"
     },
     "metadata": {},
     "output_type": "display_data"
    },
    {
     "data": {
      "text/markdown": "\n\n**^^^^^^^^^^^^^^^^^^^^^^^^^^^^^^ Taiwan (4/6) - 14,28 (5/5) ^^^^^^^^^^^^^^^^^^^^^^^^^^^^^^**\n\n",
      "text/plain": "<IPython.core.display.Markdown object>"
     },
     "metadata": {},
     "output_type": "display_data"
    },
    {
     "name": "stdout",
     "output_type": "stream",
     "text": [
      "('2023-10-01', '2024-04-01', '2024-04-01', '2024-07-01')\n",
      "Train data shape: (7207, 136)\n",
      "Test data shape: (3319, 136)\n"
     ]
    },
    {
     "name": "stderr",
     "output_type": "stream",
     "text": [
      "[I 2025-01-28 16:38:25,285] A new study created in memory with name: no-name-0c5b9b30-cb80-4ddc-83cd-3982d1c9972c\n"
     ]
    },
    {
     "name": "stdout",
     "output_type": "stream",
     "text": [
      "before/after aug (7207, 136) (21428, 136)\n"
     ]
    },
    {
     "data": {
      "application/vnd.jupyter.widget-view+json": {
       "model_id": "7acae95bd41644c484d3f645a2b71eb3",
       "version_major": 2,
       "version_minor": 0
      },
      "text/plain": "  0%|          | 0/3 [00:00<?, ?it/s]"
     },
     "metadata": {},
     "output_type": "display_data"
    },
    {
     "name": "stdout",
     "output_type": "stream",
     "text": [
      "[I 2025-01-28 16:38:31,598] Trial 0 finished with value: 0.18698235515464937 and parameters: {'learning_rate': 0.01087080185549562, 'max_depth': 4, 'n_estimators': 729, 'gamma': 0.01123506477003016}. Best is trial 0 with value: 0.18698235515464937.\n",
      "[I 2025-01-28 16:38:40,244] Trial 1 finished with value: 0.17015199057801966 and parameters: {'learning_rate': 0.02230934569621654, 'max_depth': 6, 'n_estimators': 721, 'gamma': 0.05498659253091755}. Best is trial 1 with value: 0.17015199057801966.\n",
      "[I 2025-01-28 16:38:46,967] Trial 2 finished with value: 0.17157715049704855 and parameters: {'learning_rate': 0.03538453590906552, 'max_depth': 5, 'n_estimators': 643, 'gamma': 0.1229607110732571}. Best is trial 1 with value: 0.17015199057801966.\n",
      "Saving results to '../../../Data/training-data-POC-countries/rom_results/Taiwan~2024-04~2024-07/v07-test/14,28'\n",
      "Taiwan\n"
     ]
    },
    {
     "data": {
      "application/vnd.jupyter.widget-view+json": {
       "model_id": "45e901205610466782e3a78d043f788d",
       "version_major": 2,
       "version_minor": 0
      },
      "text/plain": "  0%|          | 0/3319 [00:00<?, ?it/s]"
     },
     "metadata": {},
     "output_type": "display_data"
    },
    {
     "data": {
      "text/html": "<div>\n<style scoped>\n    .dataframe tbody tr th:only-of-type {\n        vertical-align: middle;\n    }\n\n    .dataframe tbody tr th {\n        vertical-align: top;\n    }\n\n    .dataframe thead th {\n        text-align: right;\n    }\n</style>\n<table border=\"1\" class=\"dataframe\">\n  <thead>\n    <tr style=\"text-align: right;\">\n      <th></th>\n      <th>real_discount</th>\n      <th>pub_rev</th>\n      <th>accepted</th>\n      <th>real_rev</th>\n      <th>rom_discount</th>\n      <th>rom_pa</th>\n      <th>rom_exp_rev</th>\n      <th>rom_discount_4_low</th>\n      <th>rom_discount_4_mid</th>\n      <th>rom_discount_4_high</th>\n      <th>rom_discount_6_low</th>\n      <th>rom_discount_6_mid</th>\n      <th>rom_discount_6_high</th>\n      <th>rom_discount_8_low</th>\n      <th>rom_discount_8_mid</th>\n      <th>rom_discount_8_high</th>\n      <th>rom_diff</th>\n    </tr>\n  </thead>\n  <tbody>\n    <tr>\n      <th>38473</th>\n      <td>72.491271</td>\n      <td>65870.0</td>\n      <td>1</td>\n      <td>18120.0</td>\n      <td>50</td>\n      <td>0.549895</td>\n      <td>0.274947</td>\n      <td>48</td>\n      <td>60.5</td>\n      <td>73</td>\n      <td>48</td>\n      <td>61.0</td>\n      <td>74</td>\n      <td>48</td>\n      <td>61.0</td>\n      <td>74</td>\n      <td>-22.491271</td>\n    </tr>\n    <tr>\n      <th>38474</th>\n      <td>70.059484</td>\n      <td>75650.0</td>\n      <td>1</td>\n      <td>22650.0</td>\n      <td>48</td>\n      <td>0.856771</td>\n      <td>0.445521</td>\n      <td>48</td>\n      <td>49.0</td>\n      <td>50</td>\n      <td>48</td>\n      <td>49.0</td>\n      <td>50</td>\n      <td>48</td>\n      <td>49.0</td>\n      <td>50</td>\n      <td>-22.059484</td>\n    </tr>\n    <tr>\n      <th>38475</th>\n      <td>71.102662</td>\n      <td>118350.0</td>\n      <td>1</td>\n      <td>34200.0</td>\n      <td>60</td>\n      <td>0.950319</td>\n      <td>0.380128</td>\n      <td>60</td>\n      <td>60.5</td>\n      <td>61</td>\n      <td>48</td>\n      <td>54.5</td>\n      <td>61</td>\n      <td>48</td>\n      <td>55.0</td>\n      <td>62</td>\n      <td>-11.102662</td>\n    </tr>\n    <tr>\n      <th>38476</th>\n      <td>77.334576</td>\n      <td>16095.0</td>\n      <td>1</td>\n      <td>3648.0</td>\n      <td>60</td>\n      <td>0.975305</td>\n      <td>0.390122</td>\n      <td>60</td>\n      <td>60.0</td>\n      <td>60</td>\n      <td>60</td>\n      <td>60.5</td>\n      <td>61</td>\n      <td>60</td>\n      <td>61.0</td>\n      <td>62</td>\n      <td>-17.334576</td>\n    </tr>\n    <tr>\n      <th>38477</th>\n      <td>64.048706</td>\n      <td>6570.0</td>\n      <td>0</td>\n      <td>0.0</td>\n      <td>60</td>\n      <td>0.992293</td>\n      <td>0.396917</td>\n      <td>60</td>\n      <td>60.5</td>\n      <td>61</td>\n      <td>58</td>\n      <td>60.0</td>\n      <td>62</td>\n      <td>58</td>\n      <td>60.5</td>\n      <td>63</td>\n      <td>-4.048706</td>\n    </tr>\n    <tr>\n      <th>...</th>\n      <td>...</td>\n      <td>...</td>\n      <td>...</td>\n      <td>...</td>\n      <td>...</td>\n      <td>...</td>\n      <td>...</td>\n      <td>...</td>\n      <td>...</td>\n      <td>...</td>\n      <td>...</td>\n      <td>...</td>\n      <td>...</td>\n      <td>...</td>\n      <td>...</td>\n      <td>...</td>\n      <td>...</td>\n    </tr>\n    <tr>\n      <th>41868</th>\n      <td>45.999382</td>\n      <td>3237.0</td>\n      <td>0</td>\n      <td>0.0</td>\n      <td>51</td>\n      <td>0.879459</td>\n      <td>0.430935</td>\n      <td>48</td>\n      <td>50.0</td>\n      <td>52</td>\n      <td>48</td>\n      <td>52.0</td>\n      <td>56</td>\n      <td>48</td>\n      <td>54.0</td>\n      <td>60</td>\n      <td>5.000618</td>\n    </tr>\n    <tr>\n      <th>41869</th>\n      <td>45.999382</td>\n      <td>3237.0</td>\n      <td>0</td>\n      <td>0.0</td>\n      <td>60</td>\n      <td>0.993977</td>\n      <td>0.397591</td>\n      <td>60</td>\n      <td>60.5</td>\n      <td>61</td>\n      <td>60</td>\n      <td>61.0</td>\n      <td>62</td>\n      <td>60</td>\n      <td>61.5</td>\n      <td>63</td>\n      <td>14.000618</td>\n    </tr>\n    <tr>\n      <th>41870</th>\n      <td>34.007321</td>\n      <td>11474.0</td>\n      <td>1</td>\n      <td>7572.0</td>\n      <td>34</td>\n      <td>0.845047</td>\n      <td>0.557731</td>\n      <td>34</td>\n      <td>34.0</td>\n      <td>34</td>\n      <td>34</td>\n      <td>34.0</td>\n      <td>34</td>\n      <td>34</td>\n      <td>34.0</td>\n      <td>34</td>\n      <td>-0.007321</td>\n    </tr>\n    <tr>\n      <th>41871</th>\n      <td>68.052216</td>\n      <td>29110.0</td>\n      <td>1</td>\n      <td>9300.0</td>\n      <td>48</td>\n      <td>0.914228</td>\n      <td>0.475399</td>\n      <td>48</td>\n      <td>48.0</td>\n      <td>48</td>\n      <td>48</td>\n      <td>49.0</td>\n      <td>50</td>\n      <td>48</td>\n      <td>49.0</td>\n      <td>50</td>\n      <td>-20.052216</td>\n    </tr>\n    <tr>\n      <th>41872</th>\n      <td>67.928731</td>\n      <td>112250.0</td>\n      <td>1</td>\n      <td>36000.0</td>\n      <td>48</td>\n      <td>0.889971</td>\n      <td>0.462785</td>\n      <td>48</td>\n      <td>49.0</td>\n      <td>50</td>\n      <td>48</td>\n      <td>49.0</td>\n      <td>50</td>\n      <td>46</td>\n      <td>48.0</td>\n      <td>50</td>\n      <td>-19.928731</td>\n    </tr>\n  </tbody>\n</table>\n<p>3319 rows × 17 columns</p>\n</div>",
      "text/plain": "       real_discount   pub_rev  accepted  real_rev  rom_discount    rom_pa  \\\n38473      72.491271   65870.0         1   18120.0            50  0.549895   \n38474      70.059484   75650.0         1   22650.0            48  0.856771   \n38475      71.102662  118350.0         1   34200.0            60  0.950319   \n38476      77.334576   16095.0         1    3648.0            60  0.975305   \n38477      64.048706    6570.0         0       0.0            60  0.992293   \n...              ...       ...       ...       ...           ...       ...   \n41868      45.999382    3237.0         0       0.0            51  0.879459   \n41869      45.999382    3237.0         0       0.0            60  0.993977   \n41870      34.007321   11474.0         1    7572.0            34  0.845047   \n41871      68.052216   29110.0         1    9300.0            48  0.914228   \n41872      67.928731  112250.0         1   36000.0            48  0.889971   \n\n       rom_exp_rev  rom_discount_4_low  rom_discount_4_mid  \\\n38473     0.274947                  48                60.5   \n38474     0.445521                  48                49.0   \n38475     0.380128                  60                60.5   \n38476     0.390122                  60                60.0   \n38477     0.396917                  60                60.5   \n...            ...                 ...                 ...   \n41868     0.430935                  48                50.0   \n41869     0.397591                  60                60.5   \n41870     0.557731                  34                34.0   \n41871     0.475399                  48                48.0   \n41872     0.462785                  48                49.0   \n\n       rom_discount_4_high  rom_discount_6_low  rom_discount_6_mid  \\\n38473                   73                  48                61.0   \n38474                   50                  48                49.0   \n38475                   61                  48                54.5   \n38476                   60                  60                60.5   \n38477                   61                  58                60.0   \n...                    ...                 ...                 ...   \n41868                   52                  48                52.0   \n41869                   61                  60                61.0   \n41870                   34                  34                34.0   \n41871                   48                  48                49.0   \n41872                   50                  48                49.0   \n\n       rom_discount_6_high  rom_discount_8_low  rom_discount_8_mid  \\\n38473                   74                  48                61.0   \n38474                   50                  48                49.0   \n38475                   61                  48                55.0   \n38476                   61                  60                61.0   \n38477                   62                  58                60.5   \n...                    ...                 ...                 ...   \n41868                   56                  48                54.0   \n41869                   62                  60                61.5   \n41870                   34                  34                34.0   \n41871                   50                  48                49.0   \n41872                   50                  46                48.0   \n\n       rom_discount_8_high   rom_diff  \n38473                   74 -22.491271  \n38474                   50 -22.059484  \n38475                   62 -11.102662  \n38476                   62 -17.334576  \n38477                   63  -4.048706  \n...                    ...        ...  \n41868                   60   5.000618  \n41869                   63  14.000618  \n41870                   34  -0.007321  \n41871                   50 -20.052216  \n41872                   50 -19.928731  \n\n[3319 rows x 17 columns]"
     },
     "metadata": {},
     "output_type": "display_data"
    },
    {
     "data": {
      "text/markdown": "\n\n**^^^^^^^^^^^^^^^^^^^^^^^^^^^^^^ Thailand (5/6) - 08,26 (1/5) ^^^^^^^^^^^^^^^^^^^^^^^^^^^^^^**\n\n",
      "text/plain": "<IPython.core.display.Markdown object>"
     },
     "metadata": {},
     "output_type": "display_data"
    },
    {
     "name": "stdout",
     "output_type": "stream",
     "text": [
      "('2023-10-01', '2024-04-01', '2024-04-01', '2024-07-01')\n",
      "Train data shape: (3777, 136)\n",
      "Test data shape: (1316, 136)\n"
     ]
    },
    {
     "name": "stderr",
     "output_type": "stream",
     "text": [
      "[I 2025-01-28 16:39:18,773] A new study created in memory with name: no-name-c9688237-3883-424f-8f61-81244f049164\n"
     ]
    },
    {
     "name": "stdout",
     "output_type": "stream",
     "text": [
      "before/after aug (3777, 136) (10743, 136)\n"
     ]
    },
    {
     "data": {
      "application/vnd.jupyter.widget-view+json": {
       "model_id": "19c83ee29dc0423abcc2cb8a4d96138b",
       "version_major": 2,
       "version_minor": 0
      },
      "text/plain": "  0%|          | 0/3 [00:00<?, ?it/s]"
     },
     "metadata": {},
     "output_type": "display_data"
    },
    {
     "name": "stdout",
     "output_type": "stream",
     "text": [
      "[I 2025-01-28 16:39:24,692] Trial 0 finished with value: 0.39967185522327525 and parameters: {'learning_rate': 0.01087080185549562, 'max_depth': 4, 'n_estimators': 729, 'gamma': 0.01123506477003016}. Best is trial 0 with value: 0.39967185522327525.\n",
      "[I 2025-01-28 16:39:33,094] Trial 1 finished with value: 0.4020491321564942 and parameters: {'learning_rate': 0.02230934569621654, 'max_depth': 6, 'n_estimators': 721, 'gamma': 0.05498659253091755}. Best is trial 0 with value: 0.39967185522327525.\n",
      "[I 2025-01-28 16:39:39,449] Trial 2 finished with value: 0.40036256207174575 and parameters: {'learning_rate': 0.03538453590906552, 'max_depth': 5, 'n_estimators': 643, 'gamma': 0.1229607110732571}. Best is trial 0 with value: 0.39967185522327525.\n",
      "Saving results to '../../../Data/training-data-POC-countries/rom_results/Thailand~2024-04~2024-07/v07-test/08,26'\n",
      "Thailand\n"
     ]
    },
    {
     "data": {
      "application/vnd.jupyter.widget-view+json": {
       "model_id": "74a38ab708344fb993c80172406d2c3f",
       "version_major": 2,
       "version_minor": 0
      },
      "text/plain": "  0%|          | 0/1316 [00:00<?, ?it/s]"
     },
     "metadata": {},
     "output_type": "display_data"
    },
    {
     "data": {
      "text/html": "<div>\n<style scoped>\n    .dataframe tbody tr th:only-of-type {\n        vertical-align: middle;\n    }\n\n    .dataframe tbody tr th {\n        vertical-align: top;\n    }\n\n    .dataframe thead th {\n        text-align: right;\n    }\n</style>\n<table border=\"1\" class=\"dataframe\">\n  <thead>\n    <tr style=\"text-align: right;\">\n      <th></th>\n      <th>real_discount</th>\n      <th>pub_rev</th>\n      <th>accepted</th>\n      <th>real_rev</th>\n      <th>rom_discount</th>\n      <th>rom_pa</th>\n      <th>rom_exp_rev</th>\n      <th>rom_discount_4_low</th>\n      <th>rom_discount_4_mid</th>\n      <th>rom_discount_4_high</th>\n      <th>rom_discount_6_low</th>\n      <th>rom_discount_6_mid</th>\n      <th>rom_discount_6_high</th>\n      <th>rom_discount_8_low</th>\n      <th>rom_discount_8_mid</th>\n      <th>rom_discount_8_high</th>\n      <th>rom_diff</th>\n    </tr>\n  </thead>\n  <tbody>\n    <tr>\n      <th>37611</th>\n      <td>84.702521</td>\n      <td>4918.0</td>\n      <td>0</td>\n      <td>0.00</td>\n      <td>53</td>\n      <td>0.734926</td>\n      <td>0.345415</td>\n      <td>53</td>\n      <td>58.0</td>\n      <td>63</td>\n      <td>53</td>\n      <td>58.5</td>\n      <td>64</td>\n      <td>48</td>\n      <td>56.5</td>\n      <td>65</td>\n      <td>-31.702521</td>\n    </tr>\n    <tr>\n      <th>37622</th>\n      <td>55.000000</td>\n      <td>6376.0</td>\n      <td>1</td>\n      <td>2869.20</td>\n      <td>38</td>\n      <td>0.870853</td>\n      <td>0.539929</td>\n      <td>38</td>\n      <td>39.0</td>\n      <td>40</td>\n      <td>38</td>\n      <td>39.5</td>\n      <td>41</td>\n      <td>38</td>\n      <td>41.5</td>\n      <td>45</td>\n      <td>-17.000000</td>\n    </tr>\n    <tr>\n      <th>37627</th>\n      <td>30.000000</td>\n      <td>60634.0</td>\n      <td>1</td>\n      <td>42443.80</td>\n      <td>28</td>\n      <td>0.726948</td>\n      <td>0.523403</td>\n      <td>28</td>\n      <td>28.0</td>\n      <td>28</td>\n      <td>12</td>\n      <td>20.0</td>\n      <td>28</td>\n      <td>12</td>\n      <td>20.0</td>\n      <td>28</td>\n      <td>-2.000000</td>\n    </tr>\n    <tr>\n      <th>37629</th>\n      <td>30.000000</td>\n      <td>8954.0</td>\n      <td>1</td>\n      <td>6267.80</td>\n      <td>38</td>\n      <td>0.789695</td>\n      <td>0.489611</td>\n      <td>38</td>\n      <td>39.0</td>\n      <td>40</td>\n      <td>38</td>\n      <td>41.0</td>\n      <td>44</td>\n      <td>30</td>\n      <td>39.0</td>\n      <td>48</td>\n      <td>8.000000</td>\n    </tr>\n    <tr>\n      <th>37630</th>\n      <td>30.000000</td>\n      <td>8954.0</td>\n      <td>0</td>\n      <td>0.00</td>\n      <td>63</td>\n      <td>0.931981</td>\n      <td>0.344833</td>\n      <td>53</td>\n      <td>58.5</td>\n      <td>64</td>\n      <td>53</td>\n      <td>58.5</td>\n      <td>64</td>\n      <td>48</td>\n      <td>56.5</td>\n      <td>65</td>\n      <td>33.000000</td>\n    </tr>\n    <tr>\n      <th>...</th>\n      <td>...</td>\n      <td>...</td>\n      <td>...</td>\n      <td>...</td>\n      <td>...</td>\n      <td>...</td>\n      <td>...</td>\n      <td>...</td>\n      <td>...</td>\n      <td>...</td>\n      <td>...</td>\n      <td>...</td>\n      <td>...</td>\n      <td>...</td>\n      <td>...</td>\n      <td>...</td>\n      <td>...</td>\n    </tr>\n    <tr>\n      <th>40492</th>\n      <td>50.000000</td>\n      <td>24720.0</td>\n      <td>1</td>\n      <td>12360.00</td>\n      <td>38</td>\n      <td>0.833797</td>\n      <td>0.516954</td>\n      <td>28</td>\n      <td>34.0</td>\n      <td>40</td>\n      <td>28</td>\n      <td>36.0</td>\n      <td>44</td>\n      <td>28</td>\n      <td>37.0</td>\n      <td>46</td>\n      <td>-12.000000</td>\n    </tr>\n    <tr>\n      <th>40493</th>\n      <td>55.000000</td>\n      <td>6376.0</td>\n      <td>1</td>\n      <td>2869.20</td>\n      <td>38</td>\n      <td>0.873837</td>\n      <td>0.541779</td>\n      <td>38</td>\n      <td>39.0</td>\n      <td>40</td>\n      <td>38</td>\n      <td>39.5</td>\n      <td>41</td>\n      <td>38</td>\n      <td>41.5</td>\n      <td>45</td>\n      <td>-17.000000</td>\n    </tr>\n    <tr>\n      <th>40494</th>\n      <td>6.000000</td>\n      <td>1158.0</td>\n      <td>1</td>\n      <td>1088.52</td>\n      <td>28</td>\n      <td>0.876387</td>\n      <td>0.630998</td>\n      <td>15</td>\n      <td>23.0</td>\n      <td>31</td>\n      <td>15</td>\n      <td>23.5</td>\n      <td>32</td>\n      <td>15</td>\n      <td>24.5</td>\n      <td>34</td>\n      <td>22.000000</td>\n    </tr>\n    <tr>\n      <th>40496</th>\n      <td>5.000000</td>\n      <td>1625.0</td>\n      <td>0</td>\n      <td>0.00</td>\n      <td>30</td>\n      <td>0.560670</td>\n      <td>0.392469</td>\n      <td>30</td>\n      <td>30.5</td>\n      <td>31</td>\n      <td>28</td>\n      <td>29.5</td>\n      <td>31</td>\n      <td>28</td>\n      <td>30.0</td>\n      <td>32</td>\n      <td>25.000000</td>\n    </tr>\n    <tr>\n      <th>40503</th>\n      <td>51.500000</td>\n      <td>4576.0</td>\n      <td>1</td>\n      <td>2219.36</td>\n      <td>12</td>\n      <td>0.767570</td>\n      <td>0.675461</td>\n      <td>12</td>\n      <td>20.0</td>\n      <td>28</td>\n      <td>12</td>\n      <td>21.0</td>\n      <td>30</td>\n      <td>12</td>\n      <td>21.5</td>\n      <td>31</td>\n      <td>-39.500000</td>\n    </tr>\n  </tbody>\n</table>\n<p>1316 rows × 17 columns</p>\n</div>",
      "text/plain": "       real_discount  pub_rev  accepted  real_rev  rom_discount    rom_pa  \\\n37611      84.702521   4918.0         0      0.00            53  0.734926   \n37622      55.000000   6376.0         1   2869.20            38  0.870853   \n37627      30.000000  60634.0         1  42443.80            28  0.726948   \n37629      30.000000   8954.0         1   6267.80            38  0.789695   \n37630      30.000000   8954.0         0      0.00            63  0.931981   \n...              ...      ...       ...       ...           ...       ...   \n40492      50.000000  24720.0         1  12360.00            38  0.833797   \n40493      55.000000   6376.0         1   2869.20            38  0.873837   \n40494       6.000000   1158.0         1   1088.52            28  0.876387   \n40496       5.000000   1625.0         0      0.00            30  0.560670   \n40503      51.500000   4576.0         1   2219.36            12  0.767570   \n\n       rom_exp_rev  rom_discount_4_low  rom_discount_4_mid  \\\n37611     0.345415                  53                58.0   \n37622     0.539929                  38                39.0   \n37627     0.523403                  28                28.0   \n37629     0.489611                  38                39.0   \n37630     0.344833                  53                58.5   \n...            ...                 ...                 ...   \n40492     0.516954                  28                34.0   \n40493     0.541779                  38                39.0   \n40494     0.630998                  15                23.0   \n40496     0.392469                  30                30.5   \n40503     0.675461                  12                20.0   \n\n       rom_discount_4_high  rom_discount_6_low  rom_discount_6_mid  \\\n37611                   63                  53                58.5   \n37622                   40                  38                39.5   \n37627                   28                  12                20.0   \n37629                   40                  38                41.0   \n37630                   64                  53                58.5   \n...                    ...                 ...                 ...   \n40492                   40                  28                36.0   \n40493                   40                  38                39.5   \n40494                   31                  15                23.5   \n40496                   31                  28                29.5   \n40503                   28                  12                21.0   \n\n       rom_discount_6_high  rom_discount_8_low  rom_discount_8_mid  \\\n37611                   64                  48                56.5   \n37622                   41                  38                41.5   \n37627                   28                  12                20.0   \n37629                   44                  30                39.0   \n37630                   64                  48                56.5   \n...                    ...                 ...                 ...   \n40492                   44                  28                37.0   \n40493                   41                  38                41.5   \n40494                   32                  15                24.5   \n40496                   31                  28                30.0   \n40503                   30                  12                21.5   \n\n       rom_discount_8_high   rom_diff  \n37611                   65 -31.702521  \n37622                   45 -17.000000  \n37627                   28  -2.000000  \n37629                   48   8.000000  \n37630                   65  33.000000  \n...                    ...        ...  \n40492                   46 -12.000000  \n40493                   45 -17.000000  \n40494                   34  22.000000  \n40496                   32  25.000000  \n40503                   31 -39.500000  \n\n[1316 rows x 17 columns]"
     },
     "metadata": {},
     "output_type": "display_data"
    },
    {
     "data": {
      "text/markdown": "\n\n**^^^^^^^^^^^^^^^^^^^^^^^^^^^^^^ Thailand (5/6) - 10,37 (2/5) ^^^^^^^^^^^^^^^^^^^^^^^^^^^^^^**\n\n",
      "text/plain": "<IPython.core.display.Markdown object>"
     },
     "metadata": {},
     "output_type": "display_data"
    },
    {
     "name": "stdout",
     "output_type": "stream",
     "text": [
      "('2023-10-01', '2024-04-01', '2024-04-01', '2024-07-01')\n",
      "Train data shape: (3777, 136)\n",
      "Test data shape: (1316, 136)\n"
     ]
    },
    {
     "name": "stderr",
     "output_type": "stream",
     "text": [
      "[I 2025-01-28 16:39:52,919] A new study created in memory with name: no-name-9a5278fc-6111-4ccd-a2ca-4014b9edc47b\n"
     ]
    },
    {
     "name": "stdout",
     "output_type": "stream",
     "text": [
      "before/after aug (3777, 136) (10253, 136)\n"
     ]
    },
    {
     "data": {
      "application/vnd.jupyter.widget-view+json": {
       "model_id": "bb063229aa374a7b96ab12b7878b593b",
       "version_major": 2,
       "version_minor": 0
      },
      "text/plain": "  0%|          | 0/3 [00:00<?, ?it/s]"
     },
     "metadata": {},
     "output_type": "display_data"
    },
    {
     "name": "stdout",
     "output_type": "stream",
     "text": [
      "[I 2025-01-28 16:39:58,749] Trial 0 finished with value: 0.3429167647746465 and parameters: {'learning_rate': 0.01087080185549562, 'max_depth': 4, 'n_estimators': 729, 'gamma': 0.01123506477003016}. Best is trial 0 with value: 0.3429167647746465.\n",
      "[I 2025-01-28 16:40:07,208] Trial 1 finished with value: 0.35148181701626124 and parameters: {'learning_rate': 0.02230934569621654, 'max_depth': 6, 'n_estimators': 721, 'gamma': 0.05498659253091755}. Best is trial 0 with value: 0.3429167647746465.\n",
      "[I 2025-01-28 16:40:13,588] Trial 2 finished with value: 0.35346127237616604 and parameters: {'learning_rate': 0.03538453590906552, 'max_depth': 5, 'n_estimators': 643, 'gamma': 0.1229607110732571}. Best is trial 0 with value: 0.3429167647746465.\n",
      "Saving results to '../../../Data/training-data-POC-countries/rom_results/Thailand~2024-04~2024-07/v07-test/10,37'\n",
      "Thailand\n"
     ]
    },
    {
     "data": {
      "application/vnd.jupyter.widget-view+json": {
       "model_id": "e656e3b886384b7a90b8a5bb789399d1",
       "version_major": 2,
       "version_minor": 0
      },
      "text/plain": "  0%|          | 0/1316 [00:00<?, ?it/s]"
     },
     "metadata": {},
     "output_type": "display_data"
    },
    {
     "data": {
      "text/html": "<div>\n<style scoped>\n    .dataframe tbody tr th:only-of-type {\n        vertical-align: middle;\n    }\n\n    .dataframe tbody tr th {\n        vertical-align: top;\n    }\n\n    .dataframe thead th {\n        text-align: right;\n    }\n</style>\n<table border=\"1\" class=\"dataframe\">\n  <thead>\n    <tr style=\"text-align: right;\">\n      <th></th>\n      <th>real_discount</th>\n      <th>pub_rev</th>\n      <th>accepted</th>\n      <th>real_rev</th>\n      <th>rom_discount</th>\n      <th>rom_pa</th>\n      <th>rom_exp_rev</th>\n      <th>rom_discount_4_low</th>\n      <th>rom_discount_4_mid</th>\n      <th>rom_discount_4_high</th>\n      <th>rom_discount_6_low</th>\n      <th>rom_discount_6_mid</th>\n      <th>rom_discount_6_high</th>\n      <th>rom_discount_8_low</th>\n      <th>rom_discount_8_mid</th>\n      <th>rom_discount_8_high</th>\n      <th>rom_diff</th>\n    </tr>\n  </thead>\n  <tbody>\n    <tr>\n      <th>37611</th>\n      <td>84.702521</td>\n      <td>4918.0</td>\n      <td>0</td>\n      <td>0.00</td>\n      <td>60</td>\n      <td>0.873495</td>\n      <td>0.349398</td>\n      <td>60</td>\n      <td>62.0</td>\n      <td>64</td>\n      <td>60</td>\n      <td>62.5</td>\n      <td>65</td>\n      <td>60</td>\n      <td>63.0</td>\n      <td>66</td>\n      <td>-24.702521</td>\n    </tr>\n    <tr>\n      <th>37622</th>\n      <td>55.000000</td>\n      <td>6376.0</td>\n      <td>1</td>\n      <td>2869.20</td>\n      <td>40</td>\n      <td>0.899039</td>\n      <td>0.539423</td>\n      <td>30</td>\n      <td>35.0</td>\n      <td>40</td>\n      <td>30</td>\n      <td>36.0</td>\n      <td>42</td>\n      <td>30</td>\n      <td>36.5</td>\n      <td>43</td>\n      <td>-15.000000</td>\n    </tr>\n    <tr>\n      <th>37627</th>\n      <td>30.000000</td>\n      <td>60634.0</td>\n      <td>1</td>\n      <td>42443.80</td>\n      <td>30</td>\n      <td>0.803088</td>\n      <td>0.562162</td>\n      <td>30</td>\n      <td>30.0</td>\n      <td>30</td>\n      <td>30</td>\n      <td>35.0</td>\n      <td>40</td>\n      <td>24</td>\n      <td>32.0</td>\n      <td>40</td>\n      <td>0.000000</td>\n    </tr>\n    <tr>\n      <th>37629</th>\n      <td>30.000000</td>\n      <td>8954.0</td>\n      <td>1</td>\n      <td>6267.80</td>\n      <td>40</td>\n      <td>0.824866</td>\n      <td>0.494920</td>\n      <td>39</td>\n      <td>39.5</td>\n      <td>40</td>\n      <td>39</td>\n      <td>39.5</td>\n      <td>40</td>\n      <td>39</td>\n      <td>40.5</td>\n      <td>42</td>\n      <td>10.000000</td>\n    </tr>\n    <tr>\n      <th>37630</th>\n      <td>30.000000</td>\n      <td>8954.0</td>\n      <td>0</td>\n      <td>0.00</td>\n      <td>63</td>\n      <td>0.937545</td>\n      <td>0.346892</td>\n      <td>60</td>\n      <td>62.0</td>\n      <td>64</td>\n      <td>60</td>\n      <td>62.5</td>\n      <td>65</td>\n      <td>60</td>\n      <td>63.0</td>\n      <td>66</td>\n      <td>33.000000</td>\n    </tr>\n    <tr>\n      <th>...</th>\n      <td>...</td>\n      <td>...</td>\n      <td>...</td>\n      <td>...</td>\n      <td>...</td>\n      <td>...</td>\n      <td>...</td>\n      <td>...</td>\n      <td>...</td>\n      <td>...</td>\n      <td>...</td>\n      <td>...</td>\n      <td>...</td>\n      <td>...</td>\n      <td>...</td>\n      <td>...</td>\n      <td>...</td>\n    </tr>\n    <tr>\n      <th>40492</th>\n      <td>50.000000</td>\n      <td>24720.0</td>\n      <td>1</td>\n      <td>12360.00</td>\n      <td>40</td>\n      <td>0.914013</td>\n      <td>0.548408</td>\n      <td>30</td>\n      <td>35.5</td>\n      <td>41</td>\n      <td>24</td>\n      <td>33.0</td>\n      <td>42</td>\n      <td>24</td>\n      <td>33.5</td>\n      <td>43</td>\n      <td>-10.000000</td>\n    </tr>\n    <tr>\n      <th>40493</th>\n      <td>55.000000</td>\n      <td>6376.0</td>\n      <td>1</td>\n      <td>2869.20</td>\n      <td>30</td>\n      <td>0.784474</td>\n      <td>0.549132</td>\n      <td>30</td>\n      <td>35.0</td>\n      <td>40</td>\n      <td>30</td>\n      <td>35.5</td>\n      <td>41</td>\n      <td>30</td>\n      <td>36.5</td>\n      <td>43</td>\n      <td>-25.000000</td>\n    </tr>\n    <tr>\n      <th>40494</th>\n      <td>6.000000</td>\n      <td>1158.0</td>\n      <td>1</td>\n      <td>1088.52</td>\n      <td>4</td>\n      <td>0.765033</td>\n      <td>0.734432</td>\n      <td>4</td>\n      <td>4.0</td>\n      <td>4</td>\n      <td>4</td>\n      <td>4.0</td>\n      <td>4</td>\n      <td>4</td>\n      <td>4.0</td>\n      <td>4</td>\n      <td>-2.000000</td>\n    </tr>\n    <tr>\n      <th>40496</th>\n      <td>5.000000</td>\n      <td>1625.0</td>\n      <td>0</td>\n      <td>0.00</td>\n      <td>4</td>\n      <td>0.443950</td>\n      <td>0.426192</td>\n      <td>4</td>\n      <td>14.0</td>\n      <td>24</td>\n      <td>4</td>\n      <td>14.0</td>\n      <td>24</td>\n      <td>4</td>\n      <td>14.0</td>\n      <td>24</td>\n      <td>-1.000000</td>\n    </tr>\n    <tr>\n      <th>40503</th>\n      <td>51.500000</td>\n      <td>4576.0</td>\n      <td>1</td>\n      <td>2219.36</td>\n      <td>4</td>\n      <td>0.823145</td>\n      <td>0.790219</td>\n      <td>4</td>\n      <td>4.0</td>\n      <td>4</td>\n      <td>4</td>\n      <td>4.0</td>\n      <td>4</td>\n      <td>4</td>\n      <td>4.0</td>\n      <td>4</td>\n      <td>-47.500000</td>\n    </tr>\n  </tbody>\n</table>\n<p>1316 rows × 17 columns</p>\n</div>",
      "text/plain": "       real_discount  pub_rev  accepted  real_rev  rom_discount    rom_pa  \\\n37611      84.702521   4918.0         0      0.00            60  0.873495   \n37622      55.000000   6376.0         1   2869.20            40  0.899039   \n37627      30.000000  60634.0         1  42443.80            30  0.803088   \n37629      30.000000   8954.0         1   6267.80            40  0.824866   \n37630      30.000000   8954.0         0      0.00            63  0.937545   \n...              ...      ...       ...       ...           ...       ...   \n40492      50.000000  24720.0         1  12360.00            40  0.914013   \n40493      55.000000   6376.0         1   2869.20            30  0.784474   \n40494       6.000000   1158.0         1   1088.52             4  0.765033   \n40496       5.000000   1625.0         0      0.00             4  0.443950   \n40503      51.500000   4576.0         1   2219.36             4  0.823145   \n\n       rom_exp_rev  rom_discount_4_low  rom_discount_4_mid  \\\n37611     0.349398                  60                62.0   \n37622     0.539423                  30                35.0   \n37627     0.562162                  30                30.0   \n37629     0.494920                  39                39.5   \n37630     0.346892                  60                62.0   \n...            ...                 ...                 ...   \n40492     0.548408                  30                35.5   \n40493     0.549132                  30                35.0   \n40494     0.734432                   4                 4.0   \n40496     0.426192                   4                14.0   \n40503     0.790219                   4                 4.0   \n\n       rom_discount_4_high  rom_discount_6_low  rom_discount_6_mid  \\\n37611                   64                  60                62.5   \n37622                   40                  30                36.0   \n37627                   30                  30                35.0   \n37629                   40                  39                39.5   \n37630                   64                  60                62.5   \n...                    ...                 ...                 ...   \n40492                   41                  24                33.0   \n40493                   40                  30                35.5   \n40494                    4                   4                 4.0   \n40496                   24                   4                14.0   \n40503                    4                   4                 4.0   \n\n       rom_discount_6_high  rom_discount_8_low  rom_discount_8_mid  \\\n37611                   65                  60                63.0   \n37622                   42                  30                36.5   \n37627                   40                  24                32.0   \n37629                   40                  39                40.5   \n37630                   65                  60                63.0   \n...                    ...                 ...                 ...   \n40492                   42                  24                33.5   \n40493                   41                  30                36.5   \n40494                    4                   4                 4.0   \n40496                   24                   4                14.0   \n40503                    4                   4                 4.0   \n\n       rom_discount_8_high   rom_diff  \n37611                   66 -24.702521  \n37622                   43 -15.000000  \n37627                   40   0.000000  \n37629                   42  10.000000  \n37630                   66  33.000000  \n...                    ...        ...  \n40492                   43 -10.000000  \n40493                   43 -25.000000  \n40494                    4  -2.000000  \n40496                   24  -1.000000  \n40503                    4 -47.500000  \n\n[1316 rows x 17 columns]"
     },
     "metadata": {},
     "output_type": "display_data"
    },
    {
     "data": {
      "text/markdown": "\n\n**^^^^^^^^^^^^^^^^^^^^^^^^^^^^^^ Thailand (5/6) - 10,43 (3/5) ^^^^^^^^^^^^^^^^^^^^^^^^^^^^^^**\n\n",
      "text/plain": "<IPython.core.display.Markdown object>"
     },
     "metadata": {},
     "output_type": "display_data"
    },
    {
     "name": "stdout",
     "output_type": "stream",
     "text": [
      "('2023-10-01', '2024-04-01', '2024-04-01', '2024-07-01')\n",
      "Train data shape: (3777, 136)\n",
      "Test data shape: (1316, 136)\n"
     ]
    },
    {
     "name": "stderr",
     "output_type": "stream",
     "text": [
      "[I 2025-01-28 16:40:26,394] A new study created in memory with name: no-name-ac219176-5097-40a6-883a-fa6c6ee50cc0\n"
     ]
    },
    {
     "name": "stdout",
     "output_type": "stream",
     "text": [
      "before/after aug (3777, 136) (9888, 136)\n"
     ]
    },
    {
     "data": {
      "application/vnd.jupyter.widget-view+json": {
       "model_id": "2cc6d657a8aa48c88a8740de4dfcb782",
       "version_major": 2,
       "version_minor": 0
      },
      "text/plain": "  0%|          | 0/3 [00:00<?, ?it/s]"
     },
     "metadata": {},
     "output_type": "display_data"
    },
    {
     "name": "stdout",
     "output_type": "stream",
     "text": [
      "[I 2025-01-28 16:40:32,209] Trial 0 finished with value: 0.32113131427296526 and parameters: {'learning_rate': 0.01087080185549562, 'max_depth': 4, 'n_estimators': 729, 'gamma': 0.01123506477003016}. Best is trial 0 with value: 0.32113131427296526.\n",
      "[I 2025-01-28 16:40:40,431] Trial 1 finished with value: 0.32791715162605223 and parameters: {'learning_rate': 0.02230934569621654, 'max_depth': 6, 'n_estimators': 721, 'gamma': 0.05498659253091755}. Best is trial 0 with value: 0.32113131427296526.\n",
      "[I 2025-01-28 16:40:46,823] Trial 2 finished with value: 0.3284054569338347 and parameters: {'learning_rate': 0.03538453590906552, 'max_depth': 5, 'n_estimators': 643, 'gamma': 0.1229607110732571}. Best is trial 0 with value: 0.32113131427296526.\n",
      "Saving results to '../../../Data/training-data-POC-countries/rom_results/Thailand~2024-04~2024-07/v07-test/10,43'\n",
      "Thailand\n"
     ]
    },
    {
     "data": {
      "application/vnd.jupyter.widget-view+json": {
       "model_id": "87cb16b2ee2045a6ae6370f83074e1f3",
       "version_major": 2,
       "version_minor": 0
      },
      "text/plain": "  0%|          | 0/1316 [00:00<?, ?it/s]"
     },
     "metadata": {},
     "output_type": "display_data"
    },
    {
     "data": {
      "text/html": "<div>\n<style scoped>\n    .dataframe tbody tr th:only-of-type {\n        vertical-align: middle;\n    }\n\n    .dataframe tbody tr th {\n        vertical-align: top;\n    }\n\n    .dataframe thead th {\n        text-align: right;\n    }\n</style>\n<table border=\"1\" class=\"dataframe\">\n  <thead>\n    <tr style=\"text-align: right;\">\n      <th></th>\n      <th>real_discount</th>\n      <th>pub_rev</th>\n      <th>accepted</th>\n      <th>real_rev</th>\n      <th>rom_discount</th>\n      <th>rom_pa</th>\n      <th>rom_exp_rev</th>\n      <th>rom_discount_4_low</th>\n      <th>rom_discount_4_mid</th>\n      <th>rom_discount_4_high</th>\n      <th>rom_discount_6_low</th>\n      <th>rom_discount_6_mid</th>\n      <th>rom_discount_6_high</th>\n      <th>rom_discount_8_low</th>\n      <th>rom_discount_8_mid</th>\n      <th>rom_discount_8_high</th>\n      <th>rom_diff</th>\n    </tr>\n  </thead>\n  <tbody>\n    <tr>\n      <th>37611</th>\n      <td>84.702521</td>\n      <td>4918.0</td>\n      <td>0</td>\n      <td>0.00</td>\n      <td>60</td>\n      <td>0.935015</td>\n      <td>0.374006</td>\n      <td>60</td>\n      <td>60.5</td>\n      <td>61</td>\n      <td>60</td>\n      <td>61.0</td>\n      <td>62</td>\n      <td>50</td>\n      <td>56.5</td>\n      <td>63</td>\n      <td>-24.702521</td>\n    </tr>\n    <tr>\n      <th>37622</th>\n      <td>55.000000</td>\n      <td>6376.0</td>\n      <td>1</td>\n      <td>2869.20</td>\n      <td>30</td>\n      <td>0.783103</td>\n      <td>0.548172</td>\n      <td>30</td>\n      <td>31.0</td>\n      <td>32</td>\n      <td>24</td>\n      <td>33.5</td>\n      <td>43</td>\n      <td>24</td>\n      <td>35.0</td>\n      <td>46</td>\n      <td>-25.000000</td>\n    </tr>\n    <tr>\n      <th>37627</th>\n      <td>30.000000</td>\n      <td>60634.0</td>\n      <td>1</td>\n      <td>42443.80</td>\n      <td>30</td>\n      <td>0.845470</td>\n      <td>0.591829</td>\n      <td>30</td>\n      <td>31.0</td>\n      <td>32</td>\n      <td>30</td>\n      <td>32.0</td>\n      <td>34</td>\n      <td>24</td>\n      <td>29.5</td>\n      <td>35</td>\n      <td>0.000000</td>\n    </tr>\n    <tr>\n      <th>37629</th>\n      <td>30.000000</td>\n      <td>8954.0</td>\n      <td>1</td>\n      <td>6267.80</td>\n      <td>40</td>\n      <td>0.805735</td>\n      <td>0.483441</td>\n      <td>30</td>\n      <td>38.0</td>\n      <td>46</td>\n      <td>30</td>\n      <td>38.5</td>\n      <td>47</td>\n      <td>30</td>\n      <td>39.0</td>\n      <td>48</td>\n      <td>10.000000</td>\n    </tr>\n    <tr>\n      <th>37630</th>\n      <td>30.000000</td>\n      <td>8954.0</td>\n      <td>0</td>\n      <td>0.00</td>\n      <td>60</td>\n      <td>0.919492</td>\n      <td>0.367797</td>\n      <td>60</td>\n      <td>60.5</td>\n      <td>61</td>\n      <td>60</td>\n      <td>61.0</td>\n      <td>62</td>\n      <td>60</td>\n      <td>61.5</td>\n      <td>63</td>\n      <td>30.000000</td>\n    </tr>\n    <tr>\n      <th>...</th>\n      <td>...</td>\n      <td>...</td>\n      <td>...</td>\n      <td>...</td>\n      <td>...</td>\n      <td>...</td>\n      <td>...</td>\n      <td>...</td>\n      <td>...</td>\n      <td>...</td>\n      <td>...</td>\n      <td>...</td>\n      <td>...</td>\n      <td>...</td>\n      <td>...</td>\n      <td>...</td>\n      <td>...</td>\n    </tr>\n    <tr>\n      <th>40492</th>\n      <td>50.000000</td>\n      <td>24720.0</td>\n      <td>1</td>\n      <td>12360.00</td>\n      <td>30</td>\n      <td>0.832100</td>\n      <td>0.582470</td>\n      <td>30</td>\n      <td>31.0</td>\n      <td>32</td>\n      <td>30</td>\n      <td>32.0</td>\n      <td>34</td>\n      <td>24</td>\n      <td>29.5</td>\n      <td>35</td>\n      <td>-20.000000</td>\n    </tr>\n    <tr>\n      <th>40493</th>\n      <td>55.000000</td>\n      <td>6376.0</td>\n      <td>1</td>\n      <td>2869.20</td>\n      <td>31</td>\n      <td>0.842795</td>\n      <td>0.581528</td>\n      <td>30</td>\n      <td>31.5</td>\n      <td>33</td>\n      <td>24</td>\n      <td>29.0</td>\n      <td>34</td>\n      <td>24</td>\n      <td>32.5</td>\n      <td>41</td>\n      <td>-24.000000</td>\n    </tr>\n    <tr>\n      <th>40494</th>\n      <td>6.000000</td>\n      <td>1158.0</td>\n      <td>1</td>\n      <td>1088.52</td>\n      <td>14</td>\n      <td>0.849480</td>\n      <td>0.730553</td>\n      <td>14</td>\n      <td>15.0</td>\n      <td>16</td>\n      <td>13</td>\n      <td>15.5</td>\n      <td>18</td>\n      <td>13</td>\n      <td>18.0</td>\n      <td>23</td>\n      <td>8.000000</td>\n    </tr>\n    <tr>\n      <th>40496</th>\n      <td>5.000000</td>\n      <td>1625.0</td>\n      <td>0</td>\n      <td>0.00</td>\n      <td>4</td>\n      <td>0.419380</td>\n      <td>0.402605</td>\n      <td>4</td>\n      <td>4.0</td>\n      <td>4</td>\n      <td>4</td>\n      <td>4.0</td>\n      <td>4</td>\n      <td>4</td>\n      <td>4.0</td>\n      <td>4</td>\n      <td>-1.000000</td>\n    </tr>\n    <tr>\n      <th>40503</th>\n      <td>51.500000</td>\n      <td>4576.0</td>\n      <td>1</td>\n      <td>2219.36</td>\n      <td>4</td>\n      <td>0.806776</td>\n      <td>0.774505</td>\n      <td>4</td>\n      <td>9.0</td>\n      <td>14</td>\n      <td>4</td>\n      <td>9.5</td>\n      <td>15</td>\n      <td>4</td>\n      <td>10.5</td>\n      <td>17</td>\n      <td>-47.500000</td>\n    </tr>\n  </tbody>\n</table>\n<p>1316 rows × 17 columns</p>\n</div>",
      "text/plain": "       real_discount  pub_rev  accepted  real_rev  rom_discount    rom_pa  \\\n37611      84.702521   4918.0         0      0.00            60  0.935015   \n37622      55.000000   6376.0         1   2869.20            30  0.783103   \n37627      30.000000  60634.0         1  42443.80            30  0.845470   \n37629      30.000000   8954.0         1   6267.80            40  0.805735   \n37630      30.000000   8954.0         0      0.00            60  0.919492   \n...              ...      ...       ...       ...           ...       ...   \n40492      50.000000  24720.0         1  12360.00            30  0.832100   \n40493      55.000000   6376.0         1   2869.20            31  0.842795   \n40494       6.000000   1158.0         1   1088.52            14  0.849480   \n40496       5.000000   1625.0         0      0.00             4  0.419380   \n40503      51.500000   4576.0         1   2219.36             4  0.806776   \n\n       rom_exp_rev  rom_discount_4_low  rom_discount_4_mid  \\\n37611     0.374006                  60                60.5   \n37622     0.548172                  30                31.0   \n37627     0.591829                  30                31.0   \n37629     0.483441                  30                38.0   \n37630     0.367797                  60                60.5   \n...            ...                 ...                 ...   \n40492     0.582470                  30                31.0   \n40493     0.581528                  30                31.5   \n40494     0.730553                  14                15.0   \n40496     0.402605                   4                 4.0   \n40503     0.774505                   4                 9.0   \n\n       rom_discount_4_high  rom_discount_6_low  rom_discount_6_mid  \\\n37611                   61                  60                61.0   \n37622                   32                  24                33.5   \n37627                   32                  30                32.0   \n37629                   46                  30                38.5   \n37630                   61                  60                61.0   \n...                    ...                 ...                 ...   \n40492                   32                  30                32.0   \n40493                   33                  24                29.0   \n40494                   16                  13                15.5   \n40496                    4                   4                 4.0   \n40503                   14                   4                 9.5   \n\n       rom_discount_6_high  rom_discount_8_low  rom_discount_8_mid  \\\n37611                   62                  50                56.5   \n37622                   43                  24                35.0   \n37627                   34                  24                29.5   \n37629                   47                  30                39.0   \n37630                   62                  60                61.5   \n...                    ...                 ...                 ...   \n40492                   34                  24                29.5   \n40493                   34                  24                32.5   \n40494                   18                  13                18.0   \n40496                    4                   4                 4.0   \n40503                   15                   4                10.5   \n\n       rom_discount_8_high   rom_diff  \n37611                   63 -24.702521  \n37622                   46 -25.000000  \n37627                   35   0.000000  \n37629                   48  10.000000  \n37630                   63  30.000000  \n...                    ...        ...  \n40492                   35 -20.000000  \n40493                   41 -24.000000  \n40494                   23   8.000000  \n40496                    4  -1.000000  \n40503                   17 -47.500000  \n\n[1316 rows x 17 columns]"
     },
     "metadata": {},
     "output_type": "display_data"
    },
    {
     "data": {
      "text/markdown": "\n\n**^^^^^^^^^^^^^^^^^^^^^^^^^^^^^^ Thailand (5/6) - 11,19 (4/5) ^^^^^^^^^^^^^^^^^^^^^^^^^^^^^^**\n\n",
      "text/plain": "<IPython.core.display.Markdown object>"
     },
     "metadata": {},
     "output_type": "display_data"
    },
    {
     "name": "stdout",
     "output_type": "stream",
     "text": [
      "('2023-10-01', '2024-04-01', '2024-04-01', '2024-07-01')\n",
      "Train data shape: (3777, 136)\n",
      "Test data shape: (1316, 136)\n"
     ]
    },
    {
     "name": "stderr",
     "output_type": "stream",
     "text": [
      "[I 2025-01-28 16:40:59,692] A new study created in memory with name: no-name-6da6096d-4db7-4fcf-bacf-86da07360e43\n"
     ]
    },
    {
     "name": "stdout",
     "output_type": "stream",
     "text": [
      "before/after aug (3777, 136) (10975, 136)\n"
     ]
    },
    {
     "data": {
      "application/vnd.jupyter.widget-view+json": {
       "model_id": "ccf8243bd8514fbfa67bd72f08189f80",
       "version_major": 2,
       "version_minor": 0
      },
      "text/plain": "  0%|          | 0/3 [00:00<?, ?it/s]"
     },
     "metadata": {},
     "output_type": "display_data"
    },
    {
     "name": "stdout",
     "output_type": "stream",
     "text": [
      "[I 2025-01-28 16:41:05,445] Trial 0 finished with value: 0.43088442161110896 and parameters: {'learning_rate': 0.01087080185549562, 'max_depth': 4, 'n_estimators': 729, 'gamma': 0.01123506477003016}. Best is trial 0 with value: 0.43088442161110896.\n",
      "[I 2025-01-28 16:41:13,597] Trial 1 finished with value: 0.41744782048404927 and parameters: {'learning_rate': 0.02230934569621654, 'max_depth': 6, 'n_estimators': 721, 'gamma': 0.05498659253091755}. Best is trial 1 with value: 0.41744782048404927.\n",
      "[I 2025-01-28 16:41:19,919] Trial 2 finished with value: 0.42012451077653806 and parameters: {'learning_rate': 0.03538453590906552, 'max_depth': 5, 'n_estimators': 643, 'gamma': 0.1229607110732571}. Best is trial 1 with value: 0.41744782048404927.\n",
      "Saving results to '../../../Data/training-data-POC-countries/rom_results/Thailand~2024-04~2024-07/v07-test/11,19'\n",
      "Thailand\n"
     ]
    },
    {
     "data": {
      "application/vnd.jupyter.widget-view+json": {
       "model_id": "3d5abb4c1e8b451d82b26be34470bb29",
       "version_major": 2,
       "version_minor": 0
      },
      "text/plain": "  0%|          | 0/1316 [00:00<?, ?it/s]"
     },
     "metadata": {},
     "output_type": "display_data"
    },
    {
     "data": {
      "text/html": "<div>\n<style scoped>\n    .dataframe tbody tr th:only-of-type {\n        vertical-align: middle;\n    }\n\n    .dataframe tbody tr th {\n        vertical-align: top;\n    }\n\n    .dataframe thead th {\n        text-align: right;\n    }\n</style>\n<table border=\"1\" class=\"dataframe\">\n  <thead>\n    <tr style=\"text-align: right;\">\n      <th></th>\n      <th>real_discount</th>\n      <th>pub_rev</th>\n      <th>accepted</th>\n      <th>real_rev</th>\n      <th>rom_discount</th>\n      <th>rom_pa</th>\n      <th>rom_exp_rev</th>\n      <th>rom_discount_4_low</th>\n      <th>rom_discount_4_mid</th>\n      <th>rom_discount_4_high</th>\n      <th>rom_discount_6_low</th>\n      <th>rom_discount_6_mid</th>\n      <th>rom_discount_6_high</th>\n      <th>rom_discount_8_low</th>\n      <th>rom_discount_8_mid</th>\n      <th>rom_discount_8_high</th>\n      <th>rom_diff</th>\n    </tr>\n  </thead>\n  <tbody>\n    <tr>\n      <th>37611</th>\n      <td>84.702521</td>\n      <td>4918.0</td>\n      <td>0</td>\n      <td>0.00</td>\n      <td>40</td>\n      <td>0.784007</td>\n      <td>0.470404</td>\n      <td>40</td>\n      <td>44.5</td>\n      <td>49</td>\n      <td>40</td>\n      <td>44.5</td>\n      <td>49</td>\n      <td>40</td>\n      <td>44.5</td>\n      <td>49</td>\n      <td>-44.702521</td>\n    </tr>\n    <tr>\n      <th>37622</th>\n      <td>55.000000</td>\n      <td>6376.0</td>\n      <td>1</td>\n      <td>2869.20</td>\n      <td>4</td>\n      <td>0.579474</td>\n      <td>0.556295</td>\n      <td>4</td>\n      <td>4.0</td>\n      <td>4</td>\n      <td>4</td>\n      <td>22.0</td>\n      <td>40</td>\n      <td>4</td>\n      <td>22.5</td>\n      <td>41</td>\n      <td>-51.000000</td>\n    </tr>\n    <tr>\n      <th>37627</th>\n      <td>30.000000</td>\n      <td>60634.0</td>\n      <td>1</td>\n      <td>42443.80</td>\n      <td>4</td>\n      <td>0.785212</td>\n      <td>0.753803</td>\n      <td>4</td>\n      <td>4.0</td>\n      <td>4</td>\n      <td>4</td>\n      <td>4.0</td>\n      <td>4</td>\n      <td>4</td>\n      <td>4.0</td>\n      <td>4</td>\n      <td>-26.000000</td>\n    </tr>\n    <tr>\n      <th>37629</th>\n      <td>30.000000</td>\n      <td>8954.0</td>\n      <td>1</td>\n      <td>6267.80</td>\n      <td>35</td>\n      <td>0.956489</td>\n      <td>0.621718</td>\n      <td>30</td>\n      <td>32.5</td>\n      <td>35</td>\n      <td>30</td>\n      <td>32.5</td>\n      <td>35</td>\n      <td>30</td>\n      <td>35.5</td>\n      <td>41</td>\n      <td>5.000000</td>\n    </tr>\n    <tr>\n      <th>37630</th>\n      <td>30.000000</td>\n      <td>8954.0</td>\n      <td>0</td>\n      <td>0.00</td>\n      <td>49</td>\n      <td>0.905189</td>\n      <td>0.461647</td>\n      <td>49</td>\n      <td>49.0</td>\n      <td>49</td>\n      <td>49</td>\n      <td>49.0</td>\n      <td>49</td>\n      <td>49</td>\n      <td>49.0</td>\n      <td>49</td>\n      <td>19.000000</td>\n    </tr>\n    <tr>\n      <th>...</th>\n      <td>...</td>\n      <td>...</td>\n      <td>...</td>\n      <td>...</td>\n      <td>...</td>\n      <td>...</td>\n      <td>...</td>\n      <td>...</td>\n      <td>...</td>\n      <td>...</td>\n      <td>...</td>\n      <td>...</td>\n      <td>...</td>\n      <td>...</td>\n      <td>...</td>\n      <td>...</td>\n      <td>...</td>\n    </tr>\n    <tr>\n      <th>40492</th>\n      <td>50.000000</td>\n      <td>24720.0</td>\n      <td>1</td>\n      <td>12360.00</td>\n      <td>4</td>\n      <td>0.523520</td>\n      <td>0.502579</td>\n      <td>4</td>\n      <td>4.0</td>\n      <td>4</td>\n      <td>4</td>\n      <td>4.0</td>\n      <td>4</td>\n      <td>4</td>\n      <td>27.5</td>\n      <td>51</td>\n      <td>-46.000000</td>\n    </tr>\n    <tr>\n      <th>40493</th>\n      <td>55.000000</td>\n      <td>6376.0</td>\n      <td>1</td>\n      <td>2869.20</td>\n      <td>40</td>\n      <td>0.923394</td>\n      <td>0.554037</td>\n      <td>40</td>\n      <td>40.5</td>\n      <td>41</td>\n      <td>40</td>\n      <td>42.5</td>\n      <td>45</td>\n      <td>40</td>\n      <td>43.0</td>\n      <td>46</td>\n      <td>-15.000000</td>\n    </tr>\n    <tr>\n      <th>40494</th>\n      <td>6.000000</td>\n      <td>1158.0</td>\n      <td>1</td>\n      <td>1088.52</td>\n      <td>4</td>\n      <td>0.833875</td>\n      <td>0.800520</td>\n      <td>4</td>\n      <td>4.0</td>\n      <td>4</td>\n      <td>4</td>\n      <td>4.0</td>\n      <td>4</td>\n      <td>4</td>\n      <td>9.5</td>\n      <td>15</td>\n      <td>-2.000000</td>\n    </tr>\n    <tr>\n      <th>40496</th>\n      <td>5.000000</td>\n      <td>1625.0</td>\n      <td>0</td>\n      <td>0.00</td>\n      <td>4</td>\n      <td>0.604054</td>\n      <td>0.579891</td>\n      <td>4</td>\n      <td>4.0</td>\n      <td>4</td>\n      <td>4</td>\n      <td>16.0</td>\n      <td>28</td>\n      <td>4</td>\n      <td>16.0</td>\n      <td>28</td>\n      <td>-1.000000</td>\n    </tr>\n    <tr>\n      <th>40503</th>\n      <td>51.500000</td>\n      <td>4576.0</td>\n      <td>1</td>\n      <td>2219.36</td>\n      <td>15</td>\n      <td>0.862618</td>\n      <td>0.733226</td>\n      <td>4</td>\n      <td>9.5</td>\n      <td>15</td>\n      <td>4</td>\n      <td>13.5</td>\n      <td>23</td>\n      <td>4</td>\n      <td>14.0</td>\n      <td>24</td>\n      <td>-36.500000</td>\n    </tr>\n  </tbody>\n</table>\n<p>1316 rows × 17 columns</p>\n</div>",
      "text/plain": "       real_discount  pub_rev  accepted  real_rev  rom_discount    rom_pa  \\\n37611      84.702521   4918.0         0      0.00            40  0.784007   \n37622      55.000000   6376.0         1   2869.20             4  0.579474   \n37627      30.000000  60634.0         1  42443.80             4  0.785212   \n37629      30.000000   8954.0         1   6267.80            35  0.956489   \n37630      30.000000   8954.0         0      0.00            49  0.905189   \n...              ...      ...       ...       ...           ...       ...   \n40492      50.000000  24720.0         1  12360.00             4  0.523520   \n40493      55.000000   6376.0         1   2869.20            40  0.923394   \n40494       6.000000   1158.0         1   1088.52             4  0.833875   \n40496       5.000000   1625.0         0      0.00             4  0.604054   \n40503      51.500000   4576.0         1   2219.36            15  0.862618   \n\n       rom_exp_rev  rom_discount_4_low  rom_discount_4_mid  \\\n37611     0.470404                  40                44.5   \n37622     0.556295                   4                 4.0   \n37627     0.753803                   4                 4.0   \n37629     0.621718                  30                32.5   \n37630     0.461647                  49                49.0   \n...            ...                 ...                 ...   \n40492     0.502579                   4                 4.0   \n40493     0.554037                  40                40.5   \n40494     0.800520                   4                 4.0   \n40496     0.579891                   4                 4.0   \n40503     0.733226                   4                 9.5   \n\n       rom_discount_4_high  rom_discount_6_low  rom_discount_6_mid  \\\n37611                   49                  40                44.5   \n37622                    4                   4                22.0   \n37627                    4                   4                 4.0   \n37629                   35                  30                32.5   \n37630                   49                  49                49.0   \n...                    ...                 ...                 ...   \n40492                    4                   4                 4.0   \n40493                   41                  40                42.5   \n40494                    4                   4                 4.0   \n40496                    4                   4                16.0   \n40503                   15                   4                13.5   \n\n       rom_discount_6_high  rom_discount_8_low  rom_discount_8_mid  \\\n37611                   49                  40                44.5   \n37622                   40                   4                22.5   \n37627                    4                   4                 4.0   \n37629                   35                  30                35.5   \n37630                   49                  49                49.0   \n...                    ...                 ...                 ...   \n40492                    4                   4                27.5   \n40493                   45                  40                43.0   \n40494                    4                   4                 9.5   \n40496                   28                   4                16.0   \n40503                   23                   4                14.0   \n\n       rom_discount_8_high   rom_diff  \n37611                   49 -44.702521  \n37622                   41 -51.000000  \n37627                    4 -26.000000  \n37629                   41   5.000000  \n37630                   49  19.000000  \n...                    ...        ...  \n40492                   51 -46.000000  \n40493                   46 -15.000000  \n40494                   15  -2.000000  \n40496                   28  -1.000000  \n40503                   24 -36.500000  \n\n[1316 rows x 17 columns]"
     },
     "metadata": {},
     "output_type": "display_data"
    },
    {
     "data": {
      "text/markdown": "\n\n**^^^^^^^^^^^^^^^^^^^^^^^^^^^^^^ Thailand (5/6) - 14,28 (5/5) ^^^^^^^^^^^^^^^^^^^^^^^^^^^^^^**\n\n",
      "text/plain": "<IPython.core.display.Markdown object>"
     },
     "metadata": {},
     "output_type": "display_data"
    },
    {
     "name": "stdout",
     "output_type": "stream",
     "text": [
      "('2023-10-01', '2024-04-01', '2024-04-01', '2024-07-01')\n",
      "Train data shape: (3777, 136)\n",
      "Test data shape: (1316, 136)\n"
     ]
    },
    {
     "name": "stderr",
     "output_type": "stream",
     "text": [
      "[I 2025-01-28 16:41:33,803] A new study created in memory with name: no-name-b61b96fc-2b3b-458d-8224-e4ce17054292\n"
     ]
    },
    {
     "name": "stdout",
     "output_type": "stream",
     "text": [
      "before/after aug (3777, 136) (10671, 136)\n"
     ]
    },
    {
     "data": {
      "application/vnd.jupyter.widget-view+json": {
       "model_id": "39fd4ec3a0254cd8be6660dd438af9e6",
       "version_major": 2,
       "version_minor": 0
      },
      "text/plain": "  0%|          | 0/3 [00:00<?, ?it/s]"
     },
     "metadata": {},
     "output_type": "display_data"
    },
    {
     "name": "stdout",
     "output_type": "stream",
     "text": [
      "[I 2025-01-28 16:41:39,758] Trial 0 finished with value: 0.3606854372812291 and parameters: {'learning_rate': 0.01087080185549562, 'max_depth': 4, 'n_estimators': 729, 'gamma': 0.01123506477003016}. Best is trial 0 with value: 0.3606854372812291.\n",
      "[I 2025-01-28 16:41:47,875] Trial 1 finished with value: 0.3597929899223841 and parameters: {'learning_rate': 0.02230934569621654, 'max_depth': 6, 'n_estimators': 721, 'gamma': 0.05498659253091755}. Best is trial 1 with value: 0.3597929899223841.\n",
      "[I 2025-01-28 16:41:54,106] Trial 2 finished with value: 0.3602457072151923 and parameters: {'learning_rate': 0.03538453590906552, 'max_depth': 5, 'n_estimators': 643, 'gamma': 0.1229607110732571}. Best is trial 1 with value: 0.3597929899223841.\n",
      "Saving results to '../../../Data/training-data-POC-countries/rom_results/Thailand~2024-04~2024-07/v07-test/14,28'\n",
      "Thailand\n"
     ]
    },
    {
     "data": {
      "application/vnd.jupyter.widget-view+json": {
       "model_id": "40b083279324483e9e142b2590a063e1",
       "version_major": 2,
       "version_minor": 0
      },
      "text/plain": "  0%|          | 0/1316 [00:00<?, ?it/s]"
     },
     "metadata": {},
     "output_type": "display_data"
    },
    {
     "data": {
      "text/html": "<div>\n<style scoped>\n    .dataframe tbody tr th:only-of-type {\n        vertical-align: middle;\n    }\n\n    .dataframe tbody tr th {\n        vertical-align: top;\n    }\n\n    .dataframe thead th {\n        text-align: right;\n    }\n</style>\n<table border=\"1\" class=\"dataframe\">\n  <thead>\n    <tr style=\"text-align: right;\">\n      <th></th>\n      <th>real_discount</th>\n      <th>pub_rev</th>\n      <th>accepted</th>\n      <th>real_rev</th>\n      <th>rom_discount</th>\n      <th>rom_pa</th>\n      <th>rom_exp_rev</th>\n      <th>rom_discount_4_low</th>\n      <th>rom_discount_4_mid</th>\n      <th>rom_discount_4_high</th>\n      <th>rom_discount_6_low</th>\n      <th>rom_discount_6_mid</th>\n      <th>rom_discount_6_high</th>\n      <th>rom_discount_8_low</th>\n      <th>rom_discount_8_mid</th>\n      <th>rom_discount_8_high</th>\n      <th>rom_diff</th>\n    </tr>\n  </thead>\n  <tbody>\n    <tr>\n      <th>37611</th>\n      <td>84.702521</td>\n      <td>4918.0</td>\n      <td>0</td>\n      <td>0.00</td>\n      <td>44</td>\n      <td>0.763139</td>\n      <td>0.427358</td>\n      <td>44</td>\n      <td>44.0</td>\n      <td>44</td>\n      <td>44</td>\n      <td>44.0</td>\n      <td>44</td>\n      <td>44</td>\n      <td>44.0</td>\n      <td>44</td>\n      <td>-40.702521</td>\n    </tr>\n    <tr>\n      <th>37622</th>\n      <td>55.000000</td>\n      <td>6376.0</td>\n      <td>1</td>\n      <td>2869.20</td>\n      <td>38</td>\n      <td>0.902283</td>\n      <td>0.559416</td>\n      <td>33</td>\n      <td>36.5</td>\n      <td>40</td>\n      <td>30</td>\n      <td>37.0</td>\n      <td>44</td>\n      <td>30</td>\n      <td>37.0</td>\n      <td>44</td>\n      <td>-17.000000</td>\n    </tr>\n    <tr>\n      <th>37627</th>\n      <td>30.000000</td>\n      <td>60634.0</td>\n      <td>1</td>\n      <td>42443.80</td>\n      <td>4</td>\n      <td>0.709707</td>\n      <td>0.681318</td>\n      <td>4</td>\n      <td>4.0</td>\n      <td>4</td>\n      <td>4</td>\n      <td>4.0</td>\n      <td>4</td>\n      <td>4</td>\n      <td>4.0</td>\n      <td>4</td>\n      <td>-26.000000</td>\n    </tr>\n    <tr>\n      <th>37629</th>\n      <td>30.000000</td>\n      <td>8954.0</td>\n      <td>1</td>\n      <td>6267.80</td>\n      <td>30</td>\n      <td>0.924183</td>\n      <td>0.646928</td>\n      <td>30</td>\n      <td>30.0</td>\n      <td>30</td>\n      <td>30</td>\n      <td>30.0</td>\n      <td>30</td>\n      <td>30</td>\n      <td>30.0</td>\n      <td>30</td>\n      <td>0.000000</td>\n    </tr>\n    <tr>\n      <th>37630</th>\n      <td>30.000000</td>\n      <td>8954.0</td>\n      <td>0</td>\n      <td>0.00</td>\n      <td>44</td>\n      <td>0.789680</td>\n      <td>0.442221</td>\n      <td>44</td>\n      <td>44.0</td>\n      <td>44</td>\n      <td>44</td>\n      <td>44.0</td>\n      <td>44</td>\n      <td>44</td>\n      <td>44.0</td>\n      <td>44</td>\n      <td>14.000000</td>\n    </tr>\n    <tr>\n      <th>...</th>\n      <td>...</td>\n      <td>...</td>\n      <td>...</td>\n      <td>...</td>\n      <td>...</td>\n      <td>...</td>\n      <td>...</td>\n      <td>...</td>\n      <td>...</td>\n      <td>...</td>\n      <td>...</td>\n      <td>...</td>\n      <td>...</td>\n      <td>...</td>\n      <td>...</td>\n      <td>...</td>\n      <td>...</td>\n    </tr>\n    <tr>\n      <th>40492</th>\n      <td>50.000000</td>\n      <td>24720.0</td>\n      <td>1</td>\n      <td>12360.00</td>\n      <td>44</td>\n      <td>0.965287</td>\n      <td>0.540561</td>\n      <td>38</td>\n      <td>41.5</td>\n      <td>45</td>\n      <td>30</td>\n      <td>38.5</td>\n      <td>47</td>\n      <td>30</td>\n      <td>38.5</td>\n      <td>47</td>\n      <td>-6.000000</td>\n    </tr>\n    <tr>\n      <th>40493</th>\n      <td>55.000000</td>\n      <td>6376.0</td>\n      <td>1</td>\n      <td>2869.20</td>\n      <td>38</td>\n      <td>0.943750</td>\n      <td>0.585125</td>\n      <td>33</td>\n      <td>36.5</td>\n      <td>40</td>\n      <td>33</td>\n      <td>36.5</td>\n      <td>40</td>\n      <td>32</td>\n      <td>38.0</td>\n      <td>44</td>\n      <td>-17.000000</td>\n    </tr>\n    <tr>\n      <th>40494</th>\n      <td>6.000000</td>\n      <td>1158.0</td>\n      <td>1</td>\n      <td>1088.52</td>\n      <td>4</td>\n      <td>0.778104</td>\n      <td>0.746980</td>\n      <td>4</td>\n      <td>4.0</td>\n      <td>4</td>\n      <td>4</td>\n      <td>14.0</td>\n      <td>24</td>\n      <td>4</td>\n      <td>14.0</td>\n      <td>24</td>\n      <td>-2.000000</td>\n    </tr>\n    <tr>\n      <th>40496</th>\n      <td>5.000000</td>\n      <td>1625.0</td>\n      <td>0</td>\n      <td>0.00</td>\n      <td>24</td>\n      <td>0.593851</td>\n      <td>0.451327</td>\n      <td>24</td>\n      <td>24.0</td>\n      <td>24</td>\n      <td>20</td>\n      <td>22.0</td>\n      <td>24</td>\n      <td>20</td>\n      <td>22.0</td>\n      <td>24</td>\n      <td>19.000000</td>\n    </tr>\n    <tr>\n      <th>40503</th>\n      <td>51.500000</td>\n      <td>4576.0</td>\n      <td>1</td>\n      <td>2219.36</td>\n      <td>4</td>\n      <td>0.866894</td>\n      <td>0.832218</td>\n      <td>4</td>\n      <td>4.0</td>\n      <td>4</td>\n      <td>4</td>\n      <td>4.0</td>\n      <td>4</td>\n      <td>4</td>\n      <td>4.0</td>\n      <td>4</td>\n      <td>-47.500000</td>\n    </tr>\n  </tbody>\n</table>\n<p>1316 rows × 17 columns</p>\n</div>",
      "text/plain": "       real_discount  pub_rev  accepted  real_rev  rom_discount    rom_pa  \\\n37611      84.702521   4918.0         0      0.00            44  0.763139   \n37622      55.000000   6376.0         1   2869.20            38  0.902283   \n37627      30.000000  60634.0         1  42443.80             4  0.709707   \n37629      30.000000   8954.0         1   6267.80            30  0.924183   \n37630      30.000000   8954.0         0      0.00            44  0.789680   \n...              ...      ...       ...       ...           ...       ...   \n40492      50.000000  24720.0         1  12360.00            44  0.965287   \n40493      55.000000   6376.0         1   2869.20            38  0.943750   \n40494       6.000000   1158.0         1   1088.52             4  0.778104   \n40496       5.000000   1625.0         0      0.00            24  0.593851   \n40503      51.500000   4576.0         1   2219.36             4  0.866894   \n\n       rom_exp_rev  rom_discount_4_low  rom_discount_4_mid  \\\n37611     0.427358                  44                44.0   \n37622     0.559416                  33                36.5   \n37627     0.681318                   4                 4.0   \n37629     0.646928                  30                30.0   \n37630     0.442221                  44                44.0   \n...            ...                 ...                 ...   \n40492     0.540561                  38                41.5   \n40493     0.585125                  33                36.5   \n40494     0.746980                   4                 4.0   \n40496     0.451327                  24                24.0   \n40503     0.832218                   4                 4.0   \n\n       rom_discount_4_high  rom_discount_6_low  rom_discount_6_mid  \\\n37611                   44                  44                44.0   \n37622                   40                  30                37.0   \n37627                    4                   4                 4.0   \n37629                   30                  30                30.0   \n37630                   44                  44                44.0   \n...                    ...                 ...                 ...   \n40492                   45                  30                38.5   \n40493                   40                  33                36.5   \n40494                    4                   4                14.0   \n40496                   24                  20                22.0   \n40503                    4                   4                 4.0   \n\n       rom_discount_6_high  rom_discount_8_low  rom_discount_8_mid  \\\n37611                   44                  44                44.0   \n37622                   44                  30                37.0   \n37627                    4                   4                 4.0   \n37629                   30                  30                30.0   \n37630                   44                  44                44.0   \n...                    ...                 ...                 ...   \n40492                   47                  30                38.5   \n40493                   40                  32                38.0   \n40494                   24                   4                14.0   \n40496                   24                  20                22.0   \n40503                    4                   4                 4.0   \n\n       rom_discount_8_high   rom_diff  \n37611                   44 -40.702521  \n37622                   44 -17.000000  \n37627                    4 -26.000000  \n37629                   30   0.000000  \n37630                   44  14.000000  \n...                    ...        ...  \n40492                   47  -6.000000  \n40493                   44 -17.000000  \n40494                   24  -2.000000  \n40496                   24  19.000000  \n40503                    4 -47.500000  \n\n[1316 rows x 17 columns]"
     },
     "metadata": {},
     "output_type": "display_data"
    },
    {
     "data": {
      "text/markdown": "\n\n**^^^^^^^^^^^^^^^^^^^^^^^^^^^^^^ United_Arab_Emirates (6/6) - 08,26 (1/5) ^^^^^^^^^^^^^^^^^^^^^^^^^^^^^^**\n\n",
      "text/plain": "<IPython.core.display.Markdown object>"
     },
     "metadata": {},
     "output_type": "display_data"
    },
    {
     "name": "stdout",
     "output_type": "stream",
     "text": [
      "('2023-10-01', '2024-04-01', '2024-04-01', '2024-07-01')\n",
      "Train data shape: (5047, 137)\n",
      "Test data shape: (1523, 137)\n"
     ]
    },
    {
     "name": "stderr",
     "output_type": "stream",
     "text": [
      "[I 2025-01-28 16:42:08,140] A new study created in memory with name: no-name-6335c1a0-2719-46e6-9a73-b2b78ee6df82\n"
     ]
    },
    {
     "name": "stdout",
     "output_type": "stream",
     "text": [
      "before/after aug (5047, 137) (13984, 137)\n"
     ]
    },
    {
     "data": {
      "application/vnd.jupyter.widget-view+json": {
       "model_id": "7c98fe49b6bf4dbe81c46760696a4623",
       "version_major": 2,
       "version_minor": 0
      },
      "text/plain": "  0%|          | 0/3 [00:00<?, ?it/s]"
     },
     "metadata": {},
     "output_type": "display_data"
    },
    {
     "name": "stdout",
     "output_type": "stream",
     "text": [
      "[I 2025-01-28 16:42:14,190] Trial 0 finished with value: 0.30179719250373055 and parameters: {'learning_rate': 0.01087080185549562, 'max_depth': 4, 'n_estimators': 729, 'gamma': 0.01123506477003016}. Best is trial 0 with value: 0.30179719250373055.\n",
      "[I 2025-01-28 16:42:22,544] Trial 1 finished with value: 0.28956423804778947 and parameters: {'learning_rate': 0.02230934569621654, 'max_depth': 6, 'n_estimators': 721, 'gamma': 0.05498659253091755}. Best is trial 1 with value: 0.28956423804778947.\n",
      "[I 2025-01-28 16:42:28,871] Trial 2 finished with value: 0.29270553117020076 and parameters: {'learning_rate': 0.03538453590906552, 'max_depth': 5, 'n_estimators': 643, 'gamma': 0.1229607110732571}. Best is trial 1 with value: 0.28956423804778947.\n",
      "Saving results to '../../../Data/training-data-POC-countries/rom_results/United_Arab_Emirates~2024-04~2024-07/v07-test/08,26'\n",
      "United_Arab_Emirates\n"
     ]
    },
    {
     "data": {
      "application/vnd.jupyter.widget-view+json": {
       "model_id": "acee29c002ce41caaf14ffa2ecf88643",
       "version_major": 2,
       "version_minor": 0
      },
      "text/plain": "  0%|          | 0/1523 [00:00<?, ?it/s]"
     },
     "metadata": {},
     "output_type": "display_data"
    },
    {
     "data": {
      "text/html": "<div>\n<style scoped>\n    .dataframe tbody tr th:only-of-type {\n        vertical-align: middle;\n    }\n\n    .dataframe tbody tr th {\n        vertical-align: top;\n    }\n\n    .dataframe thead th {\n        text-align: right;\n    }\n</style>\n<table border=\"1\" class=\"dataframe\">\n  <thead>\n    <tr style=\"text-align: right;\">\n      <th></th>\n      <th>real_discount</th>\n      <th>pub_rev</th>\n      <th>accepted</th>\n      <th>real_rev</th>\n      <th>rom_discount</th>\n      <th>rom_pa</th>\n      <th>rom_exp_rev</th>\n      <th>rom_discount_4_low</th>\n      <th>rom_discount_4_mid</th>\n      <th>rom_discount_4_high</th>\n      <th>rom_discount_6_low</th>\n      <th>rom_discount_6_mid</th>\n      <th>rom_discount_6_high</th>\n      <th>rom_discount_8_low</th>\n      <th>rom_discount_8_mid</th>\n      <th>rom_discount_8_high</th>\n      <th>rom_diff</th>\n    </tr>\n  </thead>\n  <tbody>\n    <tr>\n      <th>18252</th>\n      <td>64.870329</td>\n      <td>3116.34</td>\n      <td>1</td>\n      <td>1094.76</td>\n      <td>50</td>\n      <td>0.712895</td>\n      <td>0.356447</td>\n      <td>50</td>\n      <td>56.5</td>\n      <td>63</td>\n      <td>50</td>\n      <td>57.0</td>\n      <td>64</td>\n      <td>43</td>\n      <td>53.5</td>\n      <td>64</td>\n      <td>-14.870329</td>\n    </tr>\n    <tr>\n      <th>18253</th>\n      <td>79.220232</td>\n      <td>31877.16</td>\n      <td>0</td>\n      <td>0.00</td>\n      <td>90</td>\n      <td>0.934701</td>\n      <td>0.093470</td>\n      <td>90</td>\n      <td>90.0</td>\n      <td>90</td>\n      <td>90</td>\n      <td>90.0</td>\n      <td>90</td>\n      <td>90</td>\n      <td>90.0</td>\n      <td>90</td>\n      <td>10.779768</td>\n    </tr>\n    <tr>\n      <th>18254</th>\n      <td>82.855584</td>\n      <td>45075.90</td>\n      <td>0</td>\n      <td>0.00</td>\n      <td>90</td>\n      <td>0.935156</td>\n      <td>0.093516</td>\n      <td>90</td>\n      <td>90.0</td>\n      <td>90</td>\n      <td>90</td>\n      <td>90.0</td>\n      <td>90</td>\n      <td>90</td>\n      <td>90.0</td>\n      <td>90</td>\n      <td>7.144416</td>\n    </tr>\n    <tr>\n      <th>18255</th>\n      <td>74.513822</td>\n      <td>13252.36</td>\n      <td>0</td>\n      <td>0.00</td>\n      <td>86</td>\n      <td>0.714459</td>\n      <td>0.100024</td>\n      <td>83</td>\n      <td>86.5</td>\n      <td>90</td>\n      <td>83</td>\n      <td>86.5</td>\n      <td>90</td>\n      <td>83</td>\n      <td>86.5</td>\n      <td>90</td>\n      <td>11.486178</td>\n    </tr>\n    <tr>\n      <th>18256</th>\n      <td>82.413669</td>\n      <td>18599.90</td>\n      <td>1</td>\n      <td>3271.04</td>\n      <td>66</td>\n      <td>0.927546</td>\n      <td>0.315365</td>\n      <td>66</td>\n      <td>66.5</td>\n      <td>67</td>\n      <td>66</td>\n      <td>67.0</td>\n      <td>68</td>\n      <td>66</td>\n      <td>67.5</td>\n      <td>69</td>\n      <td>-16.413669</td>\n    </tr>\n    <tr>\n      <th>...</th>\n      <td>...</td>\n      <td>...</td>\n      <td>...</td>\n      <td>...</td>\n      <td>...</td>\n      <td>...</td>\n      <td>...</td>\n      <td>...</td>\n      <td>...</td>\n      <td>...</td>\n      <td>...</td>\n      <td>...</td>\n      <td>...</td>\n      <td>...</td>\n      <td>...</td>\n      <td>...</td>\n      <td>...</td>\n    </tr>\n    <tr>\n      <th>20832</th>\n      <td>63.369910</td>\n      <td>2277.39</td>\n      <td>1</td>\n      <td>834.21</td>\n      <td>50</td>\n      <td>0.745188</td>\n      <td>0.372594</td>\n      <td>50</td>\n      <td>56.5</td>\n      <td>63</td>\n      <td>50</td>\n      <td>57.0</td>\n      <td>64</td>\n      <td>43</td>\n      <td>54.0</td>\n      <td>65</td>\n      <td>-13.369910</td>\n    </tr>\n    <tr>\n      <th>20843</th>\n      <td>63.236068</td>\n      <td>5130.30</td>\n      <td>1</td>\n      <td>1886.10</td>\n      <td>62</td>\n      <td>0.913582</td>\n      <td>0.347161</td>\n      <td>62</td>\n      <td>62.5</td>\n      <td>63</td>\n      <td>62</td>\n      <td>64.0</td>\n      <td>66</td>\n      <td>62</td>\n      <td>64.5</td>\n      <td>67</td>\n      <td>-1.236068</td>\n    </tr>\n    <tr>\n      <th>20845</th>\n      <td>69.370942</td>\n      <td>7756.36</td>\n      <td>1</td>\n      <td>2375.70</td>\n      <td>66</td>\n      <td>0.927638</td>\n      <td>0.315397</td>\n      <td>66</td>\n      <td>66.5</td>\n      <td>67</td>\n      <td>66</td>\n      <td>67.0</td>\n      <td>68</td>\n      <td>66</td>\n      <td>67.0</td>\n      <td>68</td>\n      <td>-3.370942</td>\n    </tr>\n    <tr>\n      <th>20853</th>\n      <td>63.835055</td>\n      <td>17284.50</td>\n      <td>1</td>\n      <td>6250.93</td>\n      <td>66</td>\n      <td>0.897902</td>\n      <td>0.305287</td>\n      <td>66</td>\n      <td>66.5</td>\n      <td>67</td>\n      <td>66</td>\n      <td>67.0</td>\n      <td>68</td>\n      <td>66</td>\n      <td>67.5</td>\n      <td>69</td>\n      <td>2.164945</td>\n    </tr>\n    <tr>\n      <th>20863</th>\n      <td>69.998521</td>\n      <td>13522.50</td>\n      <td>1</td>\n      <td>4056.95</td>\n      <td>66</td>\n      <td>0.864103</td>\n      <td>0.293795</td>\n      <td>66</td>\n      <td>66.5</td>\n      <td>67</td>\n      <td>66</td>\n      <td>67.0</td>\n      <td>68</td>\n      <td>66</td>\n      <td>67.5</td>\n      <td>69</td>\n      <td>-3.998521</td>\n    </tr>\n  </tbody>\n</table>\n<p>1523 rows × 17 columns</p>\n</div>",
      "text/plain": "       real_discount   pub_rev  accepted  real_rev  rom_discount    rom_pa  \\\n18252      64.870329   3116.34         1   1094.76            50  0.712895   \n18253      79.220232  31877.16         0      0.00            90  0.934701   \n18254      82.855584  45075.90         0      0.00            90  0.935156   \n18255      74.513822  13252.36         0      0.00            86  0.714459   \n18256      82.413669  18599.90         1   3271.04            66  0.927546   \n...              ...       ...       ...       ...           ...       ...   \n20832      63.369910   2277.39         1    834.21            50  0.745188   \n20843      63.236068   5130.30         1   1886.10            62  0.913582   \n20845      69.370942   7756.36         1   2375.70            66  0.927638   \n20853      63.835055  17284.50         1   6250.93            66  0.897902   \n20863      69.998521  13522.50         1   4056.95            66  0.864103   \n\n       rom_exp_rev  rom_discount_4_low  rom_discount_4_mid  \\\n18252     0.356447                  50                56.5   \n18253     0.093470                  90                90.0   \n18254     0.093516                  90                90.0   \n18255     0.100024                  83                86.5   \n18256     0.315365                  66                66.5   \n...            ...                 ...                 ...   \n20832     0.372594                  50                56.5   \n20843     0.347161                  62                62.5   \n20845     0.315397                  66                66.5   \n20853     0.305287                  66                66.5   \n20863     0.293795                  66                66.5   \n\n       rom_discount_4_high  rom_discount_6_low  rom_discount_6_mid  \\\n18252                   63                  50                57.0   \n18253                   90                  90                90.0   \n18254                   90                  90                90.0   \n18255                   90                  83                86.5   \n18256                   67                  66                67.0   \n...                    ...                 ...                 ...   \n20832                   63                  50                57.0   \n20843                   63                  62                64.0   \n20845                   67                  66                67.0   \n20853                   67                  66                67.0   \n20863                   67                  66                67.0   \n\n       rom_discount_6_high  rom_discount_8_low  rom_discount_8_mid  \\\n18252                   64                  43                53.5   \n18253                   90                  90                90.0   \n18254                   90                  90                90.0   \n18255                   90                  83                86.5   \n18256                   68                  66                67.5   \n...                    ...                 ...                 ...   \n20832                   64                  43                54.0   \n20843                   66                  62                64.5   \n20845                   68                  66                67.0   \n20853                   68                  66                67.5   \n20863                   68                  66                67.5   \n\n       rom_discount_8_high   rom_diff  \n18252                   64 -14.870329  \n18253                   90  10.779768  \n18254                   90   7.144416  \n18255                   90  11.486178  \n18256                   69 -16.413669  \n...                    ...        ...  \n20832                   65 -13.369910  \n20843                   67  -1.236068  \n20845                   68  -3.370942  \n20853                   69   2.164945  \n20863                   69  -3.998521  \n\n[1523 rows x 17 columns]"
     },
     "metadata": {},
     "output_type": "display_data"
    },
    {
     "data": {
      "text/markdown": "\n\n**^^^^^^^^^^^^^^^^^^^^^^^^^^^^^^ United_Arab_Emirates (6/6) - 10,37 (2/5) ^^^^^^^^^^^^^^^^^^^^^^^^^^^^^^**\n\n",
      "text/plain": "<IPython.core.display.Markdown object>"
     },
     "metadata": {},
     "output_type": "display_data"
    },
    {
     "name": "stdout",
     "output_type": "stream",
     "text": [
      "('2023-10-01', '2024-04-01', '2024-04-01', '2024-07-01')\n",
      "Train data shape: (5047, 137)\n",
      "Test data shape: (1523, 137)\n"
     ]
    },
    {
     "name": "stderr",
     "output_type": "stream",
     "text": [
      "[I 2025-01-28 16:42:44,412] A new study created in memory with name: no-name-32108f9b-4d23-4ae5-b73e-5f47e7e26c9b\n"
     ]
    },
    {
     "name": "stdout",
     "output_type": "stream",
     "text": [
      "before/after aug (5047, 137) (13227, 137)\n"
     ]
    },
    {
     "data": {
      "application/vnd.jupyter.widget-view+json": {
       "model_id": "2a9037fbe3ca428c9967b884082bcc0d",
       "version_major": 2,
       "version_minor": 0
      },
      "text/plain": "  0%|          | 0/3 [00:00<?, ?it/s]"
     },
     "metadata": {},
     "output_type": "display_data"
    },
    {
     "name": "stdout",
     "output_type": "stream",
     "text": [
      "[I 2025-01-28 16:42:50,650] Trial 0 finished with value: 0.24913784074609624 and parameters: {'learning_rate': 0.01087080185549562, 'max_depth': 4, 'n_estimators': 729, 'gamma': 0.01123506477003016}. Best is trial 0 with value: 0.24913784074609624.\n",
      "[I 2025-01-28 16:42:59,560] Trial 1 finished with value: 0.24446598480958218 and parameters: {'learning_rate': 0.02230934569621654, 'max_depth': 6, 'n_estimators': 721, 'gamma': 0.05498659253091755}. Best is trial 1 with value: 0.24446598480958218.\n",
      "[I 2025-01-28 16:43:06,182] Trial 2 finished with value: 0.24420043558127272 and parameters: {'learning_rate': 0.03538453590906552, 'max_depth': 5, 'n_estimators': 643, 'gamma': 0.1229607110732571}. Best is trial 2 with value: 0.24420043558127272.\n",
      "Saving results to '../../../Data/training-data-POC-countries/rom_results/United_Arab_Emirates~2024-04~2024-07/v07-test/10,37'\n",
      "United_Arab_Emirates\n"
     ]
    },
    {
     "data": {
      "application/vnd.jupyter.widget-view+json": {
       "model_id": "bb669cc404214faeabd7747447a51253",
       "version_major": 2,
       "version_minor": 0
      },
      "text/plain": "  0%|          | 0/1523 [00:00<?, ?it/s]"
     },
     "metadata": {},
     "output_type": "display_data"
    },
    {
     "data": {
      "text/html": "<div>\n<style scoped>\n    .dataframe tbody tr th:only-of-type {\n        vertical-align: middle;\n    }\n\n    .dataframe tbody tr th {\n        vertical-align: top;\n    }\n\n    .dataframe thead th {\n        text-align: right;\n    }\n</style>\n<table border=\"1\" class=\"dataframe\">\n  <thead>\n    <tr style=\"text-align: right;\">\n      <th></th>\n      <th>real_discount</th>\n      <th>pub_rev</th>\n      <th>accepted</th>\n      <th>real_rev</th>\n      <th>rom_discount</th>\n      <th>rom_pa</th>\n      <th>rom_exp_rev</th>\n      <th>rom_discount_4_low</th>\n      <th>rom_discount_4_mid</th>\n      <th>rom_discount_4_high</th>\n      <th>rom_discount_6_low</th>\n      <th>rom_discount_6_mid</th>\n      <th>rom_discount_6_high</th>\n      <th>rom_discount_8_low</th>\n      <th>rom_discount_8_mid</th>\n      <th>rom_discount_8_high</th>\n      <th>rom_diff</th>\n    </tr>\n  </thead>\n  <tbody>\n    <tr>\n      <th>18252</th>\n      <td>64.870329</td>\n      <td>3116.34</td>\n      <td>1</td>\n      <td>1094.76</td>\n      <td>50</td>\n      <td>0.884509</td>\n      <td>0.442255</td>\n      <td>50</td>\n      <td>53.0</td>\n      <td>56</td>\n      <td>50</td>\n      <td>53.5</td>\n      <td>57</td>\n      <td>50</td>\n      <td>53.5</td>\n      <td>57</td>\n      <td>-14.870329</td>\n    </tr>\n    <tr>\n      <th>18253</th>\n      <td>79.220232</td>\n      <td>31877.16</td>\n      <td>0</td>\n      <td>0.00</td>\n      <td>90</td>\n      <td>0.763855</td>\n      <td>0.076385</td>\n      <td>90</td>\n      <td>91.0</td>\n      <td>92</td>\n      <td>90</td>\n      <td>91.0</td>\n      <td>92</td>\n      <td>90</td>\n      <td>91.0</td>\n      <td>92</td>\n      <td>10.779768</td>\n    </tr>\n    <tr>\n      <th>18254</th>\n      <td>82.855584</td>\n      <td>45075.90</td>\n      <td>0</td>\n      <td>0.00</td>\n      <td>90</td>\n      <td>0.760533</td>\n      <td>0.076053</td>\n      <td>90</td>\n      <td>91.0</td>\n      <td>92</td>\n      <td>90</td>\n      <td>91.0</td>\n      <td>92</td>\n      <td>90</td>\n      <td>91.0</td>\n      <td>92</td>\n      <td>7.144416</td>\n    </tr>\n    <tr>\n      <th>18255</th>\n      <td>74.513822</td>\n      <td>13252.36</td>\n      <td>0</td>\n      <td>0.00</td>\n      <td>90</td>\n      <td>0.819503</td>\n      <td>0.081950</td>\n      <td>90</td>\n      <td>90.0</td>\n      <td>90</td>\n      <td>90</td>\n      <td>90.0</td>\n      <td>90</td>\n      <td>88</td>\n      <td>90.0</td>\n      <td>92</td>\n      <td>15.486178</td>\n    </tr>\n    <tr>\n      <th>18256</th>\n      <td>82.413669</td>\n      <td>18599.90</td>\n      <td>1</td>\n      <td>3271.04</td>\n      <td>65</td>\n      <td>0.914854</td>\n      <td>0.320199</td>\n      <td>64</td>\n      <td>65.0</td>\n      <td>66</td>\n      <td>64</td>\n      <td>65.5</td>\n      <td>67</td>\n      <td>64</td>\n      <td>65.5</td>\n      <td>67</td>\n      <td>-17.413669</td>\n    </tr>\n    <tr>\n      <th>...</th>\n      <td>...</td>\n      <td>...</td>\n      <td>...</td>\n      <td>...</td>\n      <td>...</td>\n      <td>...</td>\n      <td>...</td>\n      <td>...</td>\n      <td>...</td>\n      <td>...</td>\n      <td>...</td>\n      <td>...</td>\n      <td>...</td>\n      <td>...</td>\n      <td>...</td>\n      <td>...</td>\n      <td>...</td>\n    </tr>\n    <tr>\n      <th>20832</th>\n      <td>63.369910</td>\n      <td>2277.39</td>\n      <td>1</td>\n      <td>834.21</td>\n      <td>54</td>\n      <td>0.956626</td>\n      <td>0.440048</td>\n      <td>53</td>\n      <td>54.0</td>\n      <td>55</td>\n      <td>50</td>\n      <td>53.5</td>\n      <td>57</td>\n      <td>50</td>\n      <td>53.5</td>\n      <td>57</td>\n      <td>-9.369910</td>\n    </tr>\n    <tr>\n      <th>20843</th>\n      <td>63.236068</td>\n      <td>5130.30</td>\n      <td>1</td>\n      <td>1886.10</td>\n      <td>54</td>\n      <td>0.937893</td>\n      <td>0.431431</td>\n      <td>54</td>\n      <td>55.5</td>\n      <td>57</td>\n      <td>54</td>\n      <td>55.5</td>\n      <td>57</td>\n      <td>54</td>\n      <td>56.0</td>\n      <td>58</td>\n      <td>-9.236068</td>\n    </tr>\n    <tr>\n      <th>20845</th>\n      <td>69.370942</td>\n      <td>7756.36</td>\n      <td>1</td>\n      <td>2375.70</td>\n      <td>55</td>\n      <td>0.882718</td>\n      <td>0.397223</td>\n      <td>55</td>\n      <td>56.0</td>\n      <td>57</td>\n      <td>54</td>\n      <td>55.5</td>\n      <td>57</td>\n      <td>54</td>\n      <td>56.0</td>\n      <td>58</td>\n      <td>-14.370942</td>\n    </tr>\n    <tr>\n      <th>20853</th>\n      <td>63.835055</td>\n      <td>17284.50</td>\n      <td>1</td>\n      <td>6250.93</td>\n      <td>57</td>\n      <td>0.790492</td>\n      <td>0.339911</td>\n      <td>57</td>\n      <td>61.0</td>\n      <td>65</td>\n      <td>56</td>\n      <td>60.5</td>\n      <td>65</td>\n      <td>56</td>\n      <td>61.0</td>\n      <td>66</td>\n      <td>-6.835055</td>\n    </tr>\n    <tr>\n      <th>20863</th>\n      <td>69.998521</td>\n      <td>13522.50</td>\n      <td>1</td>\n      <td>4056.95</td>\n      <td>56</td>\n      <td>0.827114</td>\n      <td>0.363930</td>\n      <td>56</td>\n      <td>56.5</td>\n      <td>57</td>\n      <td>56</td>\n      <td>56.5</td>\n      <td>57</td>\n      <td>56</td>\n      <td>56.5</td>\n      <td>57</td>\n      <td>-13.998521</td>\n    </tr>\n  </tbody>\n</table>\n<p>1523 rows × 17 columns</p>\n</div>",
      "text/plain": "       real_discount   pub_rev  accepted  real_rev  rom_discount    rom_pa  \\\n18252      64.870329   3116.34         1   1094.76            50  0.884509   \n18253      79.220232  31877.16         0      0.00            90  0.763855   \n18254      82.855584  45075.90         0      0.00            90  0.760533   \n18255      74.513822  13252.36         0      0.00            90  0.819503   \n18256      82.413669  18599.90         1   3271.04            65  0.914854   \n...              ...       ...       ...       ...           ...       ...   \n20832      63.369910   2277.39         1    834.21            54  0.956626   \n20843      63.236068   5130.30         1   1886.10            54  0.937893   \n20845      69.370942   7756.36         1   2375.70            55  0.882718   \n20853      63.835055  17284.50         1   6250.93            57  0.790492   \n20863      69.998521  13522.50         1   4056.95            56  0.827114   \n\n       rom_exp_rev  rom_discount_4_low  rom_discount_4_mid  \\\n18252     0.442255                  50                53.0   \n18253     0.076385                  90                91.0   \n18254     0.076053                  90                91.0   \n18255     0.081950                  90                90.0   \n18256     0.320199                  64                65.0   \n...            ...                 ...                 ...   \n20832     0.440048                  53                54.0   \n20843     0.431431                  54                55.5   \n20845     0.397223                  55                56.0   \n20853     0.339911                  57                61.0   \n20863     0.363930                  56                56.5   \n\n       rom_discount_4_high  rom_discount_6_low  rom_discount_6_mid  \\\n18252                   56                  50                53.5   \n18253                   92                  90                91.0   \n18254                   92                  90                91.0   \n18255                   90                  90                90.0   \n18256                   66                  64                65.5   \n...                    ...                 ...                 ...   \n20832                   55                  50                53.5   \n20843                   57                  54                55.5   \n20845                   57                  54                55.5   \n20853                   65                  56                60.5   \n20863                   57                  56                56.5   \n\n       rom_discount_6_high  rom_discount_8_low  rom_discount_8_mid  \\\n18252                   57                  50                53.5   \n18253                   92                  90                91.0   \n18254                   92                  90                91.0   \n18255                   90                  88                90.0   \n18256                   67                  64                65.5   \n...                    ...                 ...                 ...   \n20832                   57                  50                53.5   \n20843                   57                  54                56.0   \n20845                   57                  54                56.0   \n20853                   65                  56                61.0   \n20863                   57                  56                56.5   \n\n       rom_discount_8_high   rom_diff  \n18252                   57 -14.870329  \n18253                   92  10.779768  \n18254                   92   7.144416  \n18255                   92  15.486178  \n18256                   67 -17.413669  \n...                    ...        ...  \n20832                   57  -9.369910  \n20843                   58  -9.236068  \n20845                   58 -14.370942  \n20853                   66  -6.835055  \n20863                   57 -13.998521  \n\n[1523 rows x 17 columns]"
     },
     "metadata": {},
     "output_type": "display_data"
    },
    {
     "data": {
      "text/markdown": "\n\n**^^^^^^^^^^^^^^^^^^^^^^^^^^^^^^ United_Arab_Emirates (6/6) - 10,43 (3/5) ^^^^^^^^^^^^^^^^^^^^^^^^^^^^^^**\n\n",
      "text/plain": "<IPython.core.display.Markdown object>"
     },
     "metadata": {},
     "output_type": "display_data"
    },
    {
     "name": "stdout",
     "output_type": "stream",
     "text": [
      "('2023-10-01', '2024-04-01', '2024-04-01', '2024-07-01')\n",
      "Train data shape: (5047, 137)\n",
      "Test data shape: (1523, 137)\n"
     ]
    },
    {
     "name": "stderr",
     "output_type": "stream",
     "text": [
      "[I 2025-01-28 16:43:21,598] A new study created in memory with name: no-name-6b037162-2053-4473-b214-98086988111f\n"
     ]
    },
    {
     "name": "stdout",
     "output_type": "stream",
     "text": [
      "before/after aug (5047, 137) (12957, 137)\n"
     ]
    },
    {
     "data": {
      "application/vnd.jupyter.widget-view+json": {
       "model_id": "35199d66f3a34263baa73d48638999f4",
       "version_major": 2,
       "version_minor": 0
      },
      "text/plain": "  0%|          | 0/3 [00:00<?, ?it/s]"
     },
     "metadata": {},
     "output_type": "display_data"
    },
    {
     "name": "stdout",
     "output_type": "stream",
     "text": [
      "[I 2025-01-28 16:43:27,798] Trial 0 finished with value: 0.23713869559407869 and parameters: {'learning_rate': 0.01087080185549562, 'max_depth': 4, 'n_estimators': 729, 'gamma': 0.01123506477003016}. Best is trial 0 with value: 0.23713869559407869.\n",
      "[I 2025-01-28 16:43:36,456] Trial 1 finished with value: 0.23804705781805519 and parameters: {'learning_rate': 0.02230934569621654, 'max_depth': 6, 'n_estimators': 721, 'gamma': 0.05498659253091755}. Best is trial 0 with value: 0.23713869559407869.\n",
      "[I 2025-01-28 16:43:43,156] Trial 2 finished with value: 0.2383588158660149 and parameters: {'learning_rate': 0.03538453590906552, 'max_depth': 5, 'n_estimators': 643, 'gamma': 0.1229607110732571}. Best is trial 0 with value: 0.23713869559407869.\n",
      "Saving results to '../../../Data/training-data-POC-countries/rom_results/United_Arab_Emirates~2024-04~2024-07/v07-test/10,43'\n",
      "United_Arab_Emirates\n"
     ]
    },
    {
     "data": {
      "application/vnd.jupyter.widget-view+json": {
       "model_id": "495fe1874d51458aa89cb7fb1cc25ffc",
       "version_major": 2,
       "version_minor": 0
      },
      "text/plain": "  0%|          | 0/1523 [00:00<?, ?it/s]"
     },
     "metadata": {},
     "output_type": "display_data"
    },
    {
     "data": {
      "text/html": "<div>\n<style scoped>\n    .dataframe tbody tr th:only-of-type {\n        vertical-align: middle;\n    }\n\n    .dataframe tbody tr th {\n        vertical-align: top;\n    }\n\n    .dataframe thead th {\n        text-align: right;\n    }\n</style>\n<table border=\"1\" class=\"dataframe\">\n  <thead>\n    <tr style=\"text-align: right;\">\n      <th></th>\n      <th>real_discount</th>\n      <th>pub_rev</th>\n      <th>accepted</th>\n      <th>real_rev</th>\n      <th>rom_discount</th>\n      <th>rom_pa</th>\n      <th>rom_exp_rev</th>\n      <th>rom_discount_4_low</th>\n      <th>rom_discount_4_mid</th>\n      <th>rom_discount_4_high</th>\n      <th>rom_discount_6_low</th>\n      <th>rom_discount_6_mid</th>\n      <th>rom_discount_6_high</th>\n      <th>rom_discount_8_low</th>\n      <th>rom_discount_8_mid</th>\n      <th>rom_discount_8_high</th>\n      <th>rom_diff</th>\n    </tr>\n  </thead>\n  <tbody>\n    <tr>\n      <th>18252</th>\n      <td>64.870329</td>\n      <td>3116.34</td>\n      <td>1</td>\n      <td>1094.76</td>\n      <td>50</td>\n      <td>0.924441</td>\n      <td>0.462221</td>\n      <td>50</td>\n      <td>51.5</td>\n      <td>53</td>\n      <td>44</td>\n      <td>49.0</td>\n      <td>54</td>\n      <td>44</td>\n      <td>49.5</td>\n      <td>55</td>\n      <td>-14.870329</td>\n    </tr>\n    <tr>\n      <th>18253</th>\n      <td>79.220232</td>\n      <td>31877.16</td>\n      <td>0</td>\n      <td>0.00</td>\n      <td>90</td>\n      <td>0.766669</td>\n      <td>0.076667</td>\n      <td>90</td>\n      <td>90.0</td>\n      <td>90</td>\n      <td>90</td>\n      <td>90.0</td>\n      <td>90</td>\n      <td>90</td>\n      <td>90.0</td>\n      <td>90</td>\n      <td>10.779768</td>\n    </tr>\n    <tr>\n      <th>18254</th>\n      <td>82.855584</td>\n      <td>45075.90</td>\n      <td>0</td>\n      <td>0.00</td>\n      <td>90</td>\n      <td>0.775219</td>\n      <td>0.077522</td>\n      <td>90</td>\n      <td>90.0</td>\n      <td>90</td>\n      <td>90</td>\n      <td>90.0</td>\n      <td>90</td>\n      <td>90</td>\n      <td>90.0</td>\n      <td>90</td>\n      <td>7.144416</td>\n    </tr>\n    <tr>\n      <th>18255</th>\n      <td>74.513822</td>\n      <td>13252.36</td>\n      <td>0</td>\n      <td>0.00</td>\n      <td>90</td>\n      <td>0.738672</td>\n      <td>0.073867</td>\n      <td>90</td>\n      <td>90.0</td>\n      <td>90</td>\n      <td>90</td>\n      <td>90.0</td>\n      <td>90</td>\n      <td>90</td>\n      <td>91.0</td>\n      <td>92</td>\n      <td>15.486178</td>\n    </tr>\n    <tr>\n      <th>18256</th>\n      <td>82.413669</td>\n      <td>18599.90</td>\n      <td>1</td>\n      <td>3271.04</td>\n      <td>53</td>\n      <td>0.739805</td>\n      <td>0.347708</td>\n      <td>53</td>\n      <td>53.5</td>\n      <td>54</td>\n      <td>53</td>\n      <td>54.5</td>\n      <td>56</td>\n      <td>53</td>\n      <td>58.5</td>\n      <td>64</td>\n      <td>-29.413669</td>\n    </tr>\n    <tr>\n      <th>...</th>\n      <td>...</td>\n      <td>...</td>\n      <td>...</td>\n      <td>...</td>\n      <td>...</td>\n      <td>...</td>\n      <td>...</td>\n      <td>...</td>\n      <td>...</td>\n      <td>...</td>\n      <td>...</td>\n      <td>...</td>\n      <td>...</td>\n      <td>...</td>\n      <td>...</td>\n      <td>...</td>\n      <td>...</td>\n    </tr>\n    <tr>\n      <th>20832</th>\n      <td>63.369910</td>\n      <td>2277.39</td>\n      <td>1</td>\n      <td>834.21</td>\n      <td>44</td>\n      <td>0.895942</td>\n      <td>0.501728</td>\n      <td>44</td>\n      <td>45.0</td>\n      <td>46</td>\n      <td>44</td>\n      <td>47.0</td>\n      <td>50</td>\n      <td>44</td>\n      <td>47.5</td>\n      <td>51</td>\n      <td>-19.369910</td>\n    </tr>\n    <tr>\n      <th>20843</th>\n      <td>63.236068</td>\n      <td>5130.30</td>\n      <td>1</td>\n      <td>1886.10</td>\n      <td>50</td>\n      <td>0.894085</td>\n      <td>0.447042</td>\n      <td>50</td>\n      <td>51.5</td>\n      <td>53</td>\n      <td>50</td>\n      <td>52.0</td>\n      <td>54</td>\n      <td>50</td>\n      <td>52.5</td>\n      <td>55</td>\n      <td>-13.236068</td>\n    </tr>\n    <tr>\n      <th>20845</th>\n      <td>69.370942</td>\n      <td>7756.36</td>\n      <td>1</td>\n      <td>2375.70</td>\n      <td>53</td>\n      <td>0.872547</td>\n      <td>0.410097</td>\n      <td>50</td>\n      <td>52.0</td>\n      <td>54</td>\n      <td>50</td>\n      <td>53.0</td>\n      <td>56</td>\n      <td>50</td>\n      <td>53.0</td>\n      <td>56</td>\n      <td>-16.370942</td>\n    </tr>\n    <tr>\n      <th>20853</th>\n      <td>63.835055</td>\n      <td>17284.50</td>\n      <td>1</td>\n      <td>6250.93</td>\n      <td>53</td>\n      <td>0.797604</td>\n      <td>0.374874</td>\n      <td>53</td>\n      <td>53.5</td>\n      <td>54</td>\n      <td>53</td>\n      <td>54.5</td>\n      <td>56</td>\n      <td>53</td>\n      <td>55.0</td>\n      <td>57</td>\n      <td>-10.835055</td>\n    </tr>\n    <tr>\n      <th>20863</th>\n      <td>69.998521</td>\n      <td>13522.50</td>\n      <td>1</td>\n      <td>4056.95</td>\n      <td>53</td>\n      <td>0.832071</td>\n      <td>0.391074</td>\n      <td>53</td>\n      <td>53.5</td>\n      <td>54</td>\n      <td>53</td>\n      <td>54.0</td>\n      <td>55</td>\n      <td>53</td>\n      <td>54.5</td>\n      <td>56</td>\n      <td>-16.998521</td>\n    </tr>\n  </tbody>\n</table>\n<p>1523 rows × 17 columns</p>\n</div>",
      "text/plain": "       real_discount   pub_rev  accepted  real_rev  rom_discount    rom_pa  \\\n18252      64.870329   3116.34         1   1094.76            50  0.924441   \n18253      79.220232  31877.16         0      0.00            90  0.766669   \n18254      82.855584  45075.90         0      0.00            90  0.775219   \n18255      74.513822  13252.36         0      0.00            90  0.738672   \n18256      82.413669  18599.90         1   3271.04            53  0.739805   \n...              ...       ...       ...       ...           ...       ...   \n20832      63.369910   2277.39         1    834.21            44  0.895942   \n20843      63.236068   5130.30         1   1886.10            50  0.894085   \n20845      69.370942   7756.36         1   2375.70            53  0.872547   \n20853      63.835055  17284.50         1   6250.93            53  0.797604   \n20863      69.998521  13522.50         1   4056.95            53  0.832071   \n\n       rom_exp_rev  rom_discount_4_low  rom_discount_4_mid  \\\n18252     0.462221                  50                51.5   \n18253     0.076667                  90                90.0   \n18254     0.077522                  90                90.0   \n18255     0.073867                  90                90.0   \n18256     0.347708                  53                53.5   \n...            ...                 ...                 ...   \n20832     0.501728                  44                45.0   \n20843     0.447042                  50                51.5   \n20845     0.410097                  50                52.0   \n20853     0.374874                  53                53.5   \n20863     0.391074                  53                53.5   \n\n       rom_discount_4_high  rom_discount_6_low  rom_discount_6_mid  \\\n18252                   53                  44                49.0   \n18253                   90                  90                90.0   \n18254                   90                  90                90.0   \n18255                   90                  90                90.0   \n18256                   54                  53                54.5   \n...                    ...                 ...                 ...   \n20832                   46                  44                47.0   \n20843                   53                  50                52.0   \n20845                   54                  50                53.0   \n20853                   54                  53                54.5   \n20863                   54                  53                54.0   \n\n       rom_discount_6_high  rom_discount_8_low  rom_discount_8_mid  \\\n18252                   54                  44                49.5   \n18253                   90                  90                90.0   \n18254                   90                  90                90.0   \n18255                   90                  90                91.0   \n18256                   56                  53                58.5   \n...                    ...                 ...                 ...   \n20832                   50                  44                47.5   \n20843                   54                  50                52.5   \n20845                   56                  50                53.0   \n20853                   56                  53                55.0   \n20863                   55                  53                54.5   \n\n       rom_discount_8_high   rom_diff  \n18252                   55 -14.870329  \n18253                   90  10.779768  \n18254                   90   7.144416  \n18255                   92  15.486178  \n18256                   64 -29.413669  \n...                    ...        ...  \n20832                   51 -19.369910  \n20843                   55 -13.236068  \n20845                   56 -16.370942  \n20853                   57 -10.835055  \n20863                   56 -16.998521  \n\n[1523 rows x 17 columns]"
     },
     "metadata": {},
     "output_type": "display_data"
    },
    {
     "data": {
      "text/markdown": "\n\n**^^^^^^^^^^^^^^^^^^^^^^^^^^^^^^ United_Arab_Emirates (6/6) - 11,19 (4/5) ^^^^^^^^^^^^^^^^^^^^^^^^^^^^^^**\n\n",
      "text/plain": "<IPython.core.display.Markdown object>"
     },
     "metadata": {},
     "output_type": "display_data"
    },
    {
     "name": "stdout",
     "output_type": "stream",
     "text": [
      "('2023-10-01', '2024-04-01', '2024-04-01', '2024-07-01')\n",
      "Train data shape: (5047, 137)\n",
      "Test data shape: (1523, 137)\n"
     ]
    },
    {
     "name": "stderr",
     "output_type": "stream",
     "text": [
      "[I 2025-01-28 16:43:58,749] A new study created in memory with name: no-name-40a20303-b2ed-4810-b361-8fab84699c4c\n"
     ]
    },
    {
     "name": "stdout",
     "output_type": "stream",
     "text": [
      "before/after aug (5047, 137) (14230, 137)\n"
     ]
    },
    {
     "data": {
      "application/vnd.jupyter.widget-view+json": {
       "model_id": "9fbcb3a5c2d3486d87b3b302848c033e",
       "version_major": 2,
       "version_minor": 0
      },
      "text/plain": "  0%|          | 0/3 [00:00<?, ?it/s]"
     },
     "metadata": {},
     "output_type": "display_data"
    },
    {
     "name": "stdout",
     "output_type": "stream",
     "text": [
      "[I 2025-01-28 16:44:04,890] Trial 0 finished with value: 0.33165328612884515 and parameters: {'learning_rate': 0.01087080185549562, 'max_depth': 4, 'n_estimators': 729, 'gamma': 0.01123506477003016}. Best is trial 0 with value: 0.33165328612884515.\n",
      "[I 2025-01-28 16:44:13,681] Trial 1 finished with value: 0.3181641953869481 and parameters: {'learning_rate': 0.02230934569621654, 'max_depth': 6, 'n_estimators': 721, 'gamma': 0.05498659253091755}. Best is trial 1 with value: 0.3181641953869481.\n",
      "[I 2025-01-28 16:44:20,191] Trial 2 finished with value: 0.32011140375145974 and parameters: {'learning_rate': 0.03538453590906552, 'max_depth': 5, 'n_estimators': 643, 'gamma': 0.1229607110732571}. Best is trial 1 with value: 0.3181641953869481.\n",
      "Saving results to '../../../Data/training-data-POC-countries/rom_results/United_Arab_Emirates~2024-04~2024-07/v07-test/11,19'\n",
      "United_Arab_Emirates\n"
     ]
    },
    {
     "data": {
      "application/vnd.jupyter.widget-view+json": {
       "model_id": "95a0b9f343804886a3edbce23f8b66d5",
       "version_major": 2,
       "version_minor": 0
      },
      "text/plain": "  0%|          | 0/1523 [00:00<?, ?it/s]"
     },
     "metadata": {},
     "output_type": "display_data"
    },
    {
     "data": {
      "text/html": "<div>\n<style scoped>\n    .dataframe tbody tr th:only-of-type {\n        vertical-align: middle;\n    }\n\n    .dataframe tbody tr th {\n        vertical-align: top;\n    }\n\n    .dataframe thead th {\n        text-align: right;\n    }\n</style>\n<table border=\"1\" class=\"dataframe\">\n  <thead>\n    <tr style=\"text-align: right;\">\n      <th></th>\n      <th>real_discount</th>\n      <th>pub_rev</th>\n      <th>accepted</th>\n      <th>real_rev</th>\n      <th>rom_discount</th>\n      <th>rom_pa</th>\n      <th>rom_exp_rev</th>\n      <th>rom_discount_4_low</th>\n      <th>rom_discount_4_mid</th>\n      <th>rom_discount_4_high</th>\n      <th>rom_discount_6_low</th>\n      <th>rom_discount_6_mid</th>\n      <th>rom_discount_6_high</th>\n      <th>rom_discount_8_low</th>\n      <th>rom_discount_8_mid</th>\n      <th>rom_discount_8_high</th>\n      <th>rom_diff</th>\n    </tr>\n  </thead>\n  <tbody>\n    <tr>\n      <th>18252</th>\n      <td>64.870329</td>\n      <td>3116.34</td>\n      <td>1</td>\n      <td>1094.76</td>\n      <td>56</td>\n      <td>0.811067</td>\n      <td>0.356870</td>\n      <td>53</td>\n      <td>55.5</td>\n      <td>58</td>\n      <td>53</td>\n      <td>55.5</td>\n      <td>58</td>\n      <td>53</td>\n      <td>56.5</td>\n      <td>60</td>\n      <td>-8.870329</td>\n    </tr>\n    <tr>\n      <th>18253</th>\n      <td>79.220232</td>\n      <td>31877.16</td>\n      <td>0</td>\n      <td>0.00</td>\n      <td>90</td>\n      <td>0.957749</td>\n      <td>0.095775</td>\n      <td>90</td>\n      <td>90.0</td>\n      <td>90</td>\n      <td>90</td>\n      <td>90.0</td>\n      <td>90</td>\n      <td>90</td>\n      <td>90.0</td>\n      <td>90</td>\n      <td>10.779768</td>\n    </tr>\n    <tr>\n      <th>18254</th>\n      <td>82.855584</td>\n      <td>45075.90</td>\n      <td>0</td>\n      <td>0.00</td>\n      <td>90</td>\n      <td>0.966102</td>\n      <td>0.096610</td>\n      <td>90</td>\n      <td>90.0</td>\n      <td>90</td>\n      <td>90</td>\n      <td>90.0</td>\n      <td>90</td>\n      <td>90</td>\n      <td>90.0</td>\n      <td>90</td>\n      <td>7.144416</td>\n    </tr>\n    <tr>\n      <th>18255</th>\n      <td>74.513822</td>\n      <td>13252.36</td>\n      <td>0</td>\n      <td>0.00</td>\n      <td>83</td>\n      <td>0.761980</td>\n      <td>0.129537</td>\n      <td>81</td>\n      <td>82.5</td>\n      <td>84</td>\n      <td>81</td>\n      <td>82.5</td>\n      <td>84</td>\n      <td>81</td>\n      <td>82.5</td>\n      <td>84</td>\n      <td>8.486178</td>\n    </tr>\n    <tr>\n      <th>18256</th>\n      <td>82.413669</td>\n      <td>18599.90</td>\n      <td>1</td>\n      <td>3271.04</td>\n      <td>74</td>\n      <td>0.974680</td>\n      <td>0.253417</td>\n      <td>74</td>\n      <td>74.5</td>\n      <td>75</td>\n      <td>74</td>\n      <td>74.5</td>\n      <td>75</td>\n      <td>74</td>\n      <td>75.0</td>\n      <td>76</td>\n      <td>-8.413669</td>\n    </tr>\n    <tr>\n      <th>...</th>\n      <td>...</td>\n      <td>...</td>\n      <td>...</td>\n      <td>...</td>\n      <td>...</td>\n      <td>...</td>\n      <td>...</td>\n      <td>...</td>\n      <td>...</td>\n      <td>...</td>\n      <td>...</td>\n      <td>...</td>\n      <td>...</td>\n      <td>...</td>\n      <td>...</td>\n      <td>...</td>\n      <td>...</td>\n    </tr>\n    <tr>\n      <th>20832</th>\n      <td>63.369910</td>\n      <td>2277.39</td>\n      <td>1</td>\n      <td>834.21</td>\n      <td>64</td>\n      <td>0.857066</td>\n      <td>0.308544</td>\n      <td>64</td>\n      <td>66.5</td>\n      <td>69</td>\n      <td>56</td>\n      <td>62.5</td>\n      <td>69</td>\n      <td>56</td>\n      <td>63.0</td>\n      <td>70</td>\n      <td>0.630090</td>\n    </tr>\n    <tr>\n      <th>20843</th>\n      <td>63.236068</td>\n      <td>5130.30</td>\n      <td>1</td>\n      <td>1886.10</td>\n      <td>56</td>\n      <td>0.650273</td>\n      <td>0.286120</td>\n      <td>56</td>\n      <td>58.0</td>\n      <td>60</td>\n      <td>55</td>\n      <td>61.5</td>\n      <td>68</td>\n      <td>55</td>\n      <td>63.0</td>\n      <td>71</td>\n      <td>-7.236068</td>\n    </tr>\n    <tr>\n      <th>20845</th>\n      <td>69.370942</td>\n      <td>7756.36</td>\n      <td>1</td>\n      <td>2375.70</td>\n      <td>74</td>\n      <td>0.955089</td>\n      <td>0.248323</td>\n      <td>74</td>\n      <td>74.5</td>\n      <td>75</td>\n      <td>68</td>\n      <td>71.5</td>\n      <td>75</td>\n      <td>68</td>\n      <td>72.0</td>\n      <td>76</td>\n      <td>4.629058</td>\n    </tr>\n    <tr>\n      <th>20853</th>\n      <td>63.835055</td>\n      <td>17284.50</td>\n      <td>1</td>\n      <td>6250.93</td>\n      <td>74</td>\n      <td>0.934239</td>\n      <td>0.242902</td>\n      <td>74</td>\n      <td>74.5</td>\n      <td>75</td>\n      <td>74</td>\n      <td>75.0</td>\n      <td>76</td>\n      <td>74</td>\n      <td>75.0</td>\n      <td>76</td>\n      <td>10.164945</td>\n    </tr>\n    <tr>\n      <th>20863</th>\n      <td>69.998521</td>\n      <td>13522.50</td>\n      <td>1</td>\n      <td>4056.95</td>\n      <td>74</td>\n      <td>0.957940</td>\n      <td>0.249064</td>\n      <td>74</td>\n      <td>74.5</td>\n      <td>75</td>\n      <td>74</td>\n      <td>74.5</td>\n      <td>75</td>\n      <td>74</td>\n      <td>75.0</td>\n      <td>76</td>\n      <td>4.001479</td>\n    </tr>\n  </tbody>\n</table>\n<p>1523 rows × 17 columns</p>\n</div>",
      "text/plain": "       real_discount   pub_rev  accepted  real_rev  rom_discount    rom_pa  \\\n18252      64.870329   3116.34         1   1094.76            56  0.811067   \n18253      79.220232  31877.16         0      0.00            90  0.957749   \n18254      82.855584  45075.90         0      0.00            90  0.966102   \n18255      74.513822  13252.36         0      0.00            83  0.761980   \n18256      82.413669  18599.90         1   3271.04            74  0.974680   \n...              ...       ...       ...       ...           ...       ...   \n20832      63.369910   2277.39         1    834.21            64  0.857066   \n20843      63.236068   5130.30         1   1886.10            56  0.650273   \n20845      69.370942   7756.36         1   2375.70            74  0.955089   \n20853      63.835055  17284.50         1   6250.93            74  0.934239   \n20863      69.998521  13522.50         1   4056.95            74  0.957940   \n\n       rom_exp_rev  rom_discount_4_low  rom_discount_4_mid  \\\n18252     0.356870                  53                55.5   \n18253     0.095775                  90                90.0   \n18254     0.096610                  90                90.0   \n18255     0.129537                  81                82.5   \n18256     0.253417                  74                74.5   \n...            ...                 ...                 ...   \n20832     0.308544                  64                66.5   \n20843     0.286120                  56                58.0   \n20845     0.248323                  74                74.5   \n20853     0.242902                  74                74.5   \n20863     0.249064                  74                74.5   \n\n       rom_discount_4_high  rom_discount_6_low  rom_discount_6_mid  \\\n18252                   58                  53                55.5   \n18253                   90                  90                90.0   \n18254                   90                  90                90.0   \n18255                   84                  81                82.5   \n18256                   75                  74                74.5   \n...                    ...                 ...                 ...   \n20832                   69                  56                62.5   \n20843                   60                  55                61.5   \n20845                   75                  68                71.5   \n20853                   75                  74                75.0   \n20863                   75                  74                74.5   \n\n       rom_discount_6_high  rom_discount_8_low  rom_discount_8_mid  \\\n18252                   58                  53                56.5   \n18253                   90                  90                90.0   \n18254                   90                  90                90.0   \n18255                   84                  81                82.5   \n18256                   75                  74                75.0   \n...                    ...                 ...                 ...   \n20832                   69                  56                63.0   \n20843                   68                  55                63.0   \n20845                   75                  68                72.0   \n20853                   76                  74                75.0   \n20863                   75                  74                75.0   \n\n       rom_discount_8_high   rom_diff  \n18252                   60  -8.870329  \n18253                   90  10.779768  \n18254                   90   7.144416  \n18255                   84   8.486178  \n18256                   76  -8.413669  \n...                    ...        ...  \n20832                   70   0.630090  \n20843                   71  -7.236068  \n20845                   76   4.629058  \n20853                   76  10.164945  \n20863                   76   4.001479  \n\n[1523 rows x 17 columns]"
     },
     "metadata": {},
     "output_type": "display_data"
    },
    {
     "data": {
      "text/markdown": "\n\n**^^^^^^^^^^^^^^^^^^^^^^^^^^^^^^ United_Arab_Emirates (6/6) - 14,28 (5/5) ^^^^^^^^^^^^^^^^^^^^^^^^^^^^^^**\n\n",
      "text/plain": "<IPython.core.display.Markdown object>"
     },
     "metadata": {},
     "output_type": "display_data"
    },
    {
     "name": "stdout",
     "output_type": "stream",
     "text": [
      "('2023-10-01', '2024-04-01', '2024-04-01', '2024-07-01')\n",
      "Train data shape: (5047, 137)\n",
      "Test data shape: (1523, 137)\n"
     ]
    },
    {
     "name": "stderr",
     "output_type": "stream",
     "text": [
      "[I 2025-01-28 16:44:35,889] A new study created in memory with name: no-name-ebef6707-a56b-4f5f-9b1f-7011fde05fea\n"
     ]
    },
    {
     "name": "stdout",
     "output_type": "stream",
     "text": [
      "before/after aug (5047, 137) (13466, 137)\n"
     ]
    },
    {
     "data": {
      "application/vnd.jupyter.widget-view+json": {
       "model_id": "617508b357a94edba5733bc1f7a0aac1",
       "version_major": 2,
       "version_minor": 0
      },
      "text/plain": "  0%|          | 0/3 [00:00<?, ?it/s]"
     },
     "metadata": {},
     "output_type": "display_data"
    },
    {
     "name": "stdout",
     "output_type": "stream",
     "text": [
      "[I 2025-01-28 16:44:41,875] Trial 0 finished with value: 0.2692714976983481 and parameters: {'learning_rate': 0.01087080185549562, 'max_depth': 4, 'n_estimators': 729, 'gamma': 0.01123506477003016}. Best is trial 0 with value: 0.2692714976983481.\n",
      "[I 2025-01-28 16:44:50,243] Trial 1 finished with value: 0.26121016453748946 and parameters: {'learning_rate': 0.02230934569621654, 'max_depth': 6, 'n_estimators': 721, 'gamma': 0.05498659253091755}. Best is trial 1 with value: 0.26121016453748946.\n",
      "[I 2025-01-28 16:44:56,671] Trial 2 finished with value: 0.26304746623470815 and parameters: {'learning_rate': 0.03538453590906552, 'max_depth': 5, 'n_estimators': 643, 'gamma': 0.1229607110732571}. Best is trial 1 with value: 0.26121016453748946.\n",
      "Saving results to '../../../Data/training-data-POC-countries/rom_results/United_Arab_Emirates~2024-04~2024-07/v07-test/14,28'\n",
      "United_Arab_Emirates\n"
     ]
    },
    {
     "data": {
      "application/vnd.jupyter.widget-view+json": {
       "model_id": "f28555321f8c4cce8cb1818632806b52",
       "version_major": 2,
       "version_minor": 0
      },
      "text/plain": "  0%|          | 0/1523 [00:00<?, ?it/s]"
     },
     "metadata": {},
     "output_type": "display_data"
    },
    {
     "data": {
      "text/html": "<div>\n<style scoped>\n    .dataframe tbody tr th:only-of-type {\n        vertical-align: middle;\n    }\n\n    .dataframe tbody tr th {\n        vertical-align: top;\n    }\n\n    .dataframe thead th {\n        text-align: right;\n    }\n</style>\n<table border=\"1\" class=\"dataframe\">\n  <thead>\n    <tr style=\"text-align: right;\">\n      <th></th>\n      <th>real_discount</th>\n      <th>pub_rev</th>\n      <th>accepted</th>\n      <th>real_rev</th>\n      <th>rom_discount</th>\n      <th>rom_pa</th>\n      <th>rom_exp_rev</th>\n      <th>rom_discount_4_low</th>\n      <th>rom_discount_4_mid</th>\n      <th>rom_discount_4_high</th>\n      <th>rom_discount_6_low</th>\n      <th>rom_discount_6_mid</th>\n      <th>rom_discount_6_high</th>\n      <th>rom_discount_8_low</th>\n      <th>rom_discount_8_mid</th>\n      <th>rom_discount_8_high</th>\n      <th>rom_diff</th>\n    </tr>\n  </thead>\n  <tbody>\n    <tr>\n      <th>18252</th>\n      <td>64.870329</td>\n      <td>3116.34</td>\n      <td>1</td>\n      <td>1094.76</td>\n      <td>46</td>\n      <td>0.718189</td>\n      <td>0.387822</td>\n      <td>44</td>\n      <td>52.0</td>\n      <td>60</td>\n      <td>44</td>\n      <td>52.5</td>\n      <td>61</td>\n      <td>44</td>\n      <td>53.0</td>\n      <td>62</td>\n      <td>-18.870329</td>\n    </tr>\n    <tr>\n      <th>18253</th>\n      <td>79.220232</td>\n      <td>31877.16</td>\n      <td>0</td>\n      <td>0.00</td>\n      <td>90</td>\n      <td>0.855677</td>\n      <td>0.085568</td>\n      <td>90</td>\n      <td>90.0</td>\n      <td>90</td>\n      <td>90</td>\n      <td>90.0</td>\n      <td>90</td>\n      <td>90</td>\n      <td>90.0</td>\n      <td>90</td>\n      <td>10.779768</td>\n    </tr>\n    <tr>\n      <th>18254</th>\n      <td>82.855584</td>\n      <td>45075.90</td>\n      <td>0</td>\n      <td>0.00</td>\n      <td>90</td>\n      <td>0.871594</td>\n      <td>0.087159</td>\n      <td>90</td>\n      <td>90.0</td>\n      <td>90</td>\n      <td>90</td>\n      <td>90.0</td>\n      <td>90</td>\n      <td>90</td>\n      <td>90.0</td>\n      <td>90</td>\n      <td>7.144416</td>\n    </tr>\n    <tr>\n      <th>18255</th>\n      <td>74.513822</td>\n      <td>13252.36</td>\n      <td>0</td>\n      <td>0.00</td>\n      <td>78</td>\n      <td>0.474732</td>\n      <td>0.104441</td>\n      <td>78</td>\n      <td>78.0</td>\n      <td>78</td>\n      <td>78</td>\n      <td>78.5</td>\n      <td>79</td>\n      <td>78</td>\n      <td>84.0</td>\n      <td>90</td>\n      <td>3.486178</td>\n    </tr>\n    <tr>\n      <th>18256</th>\n      <td>82.413669</td>\n      <td>18599.90</td>\n      <td>1</td>\n      <td>3271.04</td>\n      <td>65</td>\n      <td>0.883013</td>\n      <td>0.309054</td>\n      <td>65</td>\n      <td>66.0</td>\n      <td>67</td>\n      <td>65</td>\n      <td>66.0</td>\n      <td>67</td>\n      <td>65</td>\n      <td>66.5</td>\n      <td>68</td>\n      <td>-17.413669</td>\n    </tr>\n    <tr>\n      <th>...</th>\n      <td>...</td>\n      <td>...</td>\n      <td>...</td>\n      <td>...</td>\n      <td>...</td>\n      <td>...</td>\n      <td>...</td>\n      <td>...</td>\n      <td>...</td>\n      <td>...</td>\n      <td>...</td>\n      <td>...</td>\n      <td>...</td>\n      <td>...</td>\n      <td>...</td>\n      <td>...</td>\n      <td>...</td>\n    </tr>\n    <tr>\n      <th>20832</th>\n      <td>63.369910</td>\n      <td>2277.39</td>\n      <td>1</td>\n      <td>834.21</td>\n      <td>60</td>\n      <td>0.958405</td>\n      <td>0.383362</td>\n      <td>60</td>\n      <td>60.5</td>\n      <td>61</td>\n      <td>60</td>\n      <td>61.0</td>\n      <td>62</td>\n      <td>58</td>\n      <td>60.5</td>\n      <td>63</td>\n      <td>-3.369910</td>\n    </tr>\n    <tr>\n      <th>20843</th>\n      <td>63.236068</td>\n      <td>5130.30</td>\n      <td>1</td>\n      <td>1886.10</td>\n      <td>60</td>\n      <td>0.915911</td>\n      <td>0.366365</td>\n      <td>60</td>\n      <td>61.0</td>\n      <td>62</td>\n      <td>60</td>\n      <td>61.5</td>\n      <td>63</td>\n      <td>60</td>\n      <td>62.5</td>\n      <td>65</td>\n      <td>-3.236068</td>\n    </tr>\n    <tr>\n      <th>20845</th>\n      <td>69.370942</td>\n      <td>7756.36</td>\n      <td>1</td>\n      <td>2375.70</td>\n      <td>65</td>\n      <td>0.924838</td>\n      <td>0.323693</td>\n      <td>60</td>\n      <td>63.0</td>\n      <td>66</td>\n      <td>60</td>\n      <td>63.5</td>\n      <td>67</td>\n      <td>60</td>\n      <td>63.5</td>\n      <td>67</td>\n      <td>-4.370942</td>\n    </tr>\n    <tr>\n      <th>20853</th>\n      <td>63.835055</td>\n      <td>17284.50</td>\n      <td>1</td>\n      <td>6250.93</td>\n      <td>65</td>\n      <td>0.897990</td>\n      <td>0.314297</td>\n      <td>65</td>\n      <td>66.0</td>\n      <td>67</td>\n      <td>65</td>\n      <td>66.0</td>\n      <td>67</td>\n      <td>65</td>\n      <td>66.5</td>\n      <td>68</td>\n      <td>1.164945</td>\n    </tr>\n    <tr>\n      <th>20863</th>\n      <td>69.998521</td>\n      <td>13522.50</td>\n      <td>1</td>\n      <td>4056.95</td>\n      <td>65</td>\n      <td>0.869248</td>\n      <td>0.304237</td>\n      <td>65</td>\n      <td>65.5</td>\n      <td>66</td>\n      <td>65</td>\n      <td>66.0</td>\n      <td>67</td>\n      <td>65</td>\n      <td>66.5</td>\n      <td>68</td>\n      <td>-4.998521</td>\n    </tr>\n  </tbody>\n</table>\n<p>1523 rows × 17 columns</p>\n</div>",
      "text/plain": "       real_discount   pub_rev  accepted  real_rev  rom_discount    rom_pa  \\\n18252      64.870329   3116.34         1   1094.76            46  0.718189   \n18253      79.220232  31877.16         0      0.00            90  0.855677   \n18254      82.855584  45075.90         0      0.00            90  0.871594   \n18255      74.513822  13252.36         0      0.00            78  0.474732   \n18256      82.413669  18599.90         1   3271.04            65  0.883013   \n...              ...       ...       ...       ...           ...       ...   \n20832      63.369910   2277.39         1    834.21            60  0.958405   \n20843      63.236068   5130.30         1   1886.10            60  0.915911   \n20845      69.370942   7756.36         1   2375.70            65  0.924838   \n20853      63.835055  17284.50         1   6250.93            65  0.897990   \n20863      69.998521  13522.50         1   4056.95            65  0.869248   \n\n       rom_exp_rev  rom_discount_4_low  rom_discount_4_mid  \\\n18252     0.387822                  44                52.0   \n18253     0.085568                  90                90.0   \n18254     0.087159                  90                90.0   \n18255     0.104441                  78                78.0   \n18256     0.309054                  65                66.0   \n...            ...                 ...                 ...   \n20832     0.383362                  60                60.5   \n20843     0.366365                  60                61.0   \n20845     0.323693                  60                63.0   \n20853     0.314297                  65                66.0   \n20863     0.304237                  65                65.5   \n\n       rom_discount_4_high  rom_discount_6_low  rom_discount_6_mid  \\\n18252                   60                  44                52.5   \n18253                   90                  90                90.0   \n18254                   90                  90                90.0   \n18255                   78                  78                78.5   \n18256                   67                  65                66.0   \n...                    ...                 ...                 ...   \n20832                   61                  60                61.0   \n20843                   62                  60                61.5   \n20845                   66                  60                63.5   \n20853                   67                  65                66.0   \n20863                   66                  65                66.0   \n\n       rom_discount_6_high  rom_discount_8_low  rom_discount_8_mid  \\\n18252                   61                  44                53.0   \n18253                   90                  90                90.0   \n18254                   90                  90                90.0   \n18255                   79                  78                84.0   \n18256                   67                  65                66.5   \n...                    ...                 ...                 ...   \n20832                   62                  58                60.5   \n20843                   63                  60                62.5   \n20845                   67                  60                63.5   \n20853                   67                  65                66.5   \n20863                   67                  65                66.5   \n\n       rom_discount_8_high   rom_diff  \n18252                   62 -18.870329  \n18253                   90  10.779768  \n18254                   90   7.144416  \n18255                   90   3.486178  \n18256                   68 -17.413669  \n...                    ...        ...  \n20832                   63  -3.369910  \n20843                   65  -3.236068  \n20845                   67  -4.370942  \n20853                   68   1.164945  \n20863                   68  -4.998521  \n\n[1523 rows x 17 columns]"
     },
     "metadata": {},
     "output_type": "display_data"
    }
   ],
   "source": [
    "printmd(f\"**{EXPERIMENT}**\\n\\nCountries: {', '.join(countries)}\")\n",
    "\n",
    "trainer = ROMTrainer(bin_cols, cat_cols, num_cols)\n",
    "\n",
    "trainer.train_models(\n",
    "    data_dict, countries, rom_configs, save_immediately_to=SAVE_IMMEDIATELY_TO\n",
    ")"
   ]
  },
  {
   "cell_type": "code",
   "execution_count": 16,
   "id": "9fea49e1-46ee-45ab-a97e-dbdc4de71f8b",
   "metadata": {
    "ExecuteTime": {
     "end_time": "2025-01-28T16:43:27.913841Z",
     "start_time": "2025-01-28T16:43:27.691545Z"
    }
   },
   "outputs": [],
   "source": [
    "EXPERIMENT = \"vbaseline-test\"\n",
    "rom_configs = [\n",
    "    ROMTrainerConfig(\n",
    "        experiment=EXPERIMENT,\n",
    "        name=\"no_augmentation\",\n",
    "        n_trials=N_TRIALS,\n",
    "        timeout_minutes=timeout_minutes,\n",
    "        augm_variant=\"basic\",\n",
    "        augm_basic_params=(0, 0),\n",
    "        clip_min=CM,\n",
    "        spans=spans,\n",
    "    )\n",
    "]"
   ]
  },
  {
   "cell_type": "code",
   "execution_count": 17,
   "id": "668252dc91c8dc35",
   "metadata": {
    "ExecuteTime": {
     "end_time": "2025-01-28T16:43:31.642927Z",
     "start_time": "2025-01-28T16:43:31.622311Z"
    },
    "collapsed": false
   },
   "outputs": [
    {
     "data": {
      "text/plain": "1"
     },
     "execution_count": 17,
     "metadata": {},
     "output_type": "execute_result"
    }
   ],
   "source": [
    "rom_configs[0].augm_basic_weight"
   ]
  },
  {
   "cell_type": "code",
   "execution_count": null,
   "id": "1474ca3efd0590ae",
   "metadata": {
    "collapsed": false
   },
   "outputs": [],
   "source": [
    "printmd(f\"**{EXPERIMENT}**\\n\\nCountries: {', '.join(countries)}\")\n",
    "\n",
    "trainer = ROMTrainer(bin_cols, cat_cols, num_cols)\n",
    "\n",
    "trainer.train_models(\n",
    "    data_dict, countries, rom_configs, save_immediately_to=SAVE_IMMEDIATELY_TO\n",
    ")"
   ]
  }
 ],
 "metadata": {
  "kernelspec": {
   "display_name": "Python 3 (ipykernel)",
   "language": "python",
   "name": "python3"
  },
  "language_info": {
   "codemirror_mode": {
    "name": "ipython",
    "version": 3
   },
   "file_extension": ".py",
   "mimetype": "text/x-python",
   "name": "python",
   "nbconvert_exporter": "python",
   "pygments_lexer": "ipython3",
   "version": "3.9.18"
  }
 },
 "nbformat": 4,
 "nbformat_minor": 5
}
