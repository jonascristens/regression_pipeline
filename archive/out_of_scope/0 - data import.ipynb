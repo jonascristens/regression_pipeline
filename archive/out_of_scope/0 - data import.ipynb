{
 "cells": [
  {
   "cell_type": "code",
   "execution_count": 43,
   "metadata": {
    "ExecuteTime": {
     "end_time": "2023-04-26T03:02:30.063815Z",
     "start_time": "2023-04-26T03:02:29.568754Z"
    },
    "tags": []
   },
   "outputs": [],
   "source": [
    "import teradatasql\n",
    "import pandas as pd\n",
    "import warnings\n",
    "from dotenv import dotenv_values\n",
    "from modelling_pkg.config import *\n",
    "from time import time\n",
    "from pathlib import Path\n",
    "\n",
    "warnings.filterwarnings(action=\"ignore\")"
   ]
  },
  {
   "cell_type": "code",
   "execution_count": 44,
   "metadata": {
    "ExecuteTime": {
     "end_time": "2023-04-26T03:02:30.745763Z",
     "start_time": "2023-04-26T03:02:30.725875Z"
    },
    "tags": []
   },
   "outputs": [],
   "source": [
    "creds = dotenv_values(\"../.env\")\n",
    "\n",
    "username = creds[\"user\"]\n",
    "password = creds[\"pwd\"]\n",
    "logmech = creds[\"logmech\"]"
   ]
  },
  {
   "cell_type": "code",
   "execution_count": null,
   "metadata": {
    "ExecuteTime": {
     "end_time": "2023-04-26T03:02:31.732663Z",
     "start_time": "2023-04-26T03:02:31.727675Z"
    },
    "tags": []
   },
   "outputs": [],
   "source": [
    "# db = 'BICOEGH_MDD_DEV'\n",
    "db = \"DBT_MDD_DEV\"\n",
    "# db = 'BICOEMDD_RTP'\n",
    "\n",
    "# outdir = DATADIR\n",
    "outdir = f\"{DATADIR}\"\n",
    "outdir"
   ]
  },
  {
   "cell_type": "code",
   "execution_count": 46,
   "metadata": {
    "ExecuteTime": {
     "end_time": "2023-04-26T03:02:34.560176Z",
     "start_time": "2023-04-26T03:02:32.709570Z"
    },
    "tags": []
   },
   "outputs": [],
   "source": [
    "session = teradatasql.connect(\n",
    "    None, host=\"dhl31.prg-dc.dhl.com\", user=username, password=password, logmech=logmech\n",
    ")"
   ]
  },
  {
   "cell_type": "code",
   "execution_count": null,
   "metadata": {
    "ExecuteTime": {
     "end_time": "2023-04-26T03:03:21.744536Z",
     "start_time": "2023-04-26T03:02:35.230049Z"
    },
    "tags": []
   },
   "outputs": [],
   "source": [
    "%%time\n",
    "res = pd.read_sql(\n",
    "    f\" select tablename from dbc.tablesv where databasename = '{db}'\", session\n",
    ")\n",
    "tables = res.TableName.values"
   ]
  },
  {
   "cell_type": "code",
   "execution_count": null,
   "metadata": {
    "ExecuteTime": {
     "end_time": "2023-04-26T03:03:21.780976Z",
     "start_time": "2023-04-26T03:03:21.747977Z"
    },
    "scrolled": true,
    "tags": []
   },
   "outputs": [],
   "source": [
    "sorted([t for t in tables if \"_DS\" in t]), sorted(tables)"
   ]
  },
  {
   "cell_type": "markdown",
   "metadata": {},
   "source": [
    "**ORGANIZATIONS**"
   ]
  },
  {
   "cell_type": "code",
   "execution_count": null,
   "metadata": {
    "tags": []
   },
   "outputs": [],
   "source": [
    "%%time\n",
    "\n",
    "db2 = \"DBT_MDD_DEV\"\n",
    "\n",
    "\n",
    "table = \"T_exchange_rate\"\n",
    "print(table)\n",
    "ers = pd.read_sql(\n",
    "    f\"LOCK ROW FOR ACCESS select from_currency, bill_per_dt, rate_eur_ber, rate_usd_ber from {db2}.{table}\",\n",
    "    session,\n",
    ")\n",
    "# display(ers.head())\n",
    "# print(f\"Saving table locally as '{outdir}/{table}.csv'\")\n",
    "# ers.to_csv(f\"{outdir}/{table}.csv\", index=False)\n",
    "\n",
    "table = \"COUNTRIES\"\n",
    "print(table)\n",
    "ctrs = pd.read_sql(\n",
    "    f\"LOCK ROW FOR ACCESS select name, organization_id, code, region_code, region_name, int_prod_cur_cd as int_cur, dom_prod_cur_cd as dom_cur from {db2}.{table}\",\n",
    "    session,\n",
    ")\n",
    "# display(pd.read_sql(f'select * from {db}.{table}', session))\n",
    "ctrs = ctrs.sort_values(\"name\")\n",
    "# display(ctrs.head())\n",
    "# print(f\"Saving table locally as '{outdir}/{table}.csv'\")\n",
    "# ctrs.to_csv(f\"{outdir}/{table}.csv\", index=False)\n",
    "\n",
    "\n",
    "# if any(ctrs.int_cur.isna()):\n",
    "#     ctrs.loc[ctrs.int_cur.isna(), ['int_cur']] = ctrs.loc[ctrs.int_cur.isna(), 'currency_cd']\n",
    "ctrs[\"dual_currency\"] = ctrs.dom_cur != ctrs.int_cur\n",
    "\n",
    "ex_rates = (\n",
    "    ers.drop(columns=\"rate_usd_ber\").copy().rename(columns={\"rate_eur_ber\": \"ex_rate\"})\n",
    ")\n",
    "ex_rates[\"from_currency\"] = ex_rates[\"from_currency\"].apply(lambda s: s.strip())\n",
    "last_rates = (\n",
    "    ex_rates.sort_values(\"bill_per_dt\")\n",
    "    .groupby(\"from_currency\")\n",
    "    .last()\n",
    "    .drop(columns=\"bill_per_dt\")\n",
    ")\n",
    "\n",
    "organizations = ctrs.merge(\n",
    "    last_rates, left_on=\"int_cur\", right_on=\"from_currency\", how=\"left\"\n",
    ")\n",
    "organizations = organizations.merge(\n",
    "    last_rates,\n",
    "    left_on=\"dom_cur\",\n",
    "    right_on=\"from_currency\",\n",
    "    how=\"left\",\n",
    "    suffixes=[\"\", \"_dom2eur\"],\n",
    ")\n",
    "organizations = organizations.rename(columns={\"ex_rate\": \"ex_rate_int2eur\"})\n",
    "organizations[\"ex_rate_dom2int\"] = (\n",
    "    organizations[\"ex_rate_dom2eur\"] / organizations[\"ex_rate_int2eur\"]\n",
    ")\n",
    "\n",
    "organizations[\"name\"] = organizations[\"name\"].apply(\n",
    "    lambda s: s.replace(\" \", \"_\").upper()\n",
    ")\n",
    "\n",
    "\n",
    "def get_og_names(s):\n",
    "    og = \"_\".join(map(lambda w: w.capitalize(), s.replace(\",_THE\", \"\").split(\"_\")))\n",
    "    og = og.replace(\"Czechia\", \"Czech_Republic\")\n",
    "    og = og.replace(\"Columbia\", \"Colombia\")\n",
    "    return og\n",
    "\n",
    "\n",
    "organizations.insert(1, \"og_name\", organizations.name.apply(get_og_names))\n",
    "\n",
    "org_ids = list(organizations.organization_id)\n",
    "\n",
    "print(\"ORGANIZATIONS\")\n",
    "display(organizations.head())\n",
    "print(f\"Saving table locally as '{outdir}/organizations.csv'\")\n",
    "organizations.sort_values(\"name\").to_csv(f\"{outdir}/organizations.csv\", index=False)\n",
    "\n",
    "# pd.read_csv(f\"{outdir}/organizations.csv\", index_col=0).organization_id.to_dict()"
   ]
  },
  {
   "cell_type": "markdown",
   "metadata": {},
   "source": [
    "**TRAINING DATA**"
   ]
  },
  {
   "cell_type": "code",
   "execution_count": null,
   "metadata": {
    "ExecuteTime": {
     "end_time": "2023-03-06T08:47:33.056122Z",
     "start_time": "2023-03-06T07:55:59.603895Z"
    },
    "tags": []
   },
   "outputs": [],
   "source": [
    "%%time\n",
    "# 1h 6min\n",
    "\n",
    "prefix = \"V_\"\n",
    "suffix = \"_DS\"\n",
    "\n",
    "start = time()\n",
    "\n",
    "for table in [\n",
    "    \"CUSTOMER\",\n",
    "    \"OFFERS\",\n",
    "    \"OFFER_AUDIT\",\n",
    "    \"OPPORTUNITY\",\n",
    "    \"SHIPMENT_PROFILE\",\n",
    "]:\n",
    "    table2 = prefix + table + suffix\n",
    "\n",
    "    outdir_ = f\"{outdir}/raw_tables/{table}\"\n",
    "    Path(outdir_).mkdir(parents=True, exist_ok=True)\n",
    "\n",
    "    print(f'\\nQuerying table {table}... saving to \"{outdir_}\"')\n",
    "\n",
    "    for i, org_id in enumerate(org_ids):\n",
    "        result = pd.read_sql(\n",
    "            f\"\"\"\n",
    "                LOCK ROW FOR ACCESS \n",
    "                select * \n",
    "                from {db}.{table2}\n",
    "                where organization_id = '{org_id}'\n",
    "            \"\"\",\n",
    "            session,\n",
    "        )\n",
    "\n",
    "        out_path = f\"{outdir_}/{org_id}.csv\"\n",
    "        print(\n",
    "            f\" - {int(time() - start):5,} s ||| len: {len(result):9,} ||| {i + 1:2}/{len(org_ids)} - {org_id}\"\n",
    "        )\n",
    "        result.to_csv(out_path, index=False)"
   ]
  },
  {
   "cell_type": "code",
   "execution_count": null,
   "metadata": {
    "ExecuteTime": {
     "end_time": "2023-03-06T08:47:33.056122Z",
     "start_time": "2023-03-06T07:55:59.603895Z"
    },
    "scrolled": true,
    "tags": []
   },
   "outputs": [],
   "source": [
    "# %%time\n",
    "# # 2h 30min\n",
    "\n",
    "# # db = 'DBT_MDD_DEV'\n",
    "\n",
    "# for table in tqdm([\n",
    "#     # 'V_CUSTOMER',\n",
    "#     # 'V_OFFERS',\n",
    "#     # 'V_OFFER_AUDIT',\n",
    "#     # 'V_OPPORTUNITY',\n",
    "#     # 'V_SHIPMENT_PROFILE',\n",
    "#     'V_CUSTOMER_DS',\n",
    "#     'V_OFFERS_DS',\n",
    "#     'V_OFFER_AUDIT_DS',\n",
    "#     'V_OPPORTUNITY_DS',\n",
    "#     'V_SHIPMENT_PROFILE_DS'\n",
    "# ]):\n",
    "\n",
    "#     print(f'Querying table {table}...')\n",
    "\n",
    "#     result = pd.read_sql(\n",
    "#         f\"select * from {db}.{table}\",\n",
    "#         session\n",
    "#     )\n",
    "\n",
    "#     print(f\"Saving table locally as '{outdir}/raw_tables/{table}.csv'\")\n",
    "#     display(result)\n",
    "#     result.to_csv(\n",
    "#         os.path.join(outdir, f\"{table}.csv\"),\n",
    "#         index=False\n",
    "#     )"
   ]
  },
  {
   "cell_type": "code",
   "execution_count": 108,
   "metadata": {},
   "outputs": [],
   "source": [
    "session.close()"
   ]
  }
 ],
 "metadata": {
  "kernelspec": {
   "display_name": "Python 3 (ipykernel)",
   "language": "python",
   "name": "python3"
  },
  "language_info": {
   "codemirror_mode": {
    "name": "ipython",
    "version": 3
   },
   "file_extension": ".py",
   "mimetype": "text/x-python",
   "name": "python",
   "nbconvert_exporter": "python",
   "pygments_lexer": "ipython3",
   "version": "3.9.18"
  },
  "toc": {
   "base_numbering": 1,
   "nav_menu": {},
   "number_sections": true,
   "sideBar": true,
   "skip_h1_title": false,
   "title_cell": "Table of Contents",
   "title_sidebar": "Contents",
   "toc_cell": false,
   "toc_position": {},
   "toc_section_display": true,
   "toc_window_display": false
  },
  "vscode": {
   "interpreter": {
    "hash": "2d80a9ad7028df854e67032ed314060a1e3bd4a028143072e0beae2a59d43848"
   }
  }
 },
 "nbformat": 4,
 "nbformat_minor": 4
}
