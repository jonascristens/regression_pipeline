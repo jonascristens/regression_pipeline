{
 "cells": [
  {
   "cell_type": "markdown",
   "id": "1a5e0c42-564f-44dd-914e-bbe912469d95",
   "metadata": {},
   "source": [
    "# ROM demo\n",
    "\n",
    "#### Author: Erik Vaknin\n",
    "\n",
    "#### Description\n",
    "\n",
    "The purpose of this notebook is to demonstrate how the ROM class can be used to train the model and to output recommended discounts.\n",
    "\n",
    "#### Usage\n",
    "\n",
    "Before running this notebook, one needs to have preprocessed data locally available. Such data can be obtained by running in the following order:\n",
    "\n",
    "- `notebooks/0 - data import.ipynb`\n",
    "- `notebooks/1 - preprocessing - edited - 1 - simplify original logic.ipynb`\n",
    "\n",
    "Then, simply run this notebook cell by cell to understand how ROM class can be used."
   ]
  },
  {
   "cell_type": "code",
   "execution_count": 1,
   "id": "02afe3ab-8ad7-4cd3-af78-8e3abb2050f6",
   "metadata": {},
   "outputs": [],
   "source": [
    "%load_ext autoreload\n",
    "%autoreload 2"
   ]
  },
  {
   "cell_type": "code",
   "execution_count": 14,
   "id": "602ce88d-b617-4aee-8048-53d6699f92dc",
   "metadata": {
    "tags": []
   },
   "outputs": [],
   "source": [
    "from rom import ROM, ROMConfig\n",
    "from utils import *\n",
    "from modelling_pkg.config import *\n",
    "import pandas as pd\n",
    "import os\n",
    "import joblib\n",
    "\n",
    "countries_dir = \"../\" + DATADIR + \"/countries\"\n",
    "\n",
    "ORGANIZATIONS, ORGANIZATION_ID = get_organizations(\"../\" + DATADIR)"
   ]
  },
  {
   "cell_type": "markdown",
   "id": "a12c8bd0-a8e3-4150-8aa7-6a1fe658be4a",
   "metadata": {
    "tags": []
   },
   "source": [
    "# Load data"
   ]
  },
  {
   "cell_type": "markdown",
   "id": "8782f34e-c1fd-4662-962e-79adfa6f6573",
   "metadata": {
    "tags": []
   },
   "source": [
    "<div class=\"alert alert-block alert-warning\"><b>Select country for training</b></div>"
   ]
  },
  {
   "cell_type": "code",
   "execution_count": 15,
   "id": "34720e79-9de4-4989-ac94-6dc6e1962d77",
   "metadata": {
    "tags": []
   },
   "outputs": [],
   "source": [
    "country = \"CZECHIA\""
   ]
  },
  {
   "cell_type": "code",
   "execution_count": null,
   "id": "71e18ec2-bc3a-4504-a289-0bc3e91436fc",
   "metadata": {
    "tags": []
   },
   "outputs": [],
   "source": [
    "%%time\n",
    "# depending on the version of data preprocessing either ',' or '\\t' is used as a separator in the csv file.\n",
    "data = pd.read_csv(\n",
    "    os.path.join(countries_dir, f\"{country}.csv\"),  # sep='\\t',\n",
    "    parse_dates=[\"created_date_off\", \"updated_date_off\"],\n",
    "    low_memory=False,\n",
    ")"
   ]
  },
  {
   "cell_type": "code",
   "execution_count": null,
   "id": "88c62f1b-8145-4e3f-b641-5e4654a93d10",
   "metadata": {
    "tags": []
   },
   "outputs": [],
   "source": [
    "%%time\n",
    "# select only data for the selected country\n",
    "data = data[data[\"organization_id\"] == ORGANIZATION_ID[country]]\n",
    "# add boolean column for acceptance\n",
    "data[\"accepted\"] = data.final_outcome.apply(map_final_outcome)\n",
    "data.head()"
   ]
  },
  {
   "cell_type": "code",
   "execution_count": null,
   "id": "60c6b748-a739-46e6-aee0-47c3ba58b29e",
   "metadata": {
    "tags": []
   },
   "outputs": [],
   "source": [
    "# splitting the data; trn is used for training the data, tst for making recommendations\n",
    "# in production - trn corresponds to historical data, tst corresponds to offers we want to make recommendations for\n",
    "trn, tst, spans = split_trn_tst(\n",
    "    data, country, [bin_cols, cat_cols, num_cols], verbose=True\n",
    ")\n",
    "tst = tst.drop(columns=\"accepted\")"
   ]
  },
  {
   "cell_type": "markdown",
   "id": "07c4fe48-f4df-41ed-be62-c15a86066e31",
   "metadata": {
    "tags": []
   },
   "source": [
    "# Configuration\n",
    "\n",
    "ROM accepts configuration as a mandatory parameter. For this one must use the class ROMConfig().\n",
    "There are two ways to initialize configuration for ROM.\n",
    "\n",
    "1) Set the parameters of ROMConfig manually.\n",
    "2) Load parameters from json file.\n",
    "\n",
    "Json file for each country can/will be provided."
   ]
  },
  {
   "cell_type": "code",
   "execution_count": null,
   "id": "045d8203-56dd-42ed-ba34-40f62c80eb83",
   "metadata": {
    "tags": []
   },
   "outputs": [],
   "source": [
    "# option 1\n",
    "\n",
    "config = ROMConfig(\n",
    "    timeout_minutes=0.2,\n",
    "    augm_variant=\"basic\",\n",
    "    augm_basic_params=(14, 28),\n",
    "    gamma=6,\n",
    "    augm_basic_weight=1.0,\n",
    ")\n",
    "\n",
    "# option 2\n",
    "\n",
    "# cfg_path = f'{CONFIG_PATH}/{country}'\n",
    "# config = ROMConfig.from_json_file(cfg_path)\n",
    "\n",
    "config"
   ]
  },
  {
   "cell_type": "markdown",
   "id": "1a17d220-efdf-43f6-89e3-5236c4b08672",
   "metadata": {},
   "source": [
    "# Train"
   ]
  },
  {
   "cell_type": "code",
   "execution_count": null,
   "id": "4e6a7919-4dbc-453f-8c0f-1b2f7e7c3192",
   "metadata": {
    "tags": []
   },
   "outputs": [],
   "source": [
    "%%time\n",
    "\n",
    "rom = ROM(config, bin_cols, cat_cols, num_cols, verbose=True)\n",
    "rom.train(trn)"
   ]
  },
  {
   "cell_type": "markdown",
   "id": "2c30ad4b-935c-469b-83c1-191152f3db65",
   "metadata": {},
   "source": [
    "# Recommend"
   ]
  },
  {
   "cell_type": "code",
   "execution_count": null,
   "id": "a32889fe-f701-42c7-b629-f9cca54cda37",
   "metadata": {
    "tags": []
   },
   "outputs": [],
   "source": [
    "# get recommendations from the model\n",
    "# the recommended interval is [discount_low, discount_high]\n",
    "# the optimal discount according to the model is discount_opt\n",
    "\n",
    "recommendations = rom.recommend(tst, progress_bar=True)\n",
    "recommendations"
   ]
  },
  {
   "cell_type": "markdown",
   "id": "29f29dcf-d7a5-4dc0-a285-85a04106f1ca",
   "metadata": {},
   "source": [
    "# Save model\n",
    "\n",
    "Two parts of the ROM need to be saved in order to later initialize the same model:\n",
    "\n",
    "- configuration\n",
    "- ML model (scikit-learn pipeline)\n",
    "\n",
    "There are two ways to do it:\n",
    "\n",
    "1. Save a single dumpable object containing everything\n",
    "2. Save both objects separately"
   ]
  },
  {
   "cell_type": "markdown",
   "id": "7d705a19-03ad-45b2-893e-e2b16348479c",
   "metadata": {},
   "source": [
    "## Option 1: Use dumpable object"
   ]
  },
  {
   "cell_type": "code",
   "execution_count": null,
   "id": "6e70af1b-3e37-48c4-a303-864173fc2817",
   "metadata": {
    "tags": []
   },
   "outputs": [],
   "source": [
    "dump_path = \"temp_dump.pkl\"\n",
    "\n",
    "# get object that can be dumped and loaded back again to initialize a new identical ROM\n",
    "dumpable = rom.get_dumpable()\n",
    "\n",
    "# save to file\n",
    "joblib.dump(dumpable, dump_path, compress=True)"
   ]
  },
  {
   "cell_type": "code",
   "execution_count": 37,
   "id": "fec73762-4fd5-42fd-aa90-1be1959299a9",
   "metadata": {
    "tags": []
   },
   "outputs": [],
   "source": [
    "# load the dumped object\n",
    "dumpable1 = joblib.load(dump_path)\n",
    "\n",
    "# remove the temporary file\n",
    "os.remove(dump_path)\n",
    "\n",
    "# use the object to initialize a new identical ROM\n",
    "rom1 = ROM.from_dumpable(dumpable1)"
   ]
  },
  {
   "cell_type": "code",
   "execution_count": null,
   "id": "547a5cf7-aca7-47f2-a417-ff6c9cfda6dd",
   "metadata": {
    "tags": []
   },
   "outputs": [],
   "source": [
    "# make recommendations using the newly created model\n",
    "recommendations1 = rom1.recommend(tst, progress_bar=True)\n",
    "\n",
    "# verify that the recommendations are identical to the original - should NOT raise error\n",
    "for c in recommendations.columns:\n",
    "    assert (recommendations[c] != recommendations1[c]).sum() == 0"
   ]
  },
  {
   "cell_type": "markdown",
   "id": "c591ec96-70fe-4680-a111-875caa54e3af",
   "metadata": {},
   "source": [
    "## ~Option 2: Save the pipeline and configuration separately~ (deprecated)"
   ]
  },
  {
   "cell_type": "code",
   "execution_count": 15,
   "id": "2b83e1ec-e411-4f1d-b055-717d727ab4c9",
   "metadata": {
    "tags": []
   },
   "outputs": [],
   "source": [
    "# cfg_dump_path = 'temp_cfg_dump.json'\n",
    "# pipe_dump_path = 'temp_pipe_dump.pkl'\n",
    "\n",
    "# # get config and pipeline\n",
    "# cfg_dict = rom.get_config_as_dict()\n",
    "# pipe = rom.get_pipeline()\n",
    "\n",
    "# # save them\n",
    "# # pipeline should be possible to save using mlflow.sklearn.save_model()\n",
    "# joblib.dump(pipe, pipe_dump_path, compress=True)\n",
    "# # using json library to save config as a json\n",
    "# json.dump(cfg_dict, open(cfg_dump_path, 'w'))\n",
    "\n",
    "# # load objects\n",
    "# pipe2 = joblib.load(pipe_dump_path)\n",
    "# cfg_dict2 = json.load(open(cfg_dump_path, 'r'))\n",
    "\n",
    "# # remove the temporary files\n",
    "# os.remove(cfg_dump_path)\n",
    "# os.remove(pipe_dump_path)\n",
    "\n",
    "# # use the objects to initialize a new identical ROM\n",
    "# rom2 = ROM.from_config_and_pipe(cfg_dict2, pipe2)\n",
    "\n",
    "# # make recommendations using the newly created model\n",
    "# recommendations2 = rom2.recommend(tst, progress_bar=True)\n",
    "\n",
    "# # verify that the recommendations are identical to the original - should NOT raise error\n",
    "# for c in recommendations.columns:\n",
    "#     assert (recommendations[c] != recommendations2[c]).sum() == 0"
   ]
  }
 ],
 "metadata": {
  "kernelspec": {
   "display_name": "Python 3 (ipykernel)",
   "language": "python",
   "name": "python3"
  },
  "language_info": {
   "codemirror_mode": {
    "name": "ipython",
    "version": 3
   },
   "file_extension": ".py",
   "mimetype": "text/x-python",
   "name": "python",
   "nbconvert_exporter": "python",
   "pygments_lexer": "ipython3",
   "version": "3.9.18"
  }
 },
 "nbformat": 4,
 "nbformat_minor": 5
}
